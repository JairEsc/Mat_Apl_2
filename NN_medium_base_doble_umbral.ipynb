{
  "nbformat": 4,
  "nbformat_minor": 0,
  "metadata": {
    "colab": {
      "provenance": [],
      "authorship_tag": "ABX9TyMi+y1q2CgFzDO4AYSeVw42",
      "include_colab_link": true
    },
    "kernelspec": {
      "name": "python3",
      "display_name": "Python 3"
    },
    "language_info": {
      "name": "python"
    }
  },
  "cells": [
    {
      "cell_type": "markdown",
      "metadata": {
        "id": "view-in-github",
        "colab_type": "text"
      },
      "source": [
        "<a href=\"https://colab.research.google.com/github/JairEsc/Mat_Apl_2/blob/main/NN_medium_base_doble_umbral.ipynb\" target=\"_parent\"><img src=\"https://colab.research.google.com/assets/colab-badge.svg\" alt=\"Open In Colab\"/></a>"
      ]
    },
    {
      "cell_type": "code",
      "execution_count": 196,
      "metadata": {
        "id": "IklufuqUwcpX"
      },
      "outputs": [],
      "source": [
        "import matplotlib.pyplot as plt\n",
        "import tqdm\n",
        "from time import time"
      ]
    },
    {
      "cell_type": "markdown",
      "source": [
        "# Estructura de los datos."
      ],
      "metadata": {
        "id": "MpFOG--QxVDX"
      }
    },
    {
      "cell_type": "markdown",
      "source": [
        "Tenemos 3043 observaciones de dimensión 500. Estas características provienen de un análisis de componentes principales, pues se buscó reducir la dimensión."
      ],
      "metadata": {
        "id": "7vQyM0HZoFW9"
      }
    },
    {
      "cell_type": "markdown",
      "source": [
        "# Datos del ejercicio"
      ],
      "metadata": {
        "id": "NrrajEuRytBP"
      }
    },
    {
      "cell_type": "code",
      "source": [
        "import pandas as pd\n",
        "import matplotlib.pyplot as plt\n",
        "\n",
        "df = pd.read_csv(\"OTUS_conservados.csv\")\n",
        "print(df.head())\n",
        "from sklearn.utils import shuffle\n",
        "#df = shuffle(df)###El ajuste depende de este shuffle*****"
      ],
      "metadata": {
        "id": "30vL3CcXxUUE",
        "colab": {
          "base_uri": "https://localhost:8080/"
        },
        "outputId": "20d36dc3-0cc6-4199-b236-fc479c3bfcd7"
      },
      "execution_count": 197,
      "outputs": [
        {
          "output_type": "stream",
          "name": "stdout",
          "text": [
            "           X            New_Labels  Latitude  Longitude  X4457032  X4471583  \\\n",
            "0  1001.skm3  WarmT-SumDry-HotSum0    33.194   -117.241  0.003306       0.0   \n",
            "1  1001.skd3  WarmT-SumDry-HotSum0    33.194   -117.241  0.002699       0.0   \n",
            "2  1001.skm1  WarmT-SumDry-HotSum0    33.194   -117.241  0.001304       0.0   \n",
            "3  1001.skb3  WarmT-SumDry-HotSum0    33.194   -117.241  0.009130       0.0   \n",
            "4  1001.skm2  WarmT-SumDry-HotSum0    33.194   -117.241  0.001022       0.0   \n",
            "\n",
            "   X9560  X4468101  X198079   X101868  ...  X210657  X218246    X48487  \\\n",
            "0    0.0       0.0      0.0  0.005785  ...      0.0  0.00000  0.004752   \n",
            "1    0.0       0.0      0.0  0.001080  ...      0.0  0.00000  0.003419   \n",
            "2    0.0       0.0      0.0  0.002934  ...      0.0  0.00000  0.004563   \n",
            "3    0.0       0.0      0.0  0.004966  ...      0.0  0.00016  0.004645   \n",
            "4    0.0       0.0      0.0  0.000341  ...      0.0  0.00000  0.005112   \n",
            "\n",
            "     X81081  X1787355  X6159  X154268   X855996   X99400  X716037  \n",
            "0  0.007231  0.000000    0.0      0.0  0.002273  0.00000  0.00000  \n",
            "1  0.029872  0.000180    0.0      0.0  0.000720  0.00000  0.00000  \n",
            "2  0.004563  0.000326    0.0      0.0  0.001304  0.00000  0.00000  \n",
            "3  0.008169  0.000961    0.0      0.0  0.002243  0.00016  0.00032  \n",
            "4  0.010907  0.000682    0.0      0.0  0.002045  0.00000  0.00000  \n",
            "\n",
            "[5 rows x 607 columns]\n"
          ]
        }
      ]
    },
    {
      "cell_type": "code",
      "source": [
        "print(df.shape)"
      ],
      "metadata": {
        "colab": {
          "base_uri": "https://localhost:8080/"
        },
        "id": "2zSWbW5vz3PI",
        "outputId": "55d36818-2972-4fe0-ba26-4e2510c3b0f3"
      },
      "execution_count": 198,
      "outputs": [
        {
          "output_type": "stream",
          "name": "stdout",
          "text": [
            "(3043, 607)\n"
          ]
        }
      ]
    },
    {
      "cell_type": "code",
      "source": [
        "import numpy as np"
      ],
      "metadata": {
        "id": "E6fYhQo7BNGu"
      },
      "execution_count": 199,
      "outputs": []
    },
    {
      "cell_type": "code",
      "source": [
        "ytags=df['New_Labels']\n",
        "\n",
        "_,idx = np.unique(ytags,return_inverse=True)\n",
        "plt.hist(idx,bins=len(_))\n",
        "plt.show()#Mala representatividad de clases."
      ],
      "metadata": {
        "colab": {
          "base_uri": "https://localhost:8080/",
          "height": 265
        },
        "id": "QVlF0yPp2YOY",
        "outputId": "c453f707-44b7-494e-ccfc-4a35e1d63085"
      },
      "execution_count": 202,
      "outputs": [
        {
          "output_type": "display_data",
          "data": {
            "text/plain": [
              "<Figure size 432x288 with 1 Axes>"
            ],
            "image/png": "[encoded data removed]"
          },
          "metadata": {
            "needs_background": "light"
          }
        }
      ]
    },
    {
      "cell_type": "markdown",
      "source": [
        "# Definición del modelo."
      ],
      "metadata": {
        "id": "fOP0O0MV3pmP"
      }
    },
    {
      "cell_type": "code",
      "source": [
        "import tensorflow as tf\n",
        "import keras\n",
        "import pandas as pd\n",
        "from keras import layers\n",
        "from keras import models"
      ],
      "metadata": {
        "id": "XVlSzWd23fCO"
      },
      "execution_count": 203,
      "outputs": []
    },
    {
      "cell_type": "markdown",
      "source": [
        "Se considera un modelo 2 dos capas ocultas de tipo densas. Una con 256 nodos y la otra con 64, cada una con función de activación de tipo \"relu\".\n",
        "\n",
        "Para la clasificación, se utiliza una función de pérdida de tipo categórica-crossentropy, con una capa de salida de 41 clases, una para cada etiqueta única definida en los datos.\n",
        "\n",
        "Se da un número fijo de epocas (20) y un batch-size fijo (10)"
      ],
      "metadata": {
        "id": "FFepTzwtn_GO"
      }
    },
    {
      "cell_type": "markdown",
      "source": [
        "#k-Cross-validation. \n",
        "\n",
        "Consideraremos distintos datos de entrenamiento/validación a fin de promediar el desempeño obtenido."
      ],
      "metadata": {
        "id": "8vkMeWY7dUeA"
      }
    },
    {
      "cell_type": "code",
      "source": [
        "import matplotlib.pyplot as plt\n",
        "\n",
        "from sklearn.metrics import accuracy_score,confusion_matrix, precision_score, recall_score,roc_auc_score\n",
        "\n",
        "from sklearn.metrics import f1_score, cohen_kappa_score\n",
        "import seaborn as sns "
      ],
      "metadata": {
        "id": "9sibGkawehRv"
      },
      "execution_count": 1,
      "outputs": []
    },
    {
      "cell_type": "code",
      "source": [
        "input_shape=603\n",
        "def RN(X_train_set,Y_train_set,X_val_set,Y_val_set):\n",
        "    model = models.Sequential()\n",
        "    model.add(layers.InputLayer(input_shape=(input_shape,), name='Input_Layer'))#Obligatoria\n",
        "    model.add(layers.Dense(512, activation='relu'))# Numero de capas ocultas: Opcional\n",
        "    model.add(layers.Dense(64, activation='relu'))# Numero de neuronas en cada capa: Opcional\n",
        "    model.add(layers.Dense(41, activation='Softmax', name='Output_Layer'))#Obligatoria\n",
        "    #model.summary()\n",
        "    model.compile(optimizer='adam',\n",
        "                loss='categorical_crossentropy',\n",
        "                metrics=['accuracy'])\n",
        "    model.fit(x = X_train_set, \n",
        "            y = Y_train_set,##Cuando haya otra base, se modifica ese 200\n",
        "            batch_size=10,\n",
        "            epochs=20,\n",
        "            verbose=0,shuffle=True)\n",
        "    test_predicted_labels_raw = model.predict(X_val_set)\n",
        "    test_true_labels      = np.argmax(Y_val_set,axis=1)\n",
        "    test_predicted_labels = np.argmax(test_predicted_labels_raw,axis=1)\n",
        "    accuracy = accuracy_score(test_true_labels,test_predicted_labels)\n",
        "    precision = precision_score(test_true_labels,test_predicted_labels,average='weighted',zero_division=1)\n",
        "    recall = recall_score(test_true_labels,test_predicted_labels,average='weighted',zero_division=1)\n",
        "    f1 = f1_score(test_true_labels,test_predicted_labels,average='weighted')\n",
        "    return(accuracy,precision,recall,f1)\n"
      ],
      "metadata": {
        "id": "KM-ZnwpAdRuZ"
      },
      "execution_count": 205,
      "outputs": []
    },
    {
      "cell_type": "code",
      "source": [
        "from keras.utils import to_categorical\n",
        "K=5# se consideran 20 subconjuntos aleatorios de entrenamiento.\n",
        "metrics=np.zeros((K,4))\n",
        "for k in range(K):\n",
        "    df=shuffle(df)##Este hace todo el truco\n",
        "    ytags=df['New_Labels']\n",
        "    X_total=df.drop(columns=['X','New_Labels','Latitude','Longitude'])\n",
        "    _,idx = np.unique(ytags,return_inverse=True)\n",
        "    Y_total=to_categorical(idx)\n",
        "    train_perc=int(0.80*len(X_total))\n",
        "    X_train=X_total[0:train_perc]\n",
        "    Y_train=Y_total[0:train_perc]\n",
        "    X_val=X_total[train_perc:]\n",
        "    Y_val=Y_total[train_perc:]\n",
        "    metrics[k]=RN(X_train_set=X_train,Y_train_set=Y_train,X_val_set=X_val,Y_val_set=Y_val)\n",
        "    if(k%5==0):\n",
        "        print(k)"
      ],
      "metadata": {
        "colab": {
          "base_uri": "https://localhost:8080/"
        },
        "id": "4k9hwpNZejbX",
        "outputId": "76a9ac41-1fb9-427a-856c-6538b5536509"
      },
      "execution_count": null,
      "outputs": [
        {
          "output_type": "stream",
          "name": "stdout",
          "text": [
            "20/20 [==============================] - 1s 12ms/step\n",
            "0\n",
            "20/20 [==============================] - 0s 3ms/step\n",
            "20/20 [==============================] - 0s 4ms/step\n",
            "20/20 [==============================] - 0s 3ms/step\n"
          ]
        }
      ]
    },
    {
      "cell_type": "markdown",
      "source": [
        "#Métricas de desempeño."
      ],
      "metadata": {
        "id": "aNfMKOWOpZTy"
      }
    },
    {
      "cell_type": "code",
      "source": [
        "plt.figure(figsize=(10,10))\n",
        "plt.boxplot(metrics[:,0:],labels=['Accuracy','Precision','Recall','F1-score'])\n",
        "plt.show()"
      ],
      "metadata": {
        "colab": {
          "base_uri": "https://localhost:8080/",
          "height": 592
        },
        "id": "sqA2Yl0olP5A",
        "outputId": "7639572a-700a-4966-ea25-153059224c61"
      },
      "execution_count": 215,
      "outputs": [
        {
          "output_type": "display_data",
          "data": {
            "text/plain": [
              "<Figure size 720x720 with 1 Axes>"
            ],
            "image/png": "[encoded data removed]"
          },
          "metadata": {
            "needs_background": "light"
          }
        }
      ]
    },
    {
      "cell_type": "markdown",
      "source": [
        "## Promedios"
      ],
      "metadata": {
        "id": "CNKcMj9qpfzT"
      }
    },
    {
      "cell_type": "code",
      "source": [
        "from tabulate import tabulate\n",
        "print(tabulate([[str(np.round(metrics.mean(0).tolist()[i],4)) for i in range(4)]], headers=[\"Accuracy\", \"Precision\",\"Recall\", \"F1-score\"]))"
      ],
      "metadata": {
        "colab": {
          "base_uri": "https://localhost:8080/"
        },
        "id": "yHKtGOZji7gK",
        "outputId": "2115dde7-b6ea-4dc7-d68b-43ebc63b23a2"
      },
      "execution_count": 175,
      "outputs": [
        {
          "output_type": "stream",
          "name": "stdout",
          "text": [
            "  Accuracy    Precision    Recall    F1-score\n",
            "----------  -----------  --------  ----------\n",
            "    0.9529       0.9612    0.9529      0.9508\n"
          ]
        }
      ]
    },
    {
      "cell_type": "markdown",
      "source": [
        "Recordemos que se trata de un problema multiclase, por lo que se puede decir que tenemos un muy buen desempeño en la clasificación."
      ],
      "metadata": {
        "id": "a7bKQOX8pife"
      }
    }
  ]
}