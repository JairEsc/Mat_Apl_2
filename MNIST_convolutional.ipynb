{
  "nbformat": 4,
  "nbformat_minor": 0,
  "metadata": {
    "colab": {
      "provenance": [],
      "authorship_tag": "ABX9TyPmTlLaNkGRs4mak0BCp1a+",
      "include_colab_link": true
    },
    "kernelspec": {
      "name": "python3",
      "display_name": "Python 3"
    },
    "language_info": {
      "name": "python"
    },
    "accelerator": "GPU"
  },
  "cells": [
    {
      "cell_type": "markdown",
      "metadata": {
        "id": "view-in-github",
        "colab_type": "text"
      },
      "source": [
        "<a href=\"https://colab.research.google.com/github/JairEsc/Mat_Apl_2/blob/main/MNIST_convolutional.ipynb\" target=\"_parent\"><img src=\"https://colab.research.google.com/assets/colab-badge.svg\" alt=\"Open In Colab\"/></a>"
      ]
    },
    {
      "cell_type": "code",
      "execution_count": 2,
      "metadata": {
        "colab": {
          "base_uri": "https://localhost:8080/"
        },
        "id": "yDM6ILVtXsd1",
        "outputId": "7464889f-fe22-4d0b-a958-7cdad7d3a1e5"
      },
      "outputs": [
        {
          "output_type": "stream",
          "name": "stdout",
          "text": [
            "Downloading data from https://storage.googleapis.com/tensorflow/tf-keras-datasets/mnist.npz\n",
            "11490434/11490434 [==============================] - 0s 0us/step\n"
          ]
        }
      ],
      "source": [
        "import keras\n",
        "from keras.datasets import mnist\n",
        "from keras.utils import to_categorical\n",
        "(train_images, train_labels), (test_images, test_labels) = mnist.load_data()\n"
      ]
    },
    {
      "cell_type": "code",
      "source": [
        "train_images = train_images.reshape((60000, 28, 28, 1))\n",
        "train_images = train_images.astype('float32') / 255\n",
        "\n",
        "test_images = test_images.reshape((10000, 28, 28, 1))\n",
        "test_images = test_images.astype('float32') / 255"
      ],
      "metadata": {
        "id": "eI6kcTRdX4Ku"
      },
      "execution_count": 3,
      "outputs": []
    },
    {
      "cell_type": "code",
      "source": [
        "train_labels = to_categorical(train_labels)\n",
        "test_labels  = to_categorical(test_labels)"
      ],
      "metadata": {
        "id": "-ndLTSc1X62w"
      },
      "execution_count": 4,
      "outputs": []
    },
    {
      "cell_type": "code",
      "source": [
        "from keras import layers\n",
        "from keras import models\n",
        "convNN = models.Sequential()"
      ],
      "metadata": {
        "id": "0PEr28D54bzX"
      },
      "execution_count": 72,
      "outputs": []
    },
    {
      "cell_type": "code",
      "source": [
        "convNN.add(layers.Conv2D(filters     =256, \n",
        "                         kernel_size =3, \n",
        "                         activation  ='relu', \n",
        "                         input_shape =(28, 28, 1)))\n",
        "convNN.add(layers.Conv2D(filters=256, kernel_size=3, activation='relu'))\n",
        "convNN.add(layers.MaxPooling2D(pool_size=(2, 2)))\n",
        "convNN.add(layers.Conv2D(filters=128, kernel_size=3, activation='relu'))\n",
        "convNN.add(layers.Conv2D(filters=128, kernel_size=(3, 3), activation='relu'))\n",
        "convNN.add(layers.Conv2D(filters=64, kernel_size=(3, 3), activation='relu'))\n",
        "convNN.add(layers.Conv2D(filters=64, kernel_size=(3, 3), activation='relu'))\n",
        "convNN.add(layers.MaxPooling2D(pool_size=(2, 2)))\n",
        "convNN.add(layers.Conv2D(filters=10, kernel_size=2, activation='softmax'))\n",
        "\n",
        "\n"
      ],
      "metadata": {
        "id": "bNcBHku64fwL"
      },
      "execution_count": 73,
      "outputs": []
    },
    {
      "cell_type": "code",
      "source": [
        "convNN.summary()"
      ],
      "metadata": {
        "colab": {
          "base_uri": "https://localhost:8080/"
        },
        "id": "88QvlLpn42xi",
        "outputId": "634b1a5d-054c-4b14-e0d3-fae2dca7375b"
      },
      "execution_count": 74,
      "outputs": [
        {
          "output_type": "stream",
          "name": "stdout",
          "text": [
            "Model: \"sequential_16\"\n",
            "_________________________________________________________________\n",
            " Layer (type)                Output Shape              Param #   \n",
            "=================================================================\n",
            " conv2d_166 (Conv2D)         (None, 26, 26, 256)       2560      \n",
            "                                                                 \n",
            " conv2d_167 (Conv2D)         (None, 24, 24, 256)       590080    \n",
            "                                                                 \n",
            " max_pooling2d_16 (MaxPoolin  (None, 12, 12, 256)      0         \n",
            " g2D)                                                            \n",
            "                                                                 \n",
            " conv2d_168 (Conv2D)         (None, 10, 10, 128)       295040    \n",
            "                                                                 \n",
            " conv2d_169 (Conv2D)         (None, 8, 8, 128)         147584    \n",
            "                                                                 \n",
            " conv2d_170 (Conv2D)         (None, 6, 6, 64)          73792     \n",
            "                                                                 \n",
            " conv2d_171 (Conv2D)         (None, 4, 4, 64)          36928     \n",
            "                                                                 \n",
            " max_pooling2d_17 (MaxPoolin  (None, 2, 2, 64)         0         \n",
            " g2D)                                                            \n",
            "                                                                 \n",
            " conv2d_172 (Conv2D)         (None, 1, 1, 10)          2570      \n",
            "                                                                 \n",
            "=================================================================\n",
            "Total params: 1,148,554\n",
            "Trainable params: 1,148,554\n",
            "Non-trainable params: 0\n",
            "_________________________________________________________________\n"
          ]
        }
      ]
    },
    {
      "cell_type": "code",
      "source": [
        "keras.layers.Flatten(data_format=None)\n",
        "convNN.add(layers.Flatten())"
      ],
      "metadata": {
        "id": "W14SQu0x4_Pp"
      },
      "execution_count": 75,
      "outputs": []
    },
    {
      "cell_type": "code",
      "source": [
        "convNN.summary()"
      ],
      "metadata": {
        "colab": {
          "base_uri": "https://localhost:8080/"
        },
        "id": "a9ernYC25H-Z",
        "outputId": "9512e802-cd10-46bf-ca43-140708c59e42"
      },
      "execution_count": 76,
      "outputs": [
        {
          "output_type": "stream",
          "name": "stdout",
          "text": [
            "Model: \"sequential_16\"\n",
            "_________________________________________________________________\n",
            " Layer (type)                Output Shape              Param #   \n",
            "=================================================================\n",
            " conv2d_166 (Conv2D)         (None, 26, 26, 256)       2560      \n",
            "                                                                 \n",
            " conv2d_167 (Conv2D)         (None, 24, 24, 256)       590080    \n",
            "                                                                 \n",
            " max_pooling2d_16 (MaxPoolin  (None, 12, 12, 256)      0         \n",
            " g2D)                                                            \n",
            "                                                                 \n",
            " conv2d_168 (Conv2D)         (None, 10, 10, 128)       295040    \n",
            "                                                                 \n",
            " conv2d_169 (Conv2D)         (None, 8, 8, 128)         147584    \n",
            "                                                                 \n",
            " conv2d_170 (Conv2D)         (None, 6, 6, 64)          73792     \n",
            "                                                                 \n",
            " conv2d_171 (Conv2D)         (None, 4, 4, 64)          36928     \n",
            "                                                                 \n",
            " max_pooling2d_17 (MaxPoolin  (None, 2, 2, 64)         0         \n",
            " g2D)                                                            \n",
            "                                                                 \n",
            " conv2d_172 (Conv2D)         (None, 1, 1, 10)          2570      \n",
            "                                                                 \n",
            " flatten_13 (Flatten)        (None, 10)                0         \n",
            "                                                                 \n",
            "=================================================================\n",
            "Total params: 1,148,554\n",
            "Trainable params: 1,148,554\n",
            "Non-trainable params: 0\n",
            "_________________________________________________________________\n"
          ]
        }
      ]
    },
    {
      "cell_type": "code",
      "source": [
        "convNN.compile(optimizer='adam',\n",
        "              loss='categorical_crossentropy',\n",
        "              metrics=['accuracy'])"
      ],
      "metadata": {
        "id": "2q9zn_jS5HWt"
      },
      "execution_count": 77,
      "outputs": []
    },
    {
      "cell_type": "code",
      "source": [
        "import time\n",
        "tic = time.time()\n",
        "\n",
        "convNN.fit(x = train_images, \n",
        "           y = train_labels, \n",
        "           epochs    =2,\n",
        "           batch_size=64,\n",
        "           verbose=2)\n",
        "\n",
        "print('seconds=', time.time()-tic)"
      ],
      "metadata": {
        "colab": {
          "base_uri": "https://localhost:8080/"
        },
        "id": "Fx-v-5vJ5TlK",
        "outputId": "2a072285-264d-4f1e-fd11-e5702a654afa"
      },
      "execution_count": 78,
      "outputs": [
        {
          "output_type": "stream",
          "name": "stdout",
          "text": [
            "Epoch 1/2\n",
            "938/938 - 21s - loss: 0.1462 - accuracy: 0.9544 - 21s/epoch - 22ms/step\n",
            "Epoch 2/2\n",
            "938/938 - 21s - loss: 0.0439 - accuracy: 0.9869 - 21s/epoch - 22ms/step\n",
            "seconds= 82.69031643867493\n"
          ]
        }
      ]
    },
    {
      "cell_type": "code",
      "source": [
        "test_loss, test_acc = convNN.evaluate(test_images, test_labels)\n",
        "print('Accuracy:' ,test_acc)\n"
      ],
      "metadata": {
        "colab": {
          "base_uri": "https://localhost:8080/"
        },
        "id": "U2tfarwSmr9K",
        "outputId": "028db9c5-89da-464e-d876-c8224b339ebb"
      },
      "execution_count": 79,
      "outputs": [
        {
          "output_type": "stream",
          "name": "stdout",
          "text": [
            "313/313 [==============================] - 2s 6ms/step - loss: 0.0297 - accuracy: 0.9915\n",
            "Accuracy: 0.9915000200271606 , Otro WOW!\n"
          ]
        }
      ]
    },
    {
      "cell_type": "code",
      "source": [
        "test_acc"
      ],
      "metadata": {
        "colab": {
          "base_uri": "https://localhost:8080/"
        },
        "id": "vLu-UpienUl0",
        "outputId": "7f22cae6-66f2-4dfd-bf69-41b781fb0a1e"
      },
      "execution_count": 83,
      "outputs": [
        {
          "output_type": "execute_result",
          "data": {
            "text/plain": [
              "0.9915000200271606"
            ]
          },
          "metadata": {},
          "execution_count": 83
        }
      ]
    },
    {
      "cell_type": "code",
      "source": [
        "import numpy as np\n",
        "\n",
        "test_predicted_labels = convNN.predict(test_images)\n",
        "test_true_labels      = np.argmax(test_labels,axis=1)\n",
        "test_predicted_labels = np.argmax(test_predicted_labels,axis=1)"
      ],
      "metadata": {
        "colab": {
          "base_uri": "https://localhost:8080/"
        },
        "id": "xfBKREYAmzdF",
        "outputId": "90142245-a4d7-4d06-97c6-d9b039932718"
      },
      "execution_count": 104,
      "outputs": [
        {
          "output_type": "stream",
          "name": "stdout",
          "text": [
            "313/313 [==============================] - 1s 5ms/step\n"
          ]
        }
      ]
    },
    {
      "cell_type": "code",
      "source": [],
      "metadata": {
        "colab": {
          "base_uri": "https://localhost:8080/"
        },
        "id": "9764YhILoIgt",
        "outputId": "15453ca4-3dc8-4a65-f182-5e4173c532e4"
      },
      "execution_count": 89,
      "outputs": [
        {
          "output_type": "execute_result",
          "data": {
            "text/plain": [
              "array([9.2232805e-11, 1.1190928e-10, 6.3739883e-08, 1.4686039e-09,\n",
              "       3.1856011e-08, 2.3521271e-10, 2.2334229e-14, 9.9999940e-01,\n",
              "       5.9677037e-09, 4.3903077e-07], dtype=float32)"
            ]
          },
          "metadata": {},
          "execution_count": 89
        }
      ]
    },
    {
      "cell_type": "code",
      "source": [
        "np.argmax(test_predicted_labels[0])"
      ],
      "metadata": {
        "colab": {
          "base_uri": "https://localhost:8080/"
        },
        "id": "YoBS4l19ofEp",
        "outputId": "04b28e74-b4e9-4c68-a0b5-fa897a3abee2"
      },
      "execution_count": 98,
      "outputs": [
        {
          "output_type": "execute_result",
          "data": {
            "text/plain": [
              "7"
            ]
          },
          "metadata": {},
          "execution_count": 98
        }
      ]
    },
    {
      "cell_type": "code",
      "source": [
        "#test_labels son vectores canonicos.\n",
        "precision=0\n",
        "for i in range(10000):\n",
        "    tag_t=np.argmax(test_labels[i])\n",
        "    tag_pred=np.argmax(test_predicted_labels[i])\n",
        "    if(tag_t==tag_pred):\n",
        "        precision+=1\n",
        "precision*=1/10000\n",
        "print(precision)"
      ],
      "metadata": {
        "colab": {
          "base_uri": "https://localhost:8080/"
        },
        "id": "vHPZe5L9n-Qm",
        "outputId": "20c9b55d-78c3-4886-c79b-e77510ffa8a8"
      },
      "execution_count": 100,
      "outputs": [
        {
          "output_type": "stream",
          "name": "stdout",
          "text": [
            "0.9915\n"
          ]
        }
      ]
    },
    {
      "cell_type": "code",
      "source": [
        "import matplotlib.pyplot as plt\n",
        "\n",
        "from sklearn.metrics import accuracy_score,confusion_matrix, precision_score, recall_score\n",
        "from sklearn.metrics import f1_score, cohen_kappa_score\n",
        "import seaborn as sns \n",
        "C = confusion_matrix(test_true_labels, test_predicted_labels)\n",
        "\n",
        "f, ax = plt.subplots(figsize=(11, 9))\n",
        "sns.set()\n",
        "cmap = sns.diverging_palette(220, 10, as_cmap=True)\n",
        "ax = sns.heatmap(C, cmap=cmap, square=True,\n",
        "                 annot=True, fmt='d', linewidths=.5)\n",
        "ax.set_title('Matriz de Confusión')\n",
        "plt.show()\n"
      ],
      "metadata": {
        "colab": {
          "base_uri": "https://localhost:8080/",
          "height": 556
        },
        "id": "3bUSF1Sam3w4",
        "outputId": "37b5ef87-c0fb-4de0-8f1c-453d93dbc227"
      },
      "execution_count": 116,
      "outputs": [
        {
          "output_type": "display_data",
          "data": {
            "text/plain": [
              "<Figure size 792x648 with 2 Axes>"
            ],
            "image/png": "[encoded data removed]"
          },
          "metadata": {}
        }
      ]
    },
    {
      "cell_type": "code",
      "source": [
        "accuracy = accuracy_score(test_true_labels, test_predicted_labels)\n",
        "print('Accuracy: %f' % accuracy)\n",
        "# precision tp / (tp + fp)\n",
        "precision = precision_score(test_true_labels, test_predicted_labels,average='weighted')\n",
        "print('Precision: %f',precision)\n",
        "# recall: tp / (tp + fn)\n",
        "recall = recall_score(test_true_labels, test_predicted_labels,average='weighted')\n",
        "print('Recall: %f' , recall)\n",
        "# f1: 2 tp / (2 tp + fp + fn)\n",
        "f1 = f1_score(test_true_labels, test_predicted_labels,average='weighted')\n",
        "print('F1 score: %f' % f1)"
      ],
      "metadata": {
        "colab": {
          "base_uri": "https://localhost:8080/"
        },
        "id": "VOaeKjUBrhiC",
        "outputId": "e951cc39-e6ac-4e9c-8a94-4515e3619d85"
      },
      "execution_count": 115,
      "outputs": [
        {
          "output_type": "stream",
          "name": "stdout",
          "text": [
            "Accuracy: 0.991500\n",
            "Precision: %f 0.9915280001734067\n",
            "Recall: %f 0.9915\n",
            "F1 score: 0.991492\n"
          ]
        }
      ]
    }
  ]
}