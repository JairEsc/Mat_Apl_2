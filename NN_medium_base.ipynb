{
  "nbformat": 4,
  "nbformat_minor": 0,
  "metadata": {
    "colab": {
      "provenance": [],
      "authorship_tag": "ABX9TyNDNCatH7QLLf10yzMfnE70",
      "include_colab_link": true
    },
    "kernelspec": {
      "name": "python3",
      "display_name": "Python 3"
    },
    "language_info": {
      "name": "python"
    }
  },
  "cells": [
    {
      "cell_type": "markdown",
      "metadata": {
        "id": "view-in-github",
        "colab_type": "text"
      },
      "source": [
        "<a href=\"https://colab.research.google.com/github/JairEsc/Mat_Apl_2/blob/main/NN_medium_base.ipynb\" target=\"_parent\"><img src=\"https://colab.research.google.com/assets/colab-badge.svg\" alt=\"Open In Colab\"/></a>"
      ]
    },
    {
      "cell_type": "code",
      "execution_count": 76,
      "metadata": {
        "id": "IklufuqUwcpX"
      },
      "outputs": [],
      "source": [
        "import matplotlib.pyplot as plt\n",
        "import tqdm\n",
        "from time import time"
      ]
    },
    {
      "cell_type": "markdown",
      "source": [
        "# Estructura de los datos."
      ],
      "metadata": {
        "id": "MpFOG--QxVDX"
      }
    },
    {
      "cell_type": "markdown",
      "source": [
        "Consideramos un caso general, una base con datos de frecuencias de especies, cada observación de dimensión $k$, y supongamos que tenemos $n$ observaciones.\n",
        "\n",
        "El output busca ser la clasificación en una de $d$ categorías, definidas ya sea por ciudad o localización-clima (pero de un sólo tipo).\n"
      ],
      "metadata": {
        "id": "GznOeGsWxYfc"
      }
    },
    {
      "cell_type": "markdown",
      "source": [
        "# Datos de ejemplo"
      ],
      "metadata": {
        "id": "NrrajEuRytBP"
      }
    },
    {
      "cell_type": "code",
      "source": [
        "import pandas as pd\n",
        "import matplotlib.pyplot as plt\n",
        "\n",
        "df = pd.read_csv(\"base.csv\")\n",
        "print(df.head())\n",
        "from sklearn.utils import shuffle\n",
        "df = shuffle(df)###El ajuste depende de este shuffle*****"
      ],
      "metadata": {
        "id": "30vL3CcXxUUE",
        "colab": {
          "base_uri": "https://localhost:8080/"
        },
        "outputId": "008807be-899f-404a-dffb-9bd7fc9223b4"
      },
      "execution_count": 77,
      "outputs": [
        {
          "output_type": "stream",
          "name": "stdout",
          "text": [
            "   muestra         0         1         2         3         4         5  \\\n",
            "0        0 -0.017698 -0.018833 -0.005616 -0.000572 -0.005652 -0.018966   \n",
            "1        1 -0.019763 -0.018925 -0.005570 -0.000452 -0.005316 -0.018045   \n",
            "2        2 -0.020007 -0.020142 -0.005839 -0.000438 -0.005355 -0.018727   \n",
            "3        3 -0.014178 -0.015676 -0.005112 -0.000345 -0.005809 -0.019237   \n",
            "4        4 -0.020483 -0.020830 -0.005978 -0.000489 -0.005396 -0.019325   \n",
            "\n",
            "          6         7         8  ...       491       492       493       494  \\\n",
            "0 -0.012661 -0.016314 -0.001750  ...  0.000706 -0.001257  0.001123 -0.001063   \n",
            "1 -0.012203 -0.015462 -0.001681  ...  0.001495  0.000359 -0.000335 -0.000279   \n",
            "2 -0.012396 -0.015604 -0.001798  ... -0.000068 -0.000303  0.000749 -0.000299   \n",
            "3 -0.013223 -0.017674 -0.001145  ...  0.000358 -0.000483  0.000012 -0.000220   \n",
            "4 -0.012630 -0.016130 -0.002057  ... -0.000909  0.000261  0.001696 -0.000984   \n",
            "\n",
            "        495       496       497       498       499              etiqueta  \n",
            "0  0.000162  0.000123  0.000698 -0.002180 -0.000647  WarmT-SumDry-HotSum0  \n",
            "1  0.001268  0.001126 -0.001163  0.001068  0.001447  WarmT-SumDry-HotSum0  \n",
            "2 -0.000938 -0.000155 -0.000818 -0.002170 -0.001276  WarmT-SumDry-HotSum0  \n",
            "3  0.000219 -0.000326 -0.000354  0.000327 -0.001916  WarmT-SumDry-HotSum0  \n",
            "4 -0.001747  0.000657  0.000909 -0.001606 -0.001416  WarmT-SumDry-HotSum0  \n",
            "\n",
            "[5 rows x 502 columns]\n"
          ]
        }
      ]
    },
    {
      "cell_type": "code",
      "source": [
        "print(df.shape)"
      ],
      "metadata": {
        "colab": {
          "base_uri": "https://localhost:8080/"
        },
        "id": "2zSWbW5vz3PI",
        "outputId": "bfaf7a13-56e4-4046-9767-b565e2f60894"
      },
      "execution_count": 78,
      "outputs": [
        {
          "output_type": "stream",
          "name": "stdout",
          "text": [
            "(3043, 502)\n"
          ]
        }
      ]
    },
    {
      "cell_type": "code",
      "source": [
        "ytags=df['etiqueta']\n",
        "print(ytags)"
      ],
      "metadata": {
        "colab": {
          "base_uri": "https://localhost:8080/"
        },
        "id": "I84se6Sw-Mdt",
        "outputId": "b443fc53-216e-4a36-fd42-7639d8a4281f"
      },
      "execution_count": 79,
      "outputs": [
        {
          "output_type": "stream",
          "name": "stdout",
          "text": [
            "1466            Equat-FullH1\n",
            "2310      Snow-FullH-HotSum2\n",
            "119      Snow-FullH-CoolSum8\n",
            "554     Arid-Steppe-HotArid4\n",
            "747             Equat-FullH5\n",
            "                ...         \n",
            "2687      Snow-FullH-HotSum2\n",
            "2931      Snow-FullH-HotSum2\n",
            "1461            Equat-FullH1\n",
            "2441      Snow-FullH-HotSum2\n",
            "218      Polar-PolarTundra10\n",
            "Name: etiqueta, Length: 3043, dtype: object\n"
          ]
        }
      ]
    },
    {
      "cell_type": "code",
      "source": [
        "import numpy as np\n",
        "_,idx = np.unique(ytags,return_inverse=True)\n",
        "uniques,ocurr=np.unique(idx,return_counts=True)"
      ],
      "metadata": {
        "id": "E6fYhQo7BNGu"
      },
      "execution_count": 80,
      "outputs": []
    },
    {
      "cell_type": "code",
      "source": [
        "plt.hist(idx,bins=len(_))\n",
        "plt.show()#Mala representatividad de clases."
      ],
      "metadata": {
        "colab": {
          "base_uri": "https://localhost:8080/",
          "height": 265
        },
        "id": "QVlF0yPp2YOY",
        "outputId": "d08dff47-fbf5-444b-8e80-671f7666807b"
      },
      "execution_count": 81,
      "outputs": [
        {
          "output_type": "display_data",
          "data": {
            "text/plain": [
              "<Figure size 432x288 with 1 Axes>"
            ],
            "image/png": "[encoded data removed]"
          },
          "metadata": {
            "needs_background": "light"
          }
        }
      ]
    },
    {
      "cell_type": "markdown",
      "source": [
        "# Definición del modelo."
      ],
      "metadata": {
        "id": "fOP0O0MV3pmP"
      }
    },
    {
      "cell_type": "markdown",
      "source": [
        "# Partición de datos"
      ],
      "metadata": {
        "id": "JydTuMKmF2t7"
      }
    },
    {
      "cell_type": "code",
      "source": [
        "from keras.utils import to_categorical\n",
        "X_total=df.drop(columns=['muestra','etiqueta'])\n",
        "Y_total=to_categorical(idx)\n",
        "train_perc=int(0.80*len(X_total))\n",
        "X_train=X_total[0:train_perc]\n",
        "Y_train=Y_total[0:train_perc]"
      ],
      "metadata": {
        "id": "O2iYyd0mGEIW"
      },
      "execution_count": 82,
      "outputs": []
    },
    {
      "cell_type": "code",
      "source": [
        "k,n=X_train.shape\n",
        "n=n#-indice, -tag\n",
        "print(k,n)"
      ],
      "metadata": {
        "colab": {
          "base_uri": "https://localhost:8080/"
        },
        "id": "ueLx_pz_GAe4",
        "outputId": "df55e10c-e0c8-48bb-d9d7-cd6ad6b38a2d"
      },
      "execution_count": 83,
      "outputs": [
        {
          "output_type": "stream",
          "name": "stdout",
          "text": [
            "2434 500\n"
          ]
        }
      ]
    },
    {
      "cell_type": "code",
      "source": [
        "input_shape = (n,)#=n\n",
        "output_shape=len(np.unique(ytags))"
      ],
      "metadata": {
        "id": "RrB-qCBDB1LX"
      },
      "execution_count": 84,
      "outputs": []
    },
    {
      "cell_type": "code",
      "source": [
        "import tensorflow as tf\n",
        "import keras\n",
        "import pandas as pd\n",
        "from keras import layers\n",
        "from keras import models"
      ],
      "metadata": {
        "id": "XVlSzWd23fCO"
      },
      "execution_count": 85,
      "outputs": []
    },
    {
      "cell_type": "markdown",
      "source": [
        "# Capas, neuronas, funciones de activación, loss."
      ],
      "metadata": {
        "id": "rlhbU_ZwNh_Y"
      }
    },
    {
      "cell_type": "code",
      "source": [
        "model = models.Sequential()\n",
        "\n",
        "model.add(layers.InputLayer(input_shape=(n,), name='Input_Layer'))#Obligatoria\n",
        "model.add(layers.Dense(512, activation='relu'))# Numero de capas ocultas: Opcional\n",
        "model.add(layers.Dense(64, activation='relu'))# Numero de neuronas en cada capa: Opcional\n",
        "model.add(layers.Dense(41, activation='Softmax', name='Output_Layer'))#Obligatoria\n",
        "model.summary()\n",
        "model.compile(optimizer='adam',\n",
        "              loss='categorical_crossentropy',\n",
        "              metrics=['accuracy'])\n",
        "import time\n",
        "tic = time.time()\n",
        "\n",
        "model.fit(x = X_train, \n",
        "           y = Y_train, \n",
        "          validation_data=[X_total[train_perc:], Y_total[train_perc:]],##Cuando haya otra base, se modifica ese 200\n",
        "          batch_size=10,\n",
        "           epochs=20,\n",
        "           verbose=2,shuffle=True)\n",
        "\n",
        "print('seconds=', time.time()-tic)"
      ],
      "metadata": {
        "colab": {
          "base_uri": "https://localhost:8080/"
        },
        "id": "6Ntg-BtqwqpQ",
        "outputId": "9b0bbbf9-28db-44d3-ef8c-40588c99a4fd"
      },
      "execution_count": 86,
      "outputs": [
        {
          "output_type": "stream",
          "name": "stdout",
          "text": [
            "Model: \"sequential_5\"\n",
            "_________________________________________________________________\n",
            " Layer (type)                Output Shape              Param #   \n",
            "=================================================================\n",
            " dense_10 (Dense)            (None, 512)               256512    \n",
            "                                                                 \n",
            " dense_11 (Dense)            (None, 64)                32832     \n",
            "                                                                 \n",
            " Output_Layer (Dense)        (None, 41)                2665      \n",
            "                                                                 \n",
            "=================================================================\n",
            "Total params: 292,009\n",
            "Trainable params: 292,009\n",
            "Non-trainable params: 0\n",
            "_________________________________________________________________\n",
            "Epoch 1/20\n",
            "244/244 - 2s - loss: 2.5620 - accuracy: 0.3899 - val_loss: 1.8036 - val_accuracy: 0.6141 - 2s/epoch - 7ms/step\n",
            "Epoch 2/20\n",
            "244/244 - 1s - loss: 1.3624 - accuracy: 0.6816 - val_loss: 1.0148 - val_accuracy: 0.7471 - 969ms/epoch - 4ms/step\n",
            "Epoch 3/20\n",
            "244/244 - 1s - loss: 0.7762 - accuracy: 0.8426 - val_loss: 0.6736 - val_accuracy: 0.8785 - 1s/epoch - 6ms/step\n",
            "Epoch 4/20\n",
            "244/244 - 2s - loss: 0.4731 - accuracy: 0.8965 - val_loss: 0.5122 - val_accuracy: 0.9015 - 2s/epoch - 7ms/step\n",
            "Epoch 5/20\n",
            "244/244 - 1s - loss: 0.3124 - accuracy: 0.9215 - val_loss: 0.4287 - val_accuracy: 0.9294 - 933ms/epoch - 4ms/step\n",
            "Epoch 6/20\n",
            "244/244 - 1s - loss: 0.2166 - accuracy: 0.9532 - val_loss: 0.4076 - val_accuracy: 0.9343 - 960ms/epoch - 4ms/step\n",
            "Epoch 7/20\n",
            "244/244 - 1s - loss: 0.1551 - accuracy: 0.9634 - val_loss: 0.3679 - val_accuracy: 0.9491 - 945ms/epoch - 4ms/step\n",
            "Epoch 8/20\n",
            "244/244 - 1s - loss: 0.1145 - accuracy: 0.9753 - val_loss: 0.3910 - val_accuracy: 0.9294 - 912ms/epoch - 4ms/step\n",
            "Epoch 9/20\n",
            "244/244 - 1s - loss: 0.0897 - accuracy: 0.9803 - val_loss: 0.3812 - val_accuracy: 0.9475 - 958ms/epoch - 4ms/step\n",
            "Epoch 10/20\n",
            "244/244 - 1s - loss: 0.0711 - accuracy: 0.9852 - val_loss: 0.3582 - val_accuracy: 0.9458 - 954ms/epoch - 4ms/step\n",
            "Epoch 11/20\n",
            "244/244 - 1s - loss: 0.0574 - accuracy: 0.9881 - val_loss: 0.3770 - val_accuracy: 0.9507 - 995ms/epoch - 4ms/step\n",
            "Epoch 12/20\n",
            "244/244 - 1s - loss: 0.0473 - accuracy: 0.9901 - val_loss: 0.3772 - val_accuracy: 0.9475 - 985ms/epoch - 4ms/step\n",
            "Epoch 13/20\n",
            "244/244 - 1s - loss: 0.0420 - accuracy: 0.9910 - val_loss: 0.4038 - val_accuracy: 0.9491 - 1s/epoch - 4ms/step\n",
            "Epoch 14/20\n",
            "244/244 - 1s - loss: 0.0355 - accuracy: 0.9926 - val_loss: 0.4287 - val_accuracy: 0.9524 - 940ms/epoch - 4ms/step\n",
            "Epoch 15/20\n",
            "244/244 - 1s - loss: 0.0303 - accuracy: 0.9922 - val_loss: 0.4429 - val_accuracy: 0.9491 - 948ms/epoch - 4ms/step\n",
            "Epoch 16/20\n",
            "244/244 - 1s - loss: 0.0285 - accuracy: 0.9922 - val_loss: 0.3896 - val_accuracy: 0.9540 - 942ms/epoch - 4ms/step\n",
            "Epoch 17/20\n",
            "244/244 - 1s - loss: 0.0261 - accuracy: 0.9930 - val_loss: 0.4439 - val_accuracy: 0.9524 - 956ms/epoch - 4ms/step\n",
            "Epoch 18/20\n",
            "244/244 - 1s - loss: 0.0230 - accuracy: 0.9930 - val_loss: 0.4550 - val_accuracy: 0.9540 - 937ms/epoch - 4ms/step\n",
            "Epoch 19/20\n",
            "244/244 - 1s - loss: 0.0198 - accuracy: 0.9951 - val_loss: 0.4711 - val_accuracy: 0.9491 - 981ms/epoch - 4ms/step\n",
            "Epoch 20/20\n",
            "244/244 - 1s - loss: 0.0172 - accuracy: 0.9959 - val_loss: 0.4494 - val_accuracy: 0.9540 - 961ms/epoch - 4ms/step\n",
            "seconds= 21.242688417434692\n"
          ]
        }
      ]
    },
    {
      "cell_type": "code",
      "source": [
        "test_predicted_labels_raw = model.predict(X_total[train_perc:])\n",
        "test_true_labels      = np.argmax(Y_total[train_perc:],axis=1)\n",
        "test_predicted_labels = np.argmax(test_predicted_labels_raw,axis=1)"
      ],
      "metadata": {
        "colab": {
          "base_uri": "https://localhost:8080/"
        },
        "id": "us_do9FXcYtX",
        "outputId": "89353717-a4d1-4c80-d77d-cb48bd8e936d"
      },
      "execution_count": 148,
      "outputs": [
        {
          "output_type": "stream",
          "name": "stdout",
          "text": [
            "20/20 [==============================] - 0s 4ms/step\n"
          ]
        }
      ]
    },
    {
      "cell_type": "code",
      "source": [
        "import matplotlib.pyplot as plt\n",
        "\n",
        "from sklearn.metrics import accuracy_score,confusion_matrix, precision_score, recall_score,roc_auc_score\n",
        "\n",
        "from sklearn.metrics import f1_score, cohen_kappa_score\n",
        "import seaborn as sns \n",
        "\n",
        "accuracy = accuracy_score(test_true_labels,test_predicted_labels)\n",
        "print('Accuracy: %f' % accuracy)\n",
        "# precision tp / (tp + fp)\n",
        "precision = precision_score(test_true_labels,test_predicted_labels,average='weighted',zero_division=1)\n",
        "print('Precision: %f',precision)\n",
        "# recall: tp / (tp + fn)\n",
        "recall = recall_score(test_true_labels,test_predicted_labels,average='weighted',zero_division=1)\n",
        "print('Recall: %f' , recall)\n",
        "# f1: 2 tp / (2 tp + fp + fn)\n",
        "f1 = f1_score(test_true_labels,test_predicted_labels,average='weighted')\n",
        "print('F1 score: %f' % f1)"
      ],
      "metadata": {
        "colab": {
          "base_uri": "https://localhost:8080/"
        },
        "id": "zDQfX1GTyoMG",
        "outputId": "e1a1ffa1-709f-41fa-a330-753d2a532fc8"
      },
      "execution_count": 149,
      "outputs": [
        {
          "output_type": "stream",
          "name": "stdout",
          "text": [
            "Accuracy: 0.954023\n",
            "Precision: %f 0.9618400764429893\n",
            "Recall: %f 0.9540229885057471\n",
            "F1 score: 0.950293\n"
          ]
        }
      ]
    }
  ]
}