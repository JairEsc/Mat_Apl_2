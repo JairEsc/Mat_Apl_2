{
  "nbformat": 4,
  "nbformat_minor": 0,
  "metadata": {
    "colab": {
      "provenance": [],
      "authorship_tag": "ABX9TyPO62DKbGzBySDzkMKuGMpV",
      "include_colab_link": true
    },
    "kernelspec": {
      "name": "python3",
      "display_name": "Python 3"
    },
    "language_info": {
      "name": "python"
    }
  },
  "cells": [
    {
      "cell_type": "markdown",
      "metadata": {
        "id": "view-in-github",
        "colab_type": "text"
      },
      "source": [
        "<a href=\"https://colab.research.google.com/github/JairEsc/Mat_Apl_2/blob/main/Ayudantia/Inf_Regresion.ipynb\" target=\"_parent\"><img src=\"https://colab.research.google.com/assets/colab-badge.svg\" alt=\"Open In Colab\"/></a>"
      ]
    },
    {
      "cell_type": "code",
      "execution_count": null,
      "metadata": {
        "id": "QVed9-Csd65I"
      },
      "outputs": [],
      "source": [
        "#Regresión no lineal. "
      ]
    },
    {
      "cell_type": "code",
      "source": [
        "import numpy as np \n",
        "import matplotlib.pyplot as plt"
      ],
      "metadata": {
        "id": "VLMjWwybd_IT"
      },
      "execution_count": 1,
      "outputs": []
    },
    {
      "cell_type": "code",
      "source": [
        "sustrato_conc=[0.038,\t0.194\t,0.425,\t0.626\t,1.253,\t2.500\t,3.740]\n",
        "reaction_tasa=[0.050,\t0.127,\t0.094,\t0.2122,\t0.2729,\t0.2665,\t0.3317]"
      ],
      "metadata": {
        "id": "ULzIkAb8eHn1"
      },
      "execution_count": 10,
      "outputs": []
    },
    {
      "cell_type": "markdown",
      "source": [
        "*   $r$ es la tasa \\\\\n",
        "*   $[S]$ es la concentración del sustrato\\\\\n",
        "*   $V$ y $K$ constantes por determinar \\\\"
      ],
      "metadata": {
        "id": "r8UDK7SdeX1A"
      }
    },
    {
      "cell_type": "markdown",
      "source": [
        "$$r=\\frac{V\\cdot[S]}{K+[S]}=:F(S,\\beta)$$"
      ],
      "metadata": {
        "id": "nQRLtPdMfVML"
      }
    },
    {
      "cell_type": "code",
      "source": [
        "def Newton(B_0,f_prime,Hess_approx,tol=10**(-6),Max_iter=1000):\n",
        "    norm_approx=np.linalg.norm(r(B_0))\n",
        "    iter=0\n",
        "    history=[]\n",
        "    while(iter<Max_iter and norm_approx>tol):\n",
        "        history.append(norm_approx)\n",
        "        norm_approx=np.linalg.norm(np.transpose(J(B_0))@r(B_0))\n",
        "        B_0=B_0-np.dot(np.linalg.inv(Hess_approx(B_0)),np.dot(np.transpose(J(B_0)),r(B_0)))\n",
        "        iter+=1\n",
        "    if(iter==Max_iter):\n",
        "        print(\"Numero de iteraciones alcanzadas. \")\n",
        "    return B_0,history"
      ],
      "metadata": {
        "id": "xdNCBA_CfUho"
      },
      "execution_count": 45,
      "outputs": []
    },
    {
      "cell_type": "markdown",
      "source": [
        "$$res(V,K)=||r-\\frac{V\\cdot[S]}{K+[S]}||^2$$\n",
        "$$J_{res}(V,K)=\\begin{pmatrix}\\frac{\\partial res_1}{\\partial V}&\\frac{\\partial res_1}{\\partial K}\\\\\n",
        "\\vdots&\\vdots\\\\\n",
        "\\frac{\\partial res_n}{\\partial V}&\\frac{\\partial res_n}{\\partial K}\\\\\n",
        "\\end{pmatrix}$$\n",
        "Con $$\\frac{\\partial res_i}{\\partial V}=-\\frac{S}{K+S}$$\n",
        "$$\\frac{\\partial res_i}{\\partial K}=\\frac{VS}{(K+S)^2}$$\n",
        "\n",
        "Entonces se apoxima la Hessiana con $J_{res}^T J_{res}$"
      ],
      "metadata": {
        "id": "e4rnh4h7gwlL"
      }
    },
    {
      "cell_type": "code",
      "source": [
        "def r(B_0):\n",
        "    return np.array([reaction_tasa[i]-B_0[0]*sustrato_conc[i]/(B_0[1]+sustrato_conc[i]) for i in range(len(sustrato_conc))])\n",
        "def J(B_0):\n",
        "    matrix=np.zeros((len(sustrato_conc),2))\n",
        "    for i in range(len(sustrato_conc)):\n",
        "        matrix[i,0]=-(sustrato_conc[i])/(B_0[1]+sustrato_conc[i])\n",
        "        matrix[i,1]=(B_0[0]*sustrato_conc[i])/(B_0[1]+sustrato_conc[i])**2\n",
        "    return matrix\n",
        "def Hess(B_0):\n",
        "    return np.dot(np.transpose(J(B_0)),J(B_0))"
      ],
      "metadata": {
        "id": "jzVMw4jQgvTt"
      },
      "execution_count": 31,
      "outputs": []
    },
    {
      "cell_type": "code",
      "source": [
        "parametros,history=Newton(B_0=[0.9,0.2],f_prime=J,Hess_approx=Hess)"
      ],
      "metadata": {
        "id": "xbob_xfjkgpB"
      },
      "execution_count": 46,
      "outputs": []
    },
    {
      "cell_type": "code",
      "source": [
        "print(\"Parametros optimos: \", parametros)\n",
        "plt.plot(history)\n",
        "plt.title(\"Norma de la derivada en cada iteracion\")\n",
        "plt.show()"
      ],
      "metadata": {
        "colab": {
          "base_uri": "https://localhost:8080/",
          "height": 298
        },
        "id": "4xR35N6Pn3s8",
        "outputId": "a7a73014-1548-42f8-b084-bee1a9492090"
      },
      "execution_count": 50,
      "outputs": [
        {
          "output_type": "stream",
          "name": "stdout",
          "text": [
            "Parametros optimos:  [0.3618367  0.55626545]\n"
          ]
        },
        {
          "output_type": "display_data",
          "data": {
            "text/plain": [
              "<Figure size 432x288 with 1 Axes>"
            ],
            "image/png": "[encoded data removed]"
          },
          "metadata": {
            "needs_background": "light"
          }
        }
      ]
    },
    {
      "cell_type": "code",
      "source": [
        "plt.plot(sustrato_conc,reaction_tasa,'*',label='Datos')\n",
        "t=np.arange(0,np.max(sustrato_conc),0.001)\n",
        "plt.plot(t, parametros[0]*np.array((t)/(parametros[1]+t)),label='Ajuste')\n",
        "plt.legend()\n",
        "plt.show()"
      ],
      "metadata": {
        "colab": {
          "base_uri": "https://localhost:8080/",
          "height": 265
        },
        "id": "ema3-el5oO7K",
        "outputId": "51ea9a5e-811a-4267-f2e3-dffa59900690"
      },
      "execution_count": 61,
      "outputs": [
        {
          "output_type": "display_data",
          "data": {
            "text/plain": [
              "<Figure size 432x288 with 1 Axes>"
            ],
            "image/png": "[encoded data removed]"
          },
          "metadata": {
            "needs_background": "light"
          }
        }
      ]
    }
  ]
}
