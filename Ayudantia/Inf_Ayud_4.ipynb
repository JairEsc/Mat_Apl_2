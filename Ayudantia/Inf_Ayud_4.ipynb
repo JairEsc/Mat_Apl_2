{
  "nbformat": 4,
  "nbformat_minor": 0,
  "metadata": {
    "colab": {
      "provenance": [],
      "authorship_tag": "ABX9TyNtF5k3YL6htSo460BT8uUf",
      "include_colab_link": true
    },
    "kernelspec": {
      "name": "python3",
      "display_name": "Python 3"
    },
    "language_info": {
      "name": "python"
    }
  },
  "cells": [
    {
      "cell_type": "markdown",
      "metadata": {
        "id": "view-in-github",
        "colab_type": "text"
      },
      "source": [
        "<a href=\"https://colab.research.google.com/github/JairEsc/Mat_Apl_2/blob/main/Ayudantia/Inf_Ayud_4.ipynb\" target=\"_parent\"><img src=\"https://colab.research.google.com/assets/colab-badge.svg\" alt=\"Open In Colab\"/></a>"
      ]
    },
    {
      "cell_type": "code",
      "source": [
        "import numpy as np\n",
        "import matplotlib.pyplot as plt"
      ],
      "metadata": {
        "id": "hRZbCxUDF9lf"
      },
      "execution_count": 2,
      "outputs": []
    },
    {
      "cell_type": "code",
      "execution_count": 3,
      "metadata": {
        "id": "tA0RWfZ5F6i2"
      },
      "outputs": [],
      "source": [
        "def T_F(X):\n",
        "    return((np.quantile(X,0.75)-np.quantile(X,0.25))/1.34)"
      ]
    },
    {
      "cell_type": "code",
      "source": [
        "np.random.seed(0)\n",
        "X=np.random.standard_t(3,size=25)\n",
        "def bootstrap_intervals(X,T,B=10000):\n",
        "    estimations=[T(X)]\n",
        "    for i in range(B):\n",
        "        X_s=np.random.choice(X,len(X))\n",
        "        estimations.append(T(X_s))\n",
        "    se=np.std(estimations)\n",
        "    print(\"Estimation T.hat: \", estimations[0],\"\\n\")\n",
        "    #Intervalos.\n",
        "    print(\"Normal interval: \",\"(\",estimations[0]-2*se,estimations[0]+2*se,\")\")\n",
        "    print(\"Percentile interval: \",\"(\",np.quantile(estimations,0.025),np.quantile(estimations,0.975),\")\")#Percentile, quantile\n",
        "    print(\"Pivotal interval: \",\"(\",2*estimations[0]-np.quantile(estimations,0.975),2*estimations[0]-np.quantile(estimations,0.025),\")\")\n",
        "    return [[estimations[0]-2*se,estimations[0]+2*se],[np.quantile(estimations,0.025),np.quantile(estimations,0.975)],[2*estimations[0]-np.quantile(estimations,0.975),2*estimations[0]-np.quantile(estimations,0.025)]]\n",
        "    \n",
        "intervals=bootstrap_intervals(X,T=T_F)\n",
        "I1='Normal interval'\n",
        "I2='Percentile interval'\n",
        "I3='Pivotal interval'\n",
        "plt.plot(range(1,26),X,'.')\n",
        "plt.plot(range(1,26),[np.mean(intervals[0])]*25,label='Estimation T_hat')\n",
        "plt.plot(range(1,26), [intervals[0][1]]*25,'r--')\n",
        "plt.plot(range(1,26), [intervals[0][0]]*25,'r--',label=I1)\n",
        "plt.plot(range(1,26), [intervals[1][1]]*25,'g--')\n",
        "plt.plot(range(1,26), [intervals[1][0]]*25,'g--',label=I2)\n",
        "plt.plot(range(1,26), [intervals[2][1]]*25,'b--')\n",
        "plt.plot(range(1,26), [intervals[2][0]]*25,'b--',label=I3)\n",
        "plt.ylim((np.min(intervals)-0.1,np.max(intervals)+0.1))\n",
        "plt.legend(framealpha=1, frameon=True);\n",
        "plt.title('Observations and intervals.')\n",
        "plt.show()"
      ],
      "metadata": {
        "colab": {
          "base_uri": "https://localhost:8080/",
          "height": 368
        },
        "id": "d68uwXlAF7K2",
        "outputId": "85f3d942-352c-4c30-9d22-330879a76d11"
      },
      "execution_count": 4,
      "outputs": [
        {
          "output_type": "stream",
          "name": "stdout",
          "text": [
            "Estimation T.hat:  1.4222051531869766 \n",
            "\n",
            "Normal interval:  ( 0.7604314144651186 2.0839788919088345 )\n",
            "Percentile interval:  ( 0.7246196945236993 1.8932916331582994 )\n",
            "Pivotal interval:  ( 0.9511186732156538 2.119790611850254 )\n"
          ]
        },
        {
          "output_type": "display_data",
          "data": {
            "text/plain": [
              "<Figure size 432x288 with 1 Axes>"
            ],
            "image/png": "[encoded data removed]"
          },
          "metadata": {
            "needs_background": "light"
          }
        }
      ]
    },
    {
      "cell_type": "code",
      "source": [
        "def length(I):\n",
        "    return I[1]-I[0]\n",
        "plt.bar([I1,I2,I3],[length(i) for i in intervals],color='green')\n",
        "plt.ylabel('Length            ',rotation=0)\n",
        "plt.title('Lengths of confidence intervals.')\n",
        "plt.show()"
      ],
      "metadata": {
        "colab": {
          "base_uri": "https://localhost:8080/",
          "height": 281
        },
        "id": "il5ohMJBGITf",
        "outputId": "2ed320e6-078b-4460-839a-8adff0ca0b34"
      },
      "execution_count": 5,
      "outputs": [
        {
          "output_type": "display_data",
          "data": {
            "text/plain": [
              "<Figure size 432x288 with 1 Axes>"
            ],
            "image/png": "[encoded data removed]"
          },
          "metadata": {
            "needs_background": "light"
          }
        }
      ]
    }
  ]
}
