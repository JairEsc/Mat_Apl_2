{
  "nbformat": 4,
  "nbformat_minor": 0,
  "metadata": {
    "colab": {
      "name": "Untitled119.ipynb",
      "provenance": [],
      "authorship_tag": "ABX9TyM1qMVAW4rmpGLtDiS87Fg2",
      "include_colab_link": true
    },
    "kernelspec": {
      "name": "python3",
      "display_name": "Python 3"
    },
    "language_info": {
      "name": "python"
    }
  },
  "cells": [
    {
      "cell_type": "markdown",
      "metadata": {
        "id": "view-in-github",
        "colab_type": "text"
      },
      "source": [
        "<a href=\"https://colab.research.google.com/github/JairEsc/Mat_Apl_2/blob/main/ML_T1.ipynb\" target=\"_parent\"><img src=\"https://colab.research.google.com/assets/colab-badge.svg\" alt=\"Open In Colab\"/></a>"
      ]
    },
    {
      "cell_type": "markdown",
      "source": [
        "**Tarea 1. Aprendizaje máquina.**"
      ],
      "metadata": {
        "id": "173eZZY4vyQJ"
      }
    },
    {
      "cell_type": "code",
      "source": [
        "import numpy as np\n",
        "import matplotlib.pyplot as plt"
      ],
      "metadata": {
        "id": "jfhMEolk0Ng4"
      },
      "execution_count": 1,
      "outputs": []
    },
    {
      "cell_type": "code",
      "source": [
        "from sklearn import linear_model, datasets\n",
        "\n",
        "n_samples = 500\n",
        "X, y = datasets.make_regression(n_samples=n_samples,\n",
        "                                n_features=1,\n",
        "                                n_informative=2, \n",
        "                                noise=5,\n",
        "                                random_state=0) #2)\n",
        "n_outliers=100\n",
        "X[:n_outliers], y[:n_outliers] = datasets.make_regression(n_samples=n_outliers,\n",
        "                                n_features=1,\n",
        "                                n_informative=2, \n",
        "                                noise=2,\n",
        "                                random_state=61)\n",
        "y=np.expand_dims(y,axis=1)\n",
        "plt.scatter(X[:],y[:], marker='.')"
      ],
      "metadata": {
        "id": "2QVFpr_pE7TP",
        "outputId": "1a7c345a-cd2a-4c2f-99c9-a4fb8748cac2",
        "colab": {
          "base_uri": "https://localhost:8080/",
          "height": 282
        }
      },
      "execution_count": 11,
      "outputs": [
        {
          "output_type": "execute_result",
          "data": {
            "text/plain": [
              "<matplotlib.collections.PathCollection at 0x7fe125d7b850>"
            ]
          },
          "metadata": {},
          "execution_count": 11
        },
        {
          "output_type": "display_data",
          "data": {
            "text/plain": [
              "<Figure size 432x288 with 1 Axes>"
            ],
            "image/png": "[encoded data removed]"
          },
          "metadata": {
            "needs_background": "light"
          }
        }
      ]
    },
    {
      "cell_type": "code",
      "source": [
        "alpha=0.1\n",
        "def NAG(theta,alpha,eta,nIter, grad):\n",
        "    '''\n",
        "    Descenso acelerado de Nesterov\n",
        "    Parámetros\n",
        "    -----------\n",
        "    theta     :   condicion inicial\n",
        "    grad      :   funcion que calcula el gradiente\n",
        "    Regresa\n",
        "    -----------\n",
        "    Theta     :   trayectoria de los parametros\n",
        "                     Theta[-1] es el valor alcanzado en la ultima iteracion\n",
        "    '''\n",
        "    p     = np.zeros(theta.shape)\n",
        "    Theta=[]\n",
        "    \n",
        "    for t in range(nIter):\n",
        "        pre_theta = theta - 2.0*alpha*p\n",
        "        g = grad(pre_theta)\n",
        "        p = g + eta*p\n",
        "        theta = theta - alpha*p\n",
        "        Theta.append(theta)\n",
        "    return np.array(Theta)"
      ],
      "metadata": {
        "id": "BrJ5V93Zx3jR"
      },
      "execution_count": 12,
      "outputs": []
    },
    {
      "cell_type": "code",
      "source": [
        "def grad(theta):\n",
        "    err=theta[0]*X+theta[1]-y\n",
        "    partial0=err\n",
        "    partial1=X*partial0\n",
        "    partial_t0=np.sum(partial0)\n",
        "    partial_t1=np.sum(partial1)\n",
        "    return np.array([partial_t1,partial_t0], dtype=object)"
      ],
      "metadata": {
        "id": "0LFmewDMn3oY"
      },
      "execution_count": 17,
      "outputs": []
    },
    {
      "cell_type": "code",
      "source": [
        "NAG(theta=np.array([-0.61752689 ,-0.76804482]),alpha=0.1,eta=0.9,nIter=100,grad=grad)"
      ],
      "metadata": {
        "id": "E87ydkgnoNm8",
        "outputId": "e789fc7f-a7cb-4c0d-a15d-d8cf864d9566",
        "colab": {
          "base_uri": "https://localhost:8080/"
        }
      },
      "execution_count": 18,
      "outputs": [
        {
          "output_type": "execute_result",
          "data": {
            "text/plain": [
              "array([[2584.56328114749, -180.56255740834158],\n",
              "       [-386508.8412588353, 56261.5963077469],\n",
              "       [58774810.764920555, -12827885.438413136],\n",
              "       [-8986094620.776062, 2586199951.0067387],\n",
              "       [1381094464871.0918, -488374942758.4973],\n",
              "       [-213312017147614.6, 88581714714327.08],\n",
              "       [3.3098021728787964e+16, -1.5638071420940854e+16],\n",
              "       [-5.157408895728845e+18, 2.708132554175389e+18],\n",
              "       [8.067688856871641e+20, -4.623584421325497e+20],\n",
              "       [-1.2664878246924896e+23, 7.808768675594121e+22],\n",
              "       [1.994516498973554e+25, -1.3077434819473135e+25],\n",
              "       [-3.150039808796051e+27, 2.1755056202728382e+27],\n",
              "       [4.9877158030774114e+29, -3.599707514810002e+29],\n",
              "       [-7.915340550835962e+31, 5.930375526917174e+31],\n",
              "       [1.2586498419759656e+34, -9.735261186677794e+33],\n",
              "       [-2.004948364299464e+36, 1.5934363938981875e+36],\n",
              "       [3.198675288540363e+38, -2.6017230456216936e+38],\n",
              "       [-5.110005875034683e+40, 4.239383832824629e+40],\n",
              "       [8.173005459719827e+42, -6.896100935103676e+42],\n",
              "       [-1.308533382913878e+45, 1.120164992855062e+45],\n",
              "       [2.096871603064306e+47, -1.8173384223842906e+47],\n",
              "       [-3.362725677034117e+49, 2.9454148953731713e+49],\n",
              "       [5.3963314527427685e+51, -4.769600749165655e+51],\n",
              "       [-8.664711975262416e+53, 7.71790590408569e+53],\n",
              "       [1.3919506909938467e+56, -1.248092562552931e+56],\n",
              "       [-2.2370626876415363e+58, 2.0172717888824735e+58],\n",
              "       [3.5965936932375935e+60, -3.2590161853162946e+60],\n",
              "       [-5.784173725883285e+62, 5.263105114488137e+62],\n",
              "       [9.304838386766812e+64, -8.496802870655775e+64],\n",
              "       [-1.497191522426313e+67, 1.3713485896684036e+67],\n",
              "       [2.4095317421636815e+69, -2.2127723721144298e+69],\n",
              "       [-3.8784879035973893e+71, 3.569745588444413e+71],\n",
              "       [6.243903322488306e+73, -5.757875909241468e+73],\n",
              "       [-1.005321013978791e+76, 9.285874566136442e+75],\n",
              "       [1.6188268991088086e+78, -1.4973666573047562e+78],\n",
              "       [-2.606972346808099e+80, 2.414272707014652e+80],\n",
              "       [4.1986245855161624e+82, -3.892280540729746e+82],\n",
              "       [-6.762500881165472e+84, 6.274619839492919e+84],\n",
              "       [1.089263768975896e+87, -1.0114424045395e+87],\n",
              "       [-1.7546099237416413e+89, 1.6303078221969802e+89],\n",
              "       [2.8264856612182643e+91, -2.627703904232127e+91],\n",
              "       [-4.5533286898315e+93, 4.235110205659743e+93],\n",
              "       [7.33541916085513e+95, -6.825542065701026e+95],\n",
              "       [-1.1817690815676908e+98, 1.1000084025028982e+98],\n",
              "       [1.903927393279442e+100, -1.7727326092570936e+100],\n",
              "       [-3.06744489561495e+102, 2.8568044376776055e+102],\n",
              "       [4.9420888479224525e+104, -4.603723879490441e+104],\n",
              "       [-7.962522276469986e+106, 7.418749826432312e+106],\n",
              "       [1.2829100184453907e+109, -1.195489965964084e+109],\n",
              "       [-2.0670280963184748e+111, 1.926441356404565e+111],\n",
              "       [3.330431793040397e+113, -3.1042812932373536e+113],\n",
              "       [-5.366092040187424e+115, 5.002215732704402e+115],\n",
              "       [8.646067306278466e+117, -8.060470754757768e+117],\n",
              "       [-1.3930978065642093e+120, 1.2988395865887455e+120],\n",
              "       [2.244640258228852e+122, -2.0928984752477237e+122],\n",
              "       [-3.6167102989379555e+124, 3.3723970052617397e+124],\n",
              "       [5.827499838502452e+126, -5.434097420263705e+126],\n",
              "       [-9.389709672089474e+128, 8.75617829677428e+128],\n",
              "       [1.5129452483229152e+131, -1.4109136855456391e+131],\n",
              "       [-2.4377841401339693e+133, 2.273448704565542e+133],\n",
              "       [3.9279697005483034e+135, -3.6632697557113096e+135],\n",
              "       [-6.329096766860634e+137, 5.9027149039956816e+137],\n",
              "       [1.0198022439623594e+140, -9.511171247889687e+139],\n",
              "       [-1.643201120959575e+142, 1.532553285012016e+142],\n",
              "       [2.647682696951389e+144, -2.469429556526716e+144],\n",
              "       [-4.266203248863571e+146, 3.9790303523193315e+146],\n",
              "       [6.874125885465466e+148, -6.411467984512538e+148],\n",
              "       [-1.1076274399465637e+151, 1.0330881380030243e+151],\n",
              "       [1.7847203537104964e+153, -1.6646272133111761e+153],\n",
              "       [-2.875721714641435e+155, 2.6822321518607017e+155],\n",
              "       [4.6336552317976125e+157, -4.3219081333884005e+157],\n",
              "       [-7.466219110286482e+159, 6.963931994452718e+159],\n",
              "       [1.2030339321124262e+162, -1.1221046443789148e+162],\n",
              "       [-1.9384523772714113e+164, 1.808056795208783e+164],\n",
              "       [3.123435138429708e+166, -2.913336607011425e+166],\n",
              "       [-5.032802992935034e+168, 4.6942819198091485e+168],\n",
              "       [8.109376050330441e+170, -7.563931524069871e+170],\n",
              "       [-1.306667263267108e+173, 1.2187817406460252e+173],\n",
              "       [2.1054388538077845e+175, -1.9638315363495687e+175],\n",
              "       [-3.3925034682246535e+177, 3.164335105472637e+177],\n",
              "       [5.466357179468558e+179, -5.0987141523407324e+179],\n",
              "       [-8.80796831749951e+181, 8.215591234542834e+181],\n",
              "       [1.419232376187394e+184, -1.3237834542092167e+184],\n",
              "       [-2.2868164102716487e+186, 2.1330205852105712e+186],\n",
              "       [3.68475919069259e+188, -3.4369492645250307e+188],\n",
              "       [-5.937271913477968e+190, 5.53797735391295e+190],\n",
              "       [9.566757873348525e+192, -8.923376397967766e+192],\n",
              "       [-1.5414968400253801e+195, 1.4378289857188631e+195],\n",
              "       [2.483822210002702e+197, -2.3167823920307365e+197],\n",
              "       [-4.0021962714108965e+199, 3.7330451470218237e+199],\n",
              "       [6.44876079688468e+201, -6.015077556803486e+201],\n",
              "       [-1.0390923798089654e+204, 9.692129594905502e+203],\n",
              "       [1.6742952988800146e+206, -1.561698477148337e+206],\n",
              "       [-2.697801307416731e+208, 2.516373802807722e+208],\n",
              "       [4.34698226315381e+210, -4.0546476383877117e+210],\n",
              "       [-7.004316777159761e+212, 6.533277087184221e+212],\n",
              "       [1.1286094791022312e+215, -1.0527106901169392e+215],\n",
              "       [-1.818534776330985e+217, 1.6962387699878746e+217],\n",
              "       [2.930215288692321e+219, -2.7331592373087013e+219],\n",
              "       [-4.7214723576645645e+221, 4.403955096915421e+221]], dtype=object)"
            ]
          },
          "metadata": {},
          "execution_count": 18
        }
      ]
    }
  ]
}