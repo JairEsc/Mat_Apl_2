{
  "nbformat": 4,
  "nbformat_minor": 0,
  "metadata": {
    "colab": {
      "name": "Untitled119.ipynb",
      "provenance": [],
      "include_colab_link": true
    },
    "kernelspec": {
      "name": "python3",
      "display_name": "Python 3"
    },
    "language_info": {
      "name": "python"
    }
  },
  "cells": [
    {
      "cell_type": "markdown",
      "metadata": {
        "id": "view-in-github",
        "colab_type": "text"
      },
      "source": [
        "<a href=\"https://colab.research.google.com/github/JairEsc/Mat_Apl_2/blob/main/ML_T1.ipynb\" target=\"_parent\"><img src=\"https://colab.research.google.com/assets/colab-badge.svg\" alt=\"Open In Colab\"/></a>"
      ]
    },
    {
      "cell_type": "markdown",
      "source": [
        "**Tarea 1. Aprendizaje máquina.**"
      ],
      "metadata": {
        "id": "173eZZY4vyQJ"
      }
    },
    {
      "cell_type": "markdown",
      "source": [
        "Caso sencillo. Sean $\\{(x_i,y_i)\\}_{i=1}^{n}$ datos dados. Supongamos $m<<n$,  y $\\{x_i\\}_{i=1}^{m}\\subset \\{x_i\\}_{i=1}^{n}$ una muestra aleatoria.\n",
        "\n",
        "Definimos nuestra funcion de pérdida $$L(\\alpha,\\sigma)=||Y-\\Phi_\\sigma \\cdot \\alpha||^2_2$$\n",
        "\n",
        "Donde $(\\Phi_\\sigma)_{i,j}=(\\Phi_\\sigma)_{i,j}(\\sigma_j,x_j,x_i)$, para $i=1,2\\ldots,n$, $j=1,2,\\ldots,m$\n",
        "\n",
        "Es decir, $\\Phi_\\sigma \\cdot \\alpha : \\mathbb{R}^m\\longrightarrow \\mathbb{R}^n$.\n",
        "\n",
        "Procederemos resolviendo 2 problemas de manera alternada.\n",
        "\n",
        "**Problema 1**. Supongamos $\\sigma$ conocida y constante. \n",
        "En tal caso, el problema $$argmin_{\\alpha} L(\\alpha)=||Y-\\Phi_\\sigma \\cdot \\alpha||^2_2$$\n",
        "tiene solución trivial dada por $$\\nabla_\\alpha (L(\\alpha))=0$$\n",
        "$$\\Phi_\\sigma^t (Y-\\Phi_\\sigma\\alpha)=0$$\n",
        "$$\\alpha=(\\Phi_\\sigma ^t\\Phi_\\sigma)^{-1}\\Phi_\\sigma^t Y$$\n",
        "\n",
        "**Problema 2**. Supongamos $\\alpha$ conocida y constante.\n",
        "En tal caso, nos interesa resolver el problema $$argmin_{\\sigma} L(\\sigma)=||Y-\\Phi_\\sigma \\cdot \\alpha||^2_2$$\n",
        "Aquí, para calcular el gradiente, primero notemos que \n",
        "$\\Phi_\\sigma\\cdot \\alpha =\\Phi_\\sigma(\\sigma)\\cdot \\alpha$, es decir, es una función de $\\sigma$. Si denotamos por $J_\\sigma$ a la Jacobiana de esta función, tenemos \n",
        "$$\\nabla_\\sigma (L(\\sigma))=(J_\\sigma)^t (Y-\\Phi_\\sigma \\cdot \\alpha)$$\n",
        "\n",
        "Obviamos las cuentitas, pero para resolver el problema, utilizaremos algún método de gradiente descendiente. Digamos, el de Nesterov.\n",
        "\n",
        "\n",
        "De esta manera, podemos intercalar los problemas y obtener sucesiones $\\alpha_k$, $\\sigma_k$."
      ],
      "metadata": {
        "id": "BhL4V9nsU-gO"
      }
    },
    {
      "cell_type": "code",
      "source": [
        "import numpy as np\n",
        "import matplotlib.pyplot as plt"
      ],
      "metadata": {
        "id": "jfhMEolk0Ng4"
      },
      "execution_count": 165,
      "outputs": []
    },
    {
      "cell_type": "code",
      "source": [
        "#GD Nesterov-----------------------------------\n",
        "def GD_N(theta,alpha,eta,nIter, grad,stop_crit=10**(-4)):\n",
        "    p     = np.zeros(theta.shape)\n",
        "    Theta=[theta]\n",
        "    for t in range(nIter):\n",
        "        pre_theta = theta - 2.0*alpha*p\n",
        "        g = grad(pre_theta)\n",
        "        p = 0.5*(g + eta*p)\n",
        "        if(np.linalg.norm(g)<stop_crit):\n",
        "            break\n",
        "        theta = theta - alpha*p\n",
        "        Theta.append(theta)\n",
        "    return Theta[-1]\n",
        "#-----------------------------------\n",
        "#Datos---------------------Los generamos por comodidad.\n",
        "np.random.seed(0)\n",
        "n=100\n",
        "x=np.linspace(0,2*np.pi,n)\n",
        "y=np.cos(x)+np.random.normal(0,0,size=len(x))\n",
        "from numpy.random import default_rng\n",
        "m=20\n",
        "x_m2=[0]*m\n",
        "x_m2[0]=0\n",
        "x_m2[-1]=len(x)-1\n",
        "x_m2[1:-1]=np.sort(default_rng().choice(np.arange(1, len(x)-1), size=m-2, replace=False))\n",
        "x_m=x[x_m2]\n",
        "#Diferencias finitas.-------------\n",
        "y_p=np.zeros(n)\n",
        "y_p[0]=(y[1]-y[0])\n",
        "y_p[-1]=y[-1]-y[-2]\n",
        "y_p[1:-2]=(y[2:-1]-y[0:-3])/2\n",
        "y_p=y_p*n/(2*np.pi)\n",
        "plt.plot(x,y_p,label='Datos originales')\n",
        "plt.plot(x_m,y_p[x_m2],\"r*\",label='Centros seleccionados')\n",
        "plt.legend()\n",
        "plt.show()\n",
        "#Le vamos a ajustar a los datos y_p.\n",
        "#-----------------------------\n"
      ],
      "metadata": {
        "id": "aQmxwOgjaQ0R",
        "outputId": "beaa0fc9-b3f4-4765-f102-4a93d812ed75",
        "colab": {
          "base_uri": "https://localhost:8080/",
          "height": 265
        }
      },
      "execution_count": 188,
      "outputs": [
        {
          "output_type": "display_data",
          "data": {
            "text/plain": [
              "<Figure size 432x288 with 1 Axes>"
            ],
            "image/png": "[encoded data removed]"
          },
          "metadata": {
            "needs_background": "light"
          }
        }
      ]
    },
    {
      "cell_type": "code",
      "source": [
        "#Matriz Phi--------------------------------\n",
        "def matriz_phi_sigma(sigma):\n",
        "    M=np.zeros((n,m))\n",
        "    for i in range(n):\n",
        "        for j in range(m):\n",
        "            M[i,j] = np.exp(-((x[i] -x_m[j])**2)/(2*(sigma[j])**2))*(-(x[i] -x_m[j]))/(sigma[j]**2)\n",
        "    return M\n",
        "def solve_for_alphas(M):#Resolver para alphas.\n",
        "    return np.dot(np.dot(np.linalg.inv(np.dot(M.T,M)),M.T),y_p)\n",
        "#---------------------------------"
      ],
      "metadata": {
        "id": "1KEXYValcpet"
      },
      "execution_count": 201,
      "outputs": []
    },
    {
      "cell_type": "code",
      "source": [
        "def phi(s,x,x_j):#Funciones reales. phi_{i,j}\"\n",
        "    return np.exp(-((x -x_j)**2)/(2*(s)**2))*(-(x -x_j))/(s**2)\n",
        "def J_sigma_phi(sigma,alpha):#Jacobiana de la transformacion Phi*alpha como funcion de sigma.\n",
        "    J=np.zeros((n,m))\n",
        "    for i in range(n):\n",
        "        for j in range(m):\n",
        "            J[i][j]=alpha[j]*((phi(s=sigma[j],x=x[i],x_j=x_m[j]))*((x[i]-x_m[j])**2/sigma[j]**3)*(-(x[i]-x_m[j])/sigma[j]**2)+phi(s=sigma[j],x=x[i],x_j=x_m[j])*(2*(x[i]-x_m[j])/sigma[j]**3))\n",
        "    return J\n",
        "#-------------------------------------------"
      ],
      "metadata": {
        "id": "J2en_M7UdGTD"
      },
      "execution_count": 190,
      "outputs": []
    },
    {
      "cell_type": "code",
      "source": [
        "#Funcion de ajuste dado alpha, sigma, x. Con x real--------------------\n",
        "def F_p_ajuste(sigma,alpha,z):\n",
        "    sum=0\n",
        "    for j in range(m):\n",
        "        sum+=alpha[j]*np.exp(-(1/(2*sigma[j]**2))*(z-x_m[j])**2)*(-(z -x_m[j] ))/(sigma[j]**2)\n",
        "    return sum\n",
        "def rutina(nIter,sigma_0,alpha_0,stop=10**(-3)):#Repetir los ajustes alternados.\n",
        "    error=10\n",
        "    for r in range(nIter): \n",
        "        if(error<=stop):\n",
        "            print(\"Criterio de paro\")\n",
        "            break;\n",
        "        alpha_0=solve_for_alphas(matriz_phi_sigma(sigma_0))\n",
        "        def grad_alpha(sigma):\n",
        "            return np.dot(-J_sigma_phi(sigma=sigma,alpha=alpha_0).T,(y_p-np.dot(matriz_phi_sigma(sigma=sigma),alpha_0)))\n",
        "        sigma_0=GD_N(theta=sigma_0,alpha=0.000000000001,eta=0.9,nIter=k, grad=grad_alpha,stop_crit=10**(-6))# Llamar a Nesterov 15 veces\n",
        "        error=np.linalg.norm(y_p-np.dot(matriz_phi_sigma(sigma=sigma_0),alpha_0))\n",
        "    def F_p_ajuste_a_s(W):#Vectorizacion\n",
        "       R=[]\n",
        "       for w in W:\n",
        "           R.append(F_p_ajuste(sigma=sigma_0,alpha=alpha_0,z=w))\n",
        "       return np.array(R)\n",
        "    #plt.plot(x,y_p)\n",
        "    plt.plot(x_m,y_p[x_m2],'*')\n",
        "    plt.plot(x,F_p_ajuste_a_s(x))\n",
        "    #plt.axis(ymin=min(y_p)-0.5,ymax=max(y_p)+0.5)\n",
        "    plt.show()\n",
        "    return alpha_0,sigma_0\n",
        "#----------------------------------------\n",
        "#Condiciones iniciales------------\n",
        "sigma_0=np.random.normal(1,0.005,size=m)#A ojo\n",
        "alpha_0=np.repeat(1,m)#Suma de derivadas de Gaussianas\n",
        "k=5   #Numero de iteraciones de gradiente descendiente\n",
        "#-------------------------\n",
        "alpha_0,sigma_0=rutina(nIter=12,sigma_0=sigma_0,alpha_0=alpha_0)"
      ],
      "metadata": {
        "colab": {
          "base_uri": "https://localhost:8080/",
          "height": 265
        },
        "id": "5crbjGMtx4Nw",
        "outputId": "da10383f-c4d9-4289-964e-e3faa8ccade3"
      },
      "execution_count": 226,
      "outputs": [
        {
          "output_type": "display_data",
          "data": {
            "text/plain": [
              "<Figure size 432x288 with 1 Axes>"
            ],
            "image/png": "[encoded data removed]"
          },
          "metadata": {
            "needs_background": "light"
          }
        }
      ]
    },
    {
      "cell_type": "code",
      "source": [
        "print(alpha_0)\n",
        "print(sigma_0)"
      ],
      "metadata": {
        "id": "rJkXDPzTGGIH",
        "outputId": "d9309aee-a656-4999-fe77-ace197d05d43",
        "colab": {
          "base_uri": "https://localhost:8080/"
        }
      },
      "execution_count": 210,
      "outputs": [
        {
          "output_type": "stream",
          "name": "stdout",
          "text": [
            "[ 2.68159580e+03 -5.85874659e+03  4.73098014e+03 -1.94725575e+03\n",
            "  1.50761330e+02  8.44305220e+03 -2.62100807e+04  5.27698315e+04\n",
            " -1.79811385e+04 -2.54659906e+04  2.00275753e+04 -3.73026271e+04\n",
            "  4.69879659e+04 -1.51461171e+05  1.16923850e+05  2.17643989e+04\n",
            "  2.20335556e+04 -8.81788929e+04  5.74493731e+04 -7.34624598e+01]\n",
            "[ 1.50970465e+03 -1.82816977e+03 -4.27338376e+02  5.43551024e+02\n",
            " -1.21190883e+02 -9.42466352e+03 -2.10393045e+03 -5.19483615e+02\n",
            " -2.01880016e+04 -4.09543043e+04  2.01399123e+05  3.08974616e+03\n",
            " -7.83201440e+04 -1.41915794e+05  1.01022592e+05  1.65728044e+04\n",
            "  1.06362693e+04 -4.12866139e+04 -6.16143573e+04  3.99916954e+01]\n"
          ]
        }
      ]
    },
    {
      "cell_type": "markdown",
      "source": [
        "En este ejercicio. Estamos asumiendo que los datos proporcionados son las diferencias finitas de algunos datos desconocidos. De esta manera, integrando las funciones $\\phi_{i,j}$ podemos obtener un ajuste para los datos originales.\n",
        "\n",
        "**Nota.** Hacen falta condiciones iniciales, pues al integrar, obtenemos una constante de integración."
      ],
      "metadata": {
        "id": "SAKQZndOdpLD"
      }
    },
    {
      "cell_type": "code",
      "source": [
        "def F_ajuste_original(sigma,alpha,z):#Funcion de ajuste dado alpha, sigma, x. Con x real\n",
        "    sum=0\n",
        "    for j in range(m):\n",
        "        sum+=alpha[j]*np.exp(-(1/(2*sigma[j]**2))*(z-x_m[j])**2)\n",
        "    return sum\n",
        "def F_ajuste_a_s_original(W):\n",
        "       R=[]\n",
        "       for w in W:\n",
        "           R.append(F_ajuste_original(sigma=sigma_0,alpha=alpha_0,z=w))\n",
        "       return np.array(R)\n",
        "plt.plot(x,y,label='Datos originales (En teoría desconocidos)')\n",
        "plt.plot(x,F_ajuste_a_s_original(x),label='Ajuste a los datos desconocidos.')\n",
        "#plt.axis(ymin=min(y)-1,ymax=max(y)+1)\n",
        "plt.legend()\n",
        "plt.show()"
      ],
      "metadata": {
        "colab": {
          "base_uri": "https://localhost:8080/",
          "height": 265
        },
        "id": "TByN43lqPVqD",
        "outputId": "63899daf-3032-4bff-cc5d-d631d2e58d3c"
      },
      "execution_count": 251,
      "outputs": [
        {
          "output_type": "display_data",
          "data": {
            "text/plain": [
              "<Figure size 432x288 with 1 Axes>"
            ],
            "image/png": "[encoded data removed]"
          },
          "metadata": {
            "needs_background": "light"
          }
        }
      ]
    },
    {
      "cell_type": "code",
      "source": [
        "print(F_ajuste_original(sigma=sigma_0,alpha=alpha_0,z=0)+F_p_ajuste(sigma=sigma_0,alpha=alpha_0,z=0))"
      ],
      "metadata": {
        "id": "TyW_KY3NDXsi",
        "outputId": "a49b704c-970c-48bb-e1b6-72316a7a1933",
        "colab": {
          "base_uri": "https://localhost:8080/"
        }
      },
      "execution_count": 250,
      "outputs": [
        {
          "output_type": "stream",
          "name": "stdout",
          "text": [
            "-106.99676112475389\n"
          ]
        }
      ]
    }
  ]
}