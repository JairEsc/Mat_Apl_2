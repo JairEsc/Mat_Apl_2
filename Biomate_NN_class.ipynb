{
  "nbformat": 4,
  "nbformat_minor": 0,
  "metadata": {
    "colab": {
      "provenance": [],
      "authorship_tag": "ABX9TyMXMwZeN1i/Y0jO7A7+FQfw",
      "include_colab_link": true
    },
    "kernelspec": {
      "name": "python3",
      "display_name": "Python 3"
    },
    "language_info": {
      "name": "python"
    }
  },
  "cells": [
    {
      "cell_type": "markdown",
      "metadata": {
        "id": "view-in-github",
        "colab_type": "text"
      },
      "source": [
        "<a href=\"https://colab.research.google.com/github/JairEsc/Mat_Apl_2/blob/main/Biomate_NN_class.ipynb\" target=\"_parent\"><img src=\"https://colab.research.google.com/assets/colab-badge.svg\" alt=\"Open In Colab\"/></a>"
      ]
    },
    {
      "cell_type": "code",
      "execution_count": 1,
      "metadata": {
        "id": "IklufuqUwcpX"
      },
      "outputs": [],
      "source": [
        "import matplotlib.pyplot as plt\n",
        "import tqdm\n",
        "from time import time"
      ]
    },
    {
      "cell_type": "markdown",
      "source": [
        "# Estructura de los datos."
      ],
      "metadata": {
        "id": "MpFOG--QxVDX"
      }
    },
    {
      "cell_type": "markdown",
      "source": [
        "Consideramos un caso general, una base con datos de frecuencias de especies, cada observación de dimensión $k$, y supongamos que tenemos $n$ observaciones.\n",
        "\n",
        "El output busca ser la clasificación en una de $d$ categorías, definidas ya sea por ciudad o localización-clima (pero de un sólo tipo).\n"
      ],
      "metadata": {
        "id": "GznOeGsWxYfc"
      }
    },
    {
      "cell_type": "markdown",
      "source": [
        "# Datos de ejemplo"
      ],
      "metadata": {
        "id": "NrrajEuRytBP"
      }
    },
    {
      "cell_type": "code",
      "source": [
        "import pandas as pd\n",
        "import matplotlib.pyplot as plt\n",
        "\n",
        "df = pd.read_csv(\"Dataset_w_tags.csv\")\n",
        "df.head()\n",
        "from sklearn.utils import shuffle\n",
        "df = shuffle(df)###El ajuste depende de este shuffle*****"
      ],
      "metadata": {
        "id": "30vL3CcXxUUE"
      },
      "execution_count": 2,
      "outputs": []
    },
    {
      "cell_type": "code",
      "source": [
        "print(df.shape)"
      ],
      "metadata": {
        "colab": {
          "base_uri": "https://localhost:8080/"
        },
        "id": "2zSWbW5vz3PI",
        "outputId": "f7da4d73-1ee2-4ea5-fa51-52590fa76c55"
      },
      "execution_count": 3,
      "outputs": [
        {
          "output_type": "stream",
          "name": "stdout",
          "text": [
            "(237, 513)\n"
          ]
        }
      ]
    },
    {
      "cell_type": "markdown",
      "source": [
        "Se tienen 237 observaciones, cada una es una muestra en una \"localización\".\n",
        "Por renglón, se tienen frecuencias de \"bichos\" de 510 \"dominant taxa\".\n",
        "\n",
        "En este caso, $k=510$, $n=237$."
      ],
      "metadata": {
        "id": "20gcA30JzhrO"
      }
    },
    {
      "cell_type": "code",
      "source": [
        "ytags=df['Tag']\n",
        "print(ytags)"
      ],
      "metadata": {
        "colab": {
          "base_uri": "https://localhost:8080/"
        },
        "id": "I84se6Sw-Mdt",
        "outputId": "7242dff6-c7de-4918-cfa7-35eac685e50e"
      },
      "execution_count": 4,
      "outputs": [
        {
          "output_type": "stream",
          "name": "stdout",
          "text": [
            "88         Dry forests_0\n",
            "71         Dry forests_0\n",
            "200         Shrublands_6\n",
            "43     Cold grasslands_1\n",
            "133         Grasslands_3\n",
            "             ...        \n",
            "123         Grasslands_2\n",
            "234       Cold forests_3\n",
            "79         Dry forests_0\n",
            "150    Cold grasslands_5\n",
            "36     Cold grasslands_1\n",
            "Name: Tag, Length: 237, dtype: object\n"
          ]
        }
      ]
    },
    {
      "cell_type": "code",
      "source": [
        "import numpy as np\n",
        "_,idx = np.unique(ytags,return_inverse=True)"
      ],
      "metadata": {
        "id": "E6fYhQo7BNGu"
      },
      "execution_count": 5,
      "outputs": []
    },
    {
      "cell_type": "markdown",
      "source": [
        "Dados los datos con su respectiva clasificación. (En el ejemplo $d=12$)"
      ],
      "metadata": {
        "id": "6mk01dMO3f12"
      }
    },
    {
      "cell_type": "markdown",
      "source": [
        "# Definición del modelo."
      ],
      "metadata": {
        "id": "fOP0O0MV3pmP"
      }
    },
    {
      "cell_type": "markdown",
      "source": [
        "# Partición de datos"
      ],
      "metadata": {
        "id": "JydTuMKmF2t7"
      }
    },
    {
      "cell_type": "code",
      "source": [
        "from keras.utils import to_categorical\n",
        "X_total=df.drop(columns=['Tag','Dominant_taxa_ID/ID_Environmental'])\n",
        "Y_total=to_categorical(idx)"
      ],
      "metadata": {
        "id": "rrhUqdDM4cVL"
      },
      "execution_count": 6,
      "outputs": []
    },
    {
      "cell_type": "code",
      "source": [
        "X_train=X_total[0:200]\n",
        "Y_train=Y_total[0:200]"
      ],
      "metadata": {
        "id": "O2iYyd0mGEIW"
      },
      "execution_count": 7,
      "outputs": []
    },
    {
      "cell_type": "code",
      "source": [
        "df.head()\n",
        "k,n=X_train.shape\n",
        "n=n#-indice, -tag\n",
        "print(k,n)"
      ],
      "metadata": {
        "colab": {
          "base_uri": "https://localhost:8080/"
        },
        "id": "ueLx_pz_GAe4",
        "outputId": "ce09fbb2-c523-41a7-d4a2-a9c59c303c50"
      },
      "execution_count": 8,
      "outputs": [
        {
          "output_type": "stream",
          "name": "stdout",
          "text": [
            "200 511\n"
          ]
        }
      ]
    },
    {
      "cell_type": "code",
      "source": [
        "input_shape = (n,)#=n\n",
        "output_shape=len(np.unique(ytags))"
      ],
      "metadata": {
        "id": "RrB-qCBDB1LX"
      },
      "execution_count": 9,
      "outputs": []
    },
    {
      "cell_type": "code",
      "source": [
        "import tensorflow as tf\n",
        "import keras\n",
        "import pandas as pd\n",
        "from keras import layers\n",
        "from keras import models\n"
      ],
      "metadata": {
        "id": "XVlSzWd23fCO"
      },
      "execution_count": 10,
      "outputs": []
    },
    {
      "cell_type": "code",
      "source": [
        "model = models.Sequential()\n",
        "\n",
        "model.add(layers.InputLayer(input_shape=(n,), name='Input_Layer'))#Obligatoria\n",
        "model.add(layers.Dense(64, activation='relu'))# Numero de capas ocultas: Opcional\n",
        "model.add(layers.Dense(32, activation='relu'))# Numero de neuronas en cada capa: Opcional\n",
        "model.add(layers.Dense(37, activation='Softmax', name='Output_Layer'))#Obligatoria\n",
        "model.summary()\n",
        "model.compile(optimizer='adam',\n",
        "              loss='categorical_crossentropy',\n",
        "              metrics=['accuracy'])\n",
        "import time\n",
        "tic = time.time()\n",
        "\n",
        "model.fit(x = X_train, \n",
        "           y = Y_train, \n",
        "          validation_data=[X_total[200:], Y_total[200:]],\n",
        "          batch_size=50,\n",
        "           epochs=30,\n",
        "           verbose=2,shuffle=True)\n",
        "\n",
        "print('seconds=', time.time()-tic)"
      ],
      "metadata": {
        "colab": {
          "base_uri": "https://localhost:8080/"
        },
        "id": "6Ntg-BtqwqpQ",
        "outputId": "dfec4ad4-957c-4a47-9e06-9e1f24b34a9d"
      },
      "execution_count": 12,
      "outputs": [
        {
          "output_type": "stream",
          "name": "stdout",
          "text": [
            "Model: \"sequential_1\"\n",
            "_________________________________________________________________\n",
            " Layer (type)                Output Shape              Param #   \n",
            "=================================================================\n",
            " dense_2 (Dense)             (None, 64)                32768     \n",
            "                                                                 \n",
            " dense_3 (Dense)             (None, 32)                2080      \n",
            "                                                                 \n",
            " Output_Layer (Dense)        (None, 37)                1221      \n",
            "                                                                 \n",
            "=================================================================\n",
            "Total params: 36,069\n",
            "Trainable params: 36,069\n",
            "Non-trainable params: 0\n",
            "_________________________________________________________________\n",
            "Epoch 1/30\n",
            "4/4 - 2s - loss: 19.8931 - accuracy: 0.0800 - val_loss: 14.3087 - val_accuracy: 0.2432 - 2s/epoch - 409ms/step\n",
            "Epoch 2/30\n",
            "4/4 - 0s - loss: 10.1014 - accuracy: 0.2050 - val_loss: 9.8761 - val_accuracy: 0.2973 - 82ms/epoch - 20ms/step\n",
            "Epoch 3/30\n",
            "4/4 - 0s - loss: 6.1777 - accuracy: 0.3100 - val_loss: 7.2225 - val_accuracy: 0.2703 - 51ms/epoch - 13ms/step\n",
            "Epoch 4/30\n",
            "4/4 - 0s - loss: 4.4609 - accuracy: 0.3250 - val_loss: 5.7161 - val_accuracy: 0.3514 - 32ms/epoch - 8ms/step\n",
            "Epoch 5/30\n",
            "4/4 - 0s - loss: 3.4730 - accuracy: 0.4100 - val_loss: 4.8537 - val_accuracy: 0.4865 - 52ms/epoch - 13ms/step\n",
            "Epoch 6/30\n",
            "4/4 - 0s - loss: 2.7250 - accuracy: 0.4450 - val_loss: 4.5803 - val_accuracy: 0.3784 - 46ms/epoch - 12ms/step\n",
            "Epoch 7/30\n",
            "4/4 - 0s - loss: 2.2399 - accuracy: 0.5150 - val_loss: 4.3962 - val_accuracy: 0.3514 - 36ms/epoch - 9ms/step\n",
            "Epoch 8/30\n",
            "4/4 - 0s - loss: 1.8831 - accuracy: 0.5700 - val_loss: 4.3241 - val_accuracy: 0.4595 - 30ms/epoch - 8ms/step\n",
            "Epoch 9/30\n",
            "4/4 - 0s - loss: 1.6034 - accuracy: 0.6150 - val_loss: 4.2176 - val_accuracy: 0.4865 - 35ms/epoch - 9ms/step\n",
            "Epoch 10/30\n",
            "4/4 - 0s - loss: 1.3794 - accuracy: 0.6750 - val_loss: 4.1322 - val_accuracy: 0.4865 - 31ms/epoch - 8ms/step\n",
            "Epoch 11/30\n",
            "4/4 - 0s - loss: 1.1923 - accuracy: 0.7150 - val_loss: 4.0980 - val_accuracy: 0.4865 - 37ms/epoch - 9ms/step\n",
            "Epoch 12/30\n",
            "4/4 - 0s - loss: 1.0426 - accuracy: 0.7300 - val_loss: 4.1105 - val_accuracy: 0.5135 - 31ms/epoch - 8ms/step\n",
            "Epoch 13/30\n",
            "4/4 - 0s - loss: 0.9061 - accuracy: 0.7750 - val_loss: 4.1571 - val_accuracy: 0.5135 - 33ms/epoch - 8ms/step\n",
            "Epoch 14/30\n",
            "4/4 - 0s - loss: 0.8064 - accuracy: 0.7950 - val_loss: 4.1177 - val_accuracy: 0.5405 - 34ms/epoch - 8ms/step\n",
            "Epoch 15/30\n",
            "4/4 - 0s - loss: 0.6961 - accuracy: 0.8150 - val_loss: 4.1194 - val_accuracy: 0.5405 - 34ms/epoch - 9ms/step\n",
            "Epoch 16/30\n",
            "4/4 - 0s - loss: 0.6242 - accuracy: 0.8450 - val_loss: 4.0805 - val_accuracy: 0.5405 - 38ms/epoch - 9ms/step\n",
            "Epoch 17/30\n",
            "4/4 - 0s - loss: 0.5484 - accuracy: 0.8450 - val_loss: 4.0413 - val_accuracy: 0.5135 - 35ms/epoch - 9ms/step\n",
            "Epoch 18/30\n",
            "4/4 - 0s - loss: 0.4903 - accuracy: 0.8750 - val_loss: 4.0711 - val_accuracy: 0.5405 - 33ms/epoch - 8ms/step\n",
            "Epoch 19/30\n",
            "4/4 - 0s - loss: 0.4380 - accuracy: 0.8950 - val_loss: 4.0727 - val_accuracy: 0.5405 - 38ms/epoch - 10ms/step\n",
            "Epoch 20/30\n",
            "4/4 - 0s - loss: 0.3944 - accuracy: 0.9100 - val_loss: 4.1039 - val_accuracy: 0.5405 - 33ms/epoch - 8ms/step\n",
            "Epoch 21/30\n",
            "4/4 - 0s - loss: 0.3574 - accuracy: 0.9150 - val_loss: 4.1117 - val_accuracy: 0.5405 - 35ms/epoch - 9ms/step\n",
            "Epoch 22/30\n",
            "4/4 - 0s - loss: 0.3254 - accuracy: 0.9250 - val_loss: 4.1188 - val_accuracy: 0.5135 - 32ms/epoch - 8ms/step\n",
            "Epoch 23/30\n",
            "4/4 - 0s - loss: 0.2988 - accuracy: 0.9350 - val_loss: 4.1064 - val_accuracy: 0.5135 - 31ms/epoch - 8ms/step\n",
            "Epoch 24/30\n",
            "4/4 - 0s - loss: 0.2736 - accuracy: 0.9350 - val_loss: 4.0997 - val_accuracy: 0.5135 - 32ms/epoch - 8ms/step\n",
            "Epoch 25/30\n",
            "4/4 - 0s - loss: 0.2526 - accuracy: 0.9350 - val_loss: 4.0928 - val_accuracy: 0.5135 - 32ms/epoch - 8ms/step\n",
            "Epoch 26/30\n",
            "4/4 - 0s - loss: 0.2346 - accuracy: 0.9450 - val_loss: 4.0912 - val_accuracy: 0.4865 - 34ms/epoch - 8ms/step\n",
            "Epoch 27/30\n",
            "4/4 - 0s - loss: 0.2171 - accuracy: 0.9450 - val_loss: 4.1039 - val_accuracy: 0.4865 - 38ms/epoch - 9ms/step\n",
            "Epoch 28/30\n",
            "4/4 - 0s - loss: 0.2046 - accuracy: 0.9450 - val_loss: 4.0943 - val_accuracy: 0.4865 - 34ms/epoch - 8ms/step\n",
            "Epoch 29/30\n",
            "4/4 - 0s - loss: 0.1900 - accuracy: 0.9600 - val_loss: 4.0715 - val_accuracy: 0.4865 - 51ms/epoch - 13ms/step\n",
            "Epoch 30/30\n",
            "4/4 - 0s - loss: 0.1775 - accuracy: 0.9600 - val_loss: 4.0735 - val_accuracy: 0.4865 - 34ms/epoch - 9ms/step\n",
            "seconds= 3.0211477279663086\n"
          ]
        }
      ]
    }
  ]
}