{
  "nbformat": 4,
  "nbformat_minor": 0,
  "metadata": {
    "colab": {
      "provenance": [],
      "include_colab_link": true
    },
    "kernelspec": {
      "name": "python3",
      "display_name": "Python 3"
    },
    "language_info": {
      "name": "python"
    }
  },
  "cells": [
    {
      "cell_type": "markdown",
      "metadata": {
        "id": "view-in-github",
        "colab_type": "text"
      },
      "source": [
        "<a href=\"https://colab.research.google.com/github/JairEsc/Mat_Apl_2/blob/main/Epid_T6_SIR.ipynb\" target=\"_parent\"><img src=\"https://colab.research.google.com/assets/colab-badge.svg\" alt=\"Open In Colab\"/></a>"
      ]
    },
    {
      "cell_type": "code",
      "execution_count": 1,
      "metadata": {
        "id": "XiVRPSDGaRgV"
      },
      "outputs": [],
      "source": [
        "import networkx as nx\n",
        "import matplotlib.pyplot as plt"
      ]
    },
    {
      "cell_type": "code",
      "source": [
        "!pip install EoN"
      ],
      "metadata": {
        "colab": {
          "base_uri": "https://localhost:8080/"
        },
        "id": "SUDFH7nkdO8O",
        "outputId": "8084a0f3-7a21-42b5-a378-71862ee5fa04"
      },
      "execution_count": 2,
      "outputs": [
        {
          "output_type": "stream",
          "name": "stdout",
          "text": [
            "Looking in indexes: https://pypi.org/simple, https://us-python.pkg.dev/colab-wheels/public/simple/\n",
            "Collecting EoN\n",
            "  Downloading EoN-1.1.tar.gz (113 kB)\n",
            "\u001b[K     |████████████████████████████████| 113 kB 4.8 MB/s \n",
            "\u001b[?25hRequirement already satisfied: networkx in /usr/local/lib/python3.7/dist-packages (from EoN) (2.6.3)\n",
            "Requirement already satisfied: numpy in /usr/local/lib/python3.7/dist-packages (from EoN) (1.21.6)\n",
            "Requirement already satisfied: scipy in /usr/local/lib/python3.7/dist-packages (from EoN) (1.7.3)\n",
            "Requirement already satisfied: matplotlib in /usr/local/lib/python3.7/dist-packages (from EoN) (3.2.2)\n",
            "Requirement already satisfied: cycler>=0.10 in /usr/local/lib/python3.7/dist-packages (from matplotlib->EoN) (0.11.0)\n",
            "Requirement already satisfied: kiwisolver>=1.0.1 in /usr/local/lib/python3.7/dist-packages (from matplotlib->EoN) (1.4.4)\n",
            "Requirement already satisfied: python-dateutil>=2.1 in /usr/local/lib/python3.7/dist-packages (from matplotlib->EoN) (2.8.2)\n",
            "Requirement already satisfied: pyparsing!=2.0.4,!=2.1.2,!=2.1.6,>=2.0.1 in /usr/local/lib/python3.7/dist-packages (from matplotlib->EoN) (3.0.9)\n",
            "Requirement already satisfied: typing-extensions in /usr/local/lib/python3.7/dist-packages (from kiwisolver>=1.0.1->matplotlib->EoN) (4.1.1)\n",
            "Requirement already satisfied: six>=1.5 in /usr/local/lib/python3.7/dist-packages (from python-dateutil>=2.1->matplotlib->EoN) (1.15.0)\n",
            "Building wheels for collected packages: EoN\n",
            "  Building wheel for EoN (setup.py) ... \u001b[?25l\u001b[?25hdone\n",
            "  Created wheel for EoN: filename=EoN-1.1-py3-none-any.whl size=120818 sha256=d4dfd90ba6c675bebb75641d324acd3536706597cdda17ae3918512c9dc8a17a\n",
            "  Stored in directory: /root/.cache/pip/wheels/0b/c0/a4/d6001fd809cb84c027ada5c2ab3b6d1cb2e97fec3f9978eae7\n",
            "Successfully built EoN\n",
            "Installing collected packages: EoN\n",
            "Successfully installed EoN-1.1\n"
          ]
        }
      ]
    },
    {
      "cell_type": "code",
      "source": [
        "import EoN\n",
        "\n",
        "import networkx as nx\n",
        "from matplotlib import rc\n",
        "import matplotlib.pylab as plt\n",
        "\n",
        "#import scipy\n",
        "#import random\n",
        "import numpy as np\n",
        "\n",
        "import scipy.stats as stats"
      ],
      "metadata": {
        "id": "_bkueJSvdN0t"
      },
      "execution_count": 3,
      "outputs": []
    },
    {
      "cell_type": "markdown",
      "source": [
        "# Ejercicio 3."
      ],
      "metadata": {
        "id": "LlNqBF81y811"
      }
    },
    {
      "cell_type": "code",
      "source": [
        "N=1000          #Numero de individuos\n",
        "tau = 0.5       # tasa de transmisión\n",
        "gamma = 0.1     # tasa de recuperación\n",
        "#ts = scipy.arange(0,40,0.05)\n",
        "n_sim = 100      # number of simulations to run for each\n",
        "def sir_sim(k_poiss, N, n_sim,nodo_fijo):\n",
        "    report_times = np.arange(0,30,0.1) #scipy.linspace(0,30,3000)\n",
        "    sums = 0*report_times\n",
        "    I_s=[]\n",
        "    K_s=[]\n",
        "    for iter in range(n_sim):\n",
        "        G = nx.configuration_model(k_poiss)\n",
        "        t, S, I, R = EoN.fast_SIR(G, tau, gamma, initial_infecteds=nodo_fijo)#initial_infecteds es el nodo infectado.\n",
        "        K_s.append(G.degree[nodo_fijo])#Regresa el grado del nodo inicial.\n",
        "        I_s.append(R[-1])#Los que se recuperaron. i.e, el total de individuos infectados al final de la epidemia\n",
        "    return(K_s,I_s)"
      ],
      "metadata": {
        "id": "xHvSyd5_y_n8"
      },
      "execution_count": 5,
      "outputs": []
    },
    {
      "cell_type": "code",
      "source": [
        "M_k=[]\n",
        "SD_k=[]\n",
        "for count_k in range(100):#Para cada red.\n",
        "    np.random.seed(count_k)\n",
        "    ksum=1\n",
        "    if(count_k%20==0):\n",
        "        print(\"Iteración :\",count_k)\n",
        "    while(ksum%2!=0):#Que defina una grafica.\n",
        "        k=np.random.poisson(3.5,1000)\n",
        "        ksum=sum(k)\n",
        "    K_s_k,I_s_k=sir_sim(k_poiss=k,N=N,n_sim=100,nodo_fijo=0)#Cada uno tiene longitud \"count\"\n",
        "    mean_k=np.mean(I_s_k)\n",
        "    sd_k=np.std(I_s_k)\n",
        "    M_k.append(mean_k)\n",
        "    SD_k.append(sd_k)"
      ],
      "metadata": {
        "colab": {
          "base_uri": "https://localhost:8080/",
          "height": 235
        },
        "id": "ZBbMaR5Dzy-k",
        "outputId": "3033cade-bece-42f3-e483-1300a6f5e39d"
      },
      "execution_count": 1,
      "outputs": [
        {
          "output_type": "error",
          "ename": "NameError",
          "evalue": "ignored",
          "traceback": [
            "\u001b[0;31m---------------------------------------------------------------------------\u001b[0m",
            "\u001b[0;31mNameError\u001b[0m                                 Traceback (most recent call last)",
            "\u001b[0;32m<ipython-input-1-d2b850294fb6>\u001b[0m in \u001b[0;36m<module>\u001b[0;34m\u001b[0m\n\u001b[1;32m      2\u001b[0m \u001b[0mSD_k\u001b[0m\u001b[0;34m=\u001b[0m\u001b[0;34m[\u001b[0m\u001b[0;34m]\u001b[0m\u001b[0;34m\u001b[0m\u001b[0;34m\u001b[0m\u001b[0m\n\u001b[1;32m      3\u001b[0m \u001b[0;32mfor\u001b[0m \u001b[0mcount_k\u001b[0m \u001b[0;32min\u001b[0m \u001b[0mrange\u001b[0m\u001b[0;34m(\u001b[0m\u001b[0;36m100\u001b[0m\u001b[0;34m)\u001b[0m\u001b[0;34m:\u001b[0m\u001b[0;31m#Para cada red.\u001b[0m\u001b[0;34m\u001b[0m\u001b[0;34m\u001b[0m\u001b[0m\n\u001b[0;32m----> 4\u001b[0;31m     \u001b[0mnp\u001b[0m\u001b[0;34m.\u001b[0m\u001b[0mrandom\u001b[0m\u001b[0;34m.\u001b[0m\u001b[0mseed\u001b[0m\u001b[0;34m(\u001b[0m\u001b[0mcount_k\u001b[0m\u001b[0;34m)\u001b[0m\u001b[0;34m\u001b[0m\u001b[0;34m\u001b[0m\u001b[0m\n\u001b[0m\u001b[1;32m      5\u001b[0m     \u001b[0mksum\u001b[0m\u001b[0;34m=\u001b[0m\u001b[0;36m1\u001b[0m\u001b[0;34m\u001b[0m\u001b[0;34m\u001b[0m\u001b[0m\n\u001b[1;32m      6\u001b[0m     \u001b[0;32mif\u001b[0m\u001b[0;34m(\u001b[0m\u001b[0mcount_k\u001b[0m\u001b[0;34m%\u001b[0m\u001b[0;36m20\u001b[0m\u001b[0;34m==\u001b[0m\u001b[0;36m0\u001b[0m\u001b[0;34m)\u001b[0m\u001b[0;34m:\u001b[0m\u001b[0;34m\u001b[0m\u001b[0;34m\u001b[0m\u001b[0m\n",
            "\u001b[0;31mNameError\u001b[0m: name 'np' is not defined"
          ]
        }
      ]
    },
    {
      "cell_type": "code",
      "source": [
        "print(np.std(M_k))\n",
        "print(np.std(SD_k))"
      ],
      "metadata": {
        "colab": {
          "base_uri": "https://localhost:8080/"
        },
        "id": "yamKA-rxdTNS",
        "outputId": "fd4b516f-af87-4285-9d52-183b01a62309"
      },
      "execution_count": 103,
      "outputs": [
        {
          "output_type": "stream",
          "name": "stdout",
          "text": [
            "347.8104053477986\n",
            "101.12574985711903\n"
          ]
        }
      ]
    },
    {
      "cell_type": "code",
      "source": [
        "plt.hist(M_k)"
      ],
      "metadata": {
        "colab": {
          "base_uri": "https://localhost:8080/",
          "height": 334
        },
        "id": "6aa3SC3yfwYV",
        "outputId": "0e5a46fa-9210-4f3d-f847-8adf21af955a"
      },
      "execution_count": 136,
      "outputs": [
        {
          "output_type": "execute_result",
          "data": {
            "text/plain": [
              "(array([2., 0., 0., 0., 0., 0., 0., 0., 1., 7.]),\n",
              " array([  1.    ,  90.4648, 179.9296, 269.3944, 358.8592, 448.324 ,\n",
              "        537.7888, 627.2536, 716.7184, 806.1832, 895.648 ]),\n",
              " <a list of 10 Patch objects>)"
            ]
          },
          "metadata": {},
          "execution_count": 136
        },
        {
          "output_type": "display_data",
          "data": {
            "text/plain": [
              "<Figure size 432x288 with 1 Axes>"
            ],
            "image/png": "[encoded data removed]"
          },
          "metadata": {
            "needs_background": "light"
          }
        }
      ]
    },
    {
      "cell_type": "code",
      "source": [
        "K_s=[]\n",
        "I_s=[]\n",
        "Coef_assortativity_degree=[]\n",
        "Coef_agrupamiento=[]\n",
        "for k in range(100):\n",
        "    np.random.seed(k)\n",
        "    nodo=np.random.randint(0,1000)\n",
        "    ksum=1\n",
        "    while(ksum%2!=0):\n",
        "        k_poiss=np.random.poisson(3.5,1000)\n",
        "        ksum=sum(k_poiss)\n",
        "    G = nx.configuration_model(k_poiss)\n",
        "    K_s.append(G.degree[nodo])\n",
        "    Coef_assortativity_degree.append(nx.assortativity.degree_assortativity_coefficient(G))#Diferente para cada grafica.\n",
        "    G2 = nx.DiGraph(G)#Para calcular el clustering\n",
        "    Coef_agrupamiento.append(nx.clustering(G2,nodo))#Diferente para cada grafica\n",
        "    t, S, I, R = EoN.fast_SIR(G, tau, gamma, initial_infecteds=0)#initial_infecteds es el nodo infectado.\n",
        "    I_s.append(R[-1])#Los que se recuperaron\n"
      ],
      "metadata": {
        "id": "p4eSr-LoSUKS"
      },
      "execution_count": 153,
      "outputs": []
    },
    {
      "cell_type": "code",
      "source": [
        "plt.plot(K_s,I_s,'.')"
      ],
      "metadata": {
        "colab": {
          "base_uri": "https://localhost:8080/",
          "height": 285
        },
        "id": "RqkQND0nfGlW",
        "outputId": "1e8de397-e427-48f7-ed7e-6fed4324e480"
      },
      "execution_count": 93,
      "outputs": [
        {
          "output_type": "execute_result",
          "data": {
            "text/plain": [
              "[<matplotlib.lines.Line2D at 0x7f5ef0ba88d0>]"
            ]
          },
          "metadata": {},
          "execution_count": 93
        },
        {
          "output_type": "display_data",
          "data": {
            "text/plain": [
              "<Figure size 432x288 with 1 Axes>"
            ],
            "image/png": "[encoded data removed]"
          },
          "metadata": {
            "needs_background": "light"
          }
        }
      ]
    },
    {
      "cell_type": "code",
      "source": [
        "x=np.array(np.array(K_s).reshape((-1, 1)))\n",
        "x2=np.array(np.array(Coef_assortativity_degree).reshape((-1, 1)))\n",
        "x3=np.array(np.array(Coef_agrupamiento).reshape((-1, 1)))\n",
        "y=np.array(I_s)"
      ],
      "metadata": {
        "id": "kRgANkoBgS3o"
      },
      "execution_count": 155,
      "outputs": []
    },
    {
      "cell_type": "code",
      "source": [
        "df = pd.DataFrame(data)\n",
        "import statsmodels.api as sm\n",
        "x = sm.add_constant(df['grado']) # adding a constant\n",
        " \n",
        "model = sm.OLS(y, x).fit()\n",
        "predictions = model.predict(x) \n",
        "print(model.ess)\n",
        "print_model = model.summary()\n",
        "print(print_model)"
      ],
      "metadata": {
        "colab": {
          "base_uri": "https://localhost:8080/"
        },
        "id": "pwWWNB5n_ab5",
        "outputId": "7a1bedf7-69e3-4750-d110-f8d376a54602"
      },
      "execution_count": 177,
      "outputs": [
        {
          "output_type": "stream",
          "name": "stdout",
          "text": [
            "6727.632820509374\n",
            "                            OLS Regression Results                            \n",
            "==============================================================================\n",
            "Dep. Variable:                      y   R-squared:                       0.001\n",
            "Model:                            OLS   Adj. R-squared:                 -0.009\n",
            "Method:                 Least Squares   F-statistic:                   0.07751\n",
            "Date:                Tue, 15 Nov 2022   Prob (F-statistic):              0.781\n",
            "Time:                        02:13:06   Log-Likelihood:                -709.45\n",
            "No. Observations:                 100   AIC:                             1423.\n",
            "Df Residuals:                      98   BIC:                             1428.\n",
            "Df Model:                           1                                         \n",
            "Covariance Type:            nonrobust                                         \n",
            "==============================================================================\n",
            "                 coef    std err          t      P>|t|      [0.025      0.975]\n",
            "------------------------------------------------------------------------------\n",
            "const        814.1031     66.883     12.172      0.000     681.376     946.831\n",
            "grado          4.6436     16.679      0.278      0.781     -28.456      37.743\n",
            "==============================================================================\n",
            "Omnibus:                       62.892   Durbin-Watson:                   2.231\n",
            "Prob(Omnibus):                  0.000   Jarque-Bera (JB):              175.975\n",
            "Skew:                          -2.484   Prob(JB):                     6.13e-39\n",
            "Kurtosis:                       7.190   Cond. No.                         9.57\n",
            "==============================================================================\n",
            "\n",
            "Notes:\n",
            "[1] Standard Errors assume that the covariance matrix of the errors is correctly specified.\n"
          ]
        },
        {
          "output_type": "stream",
          "name": "stderr",
          "text": [
            "/usr/local/lib/python3.7/dist-packages/statsmodels/tsa/tsatools.py:142: FutureWarning: In a future version of pandas all arguments of concat except for the argument 'objs' will be keyword-only\n",
            "  x = pd.concat(x[::order], 1)\n"
          ]
        }
      ]
    },
    {
      "cell_type": "code",
      "source": [
        "plt.plot(K_s,I_s,'.')\n",
        "plt.plot(K_s,model.params[0]+np.array(K_s)*model.params[1])\n",
        "plt.show()"
      ],
      "metadata": {
        "colab": {
          "base_uri": "https://localhost:8080/",
          "height": 268
        },
        "id": "2hEBXXxYCSGE",
        "outputId": "89701da3-9fa9-4f2d-fdd2-dd8769365705"
      },
      "execution_count": 178,
      "outputs": [
        {
          "output_type": "display_data",
          "data": {
            "text/plain": [
              "<Figure size 432x288 with 1 Axes>"
            ],
            "image/png": "[encoded data removed]"
          },
          "metadata": {
            "needs_background": "light"
          }
        }
      ]
    },
    {
      "cell_type": "code",
      "source": [
        "from sklearn.linear_model import LinearRegression\n",
        "model = LinearRegression()\n",
        "data = {'grado': K_s,\n",
        "        'assortivity': Coef_assortativity_degree,\n",
        "        'clustering': Coef_agrupamiento,       \n",
        "        }\n",
        "import pandas as pd\n",
        "df = pd.DataFrame(data)\n",
        "import statsmodels.api as sm\n",
        "x = sm.add_constant(df) # adding a constant\n",
        " \n",
        "model = sm.OLS(y, x).fit()\n",
        "predictions = model.predict(x) \n",
        "print(model.ess)\n",
        "print_model = model.summary()\n",
        "print(print_model)"
      ],
      "metadata": {
        "colab": {
          "base_uri": "https://localhost:8080/"
        },
        "id": "b8Wlx0kclCWA",
        "outputId": "13cd293f-0c11-4f07-e70e-409e7a90ec1d"
      },
      "execution_count": 179,
      "outputs": [
        {
          "output_type": "stream",
          "name": "stdout",
          "text": [
            "42665.830527540296\n",
            "                            OLS Regression Results                            \n",
            "==============================================================================\n",
            "Dep. Variable:                      y   R-squared:                       0.005\n",
            "Model:                            OLS   Adj. R-squared:                 -0.026\n",
            "Method:                 Least Squares   F-statistic:                    0.1612\n",
            "Date:                Tue, 15 Nov 2022   Prob (F-statistic):              0.922\n",
            "Time:                        02:13:17   Log-Likelihood:                -709.24\n",
            "No. Observations:                 100   AIC:                             1426.\n",
            "Df Residuals:                      96   BIC:                             1437.\n",
            "Df Model:                           3                                         \n",
            "Covariance Type:            nonrobust                                         \n",
            "===============================================================================\n",
            "                  coef    std err          t      P>|t|      [0.025      0.975]\n",
            "-------------------------------------------------------------------------------\n",
            "const         812.2075     67.512     12.031      0.000     678.197     946.218\n",
            "grado           5.7019     16.913      0.337      0.737     -27.870      39.274\n",
            "assortivity   668.7701   1284.969      0.520      0.604   -1881.873    3219.413\n",
            "clustering   -380.5646    850.194     -0.448      0.655   -2068.187    1307.058\n",
            "==============================================================================\n",
            "Omnibus:                       62.484   Durbin-Watson:                   2.223\n",
            "Prob(Omnibus):                  0.000   Jarque-Bera (JB):              173.668\n",
            "Skew:                          -2.469   Prob(JB):                     1.94e-38\n",
            "Kurtosis:                       7.160   Cond. No.                         180.\n",
            "==============================================================================\n",
            "\n",
            "Notes:\n",
            "[1] Standard Errors assume that the covariance matrix of the errors is correctly specified.\n"
          ]
        },
        {
          "output_type": "stream",
          "name": "stderr",
          "text": [
            "/usr/local/lib/python3.7/dist-packages/statsmodels/tsa/tsatools.py:142: FutureWarning: In a future version of pandas all arguments of concat except for the argument 'objs' will be keyword-only\n",
            "  x = pd.concat(x[::order], 1)\n"
          ]
        }
      ]
    },
    {
      "cell_type": "code",
      "source": [
        " "
      ],
      "metadata": {
        "id": "wkhVpDAFC23G"
      },
      "execution_count": null,
      "outputs": []
    },
    {
      "cell_type": "markdown",
      "source": [
        "# Ejercicio 4"
      ],
      "metadata": {
        "id": "Zq6jwJOVGN2X"
      }
    },
    {
      "cell_type": "code",
      "source": [
        "ksum=1\n",
        "while(ksum%2!=0):\n",
        "    k_poiss=np.random.poisson(3,1000)\n",
        "    ksum=sum(k_poiss)\n",
        "G = nx.configuration_model(k_poiss)\n",
        "R=[0]\n",
        "while(R[-1]<10):\n",
        "    t, S, I, R = EoN.fast_SIR(G, 0.1, 1, initial_infecteds=0)#initial_infecteds es el nodo infectado."
      ],
      "metadata": {
        "id": "T6YVhl1fGPjI"
      },
      "execution_count": 187,
      "outputs": []
    },
    {
      "cell_type": "code",
      "source": [
        "plt.plot(t,I)\n",
        "plt.show()"
      ],
      "metadata": {
        "colab": {
          "base_uri": "https://localhost:8080/",
          "height": 265
        },
        "id": "XnfNBJiDGnSP",
        "outputId": "3081c8aa-ccdd-453c-c941-00b5432b3eff"
      },
      "execution_count": 189,
      "outputs": [
        {
          "output_type": "display_data",
          "data": {
            "text/plain": [
              "<Figure size 432x288 with 1 Axes>"
            ],
            "image/png": "[encoded data removed]"
          },
          "metadata": {
            "needs_background": "light"
          }
        }
      ]
    },
    {
      "cell_type": "code",
      "source": [
        "j=0\n",
        "aggreg=0\n",
        "by_days_accum=[]\n",
        "for k in range(1,10):\n",
        "    while(t[j]<k):\n",
        "        aggreg+=I[j]\n",
        "        j+=1\n",
        "    by_days_accum.append(aggreg)"
      ],
      "metadata": {
        "id": "x_xrp_2JHxQn"
      },
      "execution_count": 223,
      "outputs": []
    },
    {
      "cell_type": "code",
      "source": [
        "plt.plot(np.diff(by_days_accum))"
      ],
      "metadata": {
        "colab": {
          "base_uri": "https://localhost:8080/",
          "height": 282
        },
        "id": "cPsXLs3WQBcf",
        "outputId": "e778789c-5e7e-488e-ff80-175f2ad403a8"
      },
      "execution_count": 225,
      "outputs": [
        {
          "output_type": "execute_result",
          "data": {
            "text/plain": [
              "[<matplotlib.lines.Line2D at 0x7f5ed98de390>]"
            ]
          },
          "metadata": {},
          "execution_count": 225
        },
        {
          "output_type": "display_data",
          "data": {
            "text/plain": [
              "<Figure size 432x288 with 1 Axes>"
            ],
            "image/png": "[encoded data removed]"
          },
          "metadata": {
            "needs_background": "light"
          }
        }
      ]
    },
    {
      "cell_type": "code",
      "source": [
        "by_days_accum"
      ],
      "metadata": {
        "colab": {
          "base_uri": "https://localhost:8080/"
        },
        "id": "hQJTkLgNbnAZ",
        "outputId": "7848abd7-5c2e-4400-ec5a-cab275d06dd8"
      },
      "execution_count": 226,
      "outputs": [
        {
          "output_type": "execute_result",
          "data": {
            "text/plain": [
              "[10, 18, 21, 21, 53, 67, 67, 68, 68]"
            ]
          },
          "metadata": {},
          "execution_count": 226
        }
      ]
    }
  ]
}