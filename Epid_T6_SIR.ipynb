{
  "nbformat": 4,
  "nbformat_minor": 0,
  "metadata": {
    "colab": {
      "provenance": [],
      "include_colab_link": true
    },
    "kernelspec": {
      "name": "python3",
      "display_name": "Python 3"
    },
    "language_info": {
      "name": "python"
    }
  },
  "cells": [
    {
      "cell_type": "markdown",
      "metadata": {
        "id": "view-in-github",
        "colab_type": "text"
      },
      "source": [
        "<a href=\"https://colab.research.google.com/github/JairEsc/Mat_Apl_2/blob/main/Epid_T6_SIR.ipynb\" target=\"_parent\"><img src=\"https://colab.research.google.com/assets/colab-badge.svg\" alt=\"Open In Colab\"/></a>"
      ]
    },
    {
      "cell_type": "code",
      "execution_count": 1,
      "metadata": {
        "id": "XiVRPSDGaRgV"
      },
      "outputs": [],
      "source": [
        "import networkx as nx\n",
        "import matplotlib.pyplot as plt"
      ]
    },
    {
      "cell_type": "code",
      "source": [
        "!pip install EoN"
      ],
      "metadata": {
        "colab": {
          "base_uri": "https://localhost:8080/"
        },
        "id": "SUDFH7nkdO8O",
        "outputId": "8d0b346e-ab01-4d5c-f0cb-a6d2141111dd"
      },
      "execution_count": 2,
      "outputs": [
        {
          "output_type": "stream",
          "name": "stdout",
          "text": [
            "Looking in indexes: https://pypi.org/simple, https://us-python.pkg.dev/colab-wheels/public/simple/\n",
            "Collecting EoN\n",
            "  Downloading EoN-1.1.tar.gz (113 kB)\n",
            "\u001b[K     |████████████████████████████████| 113 kB 6.6 MB/s \n",
            "\u001b[?25hRequirement already satisfied: networkx in /usr/local/lib/python3.7/dist-packages (from EoN) (2.6.3)\n",
            "Requirement already satisfied: numpy in /usr/local/lib/python3.7/dist-packages (from EoN) (1.21.6)\n",
            "Requirement already satisfied: scipy in /usr/local/lib/python3.7/dist-packages (from EoN) (1.7.3)\n",
            "Requirement already satisfied: matplotlib in /usr/local/lib/python3.7/dist-packages (from EoN) (3.2.2)\n",
            "Requirement already satisfied: cycler>=0.10 in /usr/local/lib/python3.7/dist-packages (from matplotlib->EoN) (0.11.0)\n",
            "Requirement already satisfied: pyparsing!=2.0.4,!=2.1.2,!=2.1.6,>=2.0.1 in /usr/local/lib/python3.7/dist-packages (from matplotlib->EoN) (3.0.9)\n",
            "Requirement already satisfied: python-dateutil>=2.1 in /usr/local/lib/python3.7/dist-packages (from matplotlib->EoN) (2.8.2)\n",
            "Requirement already satisfied: kiwisolver>=1.0.1 in /usr/local/lib/python3.7/dist-packages (from matplotlib->EoN) (1.4.4)\n",
            "Requirement already satisfied: typing-extensions in /usr/local/lib/python3.7/dist-packages (from kiwisolver>=1.0.1->matplotlib->EoN) (4.1.1)\n",
            "Requirement already satisfied: six>=1.5 in /usr/local/lib/python3.7/dist-packages (from python-dateutil>=2.1->matplotlib->EoN) (1.15.0)\n",
            "Building wheels for collected packages: EoN\n",
            "  Building wheel for EoN (setup.py) ... \u001b[?25l\u001b[?25hdone\n",
            "  Created wheel for EoN: filename=EoN-1.1-py3-none-any.whl size=120820 sha256=e0657153a6c2b89e95a9eed840d577d238a073356f15d5f957b6d435a0e3ebda\n",
            "  Stored in directory: /root/.cache/pip/wheels/0b/c0/a4/d6001fd809cb84c027ada5c2ab3b6d1cb2e97fec3f9978eae7\n",
            "Successfully built EoN\n",
            "Installing collected packages: EoN\n",
            "Successfully installed EoN-1.1\n"
          ]
        }
      ]
    },
    {
      "cell_type": "code",
      "source": [
        "import EoN\n",
        "\n",
        "import networkx as nx\n",
        "from matplotlib import rc\n",
        "import matplotlib.pylab as plt\n",
        "\n",
        "#import scipy\n",
        "#import random\n",
        "import numpy as np\n",
        "\n",
        "import scipy.stats as stats"
      ],
      "metadata": {
        "id": "_bkueJSvdN0t"
      },
      "execution_count": 3,
      "outputs": []
    },
    {
      "cell_type": "markdown",
      "source": [
        "# Ejercicio 3."
      ],
      "metadata": {
        "id": "LlNqBF81y811"
      }
    },
    {
      "cell_type": "code",
      "source": [],
      "metadata": {
        "id": "awop7sXkPqzb",
        "outputId": "0c6fc557-5748-4e18-f627-6753a41838ea",
        "colab": {
          "base_uri": "https://localhost:8080/"
        }
      },
      "execution_count": 15,
      "outputs": [
        {
          "output_type": "execute_result",
          "data": {
            "text/plain": [
              "0.9932620530009145"
            ]
          },
          "metadata": {},
          "execution_count": 15
        }
      ]
    },
    {
      "cell_type": "code",
      "source": [
        "N=1000          #Numero de individuos\n",
        "tau = 0.5       # tasa de transmisión\n",
        "gamma = 0.1     # tasa de recuperación\n",
        "#ts = scipy.arange(0,40,0.05)\n",
        "n_sim = 100      # number of simulations to run for each\n",
        "def sir_sim(k_poiss, n_sim,nodo_fijo):\n",
        "    report_times = np.arange(0,30,0.1) #scipy.linspace(0,30,3000)\n",
        "    sums = 0*report_times\n",
        "    I_s=[]\n",
        "    K_s=[]\n",
        "    for iter in range(n_sim):\n",
        "        if(type(nodo_fijo)==type(0)):\n",
        "            nodo_fijo_i=nodo_fijo\n",
        "        else:\n",
        "            nodo_fijo_i=nodo_fijo[iter]\n",
        "        G = nx.configuration_model(k_poiss)\n",
        "        t, S, I, R = EoN.fast_SIR(G, tau, gamma, initial_infecteds=nodo_fijo_i)#initial_infecteds es el nodo infectado.\n",
        "        K_s.append(G.degree[nodo_fijo_i])#Regresa el grado del nodo inicial.\n",
        "        I_s.append(R[-1])#Los que se recuperaron. i.e, el total de individuos infectados al final de la epidemia\n",
        "    return(K_s,I_s)"
      ],
      "metadata": {
        "id": "xHvSyd5_y_n8"
      },
      "execution_count": 96,
      "outputs": []
    },
    {
      "cell_type": "code",
      "source": [
        "ksum=1\n",
        "while(ksum%2!=0):#Que defina una grafica.\n",
        "        k_dist=np.random.poisson(3.5,1000)\n",
        "        ksum=sum(k_dist)\n",
        "_,finals=sir_sim(k_dist,100,nodo_fijo=0)\n",
        "_,finals2=sir_sim(k_dist,100,nodo_fijo=np.random.choice(range(1000),size=100,replace=True))"
      ],
      "metadata": {
        "id": "d3z0SuPkOz1i"
      },
      "execution_count": 55,
      "outputs": []
    },
    {
      "cell_type": "code",
      "source": [
        "print(np.mean(finals))\n",
        "plt.hist(finals,bins=1000,density=True)\n",
        "plt.title('Hist. con paciente cero fijo')\n",
        "plt.show()\n",
        "print(np.mean(finals2))\n",
        "plt.hist(finals2,bins=1000,density=True)\n",
        "plt.title('Hist. con paciente cero aleatorio')\n",
        "plt.show()"
      ],
      "metadata": {
        "id": "j0miR4gNPUC1",
        "outputId": "13143b1c-b293-4bdf-f942-4a1d73b0c6ef",
        "colab": {
          "base_uri": "https://localhost:8080/",
          "height": 580
        }
      },
      "execution_count": 56,
      "outputs": [
        {
          "output_type": "stream",
          "name": "stdout",
          "text": [
            "906.67\n"
          ]
        },
        {
          "output_type": "display_data",
          "data": {
            "text/plain": [
              "<Figure size 432x288 with 1 Axes>"
            ],
            "image/png": "[encoded data removed]"
          },
          "metadata": {
            "needs_background": "light"
          }
        },
        {
          "output_type": "stream",
          "name": "stdout",
          "text": [
            "784.66\n"
          ]
        },
        {
          "output_type": "display_data",
          "data": {
            "text/plain": [
              "<Figure size 432x288 with 1 Axes>"
            ],
            "image/png": "[encoded data removed]"
          },
          "metadata": {
            "needs_background": "light"
          }
        }
      ]
    },
    {
      "cell_type": "code",
      "source": [
        "K_s=[]\n",
        "I_s=[]\n",
        "Coef_assortativity_degree=[]\n",
        "Coef_agrupamiento=[]\n",
        "for k in range(100):\n",
        "    np.random.seed(k)\n",
        "    nodo=np.random.randint(0,1000)\n",
        "    ksum=1\n",
        "    while(ksum%2!=0):\n",
        "        k_poiss=np.random.poisson(3.5,1000)\n",
        "        ksum=sum(k_poiss)\n",
        "    G = nx.configuration_model(k_poiss)\n",
        "    K_s.append(G.degree[nodo])\n",
        "    Coef_assortativity_degree.append(nx.assortativity.degree_assortativity_coefficient(G))#Diferente para cada grafica.\n",
        "    G2 = nx.DiGraph(G)#Para calcular el clustering\n",
        "    Coef_agrupamiento.append(nx.clustering(G2,nodo))#Diferente para cada grafica\n",
        "    t, S, I, R = EoN.fast_SIR(G, tau, gamma, initial_infecteds=nodo)#initial_infecteds es el nodo infectado.\n",
        "    I_s.append(R[-1])#Los que se recuperaron\n"
      ],
      "metadata": {
        "id": "p4eSr-LoSUKS"
      },
      "execution_count": 59,
      "outputs": []
    },
    {
      "cell_type": "code",
      "source": [
        "plt.plot(K_s,I_s,'.')"
      ],
      "metadata": {
        "colab": {
          "base_uri": "https://localhost:8080/",
          "height": 285
        },
        "id": "RqkQND0nfGlW",
        "outputId": "3fafb750-0295-482a-bd47-7ec780bba3f8"
      },
      "execution_count": 60,
      "outputs": [
        {
          "output_type": "execute_result",
          "data": {
            "text/plain": [
              "[<matplotlib.lines.Line2D at 0x7f93b926d710>]"
            ]
          },
          "metadata": {},
          "execution_count": 60
        },
        {
          "output_type": "display_data",
          "data": {
            "text/plain": [
              "<Figure size 432x288 with 1 Axes>"
            ],
            "image/png": "[encoded data removed]"
          },
          "metadata": {
            "needs_background": "light"
          }
        }
      ]
    },
    {
      "cell_type": "code",
      "source": [
        "x=np.array(np.array(K_s).reshape((-1, 1)))\n",
        "x2=np.array(np.array(Coef_assortativity_degree).reshape((-1, 1)))\n",
        "x3=np.array(np.array(Coef_agrupamiento).reshape((-1, 1)))\n",
        "y=np.array(I_s)"
      ],
      "metadata": {
        "id": "kRgANkoBgS3o"
      },
      "execution_count": 61,
      "outputs": []
    },
    {
      "cell_type": "code",
      "source": [
        "import pandas as pd\n",
        "data = {'grado': K_s,\n",
        "        'assortivity': Coef_assortativity_degree,\n",
        "        'clustering': Coef_agrupamiento,  \n",
        "        'y': y     \n",
        "        }\n",
        "df = pd.DataFrame(data)\n",
        "import statsmodels.api as sm\n",
        "x = sm.add_constant(df['grado']) # adding a constant\n",
        " \n",
        "model = sm.OLS(y, x).fit()\n",
        "predictions = model.predict(x) \n",
        "print(model.ess)\n",
        "print_model = model.summary()\n",
        "print(print_model)"
      ],
      "metadata": {
        "colab": {
          "base_uri": "https://localhost:8080/"
        },
        "id": "pwWWNB5n_ab5",
        "outputId": "f1f36265-46c0-48ad-cd5e-8c5fdea7806d"
      },
      "execution_count": 89,
      "outputs": [
        {
          "output_type": "stream",
          "name": "stdout",
          "text": [
            "324899.5232051285\n",
            "                            OLS Regression Results                            \n",
            "==============================================================================\n",
            "Dep. Variable:                      y   R-squared:                       0.057\n",
            "Model:                            OLS   Adj. R-squared:                  0.048\n",
            "Method:                 Least Squares   F-statistic:                     5.959\n",
            "Date:                Sun, 27 Nov 2022   Prob (F-statistic):             0.0164\n",
            "Time:                        04:54:58   Log-Likelihood:                -686.20\n",
            "No. Observations:                 100   AIC:                             1376.\n",
            "Df Residuals:                      98   BIC:                             1382.\n",
            "Df Model:                           1                                         \n",
            "Covariance Type:            nonrobust                                         \n",
            "==============================================================================\n",
            "                 coef    std err          t      P>|t|      [0.025      0.975]\n",
            "------------------------------------------------------------------------------\n",
            "const        751.8085     53.009     14.183      0.000     646.613     857.004\n",
            "grado         32.2699     13.219      2.441      0.016       6.037      58.503\n",
            "==============================================================================\n",
            "Omnibus:                       86.573   Durbin-Watson:                   1.956\n",
            "Prob(Omnibus):                  0.000   Jarque-Bera (JB):              473.898\n",
            "Skew:                          -3.125   Prob(JB):                    1.24e-103\n",
            "Kurtosis:                      11.642   Cond. No.                         9.57\n",
            "==============================================================================\n",
            "\n",
            "Notes:\n",
            "[1] Standard Errors assume that the covariance matrix of the errors is correctly specified.\n"
          ]
        },
        {
          "output_type": "stream",
          "name": "stderr",
          "text": [
            "/usr/local/lib/python3.7/dist-packages/statsmodels/tsa/tsatools.py:142: FutureWarning: In a future version of pandas all arguments of concat except for the argument 'objs' will be keyword-only\n",
            "  x = pd.concat(x[::order], 1)\n"
          ]
        }
      ]
    },
    {
      "cell_type": "code",
      "source": [
        "plt.plot(K_s,I_s,'.')\n",
        "plt.plot(K_s,model.params[0]+np.array(K_s)*model.params[1])\n",
        "plt.xlabel('Grado del paciente cero')\n",
        "plt.ylabel('Total de infectados')\n",
        "plt.show()"
      ],
      "metadata": {
        "colab": {
          "base_uri": "https://localhost:8080/",
          "height": 279
        },
        "id": "2hEBXXxYCSGE",
        "outputId": "13a67970-9a7c-4ffb-c75b-0416170b26e9"
      },
      "execution_count": 90,
      "outputs": [
        {
          "output_type": "display_data",
          "data": {
            "text/plain": [
              "<Figure size 432x288 with 1 Axes>"
            ],
            "image/png": "[encoded data removed]"
          },
          "metadata": {
            "needs_background": "light"
          }
        }
      ]
    },
    {
      "cell_type": "code",
      "source": [
        "data_2=pd.DataFrame(data).loc[data['y']>100]\n",
        "import statsmodels.api as sm\n",
        "x = sm.add_constant(data_2['grado']) # adding a constant\n",
        " \n",
        "model = sm.OLS(data_2['y'], x).fit()\n",
        "predictions = model.predict(x) \n",
        "print(model.ess)\n",
        "print_model = model.summary()\n",
        "print(print_model)\n",
        "plt.plot(data_2['grado'],data_2['y'],'.')\n",
        "plt.plot(data_2['grado'],model.params[0]+np.array(data_2['grado'])*model.params[1])\n",
        "plt.xlabel('Grado del paciente cero')\n",
        "plt.ylabel('Total de infectados')\n",
        "plt.show()"
      ],
      "metadata": {
        "id": "qA8SgqMnZ0q8",
        "outputId": "8f7226fc-c478-4e48-d02e-6001213be20c",
        "colab": {
          "base_uri": "https://localhost:8080/",
          "height": 786
        }
      },
      "execution_count": 92,
      "outputs": [
        {
          "output_type": "stream",
          "name": "stderr",
          "text": [
            "/usr/local/lib/python3.7/dist-packages/statsmodels/tsa/tsatools.py:142: FutureWarning: In a future version of pandas all arguments of concat except for the argument 'objs' will be keyword-only\n",
            "  x = pd.concat(x[::order], 1)\n"
          ]
        },
        {
          "output_type": "stream",
          "name": "stdout",
          "text": [
            "572.7188405921279\n",
            "                            OLS Regression Results                            \n",
            "==============================================================================\n",
            "Dep. Variable:                      y   R-squared:                       0.055\n",
            "Model:                            OLS   Adj. R-squared:                  0.044\n",
            "Method:                 Least Squares   F-statistic:                     5.266\n",
            "Date:                Sun, 27 Nov 2022   Prob (F-statistic):             0.0240\n",
            "Time:                        04:56:58   Log-Likelihood:                -348.99\n",
            "No. Observations:                  93   AIC:                             702.0\n",
            "Df Residuals:                      91   BIC:                             707.0\n",
            "Df Model:                           1                                         \n",
            "Covariance Type:            nonrobust                                         \n",
            "==============================================================================\n",
            "                 coef    std err          t      P>|t|      [0.025      0.975]\n",
            "------------------------------------------------------------------------------\n",
            "const        938.9514      2.715    345.852      0.000     933.559     944.344\n",
            "grado         -1.5361      0.669     -2.295      0.024      -2.866      -0.206\n",
            "==============================================================================\n",
            "Omnibus:                        7.320   Durbin-Watson:                   1.779\n",
            "Prob(Omnibus):                  0.026   Jarque-Bera (JB):                6.776\n",
            "Skew:                          -0.593   Prob(JB):                       0.0338\n",
            "Kurtosis:                       3.584   Cond. No.                         10.7\n",
            "==============================================================================\n",
            "\n",
            "Notes:\n",
            "[1] Standard Errors assume that the covariance matrix of the errors is correctly specified.\n"
          ]
        },
        {
          "output_type": "display_data",
          "data": {
            "text/plain": [
              "<Figure size 432x288 with 1 Axes>"
            ],
            "image/png": "[encoded data removed]"
          },
          "metadata": {
            "needs_background": "light"
          }
        }
      ]
    },
    {
      "cell_type": "code",
      "source": [
        "from sklearn.linear_model import LinearRegression\n",
        "model = LinearRegression()\n",
        "data = {'grado': K_s,\n",
        "        'assortivity': Coef_assortativity_degree,\n",
        "        'clustering': Coef_agrupamiento,       \n",
        "        }\n",
        "import pandas as pd\n",
        "df = pd.DataFrame(data)\n",
        "import statsmodels.api as sm\n",
        "x = sm.add_constant(df) # adding a constant\n",
        " \n",
        "model = sm.OLS(y, x).fit()\n",
        "predictions = model.predict(x) \n",
        "print(model.ess)\n",
        "print_model = model.summary()\n",
        "print(print_model)"
      ],
      "metadata": {
        "colab": {
          "base_uri": "https://localhost:8080/"
        },
        "id": "b8Wlx0kclCWA",
        "outputId": "fc212b43-156b-4cb8-d88f-d2686ff22cb8"
      },
      "execution_count": 65,
      "outputs": [
        {
          "output_type": "stream",
          "name": "stdout",
          "text": [
            "535802.3249095147\n",
            "                            OLS Regression Results                            \n",
            "==============================================================================\n",
            "Dep. Variable:                      y   R-squared:                       0.095\n",
            "Model:                            OLS   Adj. R-squared:                  0.066\n",
            "Method:                 Least Squares   F-statistic:                     3.341\n",
            "Date:                Sun, 27 Nov 2022   Prob (F-statistic):             0.0225\n",
            "Time:                        04:42:04   Log-Likelihood:                -684.19\n",
            "No. Observations:                 100   AIC:                             1376.\n",
            "Df Residuals:                      96   BIC:                             1387.\n",
            "Df Model:                           3                                         \n",
            "Covariance Type:            nonrobust                                         \n",
            "===============================================================================\n",
            "                  coef    std err          t      P>|t|      [0.025      0.975]\n",
            "-------------------------------------------------------------------------------\n",
            "const         758.8777     52.864     14.355      0.000     653.944     863.812\n",
            "grado          30.5733     13.122      2.330      0.022       4.526      56.621\n",
            "assortivity  1945.9358   1009.058      1.928      0.057     -57.028    3948.899\n",
            "clustering     71.6275    499.987      0.143      0.886    -920.839    1064.094\n",
            "==============================================================================\n",
            "Omnibus:                       80.455   Durbin-Watson:                   1.965\n",
            "Prob(Omnibus):                  0.000   Jarque-Bera (JB):              390.161\n",
            "Skew:                          -2.898   Prob(JB):                     1.90e-85\n",
            "Kurtosis:                      10.748   Cond. No.                         180.\n",
            "==============================================================================\n",
            "\n",
            "Notes:\n",
            "[1] Standard Errors assume that the covariance matrix of the errors is correctly specified.\n"
          ]
        },
        {
          "output_type": "stream",
          "name": "stderr",
          "text": [
            "/usr/local/lib/python3.7/dist-packages/statsmodels/tsa/tsatools.py:142: FutureWarning: In a future version of pandas all arguments of concat except for the argument 'objs' will be keyword-only\n",
            "  x = pd.concat(x[::order], 1)\n"
          ]
        }
      ]
    },
    {
      "cell_type": "markdown",
      "source": [
        "# Ejercicio 4"
      ],
      "metadata": {
        "id": "Zq6jwJOVGN2X"
      }
    },
    {
      "cell_type": "code",
      "source": [
        "ksum=1\n",
        "while(ksum%2!=0):\n",
        "    k_poiss=np.random.poisson(3,1000)\n",
        "    ksum=sum(k_poiss)\n",
        "G = nx.configuration_model(k_poiss)\n",
        "R=[0]\n",
        "while(R[-1]<10):#Para no tener un caso aburrido\n",
        "    t, S, I, R = EoN.fast_SIR(G, 0.1, 1, initial_infecteds=0)#initial_infecteds es el nodo infectado."
      ],
      "metadata": {
        "id": "T6YVhl1fGPjI"
      },
      "execution_count": 108,
      "outputs": []
    },
    {
      "cell_type": "code",
      "source": [
        "plt.plot(t,I)\n",
        "plt.title('Incidencia')\n",
        "plt.xlabel('Dias')\n",
        "plt.ylabel('Infectados')\n",
        "plt.show()"
      ],
      "metadata": {
        "id": "DkzqZgW3xDHU",
        "outputId": "744b20c2-4400-4731-e44c-16905f07ec0e",
        "colab": {
          "base_uri": "https://localhost:8080/",
          "height": 295
        }
      },
      "execution_count": 109,
      "outputs": [
        {
          "output_type": "display_data",
          "data": {
            "text/plain": [
              "<Figure size 432x288 with 1 Axes>"
            ],
            "image/png": "[encoded data removed]"
          },
          "metadata": {
            "needs_background": "light"
          }
        }
      ]
    },
    {
      "cell_type": "code",
      "source": [
        "plt.plot(t,np.cumsum(I))\n",
        "plt.title('Acumulados')\n",
        "plt.xlabel('Dias')\n",
        "plt.ylabel('Infectados acumulados')\n",
        "plt.show()"
      ],
      "metadata": {
        "id": "rr3A4U7GwDJP",
        "outputId": "ac4bf6a6-1fac-4ce6-dc24-400092da32bc",
        "colab": {
          "base_uri": "https://localhost:8080/",
          "height": 295
        }
      },
      "execution_count": 111,
      "outputs": [
        {
          "output_type": "display_data",
          "data": {
            "text/plain": [
              "<Figure size 432x288 with 1 Axes>"
            ],
            "image/png": "[encoded data removed]"
          },
          "metadata": {
            "needs_background": "light"
          }
        }
      ]
    }
  ]
}