{
  "cells": [
    {
      "cell_type": "markdown",
      "metadata": {
        "id": "view-in-github",
        "colab_type": "text"
      },
      "source": [
        "<a href=\"https://colab.research.google.com/github/JairEsc/Mat_Apl_2/blob/main/Algoritmos_Gillespie.ipynb\" target=\"_parent\"><img src=\"https://colab.research.google.com/assets/colab-badge.svg\" alt=\"Open In Colab\"/></a>"
      ]
    },
    {
      "cell_type": "markdown",
      "metadata": {
        "id": "lpZbQHpw8apO"
      },
      "source": [
        "# Métodos de Gillespie"
      ]
    },
    {
      "cell_type": "code",
      "execution_count": 1,
      "metadata": {
        "id": "hyFIKwWx-ZRp"
      },
      "outputs": [],
      "source": [
        "import numpy as np\n",
        "import pandas as pd\n",
        "import matplotlib.pyplot as plt"
      ]
    },
    {
      "cell_type": "markdown",
      "metadata": {
        "id": "Q3CKlr2F8iEk"
      },
      "source": [
        "## Método de siguiente reacción sin redes"
      ]
    },
    {
      "cell_type": "code",
      "execution_count": 2,
      "metadata": {
        "id": "fYplAxDs8-Th"
      },
      "outputs": [],
      "source": [
        "def Gillespie_First_Reaction(N,X_S,X_I,beta,gamma,T=np.inf):\n",
        "    #X_R=N-X_S-X_I\n",
        "    #tiempo\n",
        "    flag=True\n",
        "    t=0\n",
        "    Historia=[[0,X_S,X_I]]\n",
        "    while(flag):\n",
        "        tau=np.random.exponential(1/((beta/N)*X_S*X_I+gamma*X_I))\n",
        "        p=np.random.uniform(0,1)\n",
        "        if(p<(beta*X_S/N)/((beta/N)*X_S+gamma)):#Infeccion\n",
        "            X_S+=-1\n",
        "            X_I+=1\n",
        "        else:\n",
        "            X_I-=1\n",
        "        t+=tau\n",
        "        Historia.append([t,X_S,X_I])\n",
        "        if(X_S==0 or X_I==0 or t>T):\n",
        "            flag=False\n",
        "    return Historia"
      ]
    },
    {
      "cell_type": "markdown",
      "metadata": {
        "id": "NBkaeBK7-6pB"
      },
      "source": [
        "### Ejemplo"
      ]
    },
    {
      "cell_type": "code",
      "execution_count": 9,
      "metadata": {
        "id": "8u3KJ-0n-6Du",
        "colab": {
          "base_uri": "https://localhost:8080/",
          "height": 281
        },
        "outputId": "35c396ab-5832-48be-85f2-22c04fb73ff3"
      },
      "outputs": [
        {
          "output_type": "display_data",
          "data": {
            "text/plain": [
              "<Figure size 432x288 with 1 Axes>"
            ],
            "image/png": "[encoded data removed]"
          },
          "metadata": {
            "needs_background": "light"
          }
        }
      ],
      "source": [
        "N=10**5\n",
        "S_0=N-2\n",
        "I_0=N-S_0\n",
        "beta=1.25\n",
        "gamma=1\n",
        "for k in range(10):\n",
        "    H=Gillespie_First_Reaction(N,S_0,I_0,1.25,1)\n",
        "    while(len(H)<10):\n",
        "        H=Gillespie_First_Reaction(N,S_0,I_0,1.25,1)\n",
        "    H=pd.DataFrame(H,columns=['time','S(t)','I(t)'])\n",
        "    plt.plot(H['time'],H['I(t)'], 'gray')\n",
        "plt.title('Simulaciones exactas')\n",
        "plt.show()"
      ]
    },
    {
      "cell_type": "markdown",
      "metadata": {
        "id": "LwPmnQz18tAP"
      },
      "source": [
        "## Método directo para SIR markoviano en redes"
      ]
    },
    {
      "cell_type": "code",
      "source": [
        "import networkx as nx"
      ],
      "metadata": {
        "id": "Xvpw91TyDwis"
      },
      "execution_count": 10,
      "outputs": []
    },
    {
      "cell_type": "code",
      "source": [
        "N=10**3\n",
        "G=nx.random_degree_sequence_graph(np.random.poisson(10,size=N))"
      ],
      "metadata": {
        "id": "J0lHSN1kF9Do"
      },
      "execution_count": 25,
      "outputs": []
    },
    {
      "cell_type": "code",
      "source": [
        "np.random.seed(0)\n",
        "X_I_indexes=np.random.choice(N,size=5,replace=False)"
      ],
      "metadata": {
        "id": "SUqO8d9qG3Q1"
      },
      "execution_count": 28,
      "outputs": []
    },
    {
      "cell_type": "code",
      "source": [
        "X_I_indexes"
      ],
      "metadata": {
        "colab": {
          "base_uri": "https://localhost:8080/"
        },
        "id": "rjeT-p24Iwkm",
        "outputId": "60e5a897-f4ea-4df6-d15d-31b49fcb2e61"
      },
      "execution_count": 31,
      "outputs": [
        {
          "output_type": "execute_result",
          "data": {
            "text/plain": [
              "array([993, 859, 298, 553, 672])"
            ]
          },
          "metadata": {},
          "execution_count": 31
        }
      ]
    },
    {
      "cell_type": "code",
      "source": [
        "for k in range(N):\n",
        "    if k in X_I_indexes:\n",
        "        G.nodes[k]['Estado:']='Infeccioso'\n",
        "    else:\n",
        "        G.nodes[k]['Estado:']='Susceptible'"
      ],
      "metadata": {
        "id": "8FBG4XXPHNer"
      },
      "execution_count": 29,
      "outputs": []
    },
    {
      "cell_type": "code",
      "source": [
        "G.has_edge(0,0)=={}"
      ],
      "metadata": {
        "colab": {
          "base_uri": "https://localhost:8080/"
        },
        "id": "UHCfoFCmME7f",
        "outputId": "f5a7f90e-b628-46e9-faf0-66aa0f1bece6"
      },
      "execution_count": 51,
      "outputs": [
        {
          "output_type": "execute_result",
          "data": {
            "text/plain": [
              "False"
            ]
          },
          "metadata": {},
          "execution_count": 51
        }
      ]
    },
    {
      "cell_type": "code",
      "source": [
        "num_cont_inf_por_indice=np.zeros(N)\n",
        "for i in range(N):\n",
        "    for j in X_I_indexes:\n",
        "        if (G.has_edge(i,j)):\n",
        "            num_cont_inf_por_indice[i]+=1"
      ],
      "metadata": {
        "id": "gxwfQubtJ0r4"
      },
      "execution_count": 52,
      "outputs": []
    },
    {
      "cell_type": "code",
      "source": [
        "#num_cont_inf_por_indice"
      ],
      "metadata": {
        "id": "3JcdbYVwLZGF"
      },
      "execution_count": 54,
      "outputs": []
    },
    {
      "cell_type": "code",
      "source": [
        "#G.nodes.data()\n",
        "for i in range(N):\n",
        "    for j in range(N):\n",
        "        if G."
      ],
      "metadata": {
        "id": "BkQt04ZoIiCV"
      },
      "execution_count": 32,
      "outputs": []
    },
    {
      "cell_type": "code",
      "source": [
        "def Gillespie_Direct_Method_Network(beta,gamma,G_network_initial=nx.Graph(),T=np.inf):\n",
        "    #X_R=N-X_S-X_I\n",
        "    #tiempo\n",
        "    flag=True\n",
        "    t=0\n",
        "    X_I=len(X_I_indexes)\n",
        "    Historia=[[0,X_S,X_I]]#Lets focus on cuantities.\n",
        "    \n",
        "    while(flag):\n",
        "        tau=np.random.exponential(1/((beta/N)*X_S*X_I+gamma*X_I))\n",
        "        p=np.random.uniform(0,1)\n",
        "        if(p<(beta*X_S/N)/((beta/N)*X_S+gamma)):#Infeccion\n",
        "            X_S+=-1\n",
        "            X_I+=1\n",
        "        else:\n",
        "            X_I-=1\n",
        "        t+=tau\n",
        "        Historia.append([t,X_S,X_I])\n",
        "        if(X_S==0 or X_I==0 or t>T):\n",
        "            flag=False\n",
        "    return Historia"
      ],
      "metadata": {
        "id": "yTu6ZhxtCGb_"
      },
      "execution_count": null,
      "outputs": []
    },
    {
      "cell_type": "markdown",
      "source": [
        "### Ejemplo"
      ],
      "metadata": {
        "id": "eHXYSVbTCHE0"
      }
    },
    {
      "cell_type": "markdown",
      "metadata": {
        "id": "rQbk4KPG8tN1"
      },
      "source": [
        "## Método directo para SIR no-markoviano.\n",
        "\n"
      ]
    },
    {
      "cell_type": "markdown",
      "metadata": {
        "id": "n_fAcMAI8uqF"
      },
      "source": [
        "## Método directo para SIR no-markoviano en redes"
      ]
    },
    {
      "cell_type": "code",
      "execution_count": null,
      "metadata": {
        "id": "ptgk3mpl8hw_"
      },
      "outputs": [],
      "source": []
    },
    {
      "cell_type": "code",
      "execution_count": null,
      "metadata": {
        "id": "RUu4sgbW8YE2"
      },
      "outputs": [],
      "source": []
    }
  ],
  "metadata": {
    "colab": {
      "provenance": [],
      "authorship_tag": "ABX9TyNr5kYhdlDphVcjFr1mPLCE",
      "include_colab_link": true
    },
    "kernelspec": {
      "display_name": "Python 3",
      "name": "python3"
    },
    "language_info": {
      "name": "python"
    }
  },
  "nbformat": 4,
  "nbformat_minor": 0
}