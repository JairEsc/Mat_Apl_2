{
  "cells": [
    {
      "cell_type": "markdown",
      "metadata": {
        "id": "view-in-github",
        "colab_type": "text"
      },
      "source": [
        "<a href=\"https://colab.research.google.com/github/JairEsc/Mat_Apl_2/blob/main/Algoritmos_Gillespie.ipynb\" target=\"_parent\"><img src=\"https://colab.research.google.com/assets/colab-badge.svg\" alt=\"Open In Colab\"/></a>"
      ]
    },
    {
      "cell_type": "markdown",
      "metadata": {
        "id": "lpZbQHpw8apO"
      },
      "source": [
        "# Métodos de Gillespie"
      ]
    },
    {
      "cell_type": "code",
      "execution_count": 1,
      "metadata": {
        "id": "hyFIKwWx-ZRp"
      },
      "outputs": [],
      "source": [
        "import numpy as np\n",
        "import pandas as pd\n",
        "import matplotlib.pyplot as plt"
      ]
    },
    {
      "cell_type": "markdown",
      "metadata": {
        "id": "Q3CKlr2F8iEk"
      },
      "source": [
        "## Método de siguiente reacción sin redes"
      ]
    },
    {
      "cell_type": "code",
      "execution_count": null,
      "metadata": {
        "id": "fYplAxDs8-Th"
      },
      "outputs": [],
      "source": [
        "def Gillespie_First_Reaction(N,X_S,X_I,beta,gamma,T=np.inf):\n",
        "    #X_R=N-X_S-X_I\n",
        "    #tiempo\n",
        "    flag=True\n",
        "    t=0\n",
        "    Historia=[[0,X_S,X_I]]\n",
        "    while(flag):\n",
        "        tau=np.random.exponential(1/((beta/N)*X_S*X_I+gamma*X_I))\n",
        "        p=np.random.uniform(0,1)\n",
        "        if(p<(beta*X_S/N)/((beta/N)*X_S+gamma)):#Infeccion\n",
        "            X_S+=-1\n",
        "            X_I+=1\n",
        "        else:\n",
        "            X_I-=1\n",
        "        t+=tau\n",
        "        Historia.append([t,X_S,X_I])\n",
        "        if(X_S==0 or X_I==0 or t>T):\n",
        "            flag=False\n",
        "    return Historia"
      ]
    },
    {
      "cell_type": "markdown",
      "metadata": {
        "id": "NBkaeBK7-6pB"
      },
      "source": [
        "### Ejemplo"
      ]
    },
    {
      "cell_type": "code",
      "execution_count": null,
      "metadata": {
        "id": "8u3KJ-0n-6Du",
        "colab": {
          "base_uri": "https://localhost:8080/",
          "height": 281
        },
        "outputId": "35c396ab-5832-48be-85f2-22c04fb73ff3"
      },
      "outputs": [
        {
          "output_type": "display_data",
          "data": {
            "text/plain": [
              "<Figure size 432x288 with 1 Axes>"
            ],
            "image/png": "[encoded data removed]"
          },
          "metadata": {
            "needs_background": "light"
          }
        }
      ],
      "source": [
        "N=10**5\n",
        "S_0=N-2\n",
        "I_0=N-S_0\n",
        "beta=1.25\n",
        "gamma=1\n",
        "for k in range(10):\n",
        "    H=Gillespie_First_Reaction(N,S_0,I_0,1.25,1)\n",
        "    while(len(H)<10):\n",
        "        H=Gillespie_First_Reaction(N,S_0,I_0,1.25,1)\n",
        "    H=pd.DataFrame(H,columns=['time','S(t)','I(t)'])\n",
        "    plt.plot(H['time'],H['I(t)'], 'gray')\n",
        "plt.title('Simulaciones exactas')\n",
        "plt.show()"
      ]
    },
    {
      "cell_type": "markdown",
      "metadata": {
        "id": "LwPmnQz18tAP"
      },
      "source": [
        "## Método directo para SIR markoviano en redes"
      ]
    },
    {
      "cell_type": "code",
      "source": [
        "import networkx as nx"
      ],
      "metadata": {
        "id": "Xvpw91TyDwis"
      },
      "execution_count": 2,
      "outputs": []
    },
    {
      "cell_type": "code",
      "source": [
        "N=10**3\n",
        "G=nx.random_degree_sequence_graph(np.random.poisson(10,size=N))"
      ],
      "metadata": {
        "id": "J0lHSN1kF9Do"
      },
      "execution_count": 3,
      "outputs": []
    },
    {
      "cell_type": "code",
      "source": [
        "np.random.seed(0)\n",
        "X_I_indexes=np.random.choice(N,size=5,replace=False)"
      ],
      "metadata": {
        "id": "SUqO8d9qG3Q1"
      },
      "execution_count": 4,
      "outputs": []
    },
    {
      "cell_type": "code",
      "source": [
        "X_I_indexes\n",
        "X_I=len(X_I_indexes)"
      ],
      "metadata": {
        "id": "rjeT-p24Iwkm"
      },
      "execution_count": 22,
      "outputs": []
    },
    {
      "cell_type": "code",
      "source": [
        "for k in range(N):\n",
        "    if k in X_I_indexes:\n",
        "        G.nodes[k]['Estado:']='Infeccioso'\n",
        "    else:\n",
        "        G.nodes[k]['Estado:']='Susceptible'"
      ],
      "metadata": {
        "id": "8FBG4XXPHNer"
      },
      "execution_count": 6,
      "outputs": []
    },
    {
      "cell_type": "code",
      "source": [
        "G.has_edge(0,1)"
      ],
      "metadata": {
        "colab": {
          "base_uri": "https://localhost:8080/"
        },
        "id": "UHCfoFCmME7f",
        "outputId": "1c14e59b-3ac4-42cc-f885-8faf8b7703a4"
      },
      "execution_count": 8,
      "outputs": [
        {
          "output_type": "execute_result",
          "data": {
            "text/plain": [
              "False"
            ]
          },
          "metadata": {},
          "execution_count": 8
        }
      ]
    },
    {
      "cell_type": "code",
      "source": [
        "G.nodes[0]['Estado:']"
      ],
      "metadata": {
        "id": "8jg8C5xgPj6N",
        "outputId": "e4460576-5df0-41b0-db22-ee99046c0ea3",
        "colab": {
          "base_uri": "https://localhost:8080/",
          "height": 36
        }
      },
      "execution_count": 63,
      "outputs": [
        {
          "output_type": "execute_result",
          "data": {
            "text/plain": [
              "'Susceptible'"
            ],
            "application/vnd.google.colaboratory.intrinsic+json": {
              "type": "string"
            }
          },
          "metadata": {},
          "execution_count": 63
        }
      ]
    },
    {
      "cell_type": "code",
      "source": [
        "num_cont_inf_por_indice=np.zeros(N)\n",
        "for i in range(N):\n",
        "    for j in X_I_indexes:\n",
        "        if (G.has_edge(i,j)):\n",
        "            num_cont_inf_por_indice[i]+=1"
      ],
      "metadata": {
        "id": "gxwfQubtJ0r4"
      },
      "execution_count": 9,
      "outputs": []
    },
    {
      "cell_type": "code",
      "source": [
        "#num_cont_inf_por_indice"
      ],
      "metadata": {
        "id": "3JcdbYVwLZGF",
        "outputId": "30da3b2c-f4e2-4dc7-e40b-e21d4cb1c2f2",
        "colab": {
          "base_uri": "https://localhost:8080/"
        }
      },
      "execution_count": 23,
      "outputs": [
        {
          "output_type": "execute_result",
          "data": {
            "text/plain": [
              "True"
            ]
          },
          "metadata": {},
          "execution_count": 23
        }
      ]
    },
    {
      "cell_type": "code",
      "source": [
        "#Sabemos que el rango de K (el número de contactos infecciosos de un susceptible al tiempo $t$) está acotado por I(t):\n",
        "#Generamos la partición(Del conjunto de susceptibles en riesgo). Orden O(K*N)\n",
        "P=[]\n",
        "for k in range(int(X_I)):\n",
        "    P.append([i for i, j in enumerate(num_cont_inf_por_indice) if j == k])\n",
        "#P[i] es el conjunto de indices de individuos que tienen exactamente $i$ contactos infecciosos.\n",
        "#Esto se puede mejorar, no me interesa saber quiénes son, sólo cuántos (por ahora)."
      ],
      "metadata": {
        "id": "BkQt04ZoIiCV"
      },
      "execution_count": 26,
      "outputs": []
    },
    {
      "cell_type": "code",
      "source": [
        "Lambda=0\n",
        "beta=1.25\n",
        "gamma=1\n",
        "Lambdas=[]\n",
        "for k in range(len(P)):\n",
        "    Lambdas.append(beta*len(P[k])*k)\n",
        "    Lambda+=Lambdas[-1]\n",
        "Lambdas.append(gamma*X_I)\n",
        "Lambda+=Lambdas[-1]"
      ],
      "metadata": {
        "id": "0P6stWaRCYF-"
      },
      "execution_count": 32,
      "outputs": []
    },
    {
      "cell_type": "code",
      "source": [
        "def Monte_Carlo_Step_exp(Lambdas,num_cont_inf_por_indice,X_I_indexes):\n",
        "    Lambda=np.sum(Lambdas)\n",
        "    tau=np.random.exponential(scale=1/Lambda)#Tiempo de siguiente reacción, hasta ahora desconocida.\n",
        "    u_2=np.random.uniform(0,1)\n",
        "    if(u_2<(Lambda-Lambdas[-1])/Lambda):#Infeccion\n",
        "        u_3=np.random.uniform(0,1)\n",
        "        D=0\n",
        "        k=0\n",
        "        while(u_3>D):\n",
        "            k+=1\n",
        "            D+=Lambdas[k]/(Lambda-Lambdas[-1])\n",
        "        #k es el número de contactos infecciosos del seleccionado.\n",
        "        #Seleccionamos uno aleatoriamente de ese grupo\n",
        "        new_reaction=np.random.choice([i for i, j in enumerate(num_cont_inf_por_indice) if j == k])\n",
        "    else:\n",
        "        #Seleccionar un infeccioso al azar.\n",
        "        new_reaction=np.random.choice(X_I_indexes)\n",
        "    return tau,new_reaction\n",
        "#Monte_Carlo_Step_exp(Lambdas)"
      ],
      "metadata": {
        "id": "ykDuyghmGQdO"
      },
      "execution_count": 15,
      "outputs": []
    },
    {
      "cell_type": "code",
      "source": [
        "def Gillespie_Direct_Method_Network(beta,gamma,N,X_I_indexes,G_network_initial=nx.Graph(),T=np.inf):\n",
        "    #X_R=N-X_S-X_I\n",
        "    #tiempo\n",
        "    flag=True\n",
        "    t=0\n",
        "    X_I=len(X_I_indexes)\n",
        "    X_S=N-X_I\n",
        "    Historia=[[0,X_S,X_I]]#Focus\n",
        "    while(flag):\n",
        "        #Generar las Lambdas------------------\n",
        "        num_cont_inf_por_indice=np.zeros(N)\n",
        "        for i in range(N):\n",
        "            for j in X_I_indexes:\n",
        "                if (G_network_initial.has_edge(i,j) and G_network_initial.nodes[i]['Estado:']=='Susceptible'):\n",
        "                    num_cont_inf_por_indice[i]+=1\n",
        "        #Sabemos que el rango de K (el número de contactos infecciosos de un susceptible al tiempo $t$) está acotado por I(t):\n",
        "        #Generamos la partición(Del conjunto de susceptibles en riesgo). Orden O(K*N)\n",
        "        P=[]\n",
        "        for k in range(int(X_I)):\n",
        "            P.append([i for i, j in enumerate(num_cont_inf_por_indice) if j == k])\n",
        "        #P[i] es el conjunto de indices de individuos que tienen exactamente $i$ contactos infecciosos.\n",
        "        #Esto se puede mejorar, no me interesa saber quiénes son, sólo cuántos (por ahora).\n",
        "        Lambda=0\n",
        "        Lambdas=[]\n",
        "        for k in range(len(P)):\n",
        "            Lambdas.append(beta*len(P[k])*k)\n",
        "            Lambda+=Lambdas[-1]\n",
        "        Lambdas.append(gamma*X_I)\n",
        "        Lambda+=Lambdas[-1]\n",
        "        #------------------------------\n",
        "        #Paso Monte-Carlo---------------------------\n",
        "        tau,new_reaction=Monte_Carlo_Step_exp(Lambdas,num_cont_inf_por_indice,X_I_indexes)\n",
        "        print(\"tiempo generado\",tau,new_reaction)\n",
        "        #-------------------------------------------\n",
        "        #Actualización del sistema.\n",
        "        if(G_network_initial.nodes[new_reaction]['Estado:']=='Susceptible'):\n",
        "            G_network_initial.nodes[new_reaction]['Estado:']='Infeccioso'\n",
        "            X_I_indexes=np.append(X_I_indexes,new_reaction)\n",
        "            print('Infeccion actualizada')\n",
        "        else:\n",
        "            G_network_initial.nodes[new_reaction]['Estado:']='Recuperado'\n",
        "            X_I_indexes=np.delete(X_I_indexes,np.where(X_I_indexes == new_reaction))\n",
        "            print('Recuperacion actualizada')\n",
        "        t+=tau\n",
        "        X_I=len(X_I_indexes)\n",
        "        X_S=N-X_I\n",
        "        Historia.append([t,X_S,X_I])#Focus\n",
        "        if(X_I==0):\n",
        "            flag=False\n",
        "    return Historia\n",
        "        #-------------------------------------------"
      ],
      "metadata": {
        "id": "yTu6ZhxtCGb_"
      },
      "execution_count": 16,
      "outputs": []
    },
    {
      "cell_type": "markdown",
      "source": [
        "### Ejemplo"
      ],
      "metadata": {
        "id": "eHXYSVbTCHE0"
      }
    },
    {
      "cell_type": "code",
      "source": [
        "N=10**2\n",
        "G=nx.random_degree_sequence_graph(np.random.poisson(10,size=N))\n",
        "np.random.seed(0)\n",
        "X_I_indexes=np.random.choice(N,size=5,replace=False)\n",
        "for k in range(N):\n",
        "    if k in X_I_indexes:\n",
        "        G.nodes[k]['Estado:']='Infeccioso'\n",
        "    else:\n",
        "        G.nodes[k]['Estado:']='Susceptible'"
      ],
      "metadata": {
        "id": "YzP2ZUz5NBW8"
      },
      "execution_count": 10,
      "outputs": []
    },
    {
      "cell_type": "code",
      "source": [
        "H=Gillespie_Direct_Method_Network(beta=1.25,gamma=1,N=N,X_I_indexes=X_I_indexes,G_network_initial=G,T=np.inf)"
      ],
      "metadata": {
        "id": "yGjvq-QBTC6h",
        "outputId": "16d42410-54a4-4e39-9970-d816b58c974e",
        "colab": {
          "base_uri": "https://localhost:8080/"
        }
      },
      "execution_count": 17,
      "outputs": [
        {
          "output_type": "stream",
          "name": "stdout",
          "text": [
            "tiempo generado 0.0003589354858512596 85\n",
            "Infeccion actualizada\n",
            "tiempo generado 0.0018793850069755075 9\n",
            "Infeccion actualizada\n",
            "tiempo generado 0.01582804734403143 87\n",
            "Infeccion actualizada\n",
            "tiempo generado 0.030404676773571376 75\n",
            "Recuperacion actualizada\n",
            "tiempo generado 0.04107373527149124 72\n",
            "Infeccion actualizada\n",
            "tiempo generado 0.015320303805112024 62\n",
            "Infeccion actualizada\n",
            "tiempo generado 0.010209584350168818 57\n",
            "Infeccion actualizada\n",
            "tiempo generado 0.011616760350644056 10\n",
            "Infeccion actualizada\n",
            "tiempo generado 0.002763487705579147 34\n",
            "Infeccion actualizada\n",
            "tiempo generado 0.009095167135234648 12\n",
            "Infeccion actualizada\n",
            "tiempo generado 0.014780748885705262 37\n",
            "Infeccion actualizada\n",
            "tiempo generado 0.003997909542319547 96\n",
            "Infeccion actualizada\n",
            "tiempo generado 0.014722968754899661 92\n",
            "Infeccion actualizada\n",
            "tiempo generado 0.004844946111806728 45\n",
            "Infeccion actualizada\n",
            "tiempo generado 0.005583250739065913 84\n",
            "Infeccion actualizada\n",
            "tiempo generado 0.001977669480807793 36\n",
            "Infeccion actualizada\n",
            "tiempo generado 0.0008306646128923737 22\n",
            "Infeccion actualizada\n",
            "tiempo generado 0.004397545176912954 76\n",
            "Infeccion actualizada\n",
            "tiempo generado 0.0021241705824600263 43\n",
            "Infeccion actualizada\n",
            "tiempo generado 0.00294324710513294 9\n",
            "Recuperacion actualizada\n",
            "tiempo generado 0.006543115529694528 51\n",
            "Infeccion actualizada\n",
            "tiempo generado 0.0032992844900694073 35\n",
            "Infeccion actualizada\n",
            "tiempo generado 0.0008899652653008106 68\n",
            "Infeccion actualizada\n",
            "tiempo generado 0.009465657285702124 29\n",
            "Infeccion actualizada\n",
            "tiempo generado 0.00031855728856195186 91\n",
            "Infeccion actualizada\n",
            "tiempo generado 0.008857085745548488 34\n",
            "Recuperacion actualizada\n",
            "tiempo generado 0.001192405914125231 47\n",
            "Infeccion actualizada\n",
            "tiempo generado 0.0008472214843597542 53\n",
            "Infeccion actualizada\n",
            "tiempo generado 0.0008667228864429721 78\n",
            "Infeccion actualizada\n",
            "tiempo generado 0.003916985217514516 39\n",
            "Infeccion actualizada\n",
            "tiempo generado 0.003961191210291022 17\n",
            "Infeccion actualizada\n",
            "tiempo generado 0.003751053069662609 95\n",
            "Infeccion actualizada\n",
            "tiempo generado 0.012975449534490903 24\n",
            "Infeccion actualizada\n",
            "tiempo generado 0.0007716556144390806 35\n",
            "Recuperacion actualizada\n",
            "tiempo generado 0.002361840945515936 68\n",
            "Recuperacion actualizada\n",
            "tiempo generado 0.0012103408271743018 56\n",
            "Infeccion actualizada\n",
            "tiempo generado 0.008787079977026714 43\n",
            "Recuperacion actualizada\n",
            "tiempo generado 0.0008607292845048991 69\n",
            "Infeccion actualizada\n",
            "tiempo generado 0.0027594522473002553 20\n",
            "Infeccion actualizada\n",
            "tiempo generado 0.019271662187121515 21\n",
            "Infeccion actualizada\n",
            "tiempo generado 0.0006105316731753179 63\n",
            "Infeccion actualizada\n",
            "tiempo generado 0.009622310430477189 70\n",
            "Infeccion actualizada\n",
            "tiempo generado 2.2711137335946742e-07 98\n",
            "Infeccion actualizada\n",
            "tiempo generado 0.0008222132936756649 26\n",
            "Recuperacion actualizada\n",
            "tiempo generado 0.0027097562170239776 93\n",
            "Infeccion actualizada\n",
            "tiempo generado 0.0012092939308711629 27\n",
            "Infeccion actualizada\n",
            "tiempo generado 0.005111411150335158 64\n",
            "Infeccion actualizada\n",
            "tiempo generado 0.0025369829439895247 46\n",
            "Infeccion actualizada\n",
            "tiempo generado 0.005605218963588785 5\n",
            "Infeccion actualizada\n",
            "tiempo generado 0.004875997335577855 32\n",
            "Infeccion actualizada\n",
            "tiempo generado 0.0006234094288786099 15\n",
            "Infeccion actualizada\n",
            "tiempo generado 0.005453742160729725 1\n",
            "Infeccion actualizada\n",
            "tiempo generado 0.0032232367472133806 79\n",
            "Infeccion actualizada\n",
            "tiempo generado 0.0014088463941962222 82\n",
            "Infeccion actualizada\n",
            "tiempo generado 0.0031966149149548926 14\n",
            "Infeccion actualizada\n",
            "tiempo generado 0.01631392002161755 66\n",
            "Infeccion actualizada\n",
            "tiempo generado 0.0025618795928247294 57\n",
            "Recuperacion actualizada\n",
            "tiempo generado 0.003660890480228141 40\n",
            "Infeccion actualizada\n",
            "tiempo generado 0.011717880896338052 64\n",
            "Recuperacion actualizada\n",
            "tiempo generado 0.0026794466412109353 50\n",
            "Infeccion actualizada\n",
            "tiempo generado 0.007652233628099227 16\n",
            "Infeccion actualizada\n",
            "tiempo generado 0.007836952096802153 54\n",
            "Infeccion actualizada\n",
            "tiempo generado 0.005625203636083971 38\n",
            "Infeccion actualizada\n",
            "tiempo generado 0.0005918594353181667 54\n",
            "Recuperacion actualizada\n",
            "tiempo generado 0.002934611960671591 52\n",
            "Infeccion actualizada\n",
            "tiempo generado 0.0034727270557382917 80\n",
            "Infeccion actualizada\n",
            "tiempo generado 0.006204086499955889 11\n",
            "Infeccion actualizada\n",
            "tiempo generado 0.006136206137254746 91\n",
            "Recuperacion actualizada\n",
            "tiempo generado 0.00022901929968538364 71\n",
            "Infeccion actualizada\n",
            "tiempo generado 0.001485653249373208 2\n",
            "Recuperacion actualizada\n",
            "tiempo generado 0.0003855217596663966 44\n",
            "Infeccion actualizada\n",
            "tiempo generado 0.005647243333280793 82\n",
            "Recuperacion actualizada\n",
            "tiempo generado 0.0004279623981236834 33\n",
            "Infeccion actualizada\n",
            "tiempo generado 0.0015307518944481558 73\n",
            "Infeccion actualizada\n",
            "tiempo generado 0.0024906030660529583 78\n",
            "Recuperacion actualizada\n",
            "tiempo generado 0.0021170232328597653 77\n",
            "Infeccion actualizada\n",
            "tiempo generado 0.004893092562709722 99\n",
            "Infeccion actualizada\n",
            "tiempo generado 0.0013792196492392965 61\n",
            "Infeccion actualizada\n",
            "tiempo generado 0.010176383792668962 25\n",
            "Infeccion actualizada\n",
            "tiempo generado 0.012002076639408962 83\n",
            "Infeccion actualizada\n",
            "tiempo generado 0.009933254785256402 60\n",
            "Infeccion actualizada\n",
            "tiempo generado 0.004813202336135004 90\n",
            "Infeccion actualizada\n",
            "tiempo generado 0.0008092690546838537 48\n",
            "Infeccion actualizada\n",
            "tiempo generado 0.0006416429272996514 88\n",
            "Infeccion actualizada\n",
            "tiempo generado 0.0006727515589138173 59\n",
            "Infeccion actualizada\n",
            "tiempo generado 0.010516219681475418 81\n",
            "Infeccion actualizada\n",
            "tiempo generado 0.00048038934838962413 49\n",
            "Infeccion actualizada\n",
            "tiempo generado 0.0019346209787103944 88\n",
            "Recuperacion actualizada\n",
            "tiempo generado 0.0064754782844315475 92\n",
            "Recuperacion actualizada\n",
            "tiempo generado 0.007928050418408328 10\n",
            "Recuperacion actualizada\n",
            "tiempo generado 0.0035045088304739656 16\n",
            "Recuperacion actualizada\n",
            "tiempo generado 0.0031336285130754817 37\n",
            "Recuperacion actualizada\n",
            "tiempo generado 0.010247110576773725 13\n",
            "Infeccion actualizada\n",
            "tiempo generado 0.0004801750291360296 97\n",
            "Infeccion actualizada\n",
            "tiempo generado 0.00035782152356174 0\n",
            "Infeccion actualizada\n",
            "tiempo generado 0.007552749386143084 23\n",
            "Infeccion actualizada\n",
            "tiempo generado 0.002444070978658145 30\n",
            "Infeccion actualizada\n",
            "tiempo generado 0.004353895707205453 47\n",
            "Recuperacion actualizada\n",
            "tiempo generado 0.016797223146240638 71\n",
            "Recuperacion actualizada\n",
            "tiempo generado 0.00034230558519721794 89\n",
            "Infeccion actualizada\n",
            "tiempo generado 0.004464773529955616 19\n",
            "Infeccion actualizada\n",
            "tiempo generado 0.0015720177421626592 7\n",
            "Infeccion actualizada\n",
            "tiempo generado 0.004287973780892847 45\n",
            "Recuperacion actualizada\n",
            "tiempo generado 0.02357205768419423 50\n",
            "Recuperacion actualizada\n",
            "tiempo generado 0.00240623478208421 13\n",
            "Recuperacion actualizada\n",
            "tiempo generado 0.004433838495331619 12\n",
            "Recuperacion actualizada\n",
            "tiempo generado 0.0025471100003024313 97\n",
            "Recuperacion actualizada\n",
            "tiempo generado 0.0019055530713406234 61\n",
            "Recuperacion actualizada\n",
            "tiempo generado 0.007102002257467881 87\n",
            "Recuperacion actualizada\n",
            "tiempo generado 0.003927417252910195 31\n",
            "Infeccion actualizada\n",
            "tiempo generado 0.009818871511612605 58\n",
            "Infeccion actualizada\n",
            "tiempo generado 0.019363185710482286 4\n",
            "Infeccion actualizada\n",
            "tiempo generado 0.021138507504816672 67\n",
            "Infeccion actualizada\n",
            "tiempo generado 0.01817246952970164 8\n",
            "Infeccion actualizada\n",
            "tiempo generado 0.0023565428557390717 94\n",
            "Infeccion actualizada\n",
            "tiempo generado 0.002331724112790756 14\n",
            "Recuperacion actualizada\n",
            "tiempo generado 0.02199673578878621 42\n",
            "Infeccion actualizada\n",
            "tiempo generado 0.0043717047829221365 41\n",
            "Infeccion actualizada\n",
            "tiempo generado 0.015117687863867923 72\n",
            "Recuperacion actualizada\n",
            "tiempo generado 0.00349114273383286 90\n",
            "Recuperacion actualizada\n",
            "tiempo generado 0.013018463346206011 0\n",
            "Recuperacion actualizada\n",
            "tiempo generado 0.009976334047497967 1\n",
            "Recuperacion actualizada\n",
            "tiempo generado 0.004299868103142897 18\n",
            "Infeccion actualizada\n",
            "tiempo generado 0.0014210363407340379 15\n",
            "Recuperacion actualizada\n",
            "tiempo generado 0.0007462576224265292 6\n",
            "Infeccion actualizada\n",
            "tiempo generado 0.012771919089361868 46\n",
            "Recuperacion actualizada\n",
            "tiempo generado 0.005231167655175516 96\n",
            "Recuperacion actualizada\n",
            "tiempo generado 0.00021959768980251134 44\n",
            "Recuperacion actualizada\n",
            "tiempo generado 0.01022282639290741 33\n",
            "Recuperacion actualizada\n",
            "tiempo generado 0.010143766248091945 5\n",
            "Recuperacion actualizada\n",
            "tiempo generado 0.0073007179542706165 51\n",
            "Recuperacion actualizada\n",
            "tiempo generado 0.026621844508075775 30\n",
            "Recuperacion actualizada\n",
            "tiempo generado 0.005746022697485609 62\n",
            "Recuperacion actualizada\n",
            "tiempo generado 0.012437067618943682 86\n",
            "Recuperacion actualizada\n",
            "tiempo generado 0.025420674006222867 3\n",
            "Infeccion actualizada\n",
            "tiempo generado 0.007851630961385825 28\n",
            "Infeccion actualizada\n",
            "tiempo generado 0.007246050588326833 4\n",
            "Recuperacion actualizada\n",
            "tiempo generado 0.018999204541892255 21\n",
            "Recuperacion actualizada\n",
            "tiempo generado 0.0158591934761707 76\n",
            "Recuperacion actualizada\n",
            "tiempo generado 0.012404058439169065 53\n",
            "Recuperacion actualizada\n",
            "tiempo generado 0.019904200968076796 65\n",
            "Infeccion actualizada\n",
            "tiempo generado 0.013874610049905917 20\n",
            "Recuperacion actualizada\n",
            "tiempo generado 0.01305758875856601 29\n",
            "Recuperacion actualizada\n",
            "tiempo generado 0.00799008241249179 42\n",
            "Recuperacion actualizada\n",
            "tiempo generado 0.06736686945242405 70\n",
            "Recuperacion actualizada\n",
            "tiempo generado 0.017043855466471573 93\n",
            "Recuperacion actualizada\n",
            "tiempo generado 0.026017984634687675 11\n",
            "Recuperacion actualizada\n",
            "tiempo generado 0.021481329287982312 60\n",
            "Recuperacion actualizada\n",
            "tiempo generado 0.03778259189747602 8\n",
            "Recuperacion actualizada\n",
            "tiempo generado 0.025641199595715147 19\n",
            "Recuperacion actualizada\n",
            "tiempo generado 0.022985171192657767 74\n",
            "Infeccion actualizada\n",
            "tiempo generado 0.017770100353297406 6\n",
            "Recuperacion actualizada\n",
            "tiempo generado 0.027535528819725198 52\n",
            "Recuperacion actualizada\n",
            "tiempo generado 0.04174876414881474 98\n",
            "Recuperacion actualizada\n",
            "tiempo generado 0.05317123052711839 28\n",
            "Recuperacion actualizada\n",
            "tiempo generado 0.012955696440853925 55\n",
            "Recuperacion actualizada\n",
            "tiempo generado 0.017912911842597082 22\n",
            "Recuperacion actualizada\n",
            "tiempo generado 0.003391543320693754 63\n",
            "Recuperacion actualizada\n",
            "tiempo generado 0.09327054034115065 77\n",
            "Recuperacion actualizada\n",
            "tiempo generado 0.007863123299259481 80\n",
            "Recuperacion actualizada\n",
            "tiempo generado 0.024793004438250357 99\n",
            "Recuperacion actualizada\n",
            "tiempo generado 0.07013574647355254 67\n",
            "Recuperacion actualizada\n",
            "tiempo generado 0.012391440281136734 3\n",
            "Recuperacion actualizada\n",
            "tiempo generado 0.0755953549161943 73\n",
            "Recuperacion actualizada\n",
            "tiempo generado 0.0019940692997554785 56\n",
            "Recuperacion actualizada\n",
            "tiempo generado 0.006792846013448488 59\n",
            "Recuperacion actualizada\n",
            "tiempo generado 0.03850064095514415 48\n",
            "Recuperacion actualizada\n",
            "tiempo generado 0.013803363974061558 95\n",
            "Recuperacion actualizada\n",
            "tiempo generado 0.023559387227591055 23\n",
            "Recuperacion actualizada\n",
            "tiempo generado 0.13515303182909152 24\n",
            "Recuperacion actualizada\n",
            "tiempo generado 0.0026117439612674724 18\n",
            "Recuperacion actualizada\n",
            "tiempo generado 0.021508476949092113 94\n",
            "Recuperacion actualizada\n",
            "tiempo generado 0.03141748866862885 74\n",
            "Recuperacion actualizada\n",
            "tiempo generado 0.040758446671260704 66\n",
            "Recuperacion actualizada\n",
            "tiempo generado 0.006820155827604442 79\n",
            "Recuperacion actualizada\n",
            "tiempo generado 0.052822049438276134 84\n",
            "Recuperacion actualizada\n",
            "tiempo generado 0.02664547136620336 58\n",
            "Recuperacion actualizada\n",
            "tiempo generado 0.07100011954081088 36\n",
            "Recuperacion actualizada\n",
            "tiempo generado 0.01824683093413682 32\n",
            "Recuperacion actualizada\n",
            "tiempo generado 0.09039422255707083 81\n",
            "Recuperacion actualizada\n",
            "tiempo generado 0.0057080529191869955 40\n",
            "Recuperacion actualizada\n",
            "tiempo generado 0.019781587422339725 31\n",
            "Recuperacion actualizada\n",
            "tiempo generado 0.15758332123013072 25\n",
            "Recuperacion actualizada\n",
            "tiempo generado 0.03276810697392783 49\n",
            "Recuperacion actualizada\n",
            "tiempo generado 0.12436854798844411 83\n",
            "Recuperacion actualizada\n",
            "tiempo generado 0.40999346935706465 38\n",
            "Recuperacion actualizada\n",
            "tiempo generado 0.02640731818270041 89\n",
            "Recuperacion actualizada\n",
            "tiempo generado 0.13366638422589808 7\n",
            "Recuperacion actualizada\n",
            "tiempo generado 0.013509533381080265 65\n",
            "Recuperacion actualizada\n",
            "tiempo generado 0.04608128068810608 27\n",
            "Recuperacion actualizada\n",
            "tiempo generado 0.45379381006330316 39\n",
            "Recuperacion actualizada\n",
            "tiempo generado 0.03077761315984031 41\n",
            "Recuperacion actualizada\n",
            "tiempo generado 1.1397121688862386 17\n",
            "Recuperacion actualizada\n",
            "tiempo generado 0.06239375979179221 69\n",
            "Recuperacion actualizada\n",
            "tiempo generado 0.26822309107756115 85\n",
            "Recuperacion actualizada\n"
          ]
        }
      ]
    },
    {
      "cell_type": "code",
      "source": [
        "H"
      ],
      "metadata": {
        "id": "wyteLMNcTjX8",
        "outputId": "4c81a4ef-cf50-441d-ef09-bdcef047aa8b",
        "colab": {
          "base_uri": "https://localhost:8080/"
        }
      },
      "execution_count": 93,
      "outputs": [
        {
          "output_type": "execute_result",
          "data": {
            "text/plain": [
              "[[0, 995, 5], [0.007669482187925033, 994, 6]]"
            ]
          },
          "metadata": {},
          "execution_count": 93
        }
      ]
    },
    {
      "cell_type": "code",
      "source": [
        "H=pd.DataFrame(H,columns=['time','S(t)','I(t)'])\n",
        "plt.plot(H['time'],H['I(t)'], 'gray')\n",
        "plt.title('Simulaciones exactas')\n",
        "plt.show()"
      ],
      "metadata": {
        "id": "ymrK4BPGS8Js",
        "outputId": "12b7a302-0158-4117-e734-69976413e6ec",
        "colab": {
          "base_uri": "https://localhost:8080/",
          "height": 281
        }
      },
      "execution_count": 18,
      "outputs": [
        {
          "output_type": "display_data",
          "data": {
            "text/plain": [
              "<Figure size 432x288 with 1 Axes>"
            ],
            "image/png": "[encoded data removed]"
          },
          "metadata": {
            "needs_background": "light"
          }
        }
      ]
    },
    {
      "cell_type": "markdown",
      "metadata": {
        "id": "rQbk4KPG8tN1"
      },
      "source": [
        "## Método directo para SIR no-markoviano.\n",
        "\n"
      ]
    },
    {
      "cell_type": "markdown",
      "metadata": {
        "id": "n_fAcMAI8uqF"
      },
      "source": [
        "## Método directo para SIR no-markoviano en redes"
      ]
    },
    {
      "cell_type": "code",
      "execution_count": null,
      "metadata": {
        "id": "ptgk3mpl8hw_"
      },
      "outputs": [],
      "source": []
    },
    {
      "cell_type": "code",
      "execution_count": null,
      "metadata": {
        "id": "RUu4sgbW8YE2"
      },
      "outputs": [],
      "source": []
    }
  ],
  "metadata": {
    "colab": {
      "provenance": [],
      "authorship_tag": "ABX9TyOjitJdHKCsqtA9Ls2+6teO",
      "include_colab_link": true
    },
    "kernelspec": {
      "display_name": "Python 3",
      "name": "python3"
    },
    "language_info": {
      "name": "python"
    }
  },
  "nbformat": 4,
  "nbformat_minor": 0
}