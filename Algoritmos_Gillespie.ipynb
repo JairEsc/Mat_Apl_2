{
  "cells": [
    {
      "cell_type": "markdown",
      "metadata": {
        "id": "view-in-github",
        "colab_type": "text"
      },
      "source": [
        "<a href=\"https://colab.research.google.com/github/JairEsc/Mat_Apl_2/blob/main/Algoritmos_Gillespie.ipynb\" target=\"_parent\"><img src=\"https://colab.research.google.com/assets/colab-badge.svg\" alt=\"Open In Colab\"/></a>"
      ]
    },
    {
      "cell_type": "markdown",
      "metadata": {
        "id": "lpZbQHpw8apO"
      },
      "source": [
        "# Métodos de Gillespie"
      ]
    },
    {
      "cell_type": "code",
      "execution_count": 1,
      "metadata": {
        "id": "hyFIKwWx-ZRp"
      },
      "outputs": [],
      "source": [
        "import numpy as np\n",
        "import pandas as pd\n",
        "import matplotlib.pyplot as plt"
      ]
    },
    {
      "cell_type": "markdown",
      "metadata": {
        "id": "Q3CKlr2F8iEk"
      },
      "source": [
        "## Método de siguiente reacción sin redes"
      ]
    },
    {
      "cell_type": "code",
      "execution_count": 2,
      "metadata": {
        "id": "fYplAxDs8-Th"
      },
      "outputs": [],
      "source": [
        "def Gillespie_First_Reaction(N,X_S,X_I,beta,gamma,T=np.inf):\n",
        "    #X_R=N-X_S-X_I\n",
        "    #tiempo\n",
        "    flag=True\n",
        "    t=0\n",
        "    Historia=[[0,X_S,X_I]]\n",
        "    while(flag):\n",
        "        tau=np.random.exponential(1/((beta/N)*X_S*X_I+gamma*X_I))\n",
        "        p=np.random.uniform(0,1)\n",
        "        if(p<(beta*X_S/N)/((beta/N)*X_S+gamma)):#Infeccion\n",
        "            X_S+=-1\n",
        "            X_I+=1\n",
        "        else:\n",
        "            X_I-=1\n",
        "        t+=tau\n",
        "        Historia.append([t,X_S,X_I])\n",
        "        if(X_S==0 or X_I==0 or t>T):\n",
        "            flag=False\n",
        "    return Historia"
      ]
    },
    {
      "cell_type": "markdown",
      "metadata": {
        "id": "NBkaeBK7-6pB"
      },
      "source": [
        "### Ejemplo"
      ]
    },
    {
      "cell_type": "code",
      "execution_count": 4,
      "metadata": {
        "id": "8u3KJ-0n-6Du",
        "colab": {
          "base_uri": "https://localhost:8080/",
          "height": 281
        },
        "outputId": "6ba6604c-50ac-49b6-95fc-af477b7cdee9"
      },
      "outputs": [
        {
          "output_type": "display_data",
          "data": {
            "text/plain": [
              "<Figure size 432x288 with 1 Axes>"
            ],
            "image/png": "[encoded data removed]"
          },
          "metadata": {
            "needs_background": "light"
          }
        }
      ],
      "source": [
        "N=10**5\n",
        "S_0=N-2\n",
        "I_0=N-S_0\n",
        "beta=1.25\n",
        "gamma=1\n",
        "for k in range(10):\n",
        "    H=Gillespie_First_Reaction(N,S_0,I_0,1.25,1)\n",
        "    while(len(H)<10):\n",
        "        H=Gillespie_First_Reaction(N,S_0,I_0,1.25,1)\n",
        "    H=pd.DataFrame(H,columns=['time','S(t)','I(t)'])\n",
        "    plt.plot(H['time'],H['I(t)'], 'gray')\n",
        "plt.title('Simulaciones exactas')\n",
        "plt.show()"
      ]
    },
    {
      "cell_type": "markdown",
      "metadata": {
        "id": "LwPmnQz18tAP"
      },
      "source": [
        "## Método directo para SIR markoviano en redes"
      ]
    },
    {
      "cell_type": "code",
      "source": [
        "import networkx as nx"
      ],
      "metadata": {
        "id": "Xvpw91TyDwis"
      },
      "execution_count": 2,
      "outputs": []
    },
    {
      "cell_type": "code",
      "source": [
        "def update_dict_add(dict_num_contacts,k,s_i):\n",
        "    u= dict_num_contacts[k].copy()\n",
        "    u.append(s_i)\n",
        "    dict_num_contacts[k]=u\n",
        "    return dict_num_contacts"
      ],
      "metadata": {
        "id": "f4ZgJjrJh-hv"
      },
      "execution_count": 3,
      "outputs": []
    },
    {
      "cell_type": "code",
      "source": [
        "def update_dict_remove(dict_num_contacts,k,s_i):\n",
        "    u= dict_num_contacts[k].copy()\n",
        "    u.remove(s_i)\n",
        "    dict_num_contacts[k]=u\n",
        "    return dict_num_contacts"
      ],
      "metadata": {
        "id": "xkp9gRT_tger"
      },
      "execution_count": 4,
      "outputs": []
    },
    {
      "cell_type": "code",
      "source": [
        "def Monte_Carlo_Step_exp(Lambdas,dict_num_contacts,X_I_indexes):\n",
        "    Lambda=np.sum(Lambdas)\n",
        "    tau=np.random.exponential(scale=1/Lambda)#Tiempo de siguiente reacción, hasta ahora desconocida.\n",
        "    u_2=np.random.uniform(0,1)\n",
        "    if(u_2<(Lambda-Lambdas[-1])/Lambda):#Infeccion\n",
        "        u_3=np.random.uniform(0,1)\n",
        "        D=0\n",
        "        k=0\n",
        "        while(u_3>D):\n",
        "            k+=1\n",
        "            D+=Lambdas[k]/(Lambda-Lambdas[-1])\n",
        "        #k es el número de contactos infecciosos del seleccionado.\n",
        "        #Seleccionamos uno aleatoriamente de ese grupo\n",
        "        new_reaction=np.random.choice(dict_num_contacts[k])\n",
        "    else:#Recuperación\n",
        "        k=-1\n",
        "        #Seleccionar un infeccioso al azar.\n",
        "        new_reaction=np.random.choice(X_I_indexes)\n",
        "    return tau,new_reaction,k\n",
        "#Monte_Carlo_Step_exp(Lambdas)"
      ],
      "metadata": {
        "id": "ykDuyghmGQdO"
      },
      "execution_count": 5,
      "outputs": []
    },
    {
      "cell_type": "code",
      "source": [
        "def Gillespie_Direct_Method_Network(beta,gamma,N,X_I_indexes,G_network_initial=nx.Graph(),T=np.inf):\n",
        "    #X_R=N-X_S-X_I\n",
        "    #tiempo\n",
        "    flag=True\n",
        "    t=0\n",
        "    X_I=len(X_I_indexes)\n",
        "    X_S=N-X_I\n",
        "    Historia=[[0,X_S,X_I]]#Focus\n",
        "    dict_num_contacts = dict.fromkeys(range(X_I+1),[])\n",
        "    num_cont_inf_por_indice=np.zeros(N)\n",
        "    for i in range(N):\n",
        "        if(i not in X_I_indexes): #No es infeccioso\n",
        "            count_for_i=0\n",
        "            for j in X_I_indexes:\n",
        "                if (G_network_initial.has_edge(i,j)):#Es un contacto Susceptible-infeccioso\n",
        "                    num_cont_inf_por_indice[i]+=1#Ya que voy a hacer los ciclos, mejor la guardo igual.\n",
        "                    count_for_i+=1\n",
        "            dict_num_contacts=update_dict_add(dict_num_contacts,count_for_i,i)\n",
        "    #print(dict_num_contacts)\n",
        "    while(flag):\n",
        "        #Generar las Lambdas------------------\n",
        "        Lambda=0\n",
        "        Lambdas=[]\n",
        "        for k in range(len(list(dict_num_contacts.keys()))):\n",
        "            Lambdas.append(beta*len(dict_num_contacts[k])*k)\n",
        "            Lambda+=Lambdas[-1]\n",
        "        Lambdas.append(gamma*X_I)\n",
        "        Lambda+=Lambdas[-1]\n",
        "        #------------------------------\n",
        "        #Paso Monte-Carlo---------------------------\n",
        "        tau,new_reaction,k_choice=Monte_Carlo_Step_exp(Lambdas,dict_num_contacts,X_I_indexes)\n",
        "        #print(\"tiempo generado\",tau,new_reaction)\n",
        "        #-------------------------------------------\n",
        "        #Actualización del sistema.\n",
        "        if(G_network_initial.nodes[new_reaction]['Estado:']=='Susceptible'):\n",
        "            G_network_initial.nodes[new_reaction]['Estado:']='Infeccioso'\n",
        "            X_I_indexes=np.append(X_I_indexes,new_reaction)\n",
        "            #print('Infeccion actualizada')\n",
        "            i=new_reaction\n",
        "            #print(new_reaction,' infectado al tiempo ', tau, ' del grupo ', 'k=',k_choice)\n",
        "            dict_num_contacts=update_dict_remove(dict_num_contacts,k_choice,i)#Saca al nuevo infeccioso del conjunto con exactamente k_choice contactos infecciosos.\n",
        "            #print(\"Si removido\")\n",
        "            #Ahora a todos los individuos que tenian contacto con el nuevo infeccioso, les aumentamos un contacto infeccioso.\n",
        "            num_max_cont=list(dict_num_contacts.keys())[-1]\n",
        "            for vecino in G_network_initial.neighbors(i):#Para cada vecino del nuevo infectado, le aumentamos el numero de contactos en 1. (lo agregamos a la siguiente categoria y lo sacamos de la anterior)\n",
        "                if (G_network_initial.nodes[vecino]['Estado:']=='Susceptible'):\n",
        "                    \n",
        "                    num_cont_del_vecino=num_cont_inf_por_indice[vecino]\n",
        "                    #print('el vecino ', vecino, ' del nuevo infectado ', i,' tiene ', num_cont_del_vecino,' contactos')\n",
        "                    if(num_cont_del_vecino+1>num_max_cont):\n",
        "                        dict_num_contacts.update({num_cont_del_vecino+1:[vecino]})\n",
        "                    else:\n",
        "                        dict_num_contacts=update_dict_add(dict_num_contacts,num_cont_del_vecino+1,vecino)\n",
        "                    #print('el vecino ', vecino, ' ya no tiene ', num_cont_del_vecino, ' asi que lo borramos')\n",
        "                    dict_num_contacts=update_dict_remove(dict_num_contacts,num_cont_del_vecino,vecino)\n",
        "                    num_cont_inf_por_indice[vecino]+=1#Actualizamos ambas fuentes de informacion\n",
        "        else:\n",
        "            G_network_initial.nodes[new_reaction]['Estado:']='Recuperado'\n",
        "            X_I_indexes=np.delete(X_I_indexes,np.where(X_I_indexes == new_reaction))#Vale la pena pasarlo a lista para usar remove()?\n",
        "            #print('Recuperacion actualizada')\n",
        "            i=new_reaction\n",
        "            #Hay que actualizar los números de contactos de los susceptibles que tenían contacto con este infeccioso.\n",
        "            for vecino in G_network_initial.neighbors(i):#Podria ser que ya no tuviera ningun contacto\n",
        "                num_cont_del_vecino=num_cont_inf_por_indice[vecino]\n",
        "                if(num_cont_del_vecino!=0):# no hay vecinos\n",
        "                    dict_num_contacts=update_dict_add(dict_num_contacts,num_cont_del_vecino-1,vecino)\n",
        "                    num_cont_inf_por_indice[vecino]-=1#Actualizamos ambas fuentes de informacion\n",
        "        t+=tau\n",
        "        X_I=len(X_I_indexes)\n",
        "        X_S=N-X_I\n",
        "        Historia.append([t,X_S,X_I])#Focus\n",
        "        #print(X_S)\n",
        "        #print(dict_num_contacts)\n",
        "        if(X_I==0):\n",
        "            flag=False\n",
        "    return Historia\n",
        "        #-------------------------------------------"
      ],
      "metadata": {
        "id": "yTu6ZhxtCGb_"
      },
      "execution_count": 6,
      "outputs": []
    },
    {
      "cell_type": "markdown",
      "source": [
        "### Ejemplo"
      ],
      "metadata": {
        "id": "eHXYSVbTCHE0"
      }
    },
    {
      "cell_type": "code",
      "source": [
        "N=10**3\n",
        "ksum=1\n",
        "while(ksum%2!=0):#Que defina una grafica.\n",
        "        k_dist=np.random.poisson(10,size=N)\n",
        "        ksum=sum(k_dist)\n",
        "G=nx.random_degree_sequence_graph(k_dist)\n",
        "np.random.seed(0)\n",
        "X_I_indexes=np.random.choice(N,size=5,replace=False)\n",
        "for k in range(N):\n",
        "    if k in X_I_indexes:\n",
        "        G.nodes[k]['Estado:']='Infeccioso'\n",
        "    else:\n",
        "        G.nodes[k]['Estado:']='Susceptible'"
      ],
      "metadata": {
        "id": "YzP2ZUz5NBW8"
      },
      "execution_count": 7,
      "outputs": []
    },
    {
      "cell_type": "code",
      "source": [
        "S_0=N-5\n",
        "I_0=N-S_0\n",
        "beta=1.25\n",
        "gamma=1\n",
        "for k in range(10):\n",
        "    H=[]\n",
        "    G_copy=G.copy()\n",
        "    while(len(H)<20):\n",
        "        H=Gillespie_Direct_Method_Network(beta=beta,gamma=gamma,N=N,X_I_indexes=X_I_indexes,G_network_initial=G_copy,T=np.inf)\n",
        "    H=pd.DataFrame(H,columns=['time','S(t)','I(t)'])\n",
        "    plt.plot(H['time'],H['I(t)'], 'gray',linewidth=0.5)\n",
        "plt.title('Simulaciones exactas')\n",
        "plt.show()"
      ],
      "metadata": {
        "id": "yGjvq-QBTC6h",
        "outputId": "9d57e6f8-e2e4-471f-f7f8-0f94bc681386",
        "colab": {
          "base_uri": "https://localhost:8080/",
          "height": 281
        }
      },
      "execution_count": 9,
      "outputs": [
        {
          "output_type": "display_data",
          "data": {
            "text/plain": [
              "<Figure size 432x288 with 1 Axes>"
            ],
            "image/png": "[encoded data removed]"
          },
          "metadata": {
            "needs_background": "light"
          }
        }
      ]
    },
    {
      "cell_type": "markdown",
      "metadata": {
        "id": "rQbk4KPG8tN1"
      },
      "source": [
        "## Método directo para SIR no-markoviano.\n",
        "\n"
      ]
    },
    {
      "cell_type": "markdown",
      "source": [
        "## Ejercicio didáctico para no-markoviano"
      ],
      "metadata": {
        "id": "HWEt9xT0jZ-R"
      }
    },
    {
      "cell_type": "markdown",
      "source": [
        "Supongamos $X_I$ individuos infectados. No hay dinámica de contagio. \n",
        "\n",
        "Caso 1. Aplicación de una vacuna. \n",
        "\n",
        "Por ejemplo, si conocemos que una vacuna se aplicará aleatoriamente según una distribución no exponencial.\n",
        "\n",
        "Sea $\\psi_R$ la f.d.p. de tiempos de inter-ocurrencia de recuperación (o aplicación de la vacuna). Naturalmente, aquí, el tiempo de la siguiente recuperación depende del tiempo de la última recuperación, sin embargo, este ejemplo es sencilo porque solamente hay un canal de reacción ($M=1$) porque el evento es: Aplicar vacuna aleatoriamente (la aplicación no considera el tiempo que llevas enfermo, es decir, no hay prioridad. El caso siguiente cubre ese caso).\n",
        "\n",
        "Formalmente, sea $t_u$ el tiempo de la última recuperación. La condición inicial del sistema es $t_u=0$. \n",
        "\n",
        "Como sabemos, hace falta calcular $$\\Phi(\\tau)=\\prod \\limits_{j=1}^M \\frac{\\Psi_j(\\tilde{t}_j +\\tau) }{\\Psi_j(\\tilde{t}_j)},$$\n",
        "donde $\\Psi_j(t)$ es la función de supervivencia de la densidad $\\psi_j$,\n",
        "y resolver $\\Phi(\\tau)=u$ donde $u\\sim U(0,1)$.\n",
        "\n",
        "Como $M=1$, generar estos número es equivalente \n",
        "Caso 2. Una cuarentena super-efectiva.\n",
        "\n",
        "\n",
        "\n"
      ],
      "metadata": {
        "id": "2IJjXum3jfJl"
      }
    },
    {
      "cell_type": "markdown",
      "source": [
        "## Explicación. \n",
        "\n",
        "Al igual que el caso Markoviano, tenemos dos posibles reacciones. Una infección y una recuperación. \n",
        "\n",
        "Duda: ¿La distribución de los tiempos dependen de la última vez que ocurrió una interacción? Suena a que sí, pero en el caso de una gráfica completa, que debería ser el equivalente, parece que no es necesario.\n",
        "(Un escenario)\n",
        "\n",
        "Sean $\\phi_I$ y $\\phi_R$ las f.d.p. de los tiempos de inter-ocurrencia de los eventos de infección y recuperación, respectivamente. \n",
        "\n",
        "En el caso markoviano se sabe que la distribución de los tiempos de inter-ocurrencia de infección dependen linealmente del número de individuos infecciosos en la población. Por ejemplo, en una población con $X_S$ individuos susceptibles y $X_I$ infecciosos, la tasa del proceso de Poisson que simula los contactos, y por lo tanto es el parámetro de una distribución exponencial (tiempos de inter-ocurrencia) es $\\beta \\cdot X_S\\cdot X_I$, que coincide con el parámetro del mínimo de una colección de $X_S$ variables aleatorias independientes, cada una de distribución exponencial de parámetro $\\lambda \\cdot X_I$. \n",
        "\n",
        "Como en el caso no-markoviano esto no es necesariamente cierto, entonces para cada individuo susceptible, es decir, la colección de v.a. de distribuciones "
      ],
      "metadata": {
        "id": "qDBlxH5fbj_5"
      }
    },
    {
      "cell_type": "markdown",
      "source": [
        "Ya me queda más clara la conexión entre markoviano y Ley de Acción de Masas. \n",
        "\n",
        "\n",
        "Supongamos una población de $X_S$ individuos susceptibles y $X_I$ individuos infecciosos, sin redes. Si nos concentramos en un individuo susceptible, como no hay red (es equivalente a que hay una red completa), tiene un posible contacto con cada uno de los infecciosos, con tasa instantánea $\\beta$. Es decir, el tiempo de la siguiente infección con uno de estos infecciosos (seleccionado arbitrariamente) sigue una distribución exponencial de parámetro $\\beta$, luego, el tiempo en el que tiene contacto con alguno de estos infecciosos (porque el mínimo de v.a. exponenciales independientes es exponencial de parámetro la suma de los parámetros) sigue una distribución exponencial de parámetro $\\beta \\cdot X_I$. Esto es para un susceptible cualquiera, así que el tiempo en el algún susceptible tiene contacto con algún infeccioso, por la misma propiedad; sigue una distribución exponencial de parámetro $\\beta \\cdot X_I\\cdot X_S$."
      ],
      "metadata": {
        "id": "pNvpc3CWhTqH"
      }
    },
    {
      "cell_type": "code",
      "source": [
        "def pdf_Weibull(x,lammbda,a):\n",
        "    # a=1 es una exponencial.\n",
        "    return (a/lammbda)*(x/lammbda)**(a-1)*np.exp(-(x/lammbda)**a)\n",
        "def survival_Weibull(x,lammbda,a):\n",
        "    return np.exp(-(lammbda*x)**(a))"
      ],
      "metadata": {
        "id": "6xYV3G3lKe8p"
      },
      "execution_count": null,
      "outputs": []
    },
    {
      "cell_type": "code",
      "source": [
        "def Phi(x,times_last_events):\n",
        "    "
      ],
      "metadata": {
        "id": "HD6l4je0J4qU"
      },
      "execution_count": null,
      "outputs": []
    },
    {
      "cell_type": "code",
      "execution_count": null,
      "metadata": {
        "id": "ptgk3mpl8hw_"
      },
      "outputs": [],
      "source": [
        "def get_event(t,X_s,X_I,times_last_events):\n",
        "    "
      ]
    },
    {
      "cell_type": "code",
      "execution_count": null,
      "metadata": {
        "id": "LmpIadQFFn-f"
      },
      "outputs": [],
      "source": [
        "def Gillespie_Direct_Method_NM(N,X_S,X_I,phi_I,phi_R,T=np.inf):\n",
        "    #X_R=N-X_S-X_I\n",
        "    #tiempo\n",
        "    flag=True\n",
        "    t=0\n",
        "    Historia=[[0,X_S,X_I]]\n",
        "    times_last_events=[0,0]#Infeccion, recuperacion, respect.\n",
        "    while(flag):\n",
        "        evento=get_event(t,X_S,X_I,times_last_events)\n",
        "        if(evento=='Infeccion'):#Infeccion\n",
        "            X_S+=-1\n",
        "            X_I+=1\n",
        "        else:\n",
        "            X_I-=1\n",
        "        t+=tau\n",
        "        Historia.append([t,X_S,X_I])\n",
        "        if(X_I==0 or t>T):\n",
        "            flag=False\n",
        "    return Historia"
      ]
    },
    {
      "cell_type": "code",
      "execution_count": null,
      "metadata": {
        "colab": {
          "base_uri": "https://localhost:8080/",
          "height": 281
        },
        "outputId": "6ba6604c-50ac-49b6-95fc-af477b7cdee9",
        "id": "00-TEMNDFn-g"
      },
      "outputs": [
        {
          "output_type": "display_data",
          "data": {
            "text/plain": [
              "<Figure size 432x288 with 1 Axes>"
            ],
            "image/png": "[encoded data removed]"
          },
          "metadata": {
            "needs_background": "light"
          }
        }
      ],
      "source": [
        "N=10**5\n",
        "S_0=N-2\n",
        "I_0=N-S_0\n",
        "beta=1.25\n",
        "gamma=1\n",
        "for k in range(10):\n",
        "    H=Gillespie_First_Reaction(N,S_0,I_0,1.25,1)\n",
        "    while(len(H)<10):\n",
        "        H=Gillespie_First_Reaction(N,S_0,I_0,1.25,1)\n",
        "    H=pd.DataFrame(H,columns=['time','S(t)','I(t)'])\n",
        "    plt.plot(H['time'],H['I(t)'], 'gray')\n",
        "plt.title('Simulaciones exactas')\n",
        "plt.show()"
      ]
    },
    {
      "cell_type": "code",
      "source": [],
      "metadata": {
        "id": "X8YRaWGfEm2d"
      },
      "execution_count": null,
      "outputs": []
    },
    {
      "cell_type": "markdown",
      "source": [
        "### Ejemplo"
      ],
      "metadata": {
        "id": "w-mm3p9nEnwR"
      }
    },
    {
      "cell_type": "markdown",
      "source": [
        "## Método directo para SIS no-markoviano. (de ser posible)\n"
      ],
      "metadata": {
        "id": "_OemOCHSWBMi"
      }
    },
    {
      "cell_type": "markdown",
      "metadata": {
        "id": "n_fAcMAI8uqF"
      },
      "source": [
        "## Método directo para SIR no-markoviano en redes"
      ]
    },
    {
      "cell_type": "markdown",
      "source": [
        "## Explicación. \n",
        "Para cada individuo \"en riesgo\", es decir, con al menos un posible contacto infeccioso, existe una colección de aristas que lo conectan con estos indiviudos infeccciosos.\n",
        "\n",
        "Sea $E_I=\\{e_1,\\ldots, M_1\\}$ el conjunto de aristas que involucran u individuo susceptible y uno infeccioso, es decir, $e_i=(v_{1i},v_{2i})$, sin pérdida de  generalidad, con $v_{1i}$ infeccioso y $v_{2i}$ susceptible.\n",
        "\n",
        "\n",
        "Además, sea $V_R=\\{v_{i_1},\\ldots,v_{i_{X_I} }\\}$ el conjunto de nodos infecciosos, donde $i_1 < i_2<\\cdots<i_{X_I}$ es un ordenamiento del número de infecciosos $X_I(t)$\n",
        "\n",
        "Ahora, definimos los canales de reacción como el conjunto de índices $\\{1,\\ldots, M\\}$, donde $M=M_1+X_I$. De esta manera, las posibles reacciones corresponden a la infección de un individuo susceptible a través de una de las aristas que lo conectan a un idividuo infeccioso, así como la recuperación de un nodo infeccioso. \n",
        "\n",
        "A diferencia del algoritmo de Gillespie original, ni los contactos ni la recuperación de los individuos se simulan como procesos de Poisson, es decir, no suponemos que los tiempos inter-ocurrencia se distribuyen como exponenciales de parámetros $\\beta$ y $\\gamma$ respectivamente. En cambio, cada arista tiene asociada una distribución de tiempos de inter-ocurrencia, así como los tiempos de recuperación siguen una distribución propia, en principio, distintas a la exponencial. \\\\ \n",
        "\n",
        "En su forma más general, podríamos considerar $N+|E|$ distintas distribuciones, es decir, una para cada recuperación de un indiviuo, así como una distribución distinta para cada interacción entre dos individuos, es decir, una arista, de las cuales hay $|E|$. Para simplificar, podemos suponer que la población es homogénea, en el sentido de que cada individuo posee las mismas características y se comporta de la misma manera, y reducir el número de distribuciones consideradas a $2\", es decir, una para los tiempos de infección a través de contacto por una arista, y otra para los tiempos de recuperación de nodos infecciosos.\\\\ \n",
        "\n"
      ],
      "metadata": {
        "id": "L5gUHEagWNOK"
      }
    },
    {
      "cell_type": "code",
      "execution_count": null,
      "metadata": {
        "id": "RUu4sgbW8YE2"
      },
      "outputs": [],
      "source": []
    },
    {
      "cell_type": "markdown",
      "source": [],
      "metadata": {
        "id": "c4csQPN4V8NG"
      }
    }
  ],
  "metadata": {
    "colab": {
      "provenance": [],
      "authorship_tag": "ABX9TyOx9DcLNKPjRYMISpotuHgC",
      "include_colab_link": true
    },
    "kernelspec": {
      "display_name": "Python 3",
      "name": "python3"
    },
    "language_info": {
      "name": "python"
    }
  },
  "nbformat": 4,
  "nbformat_minor": 0
}