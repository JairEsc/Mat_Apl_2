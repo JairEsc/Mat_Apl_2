{
  "cells": [
    {
      "cell_type": "markdown",
      "metadata": {
        "id": "view-in-github",
        "colab_type": "text"
      },
      "source": [
        "<a href=\"https://colab.research.google.com/github/JairEsc/Mat_Apl_2/blob/main/Algoritmos_Gillespie.ipynb\" target=\"_parent\"><img src=\"https://colab.research.google.com/assets/colab-badge.svg\" alt=\"Open In Colab\"/></a>"
      ]
    },
    {
      "cell_type": "markdown",
      "metadata": {
        "id": "lpZbQHpw8apO"
      },
      "source": [
        "# Métodos de Gillespie"
      ]
    },
    {
      "cell_type": "code",
      "execution_count": 1,
      "metadata": {
        "id": "hyFIKwWx-ZRp"
      },
      "outputs": [],
      "source": [
        "import numpy as np\n",
        "import pandas as pd\n",
        "import matplotlib.pyplot as plt"
      ]
    },
    {
      "cell_type": "markdown",
      "metadata": {
        "id": "Q3CKlr2F8iEk"
      },
      "source": [
        "## Método de siguiente reacción sin redes"
      ]
    },
    {
      "cell_type": "code",
      "execution_count": 2,
      "metadata": {
        "id": "fYplAxDs8-Th"
      },
      "outputs": [],
      "source": [
        "def Gillespie_First_Reaction(N,X_S,X_I,beta,gamma,T=np.inf):\n",
        "    #X_R=N-X_S-X_I\n",
        "    #tiempo\n",
        "    flag=True\n",
        "    t=0\n",
        "    Historia=[[0,X_S,X_I]]\n",
        "    while(flag):\n",
        "        tau=np.random.exponential(1/((beta/N)*X_S*X_I+gamma*X_I))\n",
        "        p=np.random.uniform(0,1)\n",
        "        if(p<(beta*X_S/N)/((beta/N)*X_S+gamma)):#Infeccion\n",
        "            X_S+=-1\n",
        "            X_I+=1\n",
        "        else:\n",
        "            X_I-=1\n",
        "        t+=tau\n",
        "        Historia.append([t,X_S,X_I])\n",
        "        if(X_S==0 or X_I==0 or t>T):\n",
        "            flag=False\n",
        "    return Historia"
      ]
    },
    {
      "cell_type": "markdown",
      "metadata": {
        "id": "NBkaeBK7-6pB"
      },
      "source": [
        "### Ejemplo"
      ]
    },
    {
      "cell_type": "code",
      "execution_count": 4,
      "metadata": {
        "id": "8u3KJ-0n-6Du",
        "colab": {
          "base_uri": "https://localhost:8080/",
          "height": 281
        },
        "outputId": "6ba6604c-50ac-49b6-95fc-af477b7cdee9"
      },
      "outputs": [
        {
          "output_type": "display_data",
          "data": {
            "text/plain": [
              "<Figure size 432x288 with 1 Axes>"
            ],
            "image/png": "[encoded data removed]"
          },
          "metadata": {
            "needs_background": "light"
          }
        }
      ],
      "source": [
        "N=10**5\n",
        "S_0=N-2\n",
        "I_0=N-S_0\n",
        "beta=1.25\n",
        "gamma=1\n",
        "for k in range(10):\n",
        "    H=Gillespie_First_Reaction(N,S_0,I_0,1.25,1)\n",
        "    while(len(H)<10):\n",
        "        H=Gillespie_First_Reaction(N,S_0,I_0,1.25,1)\n",
        "    H=pd.DataFrame(H,columns=['time','S(t)','I(t)'])\n",
        "    plt.plot(H['time'],H['I(t)'], 'gray')\n",
        "plt.title('Simulaciones exactas')\n",
        "plt.show()"
      ]
    },
    {
      "cell_type": "markdown",
      "metadata": {
        "id": "LwPmnQz18tAP"
      },
      "source": [
        "## Método directo para SIR markoviano en redes"
      ]
    },
    {
      "cell_type": "code",
      "source": [
        "import networkx as nx"
      ],
      "metadata": {
        "id": "Xvpw91TyDwis"
      },
      "execution_count": 3,
      "outputs": []
    },
    {
      "cell_type": "code",
      "source": [
        "N=10**2\n",
        "G=nx.random_degree_sequence_graph(np.random.poisson(10,size=N))"
      ],
      "metadata": {
        "id": "J0lHSN1kF9Do"
      },
      "execution_count": 35,
      "outputs": []
    },
    {
      "cell_type": "code",
      "source": [
        "np.random.seed(0)\n",
        "X_I_indexes=np.random.choice(N,size=5,replace=False)"
      ],
      "metadata": {
        "id": "SUqO8d9qG3Q1"
      },
      "execution_count": 36,
      "outputs": []
    },
    {
      "cell_type": "code",
      "source": [
        "X_I_indexes\n",
        "X_I=len(X_I_indexes)"
      ],
      "metadata": {
        "id": "rjeT-p24Iwkm"
      },
      "execution_count": 37,
      "outputs": []
    },
    {
      "cell_type": "code",
      "source": [
        "for k in range(N):\n",
        "    if k in X_I_indexes:\n",
        "        G.nodes[k]['Estado:']='Infeccioso'\n",
        "    else:\n",
        "        G.nodes[k]['Estado:']='Susceptible'"
      ],
      "metadata": {
        "id": "8FBG4XXPHNer"
      },
      "execution_count": 38,
      "outputs": []
    },
    {
      "cell_type": "code",
      "source": [
        "G.has_edge(0,1)"
      ],
      "metadata": {
        "colab": {
          "base_uri": "https://localhost:8080/"
        },
        "id": "UHCfoFCmME7f",
        "outputId": "9b32ddba-0776-4466-b3ba-dcca8036100a"
      },
      "execution_count": 39,
      "outputs": [
        {
          "output_type": "execute_result",
          "data": {
            "text/plain": [
              "False"
            ]
          },
          "metadata": {},
          "execution_count": 39
        }
      ]
    },
    {
      "cell_type": "code",
      "source": [
        "for i in G.neighbors(0):\n",
        "    print(i)"
      ],
      "metadata": {
        "id": "8jg8C5xgPj6N",
        "outputId": "e2721aff-d15e-4122-9b5a-72dbaf5e2f86",
        "colab": {
          "base_uri": "https://localhost:8080/"
        }
      },
      "execution_count": 102,
      "outputs": [
        {
          "output_type": "stream",
          "name": "stdout",
          "text": [
            "38\n",
            "54\n",
            "5\n",
            "11\n",
            "89\n",
            "79\n",
            "83\n",
            "84\n"
          ]
        }
      ]
    },
    {
      "cell_type": "code",
      "source": [
        "#dict_num_contacts\n",
        "dict_num_contacts = dict.fromkeys(range(X_I+1),[])\n",
        "num_cont_inf_por_indice=np.zeros(N)\n",
        "for i in range(N):\n",
        "    if(i not in X_I_indexes): #No es infeccioso\n",
        "        count_for_i=0\n",
        "        for j in X_I_indexes:\n",
        "            if (G.has_edge(i,j)):#Es un ocntacto Susceptible-infeccioso\n",
        "                num_cont_inf_por_indice[i]+=1\n",
        "                count_for_i+=1\n",
        "        update_dict(dict_num_contacts,count_for_i,i)"
      ],
      "metadata": {
        "id": "gxwfQubtJ0r4"
      },
      "execution_count": 88,
      "outputs": []
    },
    {
      "cell_type": "code",
      "source": [
        "#dict_num_contacts"
      ],
      "metadata": {
        "id": "3JcdbYVwLZGF"
      },
      "execution_count": 90,
      "outputs": []
    },
    {
      "cell_type": "code",
      "source": [],
      "metadata": {
        "id": "NdXTXaHbp0QI"
      },
      "execution_count": null,
      "outputs": []
    },
    {
      "cell_type": "code",
      "source": [
        "#Sabemos que el rango de K (el número de contactos infecciosos de un susceptible al tiempo $t$) está acotado por I(t):\n",
        "#Generamos la partición(Del conjunto de susceptibles en riesgo). Orden O(K*N)\n",
        "P=[]\n",
        "for k in range(int(X_I)):\n",
        "    P.append([i for i, j in enumerate(num_cont_inf_por_indice) if j == k])\n",
        "#P[i] es el conjunto de indices de individuos que tienen exactamente $i$ contactos infecciosos.\n",
        "#Esto se puede mejorar, no me interesa saber quiénes son, sólo cuántos (por ahora)."
      ],
      "metadata": {
        "id": "BkQt04ZoIiCV"
      },
      "execution_count": null,
      "outputs": []
    },
    {
      "cell_type": "code",
      "source": [
        "dict_num_contacts = dict.fromkeys(range(X_I+1),[])\n",
        "num_cont_inf_por_indice=np.zeros(N)\n",
        "for i in range(N):\n",
        "    if(i not in X_I_indexes): #No es infeccioso\n",
        "        count_for_i=0\n",
        "        for j in X_I_indexes:\n",
        "            if (G.has_edge(i,j)):#Es un ocntacto Susceptible-infeccioso\n",
        "                num_cont_inf_por_indice[i]+=1#Ya que voy a hacer los ciclos, mejor la guardo igual.\n",
        "                count_for_i+=1\n",
        "        dict_num_contacts=update_dict_add(dict_num_contacts,count_for_i,i)"
      ],
      "metadata": {
        "id": "N2_ExUwwtyGm"
      },
      "execution_count": 103,
      "outputs": []
    },
    {
      "cell_type": "code",
      "source": [
        "Lambda=0\n",
        "beta=1.25\n",
        "gamma=1\n",
        "Lambdas=[]\n",
        "for k in range(X_I+1):\n",
        "    Lambdas.append(beta*len(dict_num_contacts[k])*k)\n",
        "    Lambda+=Lambdas[-1]\n",
        "Lambdas.append(gamma*X_I)\n",
        "Lambda+=Lambdas[-1]\n",
        "print(Lambdas)"
      ],
      "metadata": {
        "id": "0P6stWaRCYF-",
        "colab": {
          "base_uri": "https://localhost:8080/"
        },
        "outputId": "03e69ed6-e1d2-48c6-a7ca-b26850e5aa37"
      },
      "execution_count": 93,
      "outputs": [
        {
          "output_type": "stream",
          "name": "stdout",
          "text": [
            "[0.0, 48.75, 17.5, 0.0, 0.0, 0.0, 5]\n"
          ]
        }
      ]
    },
    {
      "cell_type": "code",
      "source": [
        "def update_dict_add(dict_num_contacts,k,s_i):\n",
        "    u= dict_num_contacts[k].copy()\n",
        "    u.append(s_i)\n",
        "    dict_num_contacts[k]=u\n",
        "    return dict_num_contacts"
      ],
      "metadata": {
        "id": "f4ZgJjrJh-hv"
      },
      "execution_count": 4,
      "outputs": []
    },
    {
      "cell_type": "code",
      "source": [
        "def update_dict_remove(dict_num_contacts,k,s_i):\n",
        "    u= dict_num_contacts[k].copy()\n",
        "    u.remove(s_i)\n",
        "    dict_num_contacts[k]=u\n",
        "    return dict_num_contacts"
      ],
      "metadata": {
        "id": "xkp9gRT_tger"
      },
      "execution_count": 5,
      "outputs": []
    },
    {
      "cell_type": "code",
      "source": [
        "def Monte_Carlo_Step_exp(Lambdas,dict_num_contacts,X_I_indexes):\n",
        "    Lambda=np.sum(Lambdas)\n",
        "    tau=np.random.exponential(scale=1/Lambda)#Tiempo de siguiente reacción, hasta ahora desconocida.\n",
        "    u_2=np.random.uniform(0,1)\n",
        "    if(u_2<(Lambda-Lambdas[-1])/Lambda):#Infeccion\n",
        "        u_3=np.random.uniform(0,1)\n",
        "        D=0\n",
        "        k=0\n",
        "        while(u_3>D):\n",
        "            k+=1\n",
        "            D+=Lambdas[k]/(Lambda-Lambdas[-1])\n",
        "        #k es el número de contactos infecciosos del seleccionado.\n",
        "        #Seleccionamos uno aleatoriamente de ese grupo\n",
        "        new_reaction=np.random.choice(dict_num_contacts[k])\n",
        "    else:#Recuperación\n",
        "        k=-1\n",
        "        #Seleccionar un infeccioso al azar.\n",
        "        new_reaction=np.random.choice(X_I_indexes)\n",
        "    return tau,new_reaction,k\n",
        "#Monte_Carlo_Step_exp(Lambdas)"
      ],
      "metadata": {
        "id": "ykDuyghmGQdO"
      },
      "execution_count": 6,
      "outputs": []
    },
    {
      "cell_type": "code",
      "source": [
        "def Gillespie_Direct_Method_Network(beta,gamma,N,X_I_indexes,G_network_initial=nx.Graph(),T=np.inf):\n",
        "    #X_R=N-X_S-X_I\n",
        "    #tiempo\n",
        "    flag=True\n",
        "    t=0\n",
        "    X_I=len(X_I_indexes)\n",
        "    X_S=N-X_I\n",
        "    Historia=[[0,X_S,X_I]]#Focus\n",
        "    dict_num_contacts = dict.fromkeys(range(X_I+1),[])\n",
        "    num_cont_inf_por_indice=np.zeros(N)\n",
        "    for i in range(N):\n",
        "        if(i not in X_I_indexes): #No es infeccioso\n",
        "            count_for_i=0\n",
        "            for j in X_I_indexes:\n",
        "                if (G_network_initial.has_edge(i,j)):#Es un contacto Susceptible-infeccioso\n",
        "                    num_cont_inf_por_indice[i]+=1#Ya que voy a hacer los ciclos, mejor la guardo igual.\n",
        "                    count_for_i+=1\n",
        "            dict_num_contacts=update_dict_add(dict_num_contacts,count_for_i,i)\n",
        "    #print(dict_num_contacts)\n",
        "    while(flag):\n",
        "        #Generar las Lambdas------------------\n",
        "        Lambda=0\n",
        "        Lambdas=[]\n",
        "        for k in range(len(list(dict_num_contacts.keys()))):\n",
        "            Lambdas.append(beta*len(dict_num_contacts[k])*k)\n",
        "            Lambda+=Lambdas[-1]\n",
        "        Lambdas.append(gamma*X_I)\n",
        "        Lambda+=Lambdas[-1]\n",
        "        #------------------------------\n",
        "        #Paso Monte-Carlo---------------------------\n",
        "        tau,new_reaction,k_choice=Monte_Carlo_Step_exp(Lambdas,dict_num_contacts,X_I_indexes)\n",
        "        #print(\"tiempo generado\",tau,new_reaction)\n",
        "        #-------------------------------------------\n",
        "        #Actualización del sistema.\n",
        "        if(G_network_initial.nodes[new_reaction]['Estado:']=='Susceptible'):\n",
        "            G_network_initial.nodes[new_reaction]['Estado:']='Infeccioso'\n",
        "            X_I_indexes=np.append(X_I_indexes,new_reaction)\n",
        "            #print('Infeccion actualizada')\n",
        "            i=new_reaction\n",
        "            #print(new_reaction,' infectado al tiempo ', tau, ' del grupo ', 'k=',k_choice)\n",
        "            dict_num_contacts=update_dict_remove(dict_num_contacts,k_choice,i)#Saca al nuevo infeccioso del conjunto con exactamente k_choice contactos infecciosos.\n",
        "            #print(\"Si removido\")\n",
        "            #Ahora a todos los individuos que tenian contacto con el nuevo infeccioso, les aumentamos un contacto infeccioso.\n",
        "            num_max_cont=list(dict_num_contacts.keys())[-1]\n",
        "            for vecino in G_network_initial.neighbors(i):#Para cada vecino del nuevo infectado, le aumentamos el numero de contactos en 1. (lo agregamos a la siguiente categoria y lo sacamos de la anterior)\n",
        "                if (G_network_initial.nodes[vecino]['Estado:']=='Susceptible'):\n",
        "                    \n",
        "                    num_cont_del_vecino=num_cont_inf_por_indice[vecino]\n",
        "                    #print('el vecino ', vecino, ' del nuevo infectado ', i,' tiene ', num_cont_del_vecino,' contactos')\n",
        "                    if(num_cont_del_vecino+1>num_max_cont):\n",
        "                        dict_num_contacts.update({num_cont_del_vecino+1:[vecino]})\n",
        "                    else:\n",
        "                        dict_num_contacts=update_dict_add(dict_num_contacts,num_cont_del_vecino+1,vecino)\n",
        "                    #print('el vecino ', vecino, ' ya no tiene ', num_cont_del_vecino, ' asi que lo borramos')\n",
        "                    dict_num_contacts=update_dict_remove(dict_num_contacts,num_cont_del_vecino,vecino)\n",
        "                    num_cont_inf_por_indice[vecino]+=1#Actualizamos ambas fuentes de informacion\n",
        "        else:\n",
        "            G_network_initial.nodes[new_reaction]['Estado:']='Recuperado'\n",
        "            X_I_indexes=np.delete(X_I_indexes,np.where(X_I_indexes == new_reaction))#Vale la pena pasarlo a lista para usar remove()?\n",
        "            #print('Recuperacion actualizada')\n",
        "            i=new_reaction\n",
        "            #Hay que actualizar los números de contactos de los susceptibles que tenían contacto con este infeccioso.\n",
        "            for vecino in G_network_initial.neighbors(i):#Podria ser que ya no tuviera ningun contacto\n",
        "                num_cont_del_vecino=num_cont_inf_por_indice[vecino]\n",
        "                if(num_cont_del_vecino!=0):# no hay vecinos\n",
        "                    dict_num_contacts=update_dict_add(dict_num_contacts,num_cont_del_vecino-1,vecino)\n",
        "                    num_cont_inf_por_indice[vecino]-=1#Actualizamos ambas fuentes de informacion\n",
        "        t+=tau\n",
        "        X_I=len(X_I_indexes)\n",
        "        X_S=N-X_I\n",
        "        Historia.append([t,X_S,X_I])#Focus\n",
        "        #print(X_S)\n",
        "        #print(dict_num_contacts)\n",
        "        if(X_I==0):\n",
        "            flag=False\n",
        "    return Historia\n",
        "        #-------------------------------------------"
      ],
      "metadata": {
        "id": "yTu6ZhxtCGb_"
      },
      "execution_count": 7,
      "outputs": []
    },
    {
      "cell_type": "markdown",
      "source": [
        "### Ejemplo"
      ],
      "metadata": {
        "id": "eHXYSVbTCHE0"
      }
    },
    {
      "cell_type": "code",
      "source": [
        "N=10**2\n",
        "ksum=1\n",
        "while(ksum%2!=0):#Que defina una grafica.\n",
        "        k_dist=np.random.poisson(10,size=N)\n",
        "        ksum=sum(k_dist)\n",
        "G=nx.random_degree_sequence_graph(k_dist)\n",
        "#np.random.seed(0)\n",
        "X_I_indexes=np.random.choice(N,size=5,replace=False)\n",
        "for k in range(N):\n",
        "    if k in X_I_indexes:\n",
        "        G.nodes[k]['Estado:']='Infeccioso'\n",
        "    else:\n",
        "        G.nodes[k]['Estado:']='Susceptible'"
      ],
      "metadata": {
        "id": "YzP2ZUz5NBW8"
      },
      "execution_count": 14,
      "outputs": []
    },
    {
      "cell_type": "code",
      "source": [
        "S_0=N-5\n",
        "I_0=N-S_0\n",
        "beta=1.25\n",
        "gamma=1\n",
        "for k in range(10):\n",
        "    H=[]\n",
        "    while(len(H)<20):\n",
        "        H=Gillespie_Direct_Method_Network(beta=beta,gamma=gamma,N=N,X_I_indexes=X_I_indexes,G_network_initial=G,T=np.inf)\n",
        "    H=pd.DataFrame(H,columns=['time','S(t)','I(t)'])\n",
        "    plt.plot(H['time'],H['I(t)'], 'gray')\n",
        "plt.title('Simulaciones exactas')\n",
        "plt.show()"
      ],
      "metadata": {
        "id": "yGjvq-QBTC6h",
        "outputId": "ea111d89-4b5e-4cc7-8f1f-56f8e0d449be",
        "colab": {
          "base_uri": "https://localhost:8080/",
          "height": 281
        }
      },
      "execution_count": 26,
      "outputs": [
        {
          "output_type": "display_data",
          "data": {
            "text/plain": [
              "<Figure size 432x288 with 1 Axes>"
            ],
            "image/png": "[encoded data removed]"
          },
          "metadata": {
            "needs_background": "light"
          }
        }
      ]
    },
    {
      "cell_type": "code",
      "source": [
        "G.nodes.data()"
      ],
      "metadata": {
        "id": "GLh6iblReu5Y",
        "outputId": "56532dda-8fda-4f57-d761-4ca0514a54b0",
        "colab": {
          "base_uri": "https://localhost:8080/"
        }
      },
      "execution_count": 29,
      "outputs": [
        {
          "output_type": "execute_result",
          "data": {
            "text/plain": [
              "NodeDataView({0: {'Estado:': 'Recuperado'}, 1: {'Estado:': 'Recuperado'}, 2: {'Estado:': 'Recuperado'}, 3: {'Estado:': 'Recuperado'}, 4: {'Estado:': 'Recuperado'}, 5: {'Estado:': 'Recuperado'}, 6: {'Estado:': 'Recuperado'}, 7: {'Estado:': 'Recuperado'}, 8: {'Estado:': 'Recuperado'}, 9: {'Estado:': 'Infeccioso'}, 10: {'Estado:': 'Recuperado'}, 11: {'Estado:': 'Recuperado'}, 12: {'Estado:': 'Recuperado'}, 13: {'Estado:': 'Infeccioso'}, 14: {'Estado:': 'Recuperado'}, 15: {'Estado:': 'Recuperado'}, 16: {'Estado:': 'Recuperado'}, 17: {'Estado:': 'Recuperado'}, 18: {'Estado:': 'Recuperado'}, 19: {'Estado:': 'Infeccioso'}, 20: {'Estado:': 'Recuperado'}, 21: {'Estado:': 'Recuperado'}, 22: {'Estado:': 'Recuperado'}, 23: {'Estado:': 'Recuperado'}, 24: {'Estado:': 'Recuperado'}, 25: {'Estado:': 'Recuperado'}, 26: {'Estado:': 'Infeccioso'}, 27: {'Estado:': 'Recuperado'}, 28: {'Estado:': 'Recuperado'}, 29: {'Estado:': 'Infeccioso'}, 30: {'Estado:': 'Recuperado'}, 31: {'Estado:': 'Recuperado'}, 32: {'Estado:': 'Recuperado'}, 33: {'Estado:': 'Recuperado'}, 34: {'Estado:': 'Recuperado'}, 35: {'Estado:': 'Infeccioso'}, 36: {'Estado:': 'Infeccioso'}, 37: {'Estado:': 'Infeccioso'}, 38: {'Estado:': 'Recuperado'}, 39: {'Estado:': 'Recuperado'}, 40: {'Estado:': 'Recuperado'}, 41: {'Estado:': 'Recuperado'}, 42: {'Estado:': 'Recuperado'}, 43: {'Estado:': 'Recuperado'}, 44: {'Estado:': 'Recuperado'}, 45: {'Estado:': 'Recuperado'}, 46: {'Estado:': 'Recuperado'}, 47: {'Estado:': 'Recuperado'}, 48: {'Estado:': 'Recuperado'}, 49: {'Estado:': 'Infeccioso'}, 50: {'Estado:': 'Recuperado'}, 51: {'Estado:': 'Recuperado'}, 52: {'Estado:': 'Infeccioso'}, 53: {'Estado:': 'Recuperado'}, 54: {'Estado:': 'Recuperado'}, 55: {'Estado:': 'Recuperado'}, 56: {'Estado:': 'Recuperado'}, 57: {'Estado:': 'Recuperado'}, 58: {'Estado:': 'Recuperado'}, 59: {'Estado:': 'Recuperado'}, 60: {'Estado:': 'Infeccioso'}, 61: {'Estado:': 'Infeccioso'}, 62: {'Estado:': 'Infeccioso'}, 63: {'Estado:': 'Recuperado'}, 64: {'Estado:': 'Recuperado'}, 65: {'Estado:': 'Recuperado'}, 66: {'Estado:': 'Infeccioso'}, 67: {'Estado:': 'Recuperado'}, 68: {'Estado:': 'Recuperado'}, 69: {'Estado:': 'Recuperado'}, 70: {'Estado:': 'Infeccioso'}, 71: {'Estado:': 'Infeccioso'}, 72: {'Estado:': 'Recuperado'}, 73: {'Estado:': 'Recuperado'}, 74: {'Estado:': 'Recuperado'}, 75: {'Estado:': 'Recuperado'}, 76: {'Estado:': 'Infeccioso'}, 77: {'Estado:': 'Recuperado'}, 78: {'Estado:': 'Recuperado'}, 79: {'Estado:': 'Recuperado'}, 80: {'Estado:': 'Recuperado'}, 81: {'Estado:': 'Recuperado'}, 82: {'Estado:': 'Infeccioso'}, 83: {'Estado:': 'Recuperado'}, 84: {'Estado:': 'Infeccioso'}, 85: {'Estado:': 'Recuperado'}, 86: {'Estado:': 'Infeccioso'}, 87: {'Estado:': 'Recuperado'}, 88: {'Estado:': 'Recuperado'}, 89: {'Estado:': 'Recuperado'}, 90: {'Estado:': 'Recuperado'}, 91: {'Estado:': 'Infeccioso'}, 92: {'Estado:': 'Recuperado'}, 93: {'Estado:': 'Recuperado'}, 94: {'Estado:': 'Recuperado'}, 95: {'Estado:': 'Infeccioso'}, 96: {'Estado:': 'Recuperado'}, 97: {'Estado:': 'Recuperado'}, 98: {'Estado:': 'Recuperado'}, 99: {'Estado:': 'Recuperado'}})"
            ]
          },
          "metadata": {},
          "execution_count": 29
        }
      ]
    },
    {
      "cell_type": "code",
      "source": [
        "H"
      ],
      "metadata": {
        "id": "wyteLMNcTjX8",
        "outputId": "4c81a4ef-cf50-441d-ef09-bdcef047aa8b",
        "colab": {
          "base_uri": "https://localhost:8080/"
        }
      },
      "execution_count": null,
      "outputs": [
        {
          "output_type": "execute_result",
          "data": {
            "text/plain": [
              "[[0, 995, 5], [0.007669482187925033, 994, 6]]"
            ]
          },
          "metadata": {},
          "execution_count": 93
        }
      ]
    },
    {
      "cell_type": "code",
      "source": [
        "H=pd.DataFrame(H,columns=['time','S(t)','I(t)'])\n",
        "plt.plot(H['time'],H['I(t)'], 'gray')\n",
        "plt.title('Simulaciones exactas')\n",
        "plt.show()"
      ],
      "metadata": {
        "id": "ymrK4BPGS8Js",
        "outputId": "642e381e-8f6b-4f9d-c708-d907778a59cd",
        "colab": {
          "base_uri": "https://localhost:8080/",
          "height": 281
        }
      },
      "execution_count": 11,
      "outputs": [
        {
          "output_type": "display_data",
          "data": {
            "text/plain": [
              "<Figure size 432x288 with 1 Axes>"
            ],
            "image/png": "[encoded data removed]"
          },
          "metadata": {
            "needs_background": "light"
          }
        }
      ]
    },
    {
      "cell_type": "markdown",
      "metadata": {
        "id": "rQbk4KPG8tN1"
      },
      "source": [
        "## Método directo para SIR no-markoviano.\n",
        "\n"
      ]
    },
    {
      "cell_type": "markdown",
      "metadata": {
        "id": "n_fAcMAI8uqF"
      },
      "source": [
        "## Método directo para SIR no-markoviano en redes"
      ]
    },
    {
      "cell_type": "code",
      "execution_count": null,
      "metadata": {
        "id": "ptgk3mpl8hw_"
      },
      "outputs": [],
      "source": []
    },
    {
      "cell_type": "code",
      "execution_count": null,
      "metadata": {
        "id": "RUu4sgbW8YE2"
      },
      "outputs": [],
      "source": []
    }
  ],
  "metadata": {
    "colab": {
      "provenance": [],
      "authorship_tag": "ABX9TyO5HZEASxTAdvAHUklopQIh",
      "include_colab_link": true
    },
    "kernelspec": {
      "display_name": "Python 3",
      "name": "python3"
    },
    "language_info": {
      "name": "python"
    }
  },
  "nbformat": 4,
  "nbformat_minor": 0
}