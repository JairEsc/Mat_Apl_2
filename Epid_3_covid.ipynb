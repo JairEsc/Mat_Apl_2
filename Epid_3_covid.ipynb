{
  "nbformat": 4,
  "nbformat_minor": 0,
  "metadata": {
    "colab": {
      "provenance": [],
      "authorship_tag": "ABX9TyPw0T134uGQNg/hDjLuFcBK",
      "include_colab_link": true
    },
    "kernelspec": {
      "name": "python3",
      "display_name": "Python 3"
    },
    "language_info": {
      "name": "python"
    }
  },
  "cells": [
    {
      "cell_type": "markdown",
      "metadata": {
        "id": "view-in-github",
        "colab_type": "text"
      },
      "source": [
        "<a href=\"https://colab.research.google.com/github/JairEsc/Mat_Apl_2/blob/main/Epid_3_covid.ipynb\" target=\"_parent\"><img src=\"https://colab.research.google.com/assets/colab-badge.svg\" alt=\"Open In Colab\"/></a>"
      ]
    },
    {
      "cell_type": "code",
      "execution_count": 203,
      "metadata": {
        "id": "_SwfRg_FPh38"
      },
      "outputs": [],
      "source": [
        "import pandas as pd\n",
        "import numpy as np\n",
        "import matplotlib.pyplot as plt"
      ]
    },
    {
      "cell_type": "markdown",
      "source": [
        "Cargamos los datos. En este caso, es tardado subir el archivo porque es muy pesaso. Consideramos sólo las columnas correspondientes a fechas de ingreso, inicio de sintomas y defunción."
      ],
      "metadata": {
        "id": "yxQRa8NfogR6"
      }
    },
    {
      "cell_type": "code",
      "source": [
        "B1=pd.read_csv('201006COVID19MEXICO.csv',usecols=['FECHA_INGRESO','FECHA_SINTOMAS','FECHA_DEF'], encoding='latin-1')"
      ],
      "metadata": {
        "id": "ve_DNsgvScQM"
      },
      "execution_count": 127,
      "outputs": []
    },
    {
      "cell_type": "code",
      "source": [
        "print(B1)#"
      ],
      "metadata": {
        "colab": {
          "base_uri": "https://localhost:8080/"
        },
        "id": "gSTCa3xlUAkX",
        "outputId": "4c7b4924-e1fe-4b75-a12c-1d688d20ef53"
      },
      "execution_count": 128,
      "outputs": [
        {
          "output_type": "stream",
          "name": "stdout",
          "text": [
            "        FECHA_INGRESO FECHA_SINTOMAS   FECHA_DEF\n",
            "0          2020-03-31     2020-03-28  9999-99-99\n",
            "1          2020-04-01     2020-03-28  9999-99-99\n",
            "2          2020-03-14     2020-03-11  9999-99-99\n",
            "3          2020-03-18     2020-03-17  9999-99-99\n",
            "4          2020-02-27     2020-02-22  9999-99-99\n",
            "...               ...            ...         ...\n",
            "2021250    2020-10-04     2020-09-30  9999-99-99\n",
            "2021251    2020-10-05     2020-10-01  9999-99-99\n",
            "2021252    2020-10-05     2020-10-03  9999-99-99\n",
            "2021253    2020-10-05     2020-10-01  9999-99-99\n",
            "2021254    2020-10-05     2020-10-03  9999-99-99\n",
            "\n",
            "[2021255 rows x 3 columns]\n"
          ]
        }
      ]
    },
    {
      "cell_type": "markdown",
      "source": [
        "Notemos las dimensiones: 2,021,255 filas. (Número de registros.)"
      ],
      "metadata": {
        "id": "UzqBNoC1oYah"
      }
    },
    {
      "cell_type": "code",
      "source": [
        "dia_f"
      ],
      "metadata": {
        "colab": {
          "base_uri": "https://localhost:8080/",
          "height": 36
        },
        "id": "XFnoDVBqq2ZY",
        "outputId": "d0f27d6f-7a01-41d2-e6d8-c142026c43b4"
      },
      "execution_count": 188,
      "outputs": [
        {
          "output_type": "execute_result",
          "data": {
            "text/plain": [
              "'2020-10-06'"
            ],
            "application/vnd.google.colaboratory.intrinsic+json": {
              "type": "string"
            }
          },
          "metadata": {},
          "execution_count": 188
        }
      ]
    },
    {
      "cell_type": "code",
      "source": [
        "dia0=np.min(B1['FECHA_SINTOMAS'])\n",
        "dia_f=np.max(B1['FECHA_SINTOMAS'])\n",
        "print(\"Numero de dias registrados: \",(pd.to_datetime(dia_f)-pd.to_datetime(dia0)).days)"
      ],
      "metadata": {
        "colab": {
          "base_uri": "https://localhost:8080/"
        },
        "id": "JA76P-ICVhd_",
        "outputId": "dc0e505a-213f-4614-d5b7-5a1b83e7e2ba"
      },
      "execution_count": 186,
      "outputs": [
        {
          "output_type": "stream",
          "name": "stdout",
          "text": [
            "Numero de dias registrados:  279\n"
          ]
        }
      ]
    },
    {
      "cell_type": "code",
      "source": [
        "#Semanas\n",
        "Num_semanas=int((pd.to_datetime(dia_f)-pd.to_datetime(dia0)).days/7)+1\n",
        "vec_semanas=[str(pd.to_datetime(dia0) + pd.to_timedelta(7*i, unit='d'))[0:10] for i in range(0,Num_semanas+1)]"
      ],
      "metadata": {
        "id": "umH4Q-6Mb4Rl"
      },
      "execution_count": 189,
      "outputs": []
    },
    {
      "cell_type": "markdown",
      "source": [
        "Mostramos un vector con los dias finales de cada semana considerada."
      ],
      "metadata": {
        "id": "BIeSSWS_pNim"
      }
    },
    {
      "cell_type": "code",
      "source": [
        "print(len(vec_semanas))"
      ],
      "metadata": {
        "colab": {
          "base_uri": "https://localhost:8080/"
        },
        "id": "Yfgx-PuVpINj",
        "outputId": "6107a852-f839-454f-8f5a-d071b21b785b"
      },
      "execution_count": 193,
      "outputs": [
        {
          "output_type": "stream",
          "name": "stdout",
          "text": [
            "41\n"
          ]
        }
      ]
    },
    {
      "cell_type": "code",
      "source": [
        "print(Num_semanas)"
      ],
      "metadata": {
        "colab": {
          "base_uri": "https://localhost:8080/"
        },
        "id": "0VGddy9wsrPQ",
        "outputId": "0d2f79ea-ea5c-41bf-d438-06aabf7f9c7e"
      },
      "execution_count": 191,
      "outputs": [
        {
          "output_type": "stream",
          "name": "stdout",
          "text": [
            "40\n"
          ]
        }
      ]
    },
    {
      "cell_type": "markdown",
      "source": [
        "Ahora, calcularemos la frecuencia por semana de los registros de inicio de sintomas."
      ],
      "metadata": {
        "id": "FYBZR7FxpSxT"
      }
    },
    {
      "cell_type": "code",
      "source": [
        "ocurrencias=np.zeros(Num_semanas)\n",
        "for fecha in B1['FECHA_SINTOMAS']:\n",
        "    for k in range(1,len(ocurrencias)+1):#Esto se puede optimizar.\n",
        "        if(fecha<vec_semanas[k] and fecha>=vec_semanas[k-1]):\n",
        "            ocurrencias[k-1]+=1 \n",
        "            break;"
      ],
      "metadata": {
        "id": "r7QxoErfpnx0"
      },
      "execution_count": 199,
      "outputs": []
    },
    {
      "cell_type": "code",
      "source": [
        "print(np.sum(ocurrencias))#Sí es particion."
      ],
      "metadata": {
        "colab": {
          "base_uri": "https://localhost:8080/"
        },
        "id": "yUoobNl_uzI5",
        "outputId": "cc8b3882-86e4-4bbf-8a9f-fd497faf097f"
      },
      "execution_count": 200,
      "outputs": [
        {
          "output_type": "stream",
          "name": "stdout",
          "text": [
            "2021255.0\n"
          ]
        }
      ]
    },
    {
      "cell_type": "code",
      "source": [
        "plt.bar(vec_semanas[0:-1],ocurrencias)\n",
        "plt.xticks(rotation=90)\n",
        "plt.title('Ocurrencia por semana')\n",
        "plt.show()"
      ],
      "metadata": {
        "colab": {
          "base_uri": "https://localhost:8080/",
          "height": 329
        },
        "id": "joob-_t1vD_G",
        "outputId": "8f27b0bb-209c-4285-9d76-9e877ed25205"
      },
      "execution_count": 215,
      "outputs": [
        {
          "output_type": "display_data",
          "data": {
            "text/plain": [
              "<Figure size 432x288 with 1 Axes>"
            ],
            "image/png": "[encoded data removed]"
          },
          "metadata": {
            "needs_background": "light"
          }
        }
      ]
    }
  ]
}