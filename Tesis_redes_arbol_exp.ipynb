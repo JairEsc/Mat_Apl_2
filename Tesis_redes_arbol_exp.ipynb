{
  "nbformat": 4,
  "nbformat_minor": 0,
  "metadata": {
    "colab": {
      "provenance": [],
      "authorship_tag": "ABX9TyOy9jS+A1qnGqjG+sXNDRql",
      "include_colab_link": true
    },
    "kernelspec": {
      "name": "python3",
      "display_name": "Python 3"
    },
    "language_info": {
      "name": "python"
    }
  },
  "cells": [
    {
      "cell_type": "markdown",
      "metadata": {
        "id": "view-in-github",
        "colab_type": "text"
      },
      "source": [
        "<a href=\"https://colab.research.google.com/github/JairEsc/Mat_Apl_2/blob/main/Tesis_redes_arbol_exp.ipynb\" target=\"_parent\"><img src=\"https://colab.research.google.com/assets/colab-badge.svg\" alt=\"Open In Colab\"/></a>"
      ]
    },
    {
      "cell_type": "code",
      "source": [
        "import networkx as nx\n",
        "import matplotlib.pyplot as plt"
      ],
      "metadata": {
        "id": "yWQWbfKK-jCO"
      },
      "execution_count": 89,
      "outputs": []
    },
    {
      "cell_type": "markdown",
      "source": [
        "Podemos calcular antes de la simulación los tiempos de contacto y recuperación de cada individuo. Estos tiempos definen una red direccionada con pesos, y podemos conocer a cada instante el estado de la población considerada. "
      ],
      "metadata": {
        "id": "re2T3K5wkPzD"
      }
    },
    {
      "cell_type": "markdown",
      "source": [
        "Me gustaría hacer un código para ilustrar lo anterior. \n",
        "\n",
        "Sean $\\beta$, $\\gamma$ constantes y conocidas. \n",
        "Sea $N$ conocido el número de individuos en la población y sea $G=(V,E)$ la gráfica conexa de tipo arbol que modela su interacción. \n",
        "\n",
        "Obtenemos $(r_i)_{i=1}^N$ una sucesión de tiempos de recuperación para cada individuo. Es decir, una vez que se infecte (si es que lo hace), estará en el estado infecciosos durante $r_i$ unidades de tiempo. \n",
        "\n",
        "A su vez, para cada individuo $i$, denotando por $\\mathcal{N}(i)$ al conjunto de nodos adyacentes a $i$, calculamos sus tiempos de contacto $(c_j^{(i)})_{j=1}^{\\mathcal{N}(i)}$ con cada uno de sus vecinos. Es decir, cuando el individuo se infecta (si es que lo hace), sabemos que en $c_j^{(i)}$ unidades de tiempo tendrá un contacto con el individuo $j$, que podría o no ser susceptible. \n",
        "\n",
        "Cuando ocurre que $j$ es susceptible y que el tiempo de recuperación de $i$ es mayor que el tiempo de contacto con $j$, tenemos una infección en el individuo $j$ a través del contacto $(i,j)\\in E$.\n",
        "\n",
        "Supongamos que al inicio de la epidemia hay un único individuo infectado $i_0$, sabemos que el individuo $j$, el cual no necesariamente es adyacente a $i$ no puede ser susceptible al tiempo $t$ si ocurre una de las siguientes 2 posibilidades: \n",
        "$j$ es uno de los individuos infectados al tiempor $t=0$ o, \n",
        "Existe un camino de longitud menor que $t$ desde $j$ a un nodo infectado al tiempo $t=0$\n"
      ],
      "metadata": {
        "id": "Dhax9Y3rkyu0"
      }
    },
    {
      "cell_type": "markdown",
      "source": [
        "Nota. Esto funciona bien por la propiedad de pérdida de memoria de la exponencial. Específicamente, cuando obtenemos los tiempos de contacto imediatamente después de una infección, estamos suponiendo que no importa el tiempo en el que se infecta el nodo, solo importa el tiempo que tarde antes del primer contacto."
      ],
      "metadata": {
        "id": "dbCmEwxVu66C"
      }
    },
    {
      "cell_type": "code",
      "source": [
        "import numpy as np\n",
        "import scipy.stats "
      ],
      "metadata": {
        "id": "1rlYr2Y4vIIk"
      },
      "execution_count": 90,
      "outputs": []
    },
    {
      "cell_type": "code",
      "source": [
        "beta=8/9\n",
        "gamma=2/9"
      ],
      "metadata": {
        "id": "qIjyUfZ9vIIl"
      },
      "execution_count": 91,
      "outputs": []
    },
    {
      "cell_type": "code",
      "source": [
        "N=10\n",
        "np.random.seed(1)\n",
        "G_rand=nx.random_tree(N,)\n",
        "pos=nx.spring_layout(G_rand,)\n",
        "nx.draw(G_rand,pos,node_size=50)\n",
        "plt.draw()\n",
        "recuperation_times=np.random.exponential(scale=1/gamma,size=N)\n",
        "contact_times=nx.to_numpy_matrix(G_rand)\n",
        "for i in range(contact_times.shape[0]):\n",
        "    for j in range(i,contact_times.shape[1]):\n",
        "        if(contact_times[i,j]!=0.):\n",
        "            contact_times[i,j]=round(np.random.exponential(scale=1/beta),3)"
      ],
      "metadata": {
        "colab": {
          "base_uri": "https://localhost:8080/",
          "height": 319
        },
        "outputId": "92ceb8bf-d9d4-40ea-99cb-facc67b7cf63",
        "id": "Ob7WNeQYvIIm"
      },
      "execution_count": 114,
      "outputs": [
        {
          "output_type": "display_data",
          "data": {
            "text/plain": [
              "<Figure size 432x288 with 1 Axes>"
            ],
            "image/png": "[encoded data removed]"
          },
          "metadata": {}
        }
      ]
    },
    {
      "cell_type": "markdown",
      "source": [
        "Evolución en el tiempo."
      ],
      "metadata": {
        "id": "MrjalwEEvIIn"
      }
    },
    {
      "cell_type": "markdown",
      "source": [
        "Se puede considerar discretizado y graficar en cada tiempo de \"cambio\""
      ],
      "metadata": {
        "id": "x6y0NSncvIIo"
      }
    },
    {
      "cell_type": "markdown",
      "source": [
        "Asumimos el nodo 0 como el único inicialmente infectado."
      ],
      "metadata": {
        "id": "YwOotVOTvIIo"
      }
    },
    {
      "cell_type": "code",
      "source": [
        "import matplotlib.pyplot as plt\n",
        "G0=nx.from_numpy_matrix(contact_times.transpose())\n",
        "G=nx.from_numpy_matrix(contact_times.transpose())\n",
        "from IPython import display\n",
        "from time import sleep\n",
        "color_map_0=['red' if i==0 else 'green' for i in range(len(list(G.nodes)))]\n",
        "color_map=['red' if i==0 else 'green' for i in range(len(list(G.nodes)))]\n",
        "p=nx.shortest_path_length(G, source=0,weight='weight')\n",
        "p_sec=nx.shortest_path(G, source=0,weight='weight')\n",
        "T=list(p.values())\n",
        "for t in T[0:]:#Agregar en T los tiempos de recuperacion y un tercer color.\n",
        "    print(t)\n",
        "    for j in list(G.nodes):\n",
        "        try:\n",
        "            boolean=t>=p[j] \n",
        "        except: boolean=False\n",
        "        if color_map_0[j]!='red' and boolean:\n",
        "            #Aqui se pregunta si el tiempo de recuperacion del anterior es mayor que el tiempo de contacto\n",
        "            prev=p_sec[j][-2]\n",
        "            if G[prev][j]['weight']<recuperation_times[prev]:\n",
        "                color_map[j]='red'\n",
        "            else:\n",
        "                G.remove_edge(prev,j)\n",
        "                p=nx.shortest_path_length(G, source=0,weight='weight')\n",
        "                p_sec=nx.shortest_path(G, source=0,weight='weight')\n",
        "                print('Hubo contacto pero no habia infeccion')\n",
        "    pos=nx.spring_layout(G0,seed=0,k=5)\n",
        "    labels = nx.get_edge_attributes(G0,'weight',)\n",
        "    nx.draw(G0,pos, node_color=color_map, with_labels=True)\n",
        "    nx.draw_networkx_edge_labels(G0,pos,edge_labels=labels)\n",
        "    plt.draw()\n",
        "    display.display(plt.gcf())\n",
        "    display.clear_output(wait=True)\n",
        "    sleep(1)\n",
        "print(T[-1])"
      ],
      "metadata": {
        "colab": {
          "base_uri": "https://localhost:8080/",
          "height": 336
        },
        "id": "YHxlCG3qDoxG",
        "outputId": "e89c283a-01a4-4264-b832-11d4b3d5e5aa"
      },
      "execution_count": 115,
      "outputs": [
        {
          "output_type": "stream",
          "name": "stdout",
          "text": [
            "6.744000000000001\n"
          ]
        },
        {
          "output_type": "display_data",
          "data": {
            "text/plain": [
              "<Figure size 432x288 with 1 Axes>"
            ],
            "image/png": "[encoded data removed]"
          },
          "metadata": {}
        }
      ]
    }
  ]
}