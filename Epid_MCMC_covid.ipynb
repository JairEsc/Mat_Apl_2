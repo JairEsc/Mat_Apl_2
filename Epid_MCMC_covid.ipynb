{
  "nbformat": 4,
  "nbformat_minor": 0,
  "metadata": {
    "colab": {
      "provenance": [],
      "include_colab_link": true
    },
    "kernelspec": {
      "name": "python3",
      "display_name": "Python 3"
    },
    "language_info": {
      "name": "python"
    }
  },
  "cells": [
    {
      "cell_type": "markdown",
      "metadata": {
        "id": "view-in-github",
        "colab_type": "text"
      },
      "source": [
        "<a href=\"https://colab.research.google.com/github/JairEsc/Mat_Apl_2/blob/main/Epid_MCMC_covid.ipynb\" target=\"_parent\"><img src=\"https://colab.research.google.com/assets/colab-badge.svg\" alt=\"Open In Colab\"/></a>"
      ]
    },
    {
      "cell_type": "code",
      "execution_count": 1,
      "metadata": {
        "id": "mgbxZ9WmWRxM"
      },
      "outputs": [],
      "source": [
        "import pandas as pd\n",
        "import numpy as np\n",
        "import matplotlib.pyplot as plt\n",
        "import scipy.stats\n",
        "from scipy.integrate import odeint"
      ]
    },
    {
      "cell_type": "markdown",
      "source": [
        "Cargamos los datos de incidencia durante 28 semanas."
      ],
      "metadata": {
        "id": "o9y54NMzRXp8"
      }
    },
    {
      "cell_type": "code",
      "source": [
        "datos=pd.read_csv(\"SEIR.csv\",sep=';')\n",
        "plt.plot(datos['incidencia'])\n",
        "Ydat=datos['incidencia']\n",
        "print(np.sum(Ydat))#>90% de la población se infectó"
      ],
      "metadata": {
        "colab": {
          "base_uri": "https://localhost:8080/",
          "height": 282
        },
        "id": "B9mjMBsNWp12",
        "outputId": "d0348f2d-e1b4-4b4e-87d7-bd5915261302"
      },
      "execution_count": 120,
      "outputs": [
        {
          "output_type": "stream",
          "name": "stdout",
          "text": [
            "924122\n"
          ]
        },
        {
          "output_type": "display_data",
          "data": {
            "text/plain": [
              "<Figure size 432x288 with 1 Axes>"
            ],
            "image/png": "[encoded data removed]"
          },
          "metadata": {
            "needs_background": "light"
          }
        }
      ]
    },
    {
      "cell_type": "markdown",
      "source": [
        "Definimos la función del modelo SEIR que utilizaremos para ajustar los datos observados."
      ],
      "metadata": {
        "id": "39ZwBoksReds"
      }
    },
    {
      "cell_type": "code",
      "source": [
        "N=1e3\n",
        "S0=N-1\n",
        "E0=1\n",
        "I0=0\n",
        "R0=0\n",
        "X0=[S0,E0,0,I0,R0]\n",
        "INPUT=[S0,E0,I0,0,R0]\n",
        "def SEIR(X,t, ps):\n",
        "    try:\n",
        "        be = ps['be'].value\n",
        "        la = ps['la'].value\n",
        "        ga = ps['ga'].value\n",
        "        N = ps['N'].value\n",
        "    except:\n",
        "        be,la,ga,N = ps  \n",
        "    S,E,I,Y,R = X\n",
        "    dS = -be*S*I/N\n",
        "    dE = (be*S*I/N) - la*E\n",
        "    dI = la*E - ga*I\n",
        "    dY = be*S*I/N\n",
        "    dR = ga*I\n",
        "    Xsol = np.array([dS,dE,dI,dY,dR],dtype='float64')\n",
        "    Xsol = Xsol.reshape(5,)\n",
        "    return(Xsol)\n",
        "def SEIR_izy(X,t, N, be,la,ga):#Para no tener problemas con los parametros de las funciones.\n",
        "    S,E,I,Y,R = X\n",
        "    dS = -be*S*I/N\n",
        "    dE = (be*S*I/N) - la*E\n",
        "    dI = la*E - ga*I\n",
        "    dY = be*S*I/N\n",
        "    dR = ga*I\n",
        "    Xsol = np.array([dS,dE,dI,dY,dR],dtype='float64')\n",
        "    Xsol = Xsol.reshape(5,)\n",
        "    return(Xsol)"
      ],
      "metadata": {
        "id": "awMExUf4LJzX"
      },
      "execution_count": 182,
      "outputs": []
    },
    {
      "cell_type": "markdown",
      "source": [
        "En este ejercicio, nos gustaría hacer inferencia bayesiana sobre la distribución de los datos de incidencia. En tal caso, supongamos el siguiente esquema de trabajo.\n",
        "\n",
        "\n",
        "*   D=$\\{y_1,y_2,\\ldots,y_{28}\\}$ son los datos de incidencia.\n",
        "*  Debemos proponer $\\pi_{1,2,3}$ distribuciones aprior de los parámetros de nuestro modelo SEIR ($\\beta,\\lambda,\\gamma)$ respectivamente. Pues con estas y asumiendo un modelo Poisson para la incidencia, podemos calcular la función de verosimilitud de nuestros datos.\n",
        "*   $Y|D$ la distribución posterior es la distribución objetivo. Es decir, de la que nos gustaría generar observaciones. Llamemosla $f$.\n",
        "*   Debemos proponer una distribución condicional $q(\\cdot|y_i)$ que sea sencilla de simular.\n",
        "*   Debemos proporcionar un valor inicial de la cadena $x_0$ que satisfaga que $f(x_0)>0$, de manera que MH pueda generar realizaciones de la distribución de interés."
      ],
      "metadata": {
        "id": "XJkd9TlTRo9F"
      }
    },
    {
      "cell_type": "markdown",
      "source": [
        "Función de verosimilitud de las observaciones. En este caso $f$ es la función de distribución posterior usando el modelo $Poisson$."
      ],
      "metadata": {
        "id": "Af86GAJvYsxY"
      }
    },
    {
      "cell_type": "code",
      "source": [
        "#### verosimilitud\n",
        "def logverosimilitud(theta):\n",
        "    be,la,ga = theta\n",
        "    dias = 28\n",
        "    t = np.linspace(0,28,29)  ## vector de tiempos\n",
        "    Xt =  odeint(func=SEIR_izy, y0=X0, t=t, args=(N,be,la,ga))\n",
        "    ### Incidencia\n",
        "    Inc = np.diff(Xt[:,3])#Valores de incidencia diaria.\n",
        "    vers = scipy.stats.poisson.logpmf(Ydat, Inc)#Suponiendo que dado theta, los datos siguen distribucion \n",
        "            #Poisson de parámetro dado por el valor obtenido en la solución de la ODE\n",
        "    ver = np.sum(vers)\n",
        "    return(ver)\n",
        "#### Posterior\n",
        "def logposterior(theta):\n",
        "  return(logaprioris(theta)+logverosimilitud(theta))\n"
      ],
      "metadata": {
        "id": "LqlOyqTUolAe"
      },
      "execution_count": 183,
      "outputs": []
    },
    {
      "cell_type": "markdown",
      "source": [
        "Usamos optimización numérica para conseguir una condición inicial de los parámetros y guiarnos para proponer las aprioris."
      ],
      "metadata": {
        "id": "_keqKkpAgq_l"
      }
    },
    {
      "cell_type": "code",
      "source": [
        "#!pip install lmfit"
      ],
      "metadata": {
        "id": "tzgHZf9b-DB4"
      },
      "execution_count": 5,
      "outputs": []
    },
    {
      "cell_type": "code",
      "execution_count": 186,
      "metadata": {
        "id": "g0hjdbJ027se",
        "outputId": "80a3eae7-a219-4d57-a590-91dc32e50485",
        "colab": {
          "base_uri": "https://localhost:8080/",
          "height": 471
        }
      },
      "outputs": [
        {
          "output_type": "execute_result",
          "data": {
            "text/plain": [
              "<lmfit.minimizer.MinimizerResult at 0x7fa5755c5310>"
            ],
            "text/html": [
              "<h2>Fit Statistics</h2><table><tr><td>fitting method</td><td>leastsq</td><td></td></tr><tr><td># function evals</td><td>1318</td><td></td></tr><tr><td># data points</td><td>28</td><td></td></tr><tr><td># variables</td><td>8</td><td></td></tr><tr><td>chi-square</td><td> 1.2696e+11</td><td></td></tr><tr><td>reduced chi-square</td><td> 6.3478e+09</td><td></td></tr><tr><td>Akaike info crit.</td><td> 638.577075</td><td></td></tr><tr><td>Bayesian info crit.</td><td> 649.234712</td><td></td></tr></table><h2>Variables</h2><table><tr><th> name </th><th> value </th><th> initial value </th><th> min </th><th> max </th><th> vary </th></tr><tr><td> be </td><td>  2.24415186 </td><td> 2.0 </td><td>  0.00000000 </td><td>  10.0000000 </td><td> True </td></tr><tr><td> la </td><td>  0.16677560 </td><td> 2 </td><td>  0.00000000 </td><td>  10.0000000 </td><td> True </td></tr><tr><td> ga </td><td>  4.5452e-05 </td><td> 1 </td><td>  0.00000000 </td><td>  10.0000000 </td><td> True </td></tr><tr><td> N </td><td>  1000.00000 </td><td> 1000.0 </td><td>  1000.00000 </td><td>  1001.00000 </td><td> True </td></tr><tr><td> S0 </td><td>  1000.00000 </td><td> 1000.0 </td><td>  0.00000000 </td><td>  1001.00000 </td><td> True </td></tr><tr><td> E0 </td><td>  1.00000000 </td><td> 1.0 </td><td>  0.00000000 </td><td>  1.00000000 </td><td> True </td></tr><tr><td> I0 </td><td>  0.00000000 </td><td> 0.0 </td><td>  0.00000000 </td><td>  1.00000000 </td><td> True </td></tr><tr><td> Y0 </td><td>  0.00000000 </td><td> 0.0 </td><td>  0.00000000 </td><td>  1.00000000 </td><td> True </td></tr></table>"
            ]
          },
          "metadata": {},
          "execution_count": 186
        }
      ],
      "source": [
        "from lmfit import minimize, Parameters, Parameter, report_fit\n",
        "from scipy.integrate import odeint\n",
        "import scipy.integrate as spi\n",
        "t_start = 0.0; \n",
        "t_end = 28; \n",
        "t_inc = 1.0\n",
        "t_range = np.arange(t_start, t_end+t_inc, t_inc)\n",
        "def g(t,ps):\n",
        "    SOL = spi.odeint(SEIR,INPUT,t_range,args=(ps,))\n",
        "    return np.diff(SOL[:,3])\n",
        "def residual(ps,ts,data):\n",
        "    #INP =  ps['Y0'].value#Solo los infectados.\n",
        "    model = g(ts,ps)\n",
        "    return (model-data).ravel()\n",
        "params = Parameters()\n",
        "params.add('be', value=2.0, min=0, max=10)\n",
        "params.add('la', value=2, min=0, max=10)\n",
        "params.add('ga', value=1, min=0, max=10)\n",
        "params.add('N', value=float(N), min=N, max=N+1)\n",
        "params.add('S0', value= float(N), min=0, max=N+1)\n",
        "params.add('E0', value=float(1), min=0, max=1)\n",
        "params.add('I0', value=float(0), min=0, max=1)\n",
        "params.add('Y0', value=float(0), min=0, max=1)\n",
        "t = np.linspace(0, 28, 29)\n",
        "result = minimize(residual, params, args=(t, Ydat), method='leastsq')\n",
        "\n",
        "final = Ydat + result.residual.reshape(Ydat.shape)\n",
        "result\n"
      ]
    },
    {
      "cell_type": "code",
      "source": [
        "plt.plot(Ydat, '-g',label='Datos observados')\n",
        "plt.plot(final, '-', linewidth=2,label='Ajuste SEIR');\n",
        "plt.legend()\n",
        "plt.show()"
      ],
      "metadata": {
        "id": "PzwuAKXT-Zwp",
        "outputId": "9c76915c-c9be-424e-e0d3-2616886df991",
        "colab": {
          "base_uri": "https://localhost:8080/",
          "height": 265
        }
      },
      "execution_count": 138,
      "outputs": [
        {
          "output_type": "display_data",
          "data": {
            "text/plain": [
              "<Figure size 432x288 with 1 Axes>"
            ],
            "image/png": "[encoded data removed]"
          },
          "metadata": {
            "needs_background": "light"
          }
        }
      ]
    },
    {
      "cell_type": "code",
      "source": [
        "be_0=result.params['be'].value\n",
        "la_0=result.params['la'].value\n",
        "ga_0=result.params['ga'].value"
      ],
      "metadata": {
        "id": "sPi_JpO5jEtS"
      },
      "execution_count": 199,
      "outputs": []
    },
    {
      "cell_type": "code",
      "source": [
        "def f(theta):\n",
        "    return(np.exp(logaprioris(theta)+logverosimilitud(theta)))"
      ],
      "metadata": {
        "id": "5cy4U2M9BHRy"
      },
      "execution_count": 171,
      "outputs": []
    },
    {
      "cell_type": "code",
      "source": [
        "print(f([be_0,la_0,ga_0]))#Fail"
      ],
      "metadata": {
        "id": "coBEecAJBxFX",
        "outputId": "bfcc5166-afdf-4a7d-b01c-c8a5f29c423b",
        "colab": {
          "base_uri": "https://localhost:8080/"
        }
      },
      "execution_count": 198,
      "outputs": [
        {
          "output_type": "stream",
          "name": "stdout",
          "text": [
            "0.0\n"
          ]
        }
      ]
    },
    {
      "cell_type": "code",
      "execution_count": 173,
      "metadata": {
        "id": "_6Uuc6DO4dEj"
      },
      "outputs": [],
      "source": [
        "q=2\n",
        "par1=[be_0/(q/10),0,q/10]  #hiperpar'ametros para beta\n",
        "par2=[la_0/(q/10),0,q/10]  #hiperpar'ametros para lamba\n",
        "par3=[ga_0/(q/10),0,q/10]  #hiperpar'ametros para gamma\n",
        "\n",
        "def logaprioris(theta):\n",
        "    be,la,ga = theta\n",
        "    dbe = scipy.stats.gamma.logpdf(be,par1[0],par1[1],par1[2])\n",
        "    dla = scipy.stats.gamma.logpdf(la,par2[0],par2[1],par2[2])\n",
        "    dga = scipy.stats.gamma.logpdf(ga,par3[0],par3[1],par3[2])\n",
        "    return(dbe+dla+dga)"
      ]
    },
    {
      "cell_type": "markdown",
      "source": [
        "Visualización de las distribuciones a prior."
      ],
      "metadata": {
        "id": "PP-CGLOlYo-Q"
      }
    },
    {
      "cell_type": "code",
      "source": [
        "x = np.linspace(0., 7, 50)\n",
        "prev1 = scipy.stats.gamma.pdf(x, par1[0],par1[1],par1[2])\n",
        "prev2 = scipy.stats.gamma.pdf(x, par2[0],par2[1],par2[2])\n",
        "prev3 = scipy.stats.gamma.pdf(x, par3[0],par3[1],par3[2])\n",
        "plt.plot(x, prev1, 'b-', label='previa beta')\n",
        "plt.plot(x, prev2, 'r--', label='previa lambda')\n",
        "plt.plot(x, prev3, 'g--', label='previa gamma')\n",
        "plt.legend(loc=\"best\")"
      ],
      "metadata": {
        "colab": {
          "base_uri": "https://localhost:8080/",
          "height": 282
        },
        "id": "6FGYhuWdooiV",
        "outputId": "939f2e70-e436-4ec6-8e6f-0ad3e3bfdac0"
      },
      "execution_count": 202,
      "outputs": [
        {
          "output_type": "execute_result",
          "data": {
            "text/plain": [
              "<matplotlib.legend.Legend at 0x7fa57536fd10>"
            ]
          },
          "metadata": {},
          "execution_count": 202
        },
        {
          "output_type": "display_data",
          "data": {
            "text/plain": [
              "<Figure size 432x288 with 1 Axes>"
            ],
            "image/png": "[encoded data removed]"
          },
          "metadata": {
            "needs_background": "light"
          }
        }
      ]
    },
    {
      "cell_type": "code",
      "source": [
        "def Busca(iter_max):#Trata de buscar un valor de theta para el cual la posterior sea positiva\n",
        "    positivo=False\n",
        "    count=0\n",
        "    theta_ini='nope'\n",
        "    while positivo==False and count<iter_max:\n",
        "        a = scipy.stats.gamma.rvs(par1[0],par1[1],par1[2])\n",
        "        b = scipy.stats.gamma.rvs(par2[0],par2[1],par2[2])    \n",
        "        c = scipy.stats.gamma.rvs(par3[0],par3[1],par3[2])\n",
        "        tt = np.array([a, b, c])\n",
        "        w=f(tt)#Funcion objetivo\n",
        "        count+=1\n",
        "        if w>0:\n",
        "            theta_ini = tt\n",
        "            positivo=True\n",
        "            return(theta_ini)\n",
        "    return theta_ini\n",
        "Busca(10**4)"
      ],
      "metadata": {
        "id": "AsMfIj4AiRDM",
        "outputId": "b2521ef4-0232-4bd5-cfc2-89324382e547",
        "colab": {
          "base_uri": "https://localhost:8080/",
          "height": 36
        }
      },
      "execution_count": 221,
      "outputs": [
        {
          "output_type": "execute_result",
          "data": {
            "text/plain": [
              "'nope'"
            ],
            "application/vnd.google.colaboratory.intrinsic+json": {
              "type": "string"
            }
          },
          "metadata": {},
          "execution_count": 221
        }
      ]
    },
    {
      "cell_type": "code",
      "source": [
        "#Segundo intento. Optimizacion numérica sobre la funcion de verosimilitud"
      ],
      "metadata": {
        "id": "PfCffM1zpFMp"
      },
      "execution_count": 187,
      "outputs": []
    },
    {
      "cell_type": "code",
      "source": [
        "from scipy.optimize import minimize\n",
        "def menosloglikelihood(theta):\n",
        "    return -logverosimilitud(theta)\n",
        "bnds = ((0.01, 10), (0.01, 6.0),(0.01, 6.0))\n",
        "x_0=minimize(fun=menosloglikelihood,x0=[be_0,la_0,ga_0],bounds=bnds)\n",
        "print(x_0.x)"
      ],
      "metadata": {
        "id": "tEcayCpypG-_",
        "outputId": "40e26f1a-92a9-4c62-cba6-7108cb74bac8",
        "colab": {
          "base_uri": "https://localhost:8080/"
        }
      },
      "execution_count": 219,
      "outputs": [
        {
          "output_type": "stream",
          "name": "stdout",
          "text": [
            "[7.29941598 0.04062382 0.01000014]\n"
          ]
        }
      ]
    },
    {
      "cell_type": "code",
      "source": [
        "f(x_0.x)#Fail"
      ],
      "metadata": {
        "id": "5jExq9n9U3FN",
        "outputId": "3336c15b-f77a-45c5-d7b4-7842e9f73f70",
        "colab": {
          "base_uri": "https://localhost:8080/"
        }
      },
      "execution_count": 220,
      "outputs": [
        {
          "output_type": "execute_result",
          "data": {
            "text/plain": [
              "0.0"
            ]
          },
          "metadata": {},
          "execution_count": 220
        }
      ]
    }
  ]
}