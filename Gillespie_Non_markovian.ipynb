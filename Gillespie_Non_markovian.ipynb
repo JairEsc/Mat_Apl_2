{
  "nbformat": 4,
  "nbformat_minor": 0,
  "metadata": {
    "colab": {
      "provenance": [],
      "authorship_tag": "ABX9TyPtVSTJeB7ZhZLveQ0ZrwyP",
      "include_colab_link": true
    },
    "kernelspec": {
      "name": "python3",
      "display_name": "Python 3"
    },
    "language_info": {
      "name": "python"
    }
  },
  "cells": [
    {
      "cell_type": "markdown",
      "metadata": {
        "id": "view-in-github",
        "colab_type": "text"
      },
      "source": [
        "<a href=\"https://colab.research.google.com/github/JairEsc/Mat_Apl_2/blob/main/Gillespie_Non_markovian.ipynb\" target=\"_parent\"><img src=\"https://colab.research.google.com/assets/colab-badge.svg\" alt=\"Open In Colab\"/></a>"
      ]
    },
    {
      "cell_type": "markdown",
      "source": [
        "# Algoritmo Gillespie no-markoviano en redes."
      ],
      "metadata": {
        "id": "N0nTqtYMbLHX"
      }
    },
    {
      "cell_type": "code",
      "source": [
        "A=True\n",
        "while(A):\n",
        "    print(\"A\")\n",
        "    A=False"
      ],
      "metadata": {
        "colab": {
          "base_uri": "https://localhost:8080/"
        },
        "id": "qgWX3oM70sDo",
        "outputId": "6947855d-168e-4434-b4b4-8bd9c5608ea8"
      },
      "execution_count": 1,
      "outputs": [
        {
          "output_type": "stream",
          "name": "stdout",
          "text": [
            "A\n"
          ]
        }
      ]
    },
    {
      "cell_type": "code",
      "source": [
        "import numpy as np\n",
        "import pandas as pd\n",
        "import matplotlib.pyplot as plt\n",
        "from scipy.optimize import fsolve\n",
        "import networkx as nx\n",
        "\n",
        "def Gillespie_Direct_Method_Mon_Markovian_Networkk(a_I,a_R,lammbda_I,lammbda_R,N,X_I_indexes,G_network_initial=nx.Graph(),T=np.inf):\n",
        "### Algoritmo \n",
        "    pos=nx.spring_layout(G_network_initial,seed=2,k=3)\n",
        "\n",
        "#Paso 1.\n",
        "    t=0\n",
        "    aristas_en_riesgo={'arista':[],'tiempo':[]}\n",
        "    vertices_infecciosos={'vertice':[],'tiempo':[]}\n",
        "    #Llenar estos arreglos.\n",
        "    #N es el número de individuos.\n",
        "    for j in X_I_indexes:\n",
        "        vertices_infecciosos['vertice'].append(j)\n",
        "        vertices_infecciosos['tiempo'].append(0)\n",
        "        for i in range(N):\n",
        "            if G_network_initial.has_edge(i,j):\n",
        "                aristas_en_riesgo['arista'].append((min(i,j),max(i,j)))\n",
        "                aristas_en_riesgo['tiempo'].append(0) \n",
        "    flag=True\n",
        "#---------------------------\n",
        "    count=0\n",
        "    Tuto=False\n",
        "    hist=[]\n",
        "    tau=0.5\n",
        "    X_I=len(X_I_indexes)\n",
        "    while(X_I>0):\n",
        "        count+=1\n",
        "        #Paso 2.\n",
        "        #Definir Phi(tau|{t_j}):\n",
        "        #---------------------------\n",
        "        #Paso 3.\n",
        "        #Generar el tiempo de siguiente reaccion:\n",
        "        u=np.random.uniform()\n",
        "        def f_to_solve(x):\n",
        "            S_1=np.sum([(x+r)**(a_I) for r in aristas_en_riesgo['tiempo']])\n",
        "            S_2=np.sum([(x+r)**(a_I) for r in vertices_infecciosos['tiempo']])\n",
        "            S_3=np.sum([r**a_I for r in aristas_en_riesgo['tiempo']])\n",
        "            S_4=np.sum([r**a_R for r in vertices_infecciosos['tiempo']])\n",
        "            return (S_1+S_2+np.log(u)-(lammbda_I**a_I+lammbda_R**a_R)-S_3-S_4)\n",
        "        try:\n",
        "            tau=fsolve(func=f_to_solve,x0=tau/2)\n",
        "        except:\n",
        "            print(\"Error in fsolve\")\n",
        "        tau=tau[0]\n",
        "        t+=tau\n",
        "        #-------------------------\n",
        "        #Paso 4. \n",
        "        #Definir las cantidades $phi(tau,i|t_i) \n",
        "        #Paso 5.\n",
        "        #Calcular las probabilidades $Pi_j$\n",
        "        pi_s_teoricas=[]\n",
        "        for j in range(len(aristas_en_riesgo['tiempo'])):\n",
        "            pi_s_teoricas.append(lammbda_I*a_I*(lammbda_I*(tau+aristas_en_riesgo['tiempo'][j]))**(a_I-1))\n",
        "        for j in range(len(vertices_infecciosos['tiempo'])):\n",
        "            pi_s_teoricas.append(lammbda_R*a_R*(lammbda_R*(tau+vertices_infecciosos['tiempo'][j]))**(a_R-1))\n",
        "        pi_s=pi_s_teoricas/np.sum(pi_s_teoricas)\n",
        "        #-------------------------\n",
        "        #Paso 6.\n",
        "        #Decidir el canal de reacción.\n",
        "        u_2=np.random.uniform()\n",
        "        D=pi_s[0]\n",
        "        k=0\n",
        "        while(u_2>D):\n",
        "            k+=1\n",
        "            D+=pi_s[k]\n",
        "        #-------------------------\n",
        "        #Paso 7 y 8.\n",
        "        #Actualizacion de tiempos DESDE la ultima reaccion (en todos los canales).\n",
        "        aristas_en_riesgo['tiempo']=[tau+x for x in aristas_en_riesgo['tiempo']]################################3\n",
        "        vertices_infecciosos['tiempo']=[tau+x for x in vertices_infecciosos['tiempo']]\n",
        "        #-------------------------\n",
        "        #Identificar la reaccion\n",
        "        if(k<len(aristas_en_riesgo['tiempo'])):#Infeccion\n",
        "            reaccion='infeccion'\n",
        "            X_I+=1\n",
        "            #arista\n",
        "            arista_elegida=aristas_en_riesgo['arista'][k]\n",
        "            involucrado_1,involucrado_2=arista_elegida[0],arista_elegida[1]\n",
        "            #Identificar al nuevo infectado-------------\n",
        "            if(G_network_initial.nodes[involucrado_1]['Estado:']=='Susceptible'):\n",
        "                #involucrado_1 es el nuevo infeccioso\n",
        "                nuevo_infectado=involucrado_1\n",
        "            else:\n",
        "                if(G_network_initial.nodes[involucrado_1]['Estado:']=='Infeccioso'):\n",
        "                    nuevo_infectado=involucrado_2\n",
        "                else:\n",
        "                    print(\"Epale\")\n",
        "            G_network_initial.nodes[nuevo_infectado]['Estado:']='Infeccioso'#Actualizacion en el grafo.\n",
        "            #-------------------------\n",
        "            #Agregarlo a la lista vertices_infecciosos con tiempo 0----\n",
        "            vertices_infecciosos['vertice'].append(nuevo_infectado)\n",
        "            vertices_infecciosos['tiempo'].append(0)\n",
        "            #-------------------------\n",
        "            #Agrega a la lista aristas_en_riesgo a aquellas nuevas aristas que podrían provocar una infección, con tiempo 0.\n",
        "            for nei in G_network_initial.neighbors(nuevo_infectado):\n",
        "                if(G_network_initial.nodes[nei]['Estado:']=='Susceptible'):\n",
        "                    aristas_en_riesgo['arista'].append((min(nei,nuevo_infectado),max(nei,nuevo_infectado)))\n",
        "                    aristas_en_riesgo['tiempo'].append(0)\n",
        "                else:\n",
        "                    if(G_network_initial.nodes[nei]['Estado:']=='Infeccioso'):\n",
        "                        index=aristas_en_riesgo['arista'].index((min(nuevo_infectado,nei),max(nuevo_infectado,nei)))\n",
        "                        aristas_en_riesgo['arista'].pop(index)\n",
        "                        aristas_en_riesgo['tiempo'].pop(index)\n",
        "            #-------------------------\n",
        "            #Elimina de la lista aristas_en_riesgo a la arista que provocó la nueva infeccion\n",
        "\n",
        "            #-------------------------\n",
        "            nuevo_involucrado=nuevo_infectado\n",
        "            #-------------------------\n",
        "            #Elimina de la lista aristas_en_riesgo a las aristas que ya no son viables. I.e. involucra a dos infecciosos.\n",
        "            #-------------------------\n",
        "        else:#Recuperacion.\n",
        "            X_I-=1\n",
        "            reaccion='recuperacion'\n",
        "            indice_respecto_vertices=k-len(aristas_en_riesgo['tiempo'])\n",
        "            nuevo_recuperado=vertices_infecciosos['vertice'][indice_respecto_vertices]\n",
        "            #Actualiza el estado a Recuperado.\n",
        "            G_network_initial.nodes[nuevo_recuperado]['Estado:']='Recuperado'#Actualizacion en el grafo.\n",
        "            #-----------------------------\n",
        "            #Elimina de la lista vertices_infecciosos al nuevo recuperado.\n",
        "            vertices_infecciosos['vertice'].pop(indice_respecto_vertices)\n",
        "            vertices_infecciosos['tiempo'].pop(indice_respecto_vertices)\n",
        "            #-----------------------------\n",
        "            #Elimina de la lista aristas_en_riesgo a aquellas aristas que involucran al nuevo recuperado.\n",
        "            aristas_en_riesgo_copia=aristas_en_riesgo['arista'].copy()\n",
        "            count=-1\n",
        "            for l in range(len(aristas_en_riesgo_copia)):\n",
        "                edge=aristas_en_riesgo_copia[l]\n",
        "                if(edge[0]==nuevo_recuperado or edge[1]==nuevo_recuperado):\n",
        "                    count+=1\n",
        "                    aristas_en_riesgo['arista'].pop(l-count)\n",
        "                    aristas_en_riesgo['tiempo'].pop(l-count)\n",
        "            #-----------------------------\n",
        "            nuevo_involucrado=nuevo_recuperado\n",
        "        if(Tuto):\n",
        "            print(\"-\"*30)\n",
        "            #print(\"En la siguiente iteración ocurre: \\\\n \\\\t *Se genera el tiempo \"+str(tau)+\"\\\\n\\\\t *Se selecciona el canal \" +str(k)+ \", que significa \"+reaccion+\" del individuo \" +str(nuevo_involucrado))\n",
        "            print(\"-\"*30)\n",
        "            print(\"\\\\n La grafica se ve asi: \")\n",
        "            nx.draw(G_network_initial, pos,with_labels=True,node_color=['r' if G_network_initial.nodes[i]['Estado:']=='Infeccioso' else 'g' if G_network_initial.nodes[i]['Estado:']=='Susceptible' else 'gray' for i in range(N)])\n",
        "            plt.show()\n",
        "        hist.append([t,X_I])\n",
        "        if(X_I==0):\n",
        "            flag=False\n",
        "    H=pd.DataFrame(hist,columns=['time','I(t)'])\n",
        "    return H"
      ],
      "metadata": {
        "id": "MJWaKsymzGxq"
      },
      "execution_count": 20,
      "outputs": []
    },
    {
      "cell_type": "code",
      "source": [
        "import time\n",
        "start_time = time.time()\n",
        "N=100*5\n",
        "n=int(N*0.1)\n",
        "ksum=1\n",
        "np.random.seed(2)\n",
        "while(ksum%2!=0):#Que defina una grafica.\n",
        "        k_dist=np.random.poisson(n,size=N)\n",
        "        ksum=sum(k_dist)\n",
        "G=nx.random_degree_sequence_graph(k_dist)\n",
        "pos=nx.spring_layout(G,seed=2,k=3)\n",
        "print(\"--- %s Segundos para crear la gráfica ---\" % (time.time() - start_time))\n",
        "graph_time = time.time()\n",
        "np.random.seed(0)\n",
        "X_I_indexes=[0]\n",
        "for k in range(N):\n",
        "    if k in X_I_indexes:\n",
        "        G.nodes[k]['Estado:']='Infeccioso'\n",
        "    else:\n",
        "        G.nodes[k]['Estado:']='Susceptible'\n",
        "print(\"Empieza\")\n",
        "\n",
        "S_0=N-1\n",
        "I_0=N-S_0\n",
        "beta=1.25\n",
        "gamma=1\n",
        "for k in range(5):\n",
        "    H=[]\n",
        "    G_copy=G.copy()\n",
        "    X_I_indexes_copy=X_I_indexes.copy()\n",
        "    iter_time = time.time()\n",
        "    H=Gillespie_Direct_Method_Mon_Markovian_Networkk(a_I=1.2,a_R=1.2,lammbda_I=1.25,lammbda_R=1,N=N,X_I_indexes=[0],G_network_initial=G_copy,T=np.inf)\n",
        "    print(\"--- %s Segundos para ejecutar 1 iteracion ---\" % (time.time() - iter_time))    \n",
        "    H=pd.DataFrame(H,columns=['time','S(t)','I(t)'])\n",
        "    plt.plot(H['time'],H['I(t)'], 'gray',linewidth=0.5)\n",
        "plt.title('Simulaciones exactas')\n",
        "plt.show()"
      ],
      "metadata": {
        "colab": {
          "base_uri": "https://localhost:8080/",
          "height": 573
        },
        "id": "yN4mXjgqb0sz",
        "outputId": "1de124e1-d791-449b-c72d-4f635b760afc"
      },
      "execution_count": 24,
      "outputs": [
        {
          "output_type": "stream",
          "name": "stdout",
          "text": [
            "--- 14.102048397064209 Segundos para crear la gráfica ---\n",
            "Empieza\n",
            "--- 103.70814538002014 Segundos para ejecutar 1 iteracion ---\n",
            "--- 105.87831521034241 Segundos para ejecutar 1 iteracion ---\n",
            "--- 102.61406540870667 Segundos para ejecutar 1 iteracion ---\n",
            "--- 103.89717626571655 Segundos para ejecutar 1 iteracion ---\n",
            "--- 104.00975728034973 Segundos para ejecutar 1 iteracion ---\n"
          ]
        },
        {
          "output_type": "display_data",
          "data": {
            "text/plain": [
              "<Figure size 640x480 with 1 Axes>"
            ],
            "image/png": "[encoded data removed]"
          },
          "metadata": {}
        }
      ]
    }
  ]
}