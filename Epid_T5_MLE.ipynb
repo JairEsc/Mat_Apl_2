{
  "nbformat": 4,
  "nbformat_minor": 0,
  "metadata": {
    "colab": {
      "provenance": [],
      "authorship_tag": "ABX9TyPgCORvnpiWYDb8ZRkmP1kF",
      "include_colab_link": true
    },
    "kernelspec": {
      "name": "python3",
      "display_name": "Python 3"
    },
    "language_info": {
      "name": "python"
    }
  },
  "cells": [
    {
      "cell_type": "markdown",
      "metadata": {
        "id": "view-in-github",
        "colab_type": "text"
      },
      "source": [
        "<a href=\"https://colab.research.google.com/github/JairEsc/Mat_Apl_2/blob/main/Epid_T5_MLE.ipynb\" target=\"_parent\"><img src=\"https://colab.research.google.com/assets/colab-badge.svg\" alt=\"Open In Colab\"/></a>"
      ]
    },
    {
      "cell_type": "code",
      "execution_count": 1,
      "metadata": {
        "id": "XNkPIkCkdCaY"
      },
      "outputs": [],
      "source": [
        "s=np.array([99, 97, 94, 83, 56, 17,  6,  5,  5])\n",
        "i=np.array([1,  2,  3, 11, 27, 39, 11,  1,  0])"
      ]
    },
    {
      "cell_type": "code",
      "source": [
        "import numpy as np"
      ],
      "metadata": {
        "id": "okX8NIuKdKG-"
      },
      "execution_count": 12,
      "outputs": []
    },
    {
      "cell_type": "code",
      "source": [
        "def log_ver(p):\n",
        "  f=0\n",
        "  f=np.dot(i[0:-1],s[1:])*np.log(p)\n",
        "  for j in range(len(s)-1):\n",
        "    if(s[j+1]-s[j]!=0):\n",
        "      f+=(s[j]-s[j+1])*np.log(1-p**i[j])\n",
        "  return f"
      ],
      "metadata": {
        "id": "WK5om33dhGAk"
      },
      "execution_count": 96,
      "outputs": []
    },
    {
      "cell_type": "code",
      "source": [
        "def partial_log_verosimilitud(p):\n",
        "  f=np.dot(i[0:-1],s[1:])/p\n",
        "  for j in range(len(s)-1):\n",
        "    if(s[j+1]-s[j]!=0):\n",
        "      f+=-(s[j+1]-s[j])*(i[j]*p**(i[j]-1))/(1-p**(i[j]))\n",
        "  return f"
      ],
      "metadata": {
        "id": "QIOQnHvMdMhc"
      },
      "execution_count": 94,
      "outputs": []
    },
    {
      "cell_type": "code",
      "source": [
        "from scipy import optimize"
      ],
      "metadata": {
        "id": "2g1opvnqdYUs"
      },
      "execution_count": 81,
      "outputs": []
    },
    {
      "cell_type": "code",
      "source": [
        "import scipy\n",
        "x=optimize.fmin_tnc(log_ver, x0 = [0.5], approx_grad=True, bounds = [(0.01,1)]) \n",
        "x"
      ],
      "metadata": {
        "colab": {
          "base_uri": "https://localhost:8080/"
        },
        "id": "P8HcohhaeqRh",
        "outputId": "761d1451-df10-470a-89eb-6a70e33a3332"
      },
      "execution_count": 95,
      "outputs": [
        {
          "output_type": "execute_result",
          "data": {
            "text/plain": [
              "(array([0.01]), 6, 0)"
            ]
          },
          "metadata": {},
          "execution_count": 95
        }
      ]
    },
    {
      "cell_type": "code",
      "source": [],
      "metadata": {
        "colab": {
          "base_uri": "https://localhost:8080/"
        },
        "id": "v-DtMyC6jIlO",
        "outputId": "14f73f61-6c5e-418e-f262-9e0ddb5e43eb"
      },
      "execution_count": 76,
      "outputs": [
        {
          "output_type": "execute_result",
          "data": {
            "text/plain": [
              "1.0000000000000022e-39"
            ]
          },
          "metadata": {},
          "execution_count": 76
        }
      ]
    }
  ]
}