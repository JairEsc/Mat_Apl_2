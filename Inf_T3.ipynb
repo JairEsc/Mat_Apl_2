{
  "nbformat": 4,
  "nbformat_minor": 0,
  "metadata": {
    "colab": {
      "name": "Untitled1.ipynb",
      "provenance": [],
      "authorship_tag": "ABX9TyPI+PJ7oWQKIRISbfLDkc26",
      "include_colab_link": true
    },
    "kernelspec": {
      "name": "python3",
      "display_name": "Python 3"
    },
    "language_info": {
      "name": "python"
    }
  },
  "cells": [
    {
      "cell_type": "markdown",
      "metadata": {
        "id": "view-in-github",
        "colab_type": "text"
      },
      "source": [
        "<a href=\"https://colab.research.google.com/github/JairEsc/Mat_Apl_2/blob/main/Inf_T3.ipynb\" target=\"_parent\"><img src=\"https://colab.research.google.com/assets/colab-badge.svg\" alt=\"Open In Colab\"/></a>"
      ]
    },
    {
      "cell_type": "code",
      "execution_count": 48,
      "metadata": {
        "id": "7C5nCoRn5p4K"
      },
      "outputs": [],
      "source": [
        "import pandas as pd\n",
        "import numpy as np\n",
        "import matplotlib.pyplot as plt"
      ]
    },
    {
      "cell_type": "code",
      "source": [
        "#Leer datos--------------------------------\n",
        "DATA=pd.read_csv(\"data.txt\", delim_whitespace=True)\n",
        "print(DATA)\n",
        "#------------------------------------"
      ],
      "metadata": {
        "colab": {
          "base_uri": "https://localhost:8080/"
        },
        "id": "nbJEQf428FOe",
        "outputId": "ea6655ed-8504-4c85-9af7-67b97554d231"
      },
      "execution_count": 47,
      "outputs": [
        {
          "output_type": "stream",
          "name": "stdout",
          "text": [
            "     Obs  eruptions  waiting\n",
            "0      1      3.600       79\n",
            "1      2      1.800       54\n",
            "2      3      3.333       74\n",
            "3      4      2.283       62\n",
            "4      5      4.533       85\n",
            "..   ...        ...      ...\n",
            "267  268      4.117       81\n",
            "268  269      2.150       46\n",
            "269  270      4.417       90\n",
            "270  271      1.817       46\n",
            "271  272      4.467       74\n",
            "\n",
            "[272 rows x 3 columns]\n"
          ]
        }
      ]
    },
    {
      "cell_type": "code",
      "source": [
        "#Exploracion------------------------------------\n",
        "Tiempos_acum=np.cumsum(DATA[\"waiting\"])#En minutos.\n",
        "Duraciones=DATA[\"eruptions\"]#En segundos.\n",
        "plt.step(Tiempos_acum[:20],np.arange(0,len(Tiempos_acum[:20])),)\n",
        "plt.title(\"tiempo (s) vs. # Ocurrencias \")\n",
        "plt.show()\n",
        "plt.hist(Duraciones)\n",
        "plt.title(\"Histograma de duraciones de erupcion (min)\")\n",
        "plt.show()\n",
        "#------------------------------------\n"
      ],
      "metadata": {
        "colab": {
          "base_uri": "https://localhost:8080/",
          "height": 545
        },
        "id": "5DIu1FKOAxxP",
        "outputId": "862d2651-9bde-4972-eaeb-dad90fb94e7b"
      },
      "execution_count": 66,
      "outputs": [
        {
          "output_type": "display_data",
          "data": {
            "text/plain": [
              "<Figure size 432x288 with 1 Axes>"
            ],
            "image/png": "[encoded data removed]"
          },
          "metadata": {
            "needs_background": "light"
          }
        },
        {
          "output_type": "display_data",
          "data": {
            "text/plain": [
              "<Figure size 432x288 with 1 Axes>"
            ],
            "image/png": "[encoded data removed]"
          },
          "metadata": {
            "needs_background": "light"
          }
        }
      ]
    }
  ]
}