{
  "nbformat": 4,
  "nbformat_minor": 0,
  "metadata": {
    "colab": {
      "provenance": [],
      "include_colab_link": true
    },
    "kernelspec": {
      "name": "python3",
      "display_name": "Python 3"
    },
    "language_info": {
      "name": "python"
    }
  },
  "cells": [
    {
      "cell_type": "markdown",
      "metadata": {
        "id": "view-in-github",
        "colab_type": "text"
      },
      "source": [
        "<a href=\"https://colab.research.google.com/github/JairEsc/Mat_Apl_2/blob/main/Epidemiologia/Epid_T5_MLE.ipynb\" target=\"_parent\"><img src=\"https://colab.research.google.com/assets/colab-badge.svg\" alt=\"Open In Colab\"/></a>"
      ]
    },
    {
      "cell_type": "code",
      "source": [
        "import numpy as np"
      ],
      "metadata": {
        "id": "okX8NIuKdKG-"
      },
      "execution_count": 50,
      "outputs": []
    },
    {
      "cell_type": "code",
      "execution_count": 51,
      "metadata": {
        "id": "XNkPIkCkdCaY"
      },
      "outputs": [],
      "source": [
        "s=np.array([99, 97, 94, 83, 56, 17,  6,  5,  5])\n",
        "i=np.array([1,  2,  3, 11, 27, 39, 11,  1,  0])"
      ]
    },
    {
      "cell_type": "code",
      "source": [
        "def partial_log_verosimilitud(p):\n",
        "  f=np.dot(i[0:-1],s[1:])/p\n",
        "  for j in range(len(s)-1):\n",
        "    if(s[j+1]-s[j]!=0):\n",
        "      f+=-(s[j]-s[j+1])*(i[j]*p**(i[j]-1))/(1-p**(i[j]))\n",
        "  return f"
      ],
      "metadata": {
        "id": "QIOQnHvMdMhc"
      },
      "execution_count": 52,
      "outputs": []
    },
    {
      "cell_type": "code",
      "source": [
        "import matplotlib.pyplot as plt\n",
        "t=np.linspace(0.1,.99,500)\n",
        "plt.plot(t,partial_log_verosimilitud(t),label='D_x f(x)')\n",
        "plt.legend()\n",
        "plt.show()"
      ],
      "metadata": {
        "id": "4UV6cCpttZD7",
        "outputId": "880f6761-3fdc-4225-ddc3-c68ec604eabb",
        "colab": {
          "base_uri": "https://localhost:8080/",
          "height": 267
        }
      },
      "execution_count": 53,
      "outputs": [
        {
          "output_type": "display_data",
          "data": {
            "text/plain": [
              "<Figure size 432x288 with 1 Axes>"
            ],
            "image/png": "[encoded data removed]"
          },
          "metadata": {
            "needs_background": "light"
          }
        }
      ]
    },
    {
      "cell_type": "code",
      "source": [
        "from scipy import optimize"
      ],
      "metadata": {
        "id": "2g1opvnqdYUs"
      },
      "execution_count": 54,
      "outputs": []
    },
    {
      "cell_type": "code",
      "source": [
        "import scipy\n",
        "x=optimize.newton(partial_log_verosimilitud,x0=0.95)\n",
        "x"
      ],
      "metadata": {
        "colab": {
          "base_uri": "https://localhost:8080/"
        },
        "id": "P8HcohhaeqRh",
        "outputId": "ab742ec8-39b0-43ff-acbe-38f76d52f78f"
      },
      "execution_count": 55,
      "outputs": [
        {
          "output_type": "execute_result",
          "data": {
            "text/plain": [
              "0.9655195780463992"
            ]
          },
          "metadata": {},
          "execution_count": 55
        }
      ]
    }
  ]
}
