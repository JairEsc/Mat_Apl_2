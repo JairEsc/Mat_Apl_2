{
  "nbformat": 4,
  "nbformat_minor": 0,
  "metadata": {
    "colab": {
      "provenance": [],
      "authorship_tag": "ABX9TyPOHygUsmOhUZGmrmVBHs+A",
      "include_colab_link": true
    },
    "kernelspec": {
      "name": "python3",
      "display_name": "Python 3"
    },
    "language_info": {
      "name": "python"
    }
  },
  "cells": [
    {
      "cell_type": "markdown",
      "metadata": {
        "id": "view-in-github",
        "colab_type": "text"
      },
      "source": [
        "<a href=\"https://colab.research.google.com/github/JairEsc/Mat_Apl_2/blob/main/Epidemiologia/Epid_3_covid.ipynb\" target=\"_parent\"><img src=\"https://colab.research.google.com/assets/colab-badge.svg\" alt=\"Open In Colab\"/></a>"
      ]
    },
    {
      "cell_type": "code",
      "execution_count": 46,
      "metadata": {
        "id": "_SwfRg_FPh38"
      },
      "outputs": [],
      "source": [
        "import pandas as pd\n",
        "import numpy as np\n",
        "import matplotlib.pyplot as plt"
      ]
    },
    {
      "cell_type": "markdown",
      "source": [
        "Cargamos los datos. En este caso, es tardado subir el archivo porque es muy pesado. Consideramos sólo las columnas correspondientes a fechas de ingreso, inicio de sintomas y defunción."
      ],
      "metadata": {
        "id": "yxQRa8NfogR6"
      }
    },
    {
      "cell_type": "code",
      "source": [
        "B1=pd.read_csv('201006COVID19MEXICO.csv',usecols=['FECHA_INGRESO','FECHA_SINTOMAS','FECHA_DEF'], encoding='latin-1')"
      ],
      "metadata": {
        "id": "ve_DNsgvScQM"
      },
      "execution_count": 47,
      "outputs": []
    },
    {
      "cell_type": "code",
      "source": [
        "print(B1)#"
      ],
      "metadata": {
        "colab": {
          "base_uri": "https://localhost:8080/"
        },
        "id": "gSTCa3xlUAkX",
        "outputId": "2b82e530-f293-46a1-e7fc-5e7951f3f027"
      },
      "execution_count": 48,
      "outputs": [
        {
          "output_type": "stream",
          "name": "stdout",
          "text": [
            "        FECHA_INGRESO FECHA_SINTOMAS   FECHA_DEF\n",
            "0          2020-03-31     2020-03-28  9999-99-99\n",
            "1          2020-04-01     2020-03-28  9999-99-99\n",
            "2          2020-03-14     2020-03-11  9999-99-99\n",
            "3          2020-03-18     2020-03-17  9999-99-99\n",
            "4          2020-02-27     2020-02-22  9999-99-99\n",
            "...               ...            ...         ...\n",
            "2021250    2020-10-04     2020-09-30  9999-99-99\n",
            "2021251    2020-10-05     2020-10-01  9999-99-99\n",
            "2021252    2020-10-05     2020-10-03  9999-99-99\n",
            "2021253    2020-10-05     2020-10-01  9999-99-99\n",
            "2021254    2020-10-05     2020-10-03  9999-99-99\n",
            "\n",
            "[2021255 rows x 3 columns]\n"
          ]
        }
      ]
    },
    {
      "cell_type": "markdown",
      "source": [
        "Notemos las dimensiones: 2,021,255 filas. (Número de registros.)"
      ],
      "metadata": {
        "id": "UzqBNoC1oYah"
      }
    },
    {
      "cell_type": "code",
      "source": [
        "dia0=np.min(B1['FECHA_SINTOMAS'])\n",
        "dia_f=np.max(B1['FECHA_SINTOMAS'])\n",
        "print(\"Inicio de registro: \",dia0)\n",
        "print(\"Final de registro: \",dia_f)\n",
        "print(\"Numero de dias registrados: \",(pd.to_datetime(dia_f)-pd.to_datetime(dia0)).days)"
      ],
      "metadata": {
        "colab": {
          "base_uri": "https://localhost:8080/"
        },
        "id": "JA76P-ICVhd_",
        "outputId": "77a7a72b-609c-409c-fc2b-34ff08de2f46"
      },
      "execution_count": 206,
      "outputs": [
        {
          "output_type": "stream",
          "name": "stdout",
          "text": [
            "Inicio de registro:  2020-01-01\n",
            "Final de registro:  2020-10-06\n",
            "Numero de dias registrados:  279\n"
          ]
        }
      ]
    },
    {
      "cell_type": "code",
      "source": [
        "#Semanas\n",
        "Num_semanas=int((pd.to_datetime(dia_f)-pd.to_datetime(dia0)).days/7)+1\n",
        "vec_semanas=[str(pd.to_datetime(dia0) + pd.to_timedelta(7*i, unit='d'))[0:10] for i in range(0,Num_semanas+1)]"
      ],
      "metadata": {
        "id": "umH4Q-6Mb4Rl"
      },
      "execution_count": 50,
      "outputs": []
    },
    {
      "cell_type": "markdown",
      "source": [
        "Mostramos un vector con los dias finales de cada semana considerada."
      ],
      "metadata": {
        "id": "BIeSSWS_pNim"
      }
    },
    {
      "cell_type": "code",
      "source": [
        "print(vec_semanas)"
      ],
      "metadata": {
        "colab": {
          "base_uri": "https://localhost:8080/"
        },
        "id": "Yfgx-PuVpINj",
        "outputId": "1b06176f-5238-42e6-dfd0-09ed880d0203"
      },
      "execution_count": 51,
      "outputs": [
        {
          "output_type": "stream",
          "name": "stdout",
          "text": [
            "['2020-01-01', '2020-01-08', '2020-01-15', '2020-01-22', '2020-01-29', '2020-02-05', '2020-02-12', '2020-02-19', '2020-02-26', '2020-03-04', '2020-03-11', '2020-03-18', '2020-03-25', '2020-04-01', '2020-04-08', '2020-04-15', '2020-04-22', '2020-04-29', '2020-05-06', '2020-05-13', '2020-05-20', '2020-05-27', '2020-06-03', '2020-06-10', '2020-06-17', '2020-06-24', '2020-07-01', '2020-07-08', '2020-07-15', '2020-07-22', '2020-07-29', '2020-08-05', '2020-08-12', '2020-08-19', '2020-08-26', '2020-09-02', '2020-09-09', '2020-09-16', '2020-09-23', '2020-09-30', '2020-10-07']\n"
          ]
        }
      ]
    },
    {
      "cell_type": "markdown",
      "source": [
        "Ahora, calcularemos la frecuencia por semana de los registros de inicio de sintomas."
      ],
      "metadata": {
        "id": "FYBZR7FxpSxT"
      }
    },
    {
      "cell_type": "code",
      "source": [
        "ocurrencias=np.zeros(Num_semanas)\n",
        "for fecha in B1['FECHA_SINTOMAS']:\n",
        "    for k in range(1,len(ocurrencias)+1):#Esto se puede optimizar.\n",
        "        if(fecha<vec_semanas[k] and fecha>=vec_semanas[k-1]):\n",
        "            ocurrencias[k-1]+=1 \n",
        "            break;"
      ],
      "metadata": {
        "id": "r7QxoErfpnx0"
      },
      "execution_count": 52,
      "outputs": []
    },
    {
      "cell_type": "code",
      "source": [
        "print(np.sum(ocurrencias))#Sí es particion."
      ],
      "metadata": {
        "colab": {
          "base_uri": "https://localhost:8080/"
        },
        "id": "yUoobNl_uzI5",
        "outputId": "3360809c-9073-4784-9a6d-91cfb83f78e2"
      },
      "execution_count": 53,
      "outputs": [
        {
          "output_type": "stream",
          "name": "stdout",
          "text": [
            "2021255.0\n"
          ]
        }
      ]
    },
    {
      "cell_type": "code",
      "source": [
        "plt.bar(vec_semanas[0:-1],ocurrencias)\n",
        "plt.xticks(rotation=90)\n",
        "plt.title('Incidencia por semana')\n",
        "plt.show()"
      ],
      "metadata": {
        "colab": {
          "base_uri": "https://localhost:8080/",
          "height": 329
        },
        "id": "joob-_t1vD_G",
        "outputId": "ab11cdcc-17c7-4b7a-976a-661e632476c1"
      },
      "execution_count": 207,
      "outputs": [
        {
          "output_type": "display_data",
          "data": {
            "text/plain": [
              "<Figure size 432x288 with 1 Axes>"
            ],
            "image/png": "[encoded data removed]"
          },
          "metadata": {
            "needs_background": "light"
          }
        }
      ]
    },
    {
      "cell_type": "markdown",
      "source": [],
      "metadata": {
        "id": "RIpco-vT0-k6"
      }
    },
    {
      "cell_type": "code",
      "source": [
        "def ode_SEIR(INP,t,beta,gamma,kappa):  #M2 Adimensional. \n",
        "    Y = np.zeros((4))\n",
        "    V = INP    \n",
        "    Y[0] = - beta * V[0] * V[2]/N \n",
        "    Y[1] = beta * V[0] * V[2]/N - kappa * V[1] \n",
        "    Y[2] = kappa*V[1] - gamma * V[2] \n",
        "    Y[3] = gamma * V[2] \n",
        "    return Y  "
      ],
      "metadata": {
        "id": "7gWby9QpwfYB"
      },
      "execution_count": 353,
      "outputs": []
    },
    {
      "cell_type": "code",
      "source": [
        "def rungekutta1(f, y0, t, args=()):\n",
        "    n = len(t)\n",
        "    y = np.zeros((n, len(y0)))\n",
        "    y[0] = y0\n",
        "    for i in range(n - 1):\n",
        "        y[i+1] = y[i] + (t[i+1] - t[i]) * f(y[i], t[i], *args)\n",
        "    return y"
      ],
      "metadata": {
        "id": "hWmHHchO7OEG"
      },
      "execution_count": 354,
      "outputs": []
    },
    {
      "cell_type": "code",
      "source": [
        "# Especificamos parámetros y condiciones iniciales\n",
        "S0 = 120e6\n",
        "I0 = 1\n",
        "E0 = 1\n",
        "INPUT = (S0,E0, I0, 0.0)\n",
        "beta = 2\n",
        "gamma = 0.25\n",
        "kappa = 0.36\n",
        "t_start = 0.0; \n",
        "t_end = 287; \n",
        "t_inc = 1.0\n",
        "t_range = np.arange(t_start, t_end+t_inc, t_inc)\n",
        "sol = rungekutta1(ode_SEIR, INPUT,t_range,args=(beta,gamma,kappa))"
      ],
      "metadata": {
        "id": "_6xxx2KSw3Od"
      },
      "execution_count": 355,
      "outputs": []
    },
    {
      "cell_type": "code",
      "source": [
        "plt.figure()\n",
        "plt.title('Comparación')\n",
        "plt.plot(sol[:,2], '-r', label='Incidencia diaria')\n",
        "plt.plot(np.arange(0,40*7,7),ocurrencias, '-b', label='Incidencia semanal')\n",
        "plt.legend(loc=0)\n",
        "plt.xlabel('Tiempo')\n",
        "plt.ylabel('Infectious')\n",
        "plt.show()"
      ],
      "metadata": {
        "colab": {
          "base_uri": "https://localhost:8080/",
          "height": 295
        },
        "id": "MduG0rZdylt_",
        "outputId": "a95044be-9d45-4605-f662-b12ce1b5b6b9"
      },
      "execution_count": 357,
      "outputs": [
        {
          "output_type": "display_data",
          "data": {
            "text/plain": [
              "<Figure size 432x288 with 1 Axes>"
            ],
            "image/png": "[encoded data removed]"
          },
          "metadata": {
            "needs_background": "light"
          }
        }
      ]
    },
    {
      "cell_type": "markdown",
      "source": [
        "# **Intento de ajuste SIR.**"
      ],
      "metadata": {
        "id": "muvtChyeM2u2"
      }
    },
    {
      "cell_type": "code",
      "source": [
        "#!pip install lmfit"
      ],
      "metadata": {
        "id": "SFMCn8l8M67r",
        "outputId": "86f11e9c-814b-455d-eb5f-8a70b1ece601",
        "colab": {
          "base_uri": "https://localhost:8080/"
        }
      },
      "execution_count": 244,
      "outputs": [
        {
          "output_type": "stream",
          "name": "stdout",
          "text": [
            "Looking in indexes: https://pypi.org/simple, https://us-python.pkg.dev/colab-wheels/public/simple/\n",
            "Collecting lmfit\n",
            "  Downloading lmfit-1.0.3.tar.gz (292 kB)\n",
            "\u001b[K     |████████████████████████████████| 292 kB 8.2 MB/s \n",
            "\u001b[?25hCollecting asteval>=0.9.22\n",
            "  Downloading asteval-0.9.27-py3-none-any.whl (17 kB)\n",
            "Requirement already satisfied: numpy>=1.18 in /usr/local/lib/python3.7/dist-packages (from lmfit) (1.21.6)\n",
            "Requirement already satisfied: scipy>=1.4 in /usr/local/lib/python3.7/dist-packages (from lmfit) (1.7.3)\n",
            "Collecting uncertainties>=3.0.1\n",
            "  Downloading uncertainties-3.1.7-py2.py3-none-any.whl (98 kB)\n",
            "\u001b[K     |████████████████████████████████| 98 kB 7.2 MB/s \n",
            "\u001b[?25hRequirement already satisfied: importlib-metadata in /usr/local/lib/python3.7/dist-packages (from asteval>=0.9.22->lmfit) (4.12.0)\n",
            "Requirement already satisfied: future in /usr/local/lib/python3.7/dist-packages (from uncertainties>=3.0.1->lmfit) (0.16.0)\n",
            "Requirement already satisfied: zipp>=0.5 in /usr/local/lib/python3.7/dist-packages (from importlib-metadata->asteval>=0.9.22->lmfit) (3.8.1)\n",
            "Requirement already satisfied: typing-extensions>=3.6.4 in /usr/local/lib/python3.7/dist-packages (from importlib-metadata->asteval>=0.9.22->lmfit) (4.1.1)\n",
            "Building wheels for collected packages: lmfit\n",
            "  Building wheel for lmfit (setup.py) ... \u001b[?25l\u001b[?25hdone\n",
            "  Created wheel for lmfit: filename=lmfit-1.0.3-py3-none-any.whl size=84413 sha256=fc5d57095909683a740a477e6510eade28a6c9784481dfa444208efd193e9c97\n",
            "  Stored in directory: /root/.cache/pip/wheels/b9/7a/d1/236aa0f8196b264fda481a112f7cfb1bfde7bfb20235f8e331\n",
            "Successfully built lmfit\n",
            "Installing collected packages: uncertainties, asteval, lmfit\n",
            "Successfully installed asteval-0.9.27 lmfit-1.0.3 uncertainties-3.1.7\n"
          ]
        }
      ]
    },
    {
      "cell_type": "code",
      "execution_count": 256,
      "metadata": {
        "id": "hzkkctZ027sc"
      },
      "outputs": [],
      "source": [
        "from lmfit import minimize, Parameters, Parameter, report_fit\n",
        "from scipy.integrate import odeint\n",
        "import scipy.integrate as spi"
      ]
    },
    {
      "cell_type": "code",
      "execution_count": 360,
      "metadata": {
        "id": "8JlUQmvw27sd"
      },
      "outputs": [],
      "source": [
        "def ode_SIR(INP,t,ps): #Codigo hurtado del dropbox.\n",
        "    try:\n",
        "        beta = ps['beta'].value\n",
        "        gamma = ps['gamma'].value\n",
        "        N = ps['N'].value\n",
        "    except:\n",
        "        beta,gamma,N = ps   \n",
        "    Y = np.zeros((3))\n",
        "    V = INP    \n",
        "    Y[0] = - beta * V[0] * V[1] /N\n",
        "    Y[1] = beta * V[0] * V[1]/N - gamma * V[1] \n",
        "    Y[2] = gamma * V[1] \n",
        "    return Y"
      ]
    },
    {
      "cell_type": "code",
      "execution_count": 361,
      "metadata": {
        "id": "g0hjdbJ027se"
      },
      "outputs": [],
      "source": [
        "def g(t,INP,ps):\n",
        "    SOL = spi.odeint(ode_SIR,INPUT,t_range,args=(ps,))\n",
        "    return SOL[:,1]"
      ]
    },
    {
      "cell_type": "code",
      "execution_count": 362,
      "metadata": {
        "id": "TNmIIJ_i27sf"
      },
      "outputs": [],
      "source": [
        "def residual(ps,ts,data):\n",
        "    INP =  ps['I0'].value#Solo los infectados.\n",
        "    model = g(ts,INP,ps)\n",
        "    return (model-data).ravel()"
      ]
    },
    {
      "cell_type": "code",
      "execution_count": 363,
      "metadata": {
        "id": "LuE69oif27sh"
      },
      "outputs": [],
      "source": [
        "N = 120e6\n",
        "S0 = N-1\n",
        "I0 = 1\n",
        "INPUT = (S0, I0, 0.0)\n",
        "t_start = 0.0; t_end = 39; t_inc = 1.0\n",
        "t_range = np.arange(t_start, t_end+t_inc, t_inc)\n"
      ]
    },
    {
      "cell_type": "markdown",
      "source": [
        "Se trata de ajustar el nùmero de infectados a los datos observados."
      ],
      "metadata": {
        "id": "2xZp1ScL1wj-"
      }
    },
    {
      "cell_type": "code",
      "execution_count": 365,
      "metadata": {
        "id": "9-HRzKU627si"
      },
      "outputs": [],
      "source": [
        "data = ocurrencias"
      ]
    },
    {
      "cell_type": "code",
      "execution_count": 340,
      "metadata": {
        "id": "J0xMDbOh27sm"
      },
      "outputs": [],
      "source": [
        "# set parameters incluing bounds\n",
        "params = Parameters()\n",
        "params.add('beta', value=2.0, min=0, max=10)\n",
        "params.add('gamma', value=1.0, min=0, max=10)\n",
        "params.add('N', value=float(N), min=N, max=N+1)\n",
        "params.add('S0', value= float(120e6), min=0, max=120e6)\n",
        "params.add('I0', value=float(1), min=0, max=1000)"
      ]
    },
    {
      "cell_type": "code",
      "execution_count": 366,
      "metadata": {
        "id": "L8jNiuI927sn",
        "outputId": "c0e1006e-e595-4958-9894-6ebc5233fedc",
        "colab": {
          "base_uri": "https://localhost:8080/",
          "height": 408
        }
      },
      "outputs": [
        {
          "output_type": "execute_result",
          "data": {
            "text/plain": [
              "<lmfit.minimizer.MinimizerResult at 0x7f1a59912610>"
            ],
            "text/html": [
              "<h2>Fit Statistics</h2><table><tr><td>fitting method</td><td>leastsq</td><td></td></tr><tr><td># function evals</td><td>215</td><td></td></tr><tr><td># data points</td><td>40</td><td></td></tr><tr><td># variables</td><td>5</td><td></td></tr><tr><td>chi-square</td><td> 4.6434e+10</td><td></td></tr><tr><td>reduced chi-square</td><td> 1.3267e+09</td><td></td></tr><tr><td>Akaike info crit.</td><td> 844.896909</td><td></td></tr><tr><td>Bayesian info crit.</td><td> 853.341306</td><td></td></tr></table><h2>Variables</h2><table><tr><th> name </th><th> value </th><th> initial value </th><th> min </th><th> max </th><th> vary </th></tr><tr><td> beta </td><td>  9.43852344 </td><td> 2.0 </td><td>  0.00000000 </td><td>  10.0000000 </td><td> True </td></tr><tr><td> gamma </td><td>  8.99551935 </td><td> 1.0 </td><td>  0.00000000 </td><td>  10.0000000 </td><td> True </td></tr><tr><td> N </td><td>  1.2000e+08 </td><td> 120000000.0 </td><td>  1.2000e+08 </td><td>  1.2000e+08 </td><td> True </td></tr><tr><td> S0 </td><td>  1.2000e+08 </td><td> 120000000.0 </td><td>  0.00000000 </td><td>  1.2000e+08 </td><td> True </td></tr><tr><td> I0 </td><td>  1.00000000 </td><td> 1.0 </td><td>  0.00000000 </td><td>  1000.00000 </td><td> True </td></tr></table>"
            ]
          },
          "metadata": {},
          "execution_count": 366
        }
      ],
      "source": [
        "# fit model and find predicted values\n",
        "t = np.linspace(0, 10, 100)\n",
        "result = minimize(residual, params, args=(t, data), method='leastsq')\n",
        "\n",
        "final = data + result.residual.reshape(data.shape)\n",
        "result\n"
      ]
    },
    {
      "cell_type": "code",
      "execution_count": 367,
      "metadata": {
        "id": "q93_9PLW27sn",
        "outputId": "f77e4579-f66c-466f-c1ea-6888e4c68ef2",
        "colab": {
          "base_uri": "https://localhost:8080/",
          "height": 268
        }
      },
      "outputs": [
        {
          "output_type": "display_data",
          "data": {
            "text/plain": [
              "<Figure size 432x288 with 1 Axes>"
            ],
            "image/png": "[encoded data removed]"
          },
          "metadata": {
            "needs_background": "light"
          }
        }
      ],
      "source": [
        "# plot data and fitted curves\n",
        "plt.plot(data, '-g',label='Datos observados')\n",
        "plt.plot(final, '-', linewidth=2,label='Ajuste SIR (Infectados)');\n",
        "plt.legend()\n",
        "plt.show()"
      ]
    }
  ]
}
