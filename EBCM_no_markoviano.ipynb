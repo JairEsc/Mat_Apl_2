{
  "nbformat": 4,
  "nbformat_minor": 0,
  "metadata": {
    "colab": {
      "provenance": [],
      "authorship_tag": "ABX9TyOes7hTMP5QfW3KwklrKTS2",
      "include_colab_link": true
    },
    "kernelspec": {
      "name": "python3",
      "display_name": "Python 3"
    },
    "language_info": {
      "name": "python"
    }
  },
  "cells": [
    {
      "cell_type": "markdown",
      "metadata": {
        "id": "view-in-github",
        "colab_type": "text"
      },
      "source": [
        "<a href=\"https://colab.research.google.com/github/JairEsc/Mat_Apl_2/blob/main/EBCM_no_markoviano.ipynb\" target=\"_parent\"><img src=\"https://colab.research.google.com/assets/colab-badge.svg\" alt=\"Open In Colab\"/></a>"
      ]
    },
    {
      "cell_type": "markdown",
      "source": [
        "# EBCM no-markoviano\n",
        "\n",
        "Suponemos dados:\n",
        "\n",
        "\n",
        "1.   $I(0)>0$, $S(0)=1-I(0)$, $R(0)=0$.\n",
        "2.   $\\psi$ la función generadora de probabilidad de la distribución de grados.\n",
        "3.   $\\theta(0)=\\psi^{-1}(1-I(0))$\n",
        "4.   $z(a)$, $\\rho(a)$ funciones de riesgo de las distribuciones de transmisión y recuperación, independientes.\n",
        "\n",
        "Para resolver el sistema de ecuaciones:\n",
        "\\begin{align}\n",
        "\\dot{\\theta}(t)&=-\\int_0^t z(a)\\phi_I(t,a)da\\\\\n",
        "\\left(\\frac{\\partial }{\\partial t}+\\frac{\\partial}{\\partial a}\\right)\\phi_I(t,a)&=-\\left(z(a)+\\rho(a)\\right)\\phi_I(t,a)\\\\\n",
        "\\phi(t,0)&=\\frac{\\psi''(\\theta(t))}{\\psi'(1)}\\int_0^t z(a)\\phi_I(t,a)da\\\\\n",
        "\\left(\\frac{\\partial }{\\partial t}+\\frac{\\partial}{\\partial a}\\right)i(t,a)&=-\\rho(a)i(t,a)\\\\\n",
        "i(t,0)&=\\psi'(\\theta(t))\\int_0^t z(a)\\phi_I(t,a)da\\\\\n",
        "S(t)=\\psi(\\theta(t)), \\quad &I(t)=\\int_0^t i(t,a)da, \\quad R(t)=1-S(t)-I(t)\n",
        "\\end{align}\n",
        "\n",
        "\n",
        "\n",
        "\n"
      ],
      "metadata": {
        "id": "mxOlE5fIFuQJ"
      }
    },
    {
      "cell_type": "code",
      "source": [
        "import numpy as np\n",
        "def EBCM_non_markovian(iniciales,riesgo_inf,riesgo_rec,fgp,fgp_prime_1,fgp_prime_2,step_len,fin):\n",
        "  S_0,I_0,R_0,theta_0=iniciales\n",
        "  z=riesgo_inf\n",
        "  rho=riesgo_rec\n",
        "  t,a,k=0,0,0\n",
        "  theta=[theta_0]\n",
        "  phi_t_a=[1-I_0]\n",
        "  i_t_a=[1-I_0]\n",
        "  I=[I_0]\n",
        "  h=step_len\n",
        "  while(t<fin):\n",
        "    k+=1\n",
        "    phi_t_a_new=[]\n",
        "    i_t_a_new=[]\n",
        "    int_z_phi=np.sum([z(a+i*h)*phi_t_a[i]*h for i in range(len(phi_t_a))])\n",
        "    theta.append(theta[-1]-int_z_phi)\n",
        "    phi_t_a_new.append(int_z_phi*fgp_prime_2(theta[-1])/fgp_prime_1(1))\n",
        "    i_t_a_new.append(fgp_prime_1(theta[-1]*int_z_phi))\n",
        "    for j in range(k):\n",
        "      phi_t_a_new.apend(phi_t_a[j]-(rho(a+h*j)+z(a+h*j))*phi_t_a[j])\n",
        "      i_t_a_new.apend(i_t_a[j]-(rho(a+h*j))*i_t_a[j])\n",
        "    I.append(np.sum(i_t_a_new*h))\n",
        "    phi_t_a=phi_t_a_new\n",
        "    i_t_a=i_t_a_new\n",
        "    t+=h\n",
        "  return I"
      ],
      "metadata": {
        "id": "guTfXS0pIHn7"
      },
      "execution_count": null,
      "outputs": []
    },
    {
      "cell_type": "markdown",
      "source": [
        "## Ejemplo"
      ],
      "metadata": {
        "id": "mi4lJSBUOJbB"
      }
    },
    {
      "cell_type": "code",
      "source": [
        "def psi(x):\n",
        "    return ((1/31)*(25*x+5*x**5+x**25))\n",
        "def psi_prime_1(x):\n",
        "    return (1/31)*(25+25*x**4+25*x**24)\n",
        "def psi_prime_2(x):\n",
        "    return (1/31)*(100*x**3+25*24*x**23)\n",
        "from scipy.optimize import fsolve\n",
        "I_0=0.01\n",
        "def psi_CI(x):\n",
        "  return psi(x)+I_0-1\n",
        "theta_0=fsolve(psi_CI,1,)[0]\n",
        "iniciales=[1-I_0,I_0,0,theta_0]\n",
        "\n"
      ],
      "metadata": {
        "id": "L_uRAG-VOIru"
      },
      "execution_count": null,
      "outputs": []
    }
  ]
}