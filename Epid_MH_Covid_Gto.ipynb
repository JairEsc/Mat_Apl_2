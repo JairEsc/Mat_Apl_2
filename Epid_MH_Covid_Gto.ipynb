{
  "nbformat": 4,
  "nbformat_minor": 0,
  "metadata": {
    "colab": {
      "provenance": [],
      "authorship_tag": "ABX9TyMZWMkwION/vi9pvnJSHynB",
      "include_colab_link": true
    },
    "kernelspec": {
      "name": "python3",
      "display_name": "Python 3"
    },
    "language_info": {
      "name": "python"
    }
  },
  "cells": [
    {
      "cell_type": "markdown",
      "metadata": {
        "id": "view-in-github",
        "colab_type": "text"
      },
      "source": [
        "<a href=\"https://colab.research.google.com/github/JairEsc/Mat_Apl_2/blob/main/Epid_MH_Covid_Gto.ipynb\" target=\"_parent\"><img src=\"https://colab.research.google.com/assets/colab-badge.svg\" alt=\"Open In Colab\"/></a>"
      ]
    },
    {
      "cell_type": "code",
      "execution_count": 1,
      "metadata": {
        "id": "mgbxZ9WmWRxM"
      },
      "outputs": [],
      "source": [
        "import pandas as pd\n",
        "import numpy as np\n",
        "import matplotlib.pyplot as plt\n",
        "import scipy.stats\n",
        "from scipy.integrate import odeint"
      ]
    },
    {
      "cell_type": "markdown",
      "source": [
        "Cargamos los datos de incidencia durante 28 semanas."
      ],
      "metadata": {
        "id": "o9y54NMzRXp8"
      }
    },
    {
      "cell_type": "code",
      "source": [
        "datos=pd.read_csv('201006COVID19MEXICO.csv', encoding='latin-1')\n",
        "datos.head()"
      ],
      "metadata": {
        "colab": {
          "base_uri": "https://localhost:8080/",
          "height": 299
        },
        "id": "B9mjMBsNWp12",
        "outputId": "df8195b7-b0dc-4dfd-f924-1eb4eecd31ac"
      },
      "execution_count": 11,
      "outputs": [
        {
          "output_type": "execute_result",
          "data": {
            "text/plain": [
              "  FECHA_ACTUALIZACION ID_REGISTRO  ORIGEN  SECTOR  ENTIDAD_UM  SEXO  \\\n",
              "0          2020-10-06      02ab03       2      12          26     1   \n",
              "1          2020-10-06      11c483       1      12          29     1   \n",
              "2          2020-10-06      156b1d       1       9           9     1   \n",
              "3          2020-10-06      02d87b       2      12           2     2   \n",
              "4          2020-10-06      05f3d3       1      12           9     2   \n",
              "\n",
              "   ENTIDAD_NAC  ENTIDAD_RES  MUNICIPIO_RES  TIPO_PACIENTE  ... OBESIDAD  \\\n",
              "0           26           26             30              1  ...        2   \n",
              "1           29           29             33              1  ...        2   \n",
              "2            9            9              4              1  ...        2   \n",
              "3            2            2              2              1  ...        2   \n",
              "4            9            9              7              2  ...        2   \n",
              "\n",
              "  RENAL_CRONICA TABAQUISMO  OTRO_CASO  TOMA_MUESTRA  RESULTADO  MIGRANTE  \\\n",
              "0             2          2          1             1          1        99   \n",
              "1             2          2          2             1          1        99   \n",
              "2             2          1          1             1          1        99   \n",
              "3             2          2          1             1          1        99   \n",
              "4             2          1          1             1          1        99   \n",
              "\n",
              "   PAIS_NACIONALIDAD  PAIS_ORIGEN  UCI  \n",
              "0            MÃ©xico           97   97  \n",
              "1            MÃ©xico           97   97  \n",
              "2            MÃ©xico           97   97  \n",
              "3            MÃ©xico           97   97  \n",
              "4            MÃ©xico           97    1  \n",
              "\n",
              "[5 rows x 36 columns]"
            ],
            "text/html": [
              "\n",
              "  <div id=\"df-8774393a-722e-4b99-b317-0dc157b8d228\">\n",
              "    <div class=\"colab-df-container\">\n",
              "      <div>\n",
              "<style scoped>\n",
              "    .dataframe tbody tr th:only-of-type {\n",
              "        vertical-align: middle;\n",
              "    }\n",
              "\n",
              "    .dataframe tbody tr th {\n",
              "        vertical-align: top;\n",
              "    }\n",
              "\n",
              "    .dataframe thead th {\n",
              "        text-align: right;\n",
              "    }\n",
              "</style>\n",
              "<table border=\"1\" class=\"dataframe\">\n",
              "  <thead>\n",
              "    <tr style=\"text-align: right;\">\n",
              "      <th></th>\n",
              "      <th>FECHA_ACTUALIZACION</th>\n",
              "      <th>ID_REGISTRO</th>\n",
              "      <th>ORIGEN</th>\n",
              "      <th>SECTOR</th>\n",
              "      <th>ENTIDAD_UM</th>\n",
              "      <th>SEXO</th>\n",
              "      <th>ENTIDAD_NAC</th>\n",
              "      <th>ENTIDAD_RES</th>\n",
              "      <th>MUNICIPIO_RES</th>\n",
              "      <th>TIPO_PACIENTE</th>\n",
              "      <th>...</th>\n",
              "      <th>OBESIDAD</th>\n",
              "      <th>RENAL_CRONICA</th>\n",
              "      <th>TABAQUISMO</th>\n",
              "      <th>OTRO_CASO</th>\n",
              "      <th>TOMA_MUESTRA</th>\n",
              "      <th>RESULTADO</th>\n",
              "      <th>MIGRANTE</th>\n",
              "      <th>PAIS_NACIONALIDAD</th>\n",
              "      <th>PAIS_ORIGEN</th>\n",
              "      <th>UCI</th>\n",
              "    </tr>\n",
              "  </thead>\n",
              "  <tbody>\n",
              "    <tr>\n",
              "      <th>0</th>\n",
              "      <td>2020-10-06</td>\n",
              "      <td>02ab03</td>\n",
              "      <td>2</td>\n",
              "      <td>12</td>\n",
              "      <td>26</td>\n",
              "      <td>1</td>\n",
              "      <td>26</td>\n",
              "      <td>26</td>\n",
              "      <td>30</td>\n",
              "      <td>1</td>\n",
              "      <td>...</td>\n",
              "      <td>2</td>\n",
              "      <td>2</td>\n",
              "      <td>2</td>\n",
              "      <td>1</td>\n",
              "      <td>1</td>\n",
              "      <td>1</td>\n",
              "      <td>99</td>\n",
              "      <td>MÃ©xico</td>\n",
              "      <td>97</td>\n",
              "      <td>97</td>\n",
              "    </tr>\n",
              "    <tr>\n",
              "      <th>1</th>\n",
              "      <td>2020-10-06</td>\n",
              "      <td>11c483</td>\n",
              "      <td>1</td>\n",
              "      <td>12</td>\n",
              "      <td>29</td>\n",
              "      <td>1</td>\n",
              "      <td>29</td>\n",
              "      <td>29</td>\n",
              "      <td>33</td>\n",
              "      <td>1</td>\n",
              "      <td>...</td>\n",
              "      <td>2</td>\n",
              "      <td>2</td>\n",
              "      <td>2</td>\n",
              "      <td>2</td>\n",
              "      <td>1</td>\n",
              "      <td>1</td>\n",
              "      <td>99</td>\n",
              "      <td>MÃ©xico</td>\n",
              "      <td>97</td>\n",
              "      <td>97</td>\n",
              "    </tr>\n",
              "    <tr>\n",
              "      <th>2</th>\n",
              "      <td>2020-10-06</td>\n",
              "      <td>156b1d</td>\n",
              "      <td>1</td>\n",
              "      <td>9</td>\n",
              "      <td>9</td>\n",
              "      <td>1</td>\n",
              "      <td>9</td>\n",
              "      <td>9</td>\n",
              "      <td>4</td>\n",
              "      <td>1</td>\n",
              "      <td>...</td>\n",
              "      <td>2</td>\n",
              "      <td>2</td>\n",
              "      <td>1</td>\n",
              "      <td>1</td>\n",
              "      <td>1</td>\n",
              "      <td>1</td>\n",
              "      <td>99</td>\n",
              "      <td>MÃ©xico</td>\n",
              "      <td>97</td>\n",
              "      <td>97</td>\n",
              "    </tr>\n",
              "    <tr>\n",
              "      <th>3</th>\n",
              "      <td>2020-10-06</td>\n",
              "      <td>02d87b</td>\n",
              "      <td>2</td>\n",
              "      <td>12</td>\n",
              "      <td>2</td>\n",
              "      <td>2</td>\n",
              "      <td>2</td>\n",
              "      <td>2</td>\n",
              "      <td>2</td>\n",
              "      <td>1</td>\n",
              "      <td>...</td>\n",
              "      <td>2</td>\n",
              "      <td>2</td>\n",
              "      <td>2</td>\n",
              "      <td>1</td>\n",
              "      <td>1</td>\n",
              "      <td>1</td>\n",
              "      <td>99</td>\n",
              "      <td>MÃ©xico</td>\n",
              "      <td>97</td>\n",
              "      <td>97</td>\n",
              "    </tr>\n",
              "    <tr>\n",
              "      <th>4</th>\n",
              "      <td>2020-10-06</td>\n",
              "      <td>05f3d3</td>\n",
              "      <td>1</td>\n",
              "      <td>12</td>\n",
              "      <td>9</td>\n",
              "      <td>2</td>\n",
              "      <td>9</td>\n",
              "      <td>9</td>\n",
              "      <td>7</td>\n",
              "      <td>2</td>\n",
              "      <td>...</td>\n",
              "      <td>2</td>\n",
              "      <td>2</td>\n",
              "      <td>1</td>\n",
              "      <td>1</td>\n",
              "      <td>1</td>\n",
              "      <td>1</td>\n",
              "      <td>99</td>\n",
              "      <td>MÃ©xico</td>\n",
              "      <td>97</td>\n",
              "      <td>1</td>\n",
              "    </tr>\n",
              "  </tbody>\n",
              "</table>\n",
              "<p>5 rows × 36 columns</p>\n",
              "</div>\n",
              "      <button class=\"colab-df-convert\" onclick=\"convertToInteractive('df-8774393a-722e-4b99-b317-0dc157b8d228')\"\n",
              "              title=\"Convert this dataframe to an interactive table.\"\n",
              "              style=\"display:none;\">\n",
              "        \n",
              "  <svg xmlns=\"http://www.w3.org/2000/svg\" height=\"24px\"viewBox=\"0 0 24 24\"\n",
              "       width=\"24px\">\n",
              "    <path d=\"M0 0h24v24H0V0z\" fill=\"none\"/>\n",
              "    <path d=\"M18.56 5.44l.94 2.06.94-2.06 2.06-.94-2.06-.94-.94-2.06-.94 2.06-2.06.94zm-11 1L8.5 8.5l.94-2.06 2.06-.94-2.06-.94L8.5 2.5l-.94 2.06-2.06.94zm10 10l.94 2.06.94-2.06 2.06-.94-2.06-.94-.94-2.06-.94 2.06-2.06.94z\"/><path d=\"M17.41 7.96l-1.37-1.37c-.4-.4-.92-.59-1.43-.59-.52 0-1.04.2-1.43.59L10.3 9.45l-7.72 7.72c-.78.78-.78 2.05 0 2.83L4 21.41c.39.39.9.59 1.41.59.51 0 1.02-.2 1.41-.59l7.78-7.78 2.81-2.81c.8-.78.8-2.07 0-2.86zM5.41 20L4 18.59l7.72-7.72 1.47 1.35L5.41 20z\"/>\n",
              "  </svg>\n",
              "      </button>\n",
              "      \n",
              "  <style>\n",
              "    .colab-df-container {\n",
              "      display:flex;\n",
              "      flex-wrap:wrap;\n",
              "      gap: 12px;\n",
              "    }\n",
              "\n",
              "    .colab-df-convert {\n",
              "      background-color: #E8F0FE;\n",
              "      border: none;\n",
              "      border-radius: 50%;\n",
              "      cursor: pointer;\n",
              "      display: none;\n",
              "      fill: #1967D2;\n",
              "      height: 32px;\n",
              "      padding: 0 0 0 0;\n",
              "      width: 32px;\n",
              "    }\n",
              "\n",
              "    .colab-df-convert:hover {\n",
              "      background-color: #E2EBFA;\n",
              "      box-shadow: 0px 1px 2px rgba(60, 64, 67, 0.3), 0px 1px 3px 1px rgba(60, 64, 67, 0.15);\n",
              "      fill: #174EA6;\n",
              "    }\n",
              "\n",
              "    [theme=dark] .colab-df-convert {\n",
              "      background-color: #3B4455;\n",
              "      fill: #D2E3FC;\n",
              "    }\n",
              "\n",
              "    [theme=dark] .colab-df-convert:hover {\n",
              "      background-color: #434B5C;\n",
              "      box-shadow: 0px 1px 3px 1px rgba(0, 0, 0, 0.15);\n",
              "      filter: drop-shadow(0px 1px 2px rgba(0, 0, 0, 0.3));\n",
              "      fill: #FFFFFF;\n",
              "    }\n",
              "  </style>\n",
              "\n",
              "      <script>\n",
              "        const buttonEl =\n",
              "          document.querySelector('#df-8774393a-722e-4b99-b317-0dc157b8d228 button.colab-df-convert');\n",
              "        buttonEl.style.display =\n",
              "          google.colab.kernel.accessAllowed ? 'block' : 'none';\n",
              "\n",
              "        async function convertToInteractive(key) {\n",
              "          const element = document.querySelector('#df-8774393a-722e-4b99-b317-0dc157b8d228');\n",
              "          const dataTable =\n",
              "            await google.colab.kernel.invokeFunction('convertToInteractive',\n",
              "                                                     [key], {});\n",
              "          if (!dataTable) return;\n",
              "\n",
              "          const docLinkHtml = 'Like what you see? Visit the ' +\n",
              "            '<a target=\"_blank\" href=https://colab.research.google.com/notebooks/data_table.ipynb>data table notebook</a>'\n",
              "            + ' to learn more about interactive tables.';\n",
              "          element.innerHTML = '';\n",
              "          dataTable['output_type'] = 'display_data';\n",
              "          await google.colab.output.renderOutput(dataTable, element);\n",
              "          const docLink = document.createElement('div');\n",
              "          docLink.innerHTML = docLinkHtml;\n",
              "          element.appendChild(docLink);\n",
              "        }\n",
              "      </script>\n",
              "    </div>\n",
              "  </div>\n",
              "  "
            ]
          },
          "metadata": {},
          "execution_count": 11
        }
      ]
    },
    {
      "cell_type": "code",
      "source": [
        "for col in datos.columns:\n",
        "    print(col)"
      ],
      "metadata": {
        "colab": {
          "base_uri": "https://localhost:8080/"
        },
        "id": "xtIPM_ODPq9J",
        "outputId": "1f9ea4b9-6f63-4023-949c-1641317a171c"
      },
      "execution_count": 10,
      "outputs": [
        {
          "output_type": "stream",
          "name": "stdout",
          "text": [
            "FECHA_ACTUALIZACION\n",
            "ID_REGISTRO\n",
            "ORIGEN\n",
            "SECTOR\n",
            "ENTIDAD_UM\n",
            "SEXO\n",
            "ENTIDAD_NAC\n",
            "ENTIDAD_RES\n",
            "MUNICIPIO_RES\n",
            "TIPO_PACIENTE\n",
            "FECHA_INGRESO\n",
            "FECHA_SINTOMAS\n",
            "FECHA_DEF\n",
            "INTUBADO\n",
            "NEUMONIA\n",
            "EDAD\n",
            "NACIONALIDAD\n",
            "EMBARAZO\n",
            "HABLA_LENGUA_INDIG\n",
            "DIABETES\n",
            "EPOC\n",
            "ASMA\n",
            "INMUSUPR\n",
            "HIPERTENSION\n",
            "OTRA_COM\n",
            "CARDIOVASCULAR\n",
            "OBESIDAD\n",
            "RENAL_CRONICA\n",
            "TABAQUISMO\n",
            "OTRO_CASO\n",
            "TOMA_MUESTRA\n",
            "RESULTADO\n",
            "MIGRANTE\n",
            "PAIS_NACIONALIDAD\n",
            "PAIS_ORIGEN\n",
            "UCI\n"
          ]
        }
      ]
    },
    {
      "cell_type": "markdown",
      "source": [
        "Guanajuato es el estado #11."
      ],
      "metadata": {
        "id": "rwNwbdxqRl_W"
      }
    },
    {
      "cell_type": "code",
      "source": [
        "datos=pd.read_csv('201006COVID19MEXICO.csv',usecols=['FECHA_SINTOMAS','ENTIDAD_RES','RESULTADO'], encoding='latin-1')\n",
        "print(datos.shape)\n",
        "datos=datos[datos['ENTIDAD_RES']==11]\n",
        "datos=datos[datos['RESULTADO']==1]"
      ],
      "metadata": {
        "colab": {
          "base_uri": "https://localhost:8080/"
        },
        "id": "7yXFQ_KDQk4C",
        "outputId": "032fdf0b-9950-4adb-d1a3-0a386ad54ec8"
      },
      "execution_count": 21,
      "outputs": [
        {
          "output_type": "stream",
          "name": "stdout",
          "text": [
            "(2021255, 3)\n"
          ]
        }
      ]
    },
    {
      "cell_type": "code",
      "source": [
        "datos.shape"
      ],
      "metadata": {
        "colab": {
          "base_uri": "https://localhost:8080/"
        },
        "id": "BncKLGrvRtUX",
        "outputId": "190f9d2d-cf70-40c0-8328-484a6881c0ac"
      },
      "execution_count": 22,
      "outputs": [
        {
          "output_type": "execute_result",
          "data": {
            "text/plain": [
              "(42197, 3)"
            ]
          },
          "metadata": {},
          "execution_count": 22
        }
      ]
    },
    {
      "cell_type": "code",
      "source": [
        "#datos.to_csv(\"Covid19_GTO.csv\")#Solo se hizo la primera vez para reducir el tamaño de la base.\n"
      ],
      "metadata": {
        "id": "qfzmFr0ySbu-"
      },
      "execution_count": 24,
      "outputs": []
    },
    {
      "cell_type": "markdown",
      "source": [
        "Definimos la función del modelo SEIR que utilizaremos para ajustar los datos observados."
      ],
      "metadata": {
        "id": "39ZwBoksReds"
      }
    },
    {
      "cell_type": "code",
      "source": [
        "N=1e6\n",
        "S0=N-1\n",
        "E0=1\n",
        "I0=0\n",
        "R0=0\n",
        "X0=[S0,E0,0,I0,R0]\n",
        "INPUT=[S0,E0,I0,0,R0]\n",
        "def SEIR(X,t, ps):\n",
        "    try:\n",
        "        be = ps['be'].value\n",
        "        la = ps['la'].value\n",
        "        ga = ps['ga'].value\n",
        "        N = ps['N'].value\n",
        "    except:\n",
        "        be,la,ga,N = ps  \n",
        "    S,E,I,Y,R = X\n",
        "    dS = -be*S*I/N\n",
        "    dE = (be*S*I/N) - la*E\n",
        "    dI = la*E - ga*I\n",
        "    dY = be*S*I/N\n",
        "    dR = ga*I\n",
        "    Xsol = np.array([dS,dE,dI,dY,dR],dtype='float64')\n",
        "    Xsol = Xsol.reshape(5,)\n",
        "    return(Xsol)\n",
        "def SEIR_izy(X,t, N, be,la,ga):#Para no tener problemas con los parametros de las funciones.\n",
        "    S,E,I,Y,R = X\n",
        "    dS = -be*S*I/N\n",
        "    dE = (be*S*I/N) - la*E\n",
        "    dI = la*E - ga*I\n",
        "    dY = be*S*I/N\n",
        "    dR = ga*I\n",
        "    Xsol = np.array([dS,dE,dI,dY,dR],dtype='float64')\n",
        "    Xsol = Xsol.reshape(5,)\n",
        "    return(Xsol)"
      ],
      "metadata": {
        "id": "awMExUf4LJzX"
      },
      "execution_count": null,
      "outputs": []
    },
    {
      "cell_type": "markdown",
      "source": [
        "En este ejercicio, nos gustaría hacer inferencia bayesiana sobre la distribución de los datos de incidencia. En tal caso, supongamos el siguiente esquema de trabajo.\n",
        "\n",
        "\n",
        "*   D=$\\{y_1,y_2,\\ldots,y_{28}\\}$ son los datos de incidencia.\n",
        "*  Debemos proponer $\\pi_{1,2,3}$ distribuciones aprior de los parámetros de nuestro modelo SEIR ($\\beta,\\lambda,\\gamma)$ respectivamente. Pues con estas y asumiendo un modelo Poisson para la incidencia, podemos calcular la función de verosimilitud de nuestros datos.\n",
        "*   $Y|D$ la distribución posterior es la distribución objetivo. Es decir, de la que nos gustaría generar observaciones. Llamemosla $f$.\n",
        "*   Debemos proporcionar un valor inicial de la cadena $x_0$ que satisfaga que $f(x_0)>0$, de manera que el algoritmo pueda generar realizaciones de la distribución de interés."
      ],
      "metadata": {
        "id": "XJkd9TlTRo9F"
      }
    },
    {
      "cell_type": "markdown",
      "source": [
        "Función de verosimilitud de las observaciones. En este caso $f$ es la función de distribución posterior usando el modelo $Poisson$. La única razón para elegir una distribución Poisson es asegurarnos que los valores de la distribución sean enteras, pues estamos trabajando con número de personas."
      ],
      "metadata": {
        "id": "Af86GAJvYsxY"
      }
    },
    {
      "cell_type": "code",
      "source": [
        "#### verosimilitud\n",
        "def logverosimilitud(theta):\n",
        "    be,la,ga = theta\n",
        "    dias = 28\n",
        "    t = np.linspace(0,28,29)  ## vector de tiempos\n",
        "    Xt =  odeint(func=SEIR_izy, y0=X0, t=t, args=(N,be,la,ga))\n",
        "    ### Incidencia\n",
        "    Inc = np.diff(Xt[:,3])#Valores de incidencia diaria.\n",
        "    vers = scipy.stats.poisson.logpmf(Ydat, Inc)#Suponiendo que dado theta, los datos siguen distribucion \n",
        "            #Poisson de parámetro dado por el valor obtenido en la solución de la ODE\n",
        "    ver = np.sum(vers)\n",
        "    return(ver)\n",
        "#### Posterior (Es más fácil trabajar con -log(Posterior))\n",
        "def minuslogposterior(theta):\n",
        "  return(-(logaprioris(theta)+logverosimilitud(theta)))\n"
      ],
      "metadata": {
        "id": "LqlOyqTUolAe"
      },
      "execution_count": null,
      "outputs": []
    },
    {
      "cell_type": "markdown",
      "source": [
        "Usamos optimización numérica para conseguir una condición inicial de los parámetros y guiarnos para proponer las aprioris."
      ],
      "metadata": {
        "id": "_keqKkpAgq_l"
      }
    },
    {
      "cell_type": "code",
      "source": [
        "!pip install lmfit  #Solo correr una vez"
      ],
      "metadata": {
        "id": "tzgHZf9b-DB4",
        "colab": {
          "base_uri": "https://localhost:8080/"
        },
        "outputId": "bf589bdd-759d-42e3-bec9-19da479d8485"
      },
      "execution_count": null,
      "outputs": [
        {
          "output_type": "stream",
          "name": "stdout",
          "text": [
            "Looking in indexes: https://pypi.org/simple, https://us-python.pkg.dev/colab-wheels/public/simple/\n",
            "Collecting lmfit\n",
            "  Downloading lmfit-1.0.3.tar.gz (292 kB)\n",
            "\u001b[K     |████████████████████████████████| 292 kB 4.1 MB/s \n",
            "\u001b[?25hCollecting asteval>=0.9.22\n",
            "  Downloading asteval-0.9.27-py3-none-any.whl (17 kB)\n",
            "Requirement already satisfied: numpy>=1.18 in /usr/local/lib/python3.7/dist-packages (from lmfit) (1.21.6)\n",
            "Requirement already satisfied: scipy>=1.4 in /usr/local/lib/python3.7/dist-packages (from lmfit) (1.7.3)\n",
            "Collecting uncertainties>=3.0.1\n",
            "  Downloading uncertainties-3.1.7-py2.py3-none-any.whl (98 kB)\n",
            "\u001b[K     |████████████████████████████████| 98 kB 6.7 MB/s \n",
            "\u001b[?25hRequirement already satisfied: importlib-metadata in /usr/local/lib/python3.7/dist-packages (from asteval>=0.9.22->lmfit) (4.13.0)\n",
            "Requirement already satisfied: future in /usr/local/lib/python3.7/dist-packages (from uncertainties>=3.0.1->lmfit) (0.16.0)\n",
            "Requirement already satisfied: zipp>=0.5 in /usr/local/lib/python3.7/dist-packages (from importlib-metadata->asteval>=0.9.22->lmfit) (3.9.0)\n",
            "Requirement already satisfied: typing-extensions>=3.6.4 in /usr/local/lib/python3.7/dist-packages (from importlib-metadata->asteval>=0.9.22->lmfit) (4.1.1)\n",
            "Building wheels for collected packages: lmfit\n",
            "  Building wheel for lmfit (setup.py) ... \u001b[?25l\u001b[?25hdone\n",
            "  Created wheel for lmfit: filename=lmfit-1.0.3-py3-none-any.whl size=84413 sha256=f11faf4c3ff72b4f9ba27960b37c08b9adecb75208197d1855837719f1ecb85a\n",
            "  Stored in directory: /root/.cache/pip/wheels/b9/7a/d1/236aa0f8196b264fda481a112f7cfb1bfde7bfb20235f8e331\n",
            "Successfully built lmfit\n",
            "Installing collected packages: uncertainties, asteval, lmfit\n",
            "Successfully installed asteval-0.9.27 lmfit-1.0.3 uncertainties-3.1.7\n"
          ]
        }
      ]
    },
    {
      "cell_type": "code",
      "execution_count": null,
      "metadata": {
        "id": "g0hjdbJ027se",
        "outputId": "3afbfe91-b2a1-4704-d39c-bfc85e1fcf9a",
        "colab": {
          "base_uri": "https://localhost:8080/",
          "height": 471
        }
      },
      "outputs": [
        {
          "output_type": "execute_result",
          "data": {
            "text/plain": [
              "<lmfit.minimizer.MinimizerResult at 0x7f23bf3c5a90>"
            ],
            "text/html": [
              "<h2>Fit Statistics</h2><table><tr><td>fitting method</td><td>leastsq</td><td></td></tr><tr><td># function evals</td><td>372</td><td></td></tr><tr><td># data points</td><td>28</td><td></td></tr><tr><td># variables</td><td>8</td><td></td></tr><tr><td>chi-square</td><td> 8.6035e+08</td><td></td></tr><tr><td>reduced chi-square</td><td> 43017676.4</td><td></td></tr><tr><td>Akaike info crit.</td><td> 498.738184</td><td></td></tr><tr><td>Bayesian info crit.</td><td> 509.395820</td><td></td></tr></table><h2>Variables</h2><table><tr><th> name </th><th> value </th><th> initial value </th><th> min </th><th> max </th><th> vary </th></tr><tr><td> be </td><td>  2.52425752 </td><td> 2.0 </td><td>  0.00000000 </td><td>  10.0000000 </td><td> True </td></tr><tr><td> la </td><td>  2.81610566 </td><td> 2 </td><td>  0.00000000 </td><td>  10.0000000 </td><td> True </td></tr><tr><td> ga </td><td>  0.94393953 </td><td> 1 </td><td>  0.00000000 </td><td>  10.0000000 </td><td> True </td></tr><tr><td> N </td><td>  1000000.00 </td><td> 1000000.0 </td><td>  1000000.00 </td><td>  1000001.00 </td><td> True </td></tr><tr><td> S0 </td><td>  1000000.00 </td><td> 1000000.0 </td><td>  0.00000000 </td><td>  1000001.00 </td><td> True </td></tr><tr><td> E0 </td><td>  1.00000000 </td><td> 1.0 </td><td>  0.00000000 </td><td>  1.00000000 </td><td> True </td></tr><tr><td> I0 </td><td>  0.00000000 </td><td> 0.0 </td><td>  0.00000000 </td><td>  1.00000000 </td><td> True </td></tr><tr><td> Y0 </td><td>  0.00000000 </td><td> 0.0 </td><td>  0.00000000 </td><td>  1.00000000 </td><td> True </td></tr></table>"
            ]
          },
          "metadata": {},
          "execution_count": 13
        }
      ],
      "source": [
        "from lmfit import minimize, Parameters, Parameter, report_fit\n",
        "from scipy.integrate import odeint\n",
        "import scipy.integrate as spi\n",
        "t_start = 0.0; \n",
        "t_end = 28; \n",
        "t_inc = 1.0\n",
        "t_range = np.arange(t_start, t_end+t_inc, t_inc)\n",
        "def g(t,ps):\n",
        "    SOL = spi.odeint(SEIR,INPUT,t_range,args=(ps,))\n",
        "    return np.diff(SOL[:,3])\n",
        "def residual(ps,ts,data):\n",
        "    #INP =  ps['Y0'].value#Solo los infectados.\n",
        "    model = g(ts,ps)\n",
        "    return (model-data).ravel()\n",
        "params = Parameters()\n",
        "params.add('be', value=2.0, min=0, max=10)\n",
        "params.add('la', value=2, min=0, max=10)\n",
        "params.add('ga', value=1, min=0, max=10)\n",
        "params.add('N', value=float(N), min=N, max=N+1)\n",
        "params.add('S0', value= float(N), min=0, max=N+1)\n",
        "params.add('E0', value=float(1), min=0, max=1)\n",
        "params.add('I0', value=float(0), min=0, max=1)\n",
        "params.add('Y0', value=float(0), min=0, max=1)\n",
        "t = np.linspace(0, 28, 29)\n",
        "result = minimize(residual, params, args=(t, Ydat), method='leastsq')\n",
        "\n",
        "final = Ydat + result.residual.reshape(Ydat.shape)\n",
        "result\n"
      ]
    },
    {
      "cell_type": "code",
      "source": [
        "plt.plot(Ydat, '-g',label='Datos observados')\n",
        "plt.plot(final, '-', linewidth=2,label='Ajuste SEIR');\n",
        "plt.legend()\n",
        "plt.show()"
      ],
      "metadata": {
        "id": "PzwuAKXT-Zwp",
        "outputId": "d7c97a2b-2db5-489f-aa39-473288d5b836",
        "colab": {
          "base_uri": "https://localhost:8080/",
          "height": 265
        }
      },
      "execution_count": null,
      "outputs": [
        {
          "output_type": "display_data",
          "data": {
            "text/plain": [
              "<Figure size 432x288 with 1 Axes>"
            ],
            "image/png": "[encoded data removed]"
          },
          "metadata": {
            "needs_background": "light"
          }
        }
      ]
    },
    {
      "cell_type": "code",
      "source": [
        "be_0=result.params['be'].value\n",
        "la_0=result.params['la'].value\n",
        "ga_0=result.params['ga'].value\n",
        "x0=[be_0,la_0,ga_0]#Primer propuesta de la cadena en pytwalk()\n",
        "print(x0)"
      ],
      "metadata": {
        "id": "sPi_JpO5jEtS",
        "colab": {
          "base_uri": "https://localhost:8080/"
        },
        "outputId": "06d43713-32c7-4993-d7f5-973dbc92a44e"
      },
      "execution_count": null,
      "outputs": [
        {
          "output_type": "stream",
          "name": "stdout",
          "text": [
            "[2.5242575167008976, 2.816105657967901, 0.9439395288082381]\n"
          ]
        }
      ]
    },
    {
      "cell_type": "code",
      "execution_count": null,
      "metadata": {
        "id": "_6Uuc6DO4dEj"
      },
      "outputs": [],
      "source": [
        "par1=[be_0,0,1]  #hiperparametros para beta\n",
        "par2=[la_0,0,1]  #hiperparametros para lamba\n",
        "par3=[ga_0,0,1]  #hiperparametros para gamma\n",
        "\n",
        "def logaprioris(theta):\n",
        "    be,la,ga = theta\n",
        "    dbe = scipy.stats.gamma.logpdf(be,par1[0],par1[1],par1[2])\n",
        "    dla = scipy.stats.gamma.logpdf(la,par2[0],par2[1],par2[2])\n",
        "    dga = scipy.stats.gamma.logpdf(ga,par3[0],par3[1],par3[2])\n",
        "    return(dbe+dla+dga)"
      ]
    },
    {
      "cell_type": "markdown",
      "source": [
        "Visualización de las distribuciones a prior. Utilizaremos distribuciones Gamma por simplicidad, pues satisfacen que su soporte es $(0,\\infty)$, y podemos controlar el valor de su media fácilmente a través de sus parámetros."
      ],
      "metadata": {
        "id": "PP-CGLOlYo-Q"
      }
    },
    {
      "cell_type": "code",
      "source": [
        "x = np.linspace(0., 7, 50)\n",
        "prev1 = scipy.stats.gamma.pdf(x, par1[0],par1[1],par1[2])\n",
        "prev2 = scipy.stats.gamma.pdf(x, par2[0],par2[1],par2[2])\n",
        "prev3 = scipy.stats.gamma.pdf(x, par3[0],par3[1],par3[2])\n",
        "plt.plot(x, prev1, 'b--', label='previa beta')\n",
        "plt.plot(x, prev2, 'r--', label='previa lambda')\n",
        "plt.plot(x, prev3, 'g--', label='previa gamma')\n",
        "plt.legend(loc=\"best\")"
      ],
      "metadata": {
        "colab": {
          "base_uri": "https://localhost:8080/",
          "height": 282
        },
        "id": "6FGYhuWdooiV",
        "outputId": "b530628b-e349-468d-ce45-bf52cf167ea9"
      },
      "execution_count": null,
      "outputs": [
        {
          "output_type": "execute_result",
          "data": {
            "text/plain": [
              "<matplotlib.legend.Legend at 0x7f23be443650>"
            ]
          },
          "metadata": {},
          "execution_count": 17
        },
        {
          "output_type": "display_data",
          "data": {
            "text/plain": [
              "<Figure size 432x288 with 1 Axes>"
            ],
            "image/png": "[encoded data removed]"
          },
          "metadata": {
            "needs_background": "light"
          }
        }
      ]
    },
    {
      "cell_type": "markdown",
      "source": [
        "Buscamos numéricamente un mínimo local de la función de -log(Verosimilitud), para segunda propuesta de la cadena. "
      ],
      "metadata": {
        "id": "5qybMynlvQMu"
      }
    },
    {
      "cell_type": "code",
      "source": [
        "#Segundo intento. Optimizacion numérica sobre la funcion de verosimilitud\n",
        "from scipy.optimize import minimize\n",
        "def menosloglikelihood(theta):\n",
        "    return -logverosimilitud(theta)\n",
        "bnds = ((0.01, 10), (0.01, 6.0),(0.01, 6.0))\n",
        "xp0=minimize(fun=menosloglikelihood,x0=[be_0,la_0,ga_0],bounds=bnds).x#Segundo valor de la cadena en pytwalk()\n"
      ],
      "metadata": {
        "id": "PfCffM1zpFMp"
      },
      "execution_count": null,
      "outputs": []
    },
    {
      "cell_type": "markdown",
      "source": [
        "# Metropolis Hastings"
      ],
      "metadata": {
        "id": "0d4yCJf0Ommx"
      }
    },
    {
      "cell_type": "code",
      "source": [
        "np.random.seed(1)\n",
        "t=np.arange( 0,len(Ydat)+1,1 )\n",
        "t0=t[0:28]\n",
        "I0=1\n",
        "Y0=1\n",
        "X0=np.array( [N-I0, 150, I0 ,Y0, 0] )#\n",
        "T=int(1e5) #iterations\n",
        "bi=int(0.15* T)#calentamiento\n"
      ],
      "metadata": {
        "id": "eEqDMLOLOpHg"
      },
      "execution_count": null,
      "outputs": []
    }
  ]
}