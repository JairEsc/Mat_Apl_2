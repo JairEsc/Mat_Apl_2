{
  "nbformat": 4,
  "nbformat_minor": 0,
  "metadata": {
    "colab": {
      "name": "Untitled122.ipynb",
      "provenance": [],
      "authorship_tag": "ABX9TyP/XljbzvOcpmYQqxNl99qB",
      "include_colab_link": true
    },
    "kernelspec": {
      "name": "python3",
      "display_name": "Python 3"
    },
    "language_info": {
      "name": "python"
    }
  },
  "cells": [
    {
      "cell_type": "markdown",
      "metadata": {
        "id": "view-in-github",
        "colab_type": "text"
      },
      "source": [
        "<a href=\"https://colab.research.google.com/github/JairEsc/Mat_Apl_2/blob/main/ML_T1_sencillo.ipynb\" target=\"_parent\"><img src=\"https://colab.research.google.com/assets/colab-badge.svg\" alt=\"Open In Colab\"/></a>"
      ]
    },
    {
      "cell_type": "code",
      "execution_count": 2,
      "metadata": {
        "colab": {
          "base_uri": "https://localhost:8080/",
          "height": 285
        },
        "id": "KmuaKKkb12hr",
        "outputId": "5bc63cd1-a689-4ff1-d217-00eb37f8882f"
      },
      "outputs": [
        {
          "output_type": "execute_result",
          "data": {
            "text/plain": [
              "[<matplotlib.lines.Line2D at 0x7fdb5703a290>]"
            ]
          },
          "metadata": {},
          "execution_count": 2
        },
        {
          "output_type": "display_data",
          "data": {
            "text/plain": [
              "<Figure size 432x288 with 1 Axes>"
            ],
            "image/png": "[encoded data removed]"
          },
          "metadata": {
            "needs_background": "light"
          }
        }
      ],
      "source": [
        "#Resolvamos el problema original.\n",
        "import numpy as np\n",
        "import matplotlib.pyplot as plt\n",
        "def GD_N(theta,alpha,eta,nIter, grad,stop_crit=10**(-4)):\n",
        "    p     = np.zeros(theta.shape)\n",
        "    Theta=[]\n",
        "    \n",
        "    for t in range(nIter):\n",
        "        pre_theta = theta - 2.0*alpha*p\n",
        "        g = grad(pre_theta)\n",
        "        if(np.linalg.norm(g)<stop_crit):\n",
        "            break\n",
        "        p = 0.5*(g + eta*p)\n",
        "        theta = theta - alpha*p\n",
        "        Theta.append(theta)\n",
        "    return Theta[-1]\n",
        "np.random.seed(0)\n",
        "x=np.linspace(1,1000,1000)\n",
        "y=np.log(x)+np.random.normal(0,.25,size=len(x))\n",
        "from numpy.random import default_rng\n",
        "m=10\n",
        "x_m=np.sort(default_rng().choice(np.arange(0, len(x)), size=m, replace=False))\n",
        "y_m=y[x_m]\n",
        "plt.plot(x_m,y_m)"
      ]
    },
    {
      "cell_type": "code",
      "source": [
        "def matriz_phi_sigma(sigma):\n",
        "    M=np.zeros((m,m))\n",
        "    for i in range(m):\n",
        "        for j in range(m):\n",
        "            M[i,j] = np.exp(-((x_m[i] -x_m[j])**2)/(2*(sigma[i])**2))#*((x_m[i] -x_m[j])**2)/(2*sigma[i]**3)\n",
        "    return M"
      ],
      "metadata": {
        "id": "l8AzZwJ62Gzn"
      },
      "execution_count": 6,
      "outputs": []
    },
    {
      "cell_type": "code",
      "source": [
        "def solve_for_alphas(M):\n",
        "    return np.dot(np.dot(np.linalg.inv(np.dot(M.T,M)),M.T),y_m)\n",
        "M=matriz_phi_sigma(np.repeat(1,10))\n",
        "alph=solve_for_alphas(M)\n",
        "#Asi ya puedo resolver para alpha, dado sigma."
      ],
      "metadata": {
        "id": "tm0WRyDB7wLS"
      },
      "execution_count": 16,
      "outputs": []
    },
    {
      "cell_type": "code",
      "source": [],
      "metadata": {
        "colab": {
          "base_uri": "https://localhost:8080/"
        },
        "id": "hUjqJufE9TY8",
        "outputId": "54d57b08-b89e-4860-e51b-6ea8fc04909a"
      },
      "execution_count": 18,
      "outputs": [
        {
          "output_type": "execute_result",
          "data": {
            "text/plain": [
              "14.19977079757064"
            ]
          },
          "metadata": {},
          "execution_count": 18
        }
      ]
    }
  ]
}