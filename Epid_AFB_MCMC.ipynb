{
  "nbformat": 4,
  "nbformat_minor": 0,
  "metadata": {
    "colab": {
      "provenance": [],
      "authorship_tag": "ABX9TyN4fMKneQg6ZmYGDcPjolr/",
      "include_colab_link": true
    },
    "kernelspec": {
      "name": "python3",
      "display_name": "Python 3"
    },
    "language_info": {
      "name": "python"
    }
  },
  "cells": [
    {
      "cell_type": "markdown",
      "metadata": {
        "id": "view-in-github",
        "colab_type": "text"
      },
      "source": [
        "<a href=\"https://colab.research.google.com/github/JairEsc/Mat_Apl_2/blob/main/Epid_AFB_MCMC.ipynb\" target=\"_parent\"><img src=\"https://colab.research.google.com/assets/colab-badge.svg\" alt=\"Open In Colab\"/></a>"
      ]
    },
    {
      "cell_type": "code",
      "execution_count": 1,
      "metadata": {
        "id": "mgbxZ9WmWRxM"
      },
      "outputs": [],
      "source": [
        "import pandas as pd\n",
        "import numpy as np\n",
        "import matplotlib.pyplot as plt\n",
        "import scipy.stats\n",
        "from scipy.integrate import odeint"
      ]
    },
    {
      "cell_type": "code",
      "source": [
        "Q=2000\n",
        "alpha=0.25\n",
        "sigma=0.75\n",
        "mu=1/26.5\n",
        "tau=1e-4\n",
        "c=.5\n",
        "true_params = np.array((Q, alpha,sigma,mu,tau,c))\n",
        "def AFB(y,t,ps):\n",
        "    try:\n",
        "        Q = ps['Q'].value\n",
        "        alpha = ps['alpha'].value\n",
        "        sigma = ps['sigma'].value\n",
        "        mu = ps['mu'].value\n",
        "        tau = ps['tau'].value\n",
        "        c = ps['c'].value\n",
        "    except:\n",
        "        Q,alpha,sigma,mu,tau,c = ps\n",
        "    L_s,L_i,B=y\n",
        "    L_s_p=Q*(L_s+B)/(L_i+L_s+B)-L_s*(alpha-sigma*(B/(L_i+L_s+B)))-L_s*B*tau*(L_i/(L_i+L_s))\n",
        "    L_i_p=L_s*B*tau*(L_i/(L_i+L_s))-c*L_i*(B/(L_i+L_s+B))\n",
        "    B_p=L_s*(alpha-sigma*(B/(L_i+L_s+B)))-mu*B\n",
        "    if(L_i==0):\n",
        "        L_i_p=0\n",
        "    return np.array([L_s_p,L_i_p,B_p])\n",
        "L_s_fijo=(1/(2*alpha))*((Q/mu)*((-alpha+sigma+mu)+np.sqrt((alpha-sigma-mu)**2+4*alpha*mu)))\n",
        "L_i_fijo=0\n",
        "B_fijo=Q/mu"
      ],
      "metadata": {
        "id": "B9mjMBsNWp12"
      },
      "execution_count": 7,
      "outputs": []
    },
    {
      "cell_type": "code",
      "source": [
        "y0 = [100,1,20]\n",
        "plt.figure(figsize=(10, 8))\n",
        "INPUT = (y0[0],y0[1],y0[2])\n",
        "t = np.linspace(0, 119, 119*7+1)\n",
        "from scipy.integrate import odeint\n",
        "sol = odeint(AFB, y0, t, args=([Q,alpha,sigma,mu,tau,c],))"
      ],
      "metadata": {
        "colab": {
          "base_uri": "https://localhost:8080/",
          "height": 34
        },
        "outputId": "aac82cb8-6e18-4b6b-be4a-b8a5bfa6566f",
        "id": "S3KJTWh-cXHl"
      },
      "execution_count": 12,
      "outputs": [
        {
          "output_type": "display_data",
          "data": {
            "text/plain": [
              "<Figure size 720x576 with 0 Axes>"
            ]
          },
          "metadata": {}
        }
      ]
    },
    {
      "cell_type": "code",
      "source": [
        "from scipy import stats"
      ],
      "metadata": {
        "id": "_TEcA30mcXHm"
      },
      "execution_count": 10,
      "outputs": []
    },
    {
      "cell_type": "code",
      "source": [
        "frecuancia_muestra=np.arange(0,len(t),7*7)\n",
        "np.random.seed(0)\n",
        "datos_larvas_infectados=np.array([stats.binom.rvs(n=int(sol[i,1]),p=0.85) for i in range(len(t))])[frecuancia_muestra]\n",
        "datos_larvas_sanas=np.array([stats.binom.rvs(n=int(sol[i,0]),p=0.80) for i in range(len(t))])[frecuancia_muestra]\n",
        "data=np.array([datos_larvas_sanas,datos_larvas_infectados]).T\n"
      ],
      "metadata": {
        "id": "InJYgR91cXHn"
      },
      "execution_count": 13,
      "outputs": []
    },
    {
      "cell_type": "code",
      "source": [
        "data[:,1]"
      ],
      "metadata": {
        "colab": {
          "base_uri": "https://localhost:8080/"
        },
        "id": "Svb9O4xqePIv",
        "outputId": "459f50e5-585a-41ca-dac5-ab0d31c9f358"
      },
      "execution_count": 16,
      "outputs": [
        {
          "output_type": "execute_result",
          "data": {
            "text/plain": [
              "array([    1,     1,    19,  3576, 12509,  5898,  5026,  5426,  5707,\n",
              "        5702,  5622,  5597,  5581,  5658,  5660,  5632,  5639,  5622])"
            ]
          },
          "metadata": {},
          "execution_count": 16
        }
      ]
    },
    {
      "cell_type": "code",
      "source": [
        "L_S_0=100\n",
        "L_I_0=1\n",
        "B_0=20\n",
        "X0=[L_S_0,L_I_0,0,B_0]\n",
        "INPUT=[L_S_0,L_I_0,0,B_0]"
      ],
      "metadata": {
        "id": "awMExUf4LJzX"
      },
      "execution_count": null,
      "outputs": []
    },
    {
      "cell_type": "code",
      "source": [
        "#### verosimilitud\n",
        "def logverosimilitud(theta):\n",
        "    Q, alpha,sigma,mu,tau,c = theta\n",
        "    dias = 119\n",
        "    t = np.linspace(0,119,120)  ## vector de tiempos\n",
        "    Xt =  odeint(func=AFB, y0=X0, t=t, args=(Q, alpha,sigma,mu,tau,c))\n",
        "    ### Incidencia\n",
        "    #Inc = np.diff(Xt[:,3])#Valores de incidencia diaria.\n",
        "    vers = scipy.stats.poisson.logpmf(data[:,1], Xt[:,1])#Suponiendo que dado theta, los datos siguen distribucion \n",
        "            #Poisson de parámetro dado por el valor obtenido en la solución de la ODE\n",
        "    ver = np.sum(vers)\n",
        "    return(ver)\n",
        "#### Posterior (Es más fácil trabajar con -log(Posterior))\n",
        "par1=[0.5,0,1]  #hiperparametros para beta\n",
        "par2=[0.5,0,1]  #hiperparametros para lamba\n",
        "par3=[0.5,0,1]  #hiperparametros para gamma\n",
        "par4=[0.5,0,1]  #hiperparametros para gamma\n",
        "par5=[0.5,0,1]  #hiperparametros para gamma\n",
        "par6=[0.5,0,1]  #hiperparametros para gamma\n",
        "def logaprioris(theta):\n",
        "    Q, alpha,sigma,mu,tau,c = theta\n",
        "    dQ = scipy.stats.gamma.logpdf(Q,par1[0],par1[1],par1[2])\n",
        "    dalpha = scipy.stats.gamma.logpdf(alpha,par2[0],par2[1],par2[2])\n",
        "    dsigma = scipy.stats.gamma.logpdf(sigma,par3[0],par3[1],par3[2])\n",
        "    dmu = scipy.stats.gamma.logpdf(mu,par4[0],par4[1],par4[2])\n",
        "    dtau = scipy.stats.gamma.logpdf(tau,par5[0],par5[1],par5[2])\n",
        "    dc = scipy.stats.gamma.logpdf(c,par6[0],par6[1],par6[2])\n",
        "    return(dQ+dalpha+dsigma+dmu+dtau+dc)\n",
        "def minuslogposterior(theta):\n",
        "  return(-(logaprioris(theta)+logverosimilitud(theta)))\n"
      ],
      "metadata": {
        "id": "LqlOyqTUolAe"
      },
      "execution_count": 18,
      "outputs": []
    },
    {
      "cell_type": "code",
      "source": [
        "!pip install lmfit  #Solo correr una vez"
      ],
      "metadata": {
        "id": "tzgHZf9b-DB4",
        "colab": {
          "base_uri": "https://localhost:8080/"
        },
        "outputId": "bf589bdd-759d-42e3-bec9-19da479d8485"
      },
      "execution_count": null,
      "outputs": [
        {
          "output_type": "stream",
          "name": "stdout",
          "text": [
            "Looking in indexes: https://pypi.org/simple, https://us-python.pkg.dev/colab-wheels/public/simple/\n",
            "Collecting lmfit\n",
            "  Downloading lmfit-1.0.3.tar.gz (292 kB)\n",
            "\u001b[K     |████████████████████████████████| 292 kB 4.1 MB/s \n",
            "\u001b[?25hCollecting asteval>=0.9.22\n",
            "  Downloading asteval-0.9.27-py3-none-any.whl (17 kB)\n",
            "Requirement already satisfied: numpy>=1.18 in /usr/local/lib/python3.7/dist-packages (from lmfit) (1.21.6)\n",
            "Requirement already satisfied: scipy>=1.4 in /usr/local/lib/python3.7/dist-packages (from lmfit) (1.7.3)\n",
            "Collecting uncertainties>=3.0.1\n",
            "  Downloading uncertainties-3.1.7-py2.py3-none-any.whl (98 kB)\n",
            "\u001b[K     |████████████████████████████████| 98 kB 6.7 MB/s \n",
            "\u001b[?25hRequirement already satisfied: importlib-metadata in /usr/local/lib/python3.7/dist-packages (from asteval>=0.9.22->lmfit) (4.13.0)\n",
            "Requirement already satisfied: future in /usr/local/lib/python3.7/dist-packages (from uncertainties>=3.0.1->lmfit) (0.16.0)\n",
            "Requirement already satisfied: zipp>=0.5 in /usr/local/lib/python3.7/dist-packages (from importlib-metadata->asteval>=0.9.22->lmfit) (3.9.0)\n",
            "Requirement already satisfied: typing-extensions>=3.6.4 in /usr/local/lib/python3.7/dist-packages (from importlib-metadata->asteval>=0.9.22->lmfit) (4.1.1)\n",
            "Building wheels for collected packages: lmfit\n",
            "  Building wheel for lmfit (setup.py) ... \u001b[?25l\u001b[?25hdone\n",
            "  Created wheel for lmfit: filename=lmfit-1.0.3-py3-none-any.whl size=84413 sha256=f11faf4c3ff72b4f9ba27960b37c08b9adecb75208197d1855837719f1ecb85a\n",
            "  Stored in directory: /root/.cache/pip/wheels/b9/7a/d1/236aa0f8196b264fda481a112f7cfb1bfde7bfb20235f8e331\n",
            "Successfully built lmfit\n",
            "Installing collected packages: uncertainties, asteval, lmfit\n",
            "Successfully installed asteval-0.9.27 lmfit-1.0.3 uncertainties-3.1.7\n"
          ]
        }
      ]
    },
    {
      "cell_type": "code",
      "source": [
        "import pytwalk#Añadir el archivo .py a los archivos de colab"
      ],
      "metadata": {
        "id": "VNuVkBvVflXi"
      },
      "execution_count": null,
      "outputs": []
    },
    {
      "cell_type": "code",
      "source": [
        "np.random.seed(1)\n",
        "t=np.arange( 0,18+1,1 )\n",
        "t0=t[0:119]\n",
        "I0=1\n",
        "Y0=1\n",
        "X0=np.array( X0 )#\n",
        "T=int(1e5) #iterations\n",
        "bi=int(0.15* T)#calentamiento\n",
        "Q_0, alpha_0,sigma_0,mu_0,tau_0,c_0=\n",
        "tchain = pytwalk.pytwalk( n=3, U=minuslogposterior, )\n",
        "tchain.Run( T=T , x0=np.array([Q_0, alpha_0,sigma_0,mu_0,tau_0,c_0]), xp0=xp0)\n",
        "\n",
        "tchain.Ana()\n",
        "tchain.IAT()"
      ],
      "metadata": {
        "id": "gmR2MElWfoAL"
      },
      "execution_count": null,
      "outputs": []
    }
  ]
}