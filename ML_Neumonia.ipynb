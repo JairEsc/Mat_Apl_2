{
  "nbformat": 4,
  "nbformat_minor": 0,
  "metadata": {
    "colab": {
      "provenance": [],
      "mount_file_id": "1iq5TJ8ulCOndGOtR9i42L3jgKFDPPjXQ",
      "authorship_tag": "ABX9TyPejhzN39pjjgWU4DI218Wc",
      "include_colab_link": true
    },
    "kernelspec": {
      "name": "python3",
      "display_name": "Python 3"
    },
    "language_info": {
      "name": "python"
    }
  },
  "cells": [
    {
      "cell_type": "markdown",
      "metadata": {
        "id": "view-in-github",
        "colab_type": "text"
      },
      "source": [
        "<a href=\"https://colab.research.google.com/github/JairEsc/Mat_Apl_2/blob/main/ML_Neumonia.ipynb\" target=\"_parent\"><img src=\"https://colab.research.google.com/assets/colab-badge.svg\" alt=\"Open In Colab\"/></a>"
      ]
    },
    {
      "cell_type": "code",
      "source": [
        "def resumen(model=None):\n",
        "    '''\n",
        "    '''\n",
        "    header = '{:4} {:16} {:24} {:24} {:10}'.format('#', 'Layer Name','Layer Input Shape','Layer Output Shape','Parameters'\n",
        "    )\n",
        "    print('='*(len(header)))\n",
        "    print(header)\n",
        "    print('='*(len(header)))\n",
        "    count=0\n",
        "    count_trainable=0\n",
        "    for i, layer in enumerate(model.layers):\n",
        "        count_trainable += layer.count_params() if layer.trainable else 0\n",
        "        input_shape = '{}'.format(layer.input_shape)\n",
        "        output_shape = '{}'.format(layer.output_shape)\n",
        "        str = '{:<4d} {:16} {:24} {:24} {:10}'.format(i,layer.name, input_shape, output_shape, layer.count_params())\n",
        "        print(str)\n",
        "        count += layer.count_params()\n",
        "    print('_'*(len(header)))\n",
        "    print('Total Parameters : ', count)\n",
        "    print('Total Trainable Parameters : ', count_trainable)\n",
        "    print('Total No-Trainable Parameters : ', count-count_trainable)\n",
        "    "
      ],
      "metadata": {
        "id": "RvOkaoKXTh7a"
      },
      "execution_count": null,
      "outputs": []
    },
    {
      "cell_type": "code",
      "source": [
        "from keras.applications import EfficientNetB0\n",
        "\n",
        "Efficient = EfficientNetB0(weights='imagenet',\n",
        "                  include_top=True,\n",
        "                  input_shape=(224, 224, 3))\n",
        "\n",
        "resumen(Efficient)"
      ],
      "metadata": {
        "colab": {
          "base_uri": "https://localhost:8080/"
        },
        "id": "wsuzQxhvT3Xf",
        "outputId": "92258aab-1e0c-4467-c469-a07e316bb2e3"
      },
      "execution_count": null,
      "outputs": [
        {
          "output_type": "stream",
          "name": "stdout",
          "text": [
            "Downloading data from https://storage.googleapis.com/keras-applications/efficientnetb0.h5\n",
            "21834768/21834768 [==============================] - 0s 0us/step\n",
            "==================================================================================\n",
            "#    Layer Name       Layer Input Shape        Layer Output Shape       Parameters\n",
            "==================================================================================\n",
            "0    input_3          [(None, 224, 224, 3)]    [(None, 224, 224, 3)]             0\n",
            "1    rescaling_2      (None, 224, 224, 3)      (None, 224, 224, 3)               0\n",
            "2    normalization_2  (None, 224, 224, 3)      (None, 224, 224, 3)               7\n",
            "3    tf.math.truediv_2 (None, 224, 224, 3)      (None, 224, 224, 3)               0\n",
            "4    stem_conv_pad    (None, 224, 224, 3)      (None, 225, 225, 3)               0\n",
            "5    stem_conv        (None, 225, 225, 3)      (None, 112, 112, 32)            864\n",
            "6    stem_bn          (None, 112, 112, 32)     (None, 112, 112, 32)            128\n",
            "7    stem_activation  (None, 112, 112, 32)     (None, 112, 112, 32)              0\n",
            "8    block1a_dwconv   (None, 112, 112, 32)     (None, 112, 112, 32)            288\n",
            "9    block1a_bn       (None, 112, 112, 32)     (None, 112, 112, 32)            128\n",
            "10   block1a_activation (None, 112, 112, 32)     (None, 112, 112, 32)              0\n",
            "11   block1a_se_squeeze (None, 112, 112, 32)     (None, 32)                        0\n",
            "12   block1a_se_reshape (None, 32)               (None, 1, 1, 32)                  0\n",
            "13   block1a_se_reduce (None, 1, 1, 32)         (None, 1, 1, 8)                 264\n",
            "14   block1a_se_expand (None, 1, 1, 8)          (None, 1, 1, 32)                288\n",
            "15   block1a_se_excite [(None, 112, 112, 32), (None, 1, 1, 32)] (None, 112, 112, 32)              0\n",
            "16   block1a_project_conv (None, 112, 112, 32)     (None, 112, 112, 16)            512\n",
            "17   block1a_project_bn (None, 112, 112, 16)     (None, 112, 112, 16)             64\n",
            "18   block2a_expand_conv (None, 112, 112, 16)     (None, 112, 112, 96)           1536\n",
            "19   block2a_expand_bn (None, 112, 112, 96)     (None, 112, 112, 96)            384\n",
            "20   block2a_expand_activation (None, 112, 112, 96)     (None, 112, 112, 96)              0\n",
            "21   block2a_dwconv_pad (None, 112, 112, 96)     (None, 113, 113, 96)              0\n",
            "22   block2a_dwconv   (None, 113, 113, 96)     (None, 56, 56, 96)              864\n",
            "23   block2a_bn       (None, 56, 56, 96)       (None, 56, 56, 96)              384\n",
            "24   block2a_activation (None, 56, 56, 96)       (None, 56, 56, 96)                0\n",
            "25   block2a_se_squeeze (None, 56, 56, 96)       (None, 96)                        0\n",
            "26   block2a_se_reshape (None, 96)               (None, 1, 1, 96)                  0\n",
            "27   block2a_se_reduce (None, 1, 1, 96)         (None, 1, 1, 4)                 388\n",
            "28   block2a_se_expand (None, 1, 1, 4)          (None, 1, 1, 96)                480\n",
            "29   block2a_se_excite [(None, 56, 56, 96), (None, 1, 1, 96)] (None, 56, 56, 96)                0\n",
            "30   block2a_project_conv (None, 56, 56, 96)       (None, 56, 56, 24)             2304\n",
            "31   block2a_project_bn (None, 56, 56, 24)       (None, 56, 56, 24)               96\n",
            "32   block2b_expand_conv (None, 56, 56, 24)       (None, 56, 56, 144)            3456\n",
            "33   block2b_expand_bn (None, 56, 56, 144)      (None, 56, 56, 144)             576\n",
            "34   block2b_expand_activation (None, 56, 56, 144)      (None, 56, 56, 144)               0\n",
            "35   block2b_dwconv   (None, 56, 56, 144)      (None, 56, 56, 144)            1296\n",
            "36   block2b_bn       (None, 56, 56, 144)      (None, 56, 56, 144)             576\n",
            "37   block2b_activation (None, 56, 56, 144)      (None, 56, 56, 144)               0\n",
            "38   block2b_se_squeeze (None, 56, 56, 144)      (None, 144)                       0\n",
            "39   block2b_se_reshape (None, 144)              (None, 1, 1, 144)                 0\n",
            "40   block2b_se_reduce (None, 1, 1, 144)        (None, 1, 1, 6)                 870\n",
            "41   block2b_se_expand (None, 1, 1, 6)          (None, 1, 1, 144)              1008\n",
            "42   block2b_se_excite [(None, 56, 56, 144), (None, 1, 1, 144)] (None, 56, 56, 144)               0\n",
            "43   block2b_project_conv (None, 56, 56, 144)      (None, 56, 56, 24)             3456\n",
            "44   block2b_project_bn (None, 56, 56, 24)       (None, 56, 56, 24)               96\n",
            "45   block2b_drop     (None, 56, 56, 24)       (None, 56, 56, 24)                0\n",
            "46   block2b_add      [(None, 56, 56, 24), (None, 56, 56, 24)] (None, 56, 56, 24)                0\n",
            "47   block3a_expand_conv (None, 56, 56, 24)       (None, 56, 56, 144)            3456\n",
            "48   block3a_expand_bn (None, 56, 56, 144)      (None, 56, 56, 144)             576\n",
            "49   block3a_expand_activation (None, 56, 56, 144)      (None, 56, 56, 144)               0\n",
            "50   block3a_dwconv_pad (None, 56, 56, 144)      (None, 59, 59, 144)               0\n",
            "51   block3a_dwconv   (None, 59, 59, 144)      (None, 28, 28, 144)            3600\n",
            "52   block3a_bn       (None, 28, 28, 144)      (None, 28, 28, 144)             576\n",
            "53   block3a_activation (None, 28, 28, 144)      (None, 28, 28, 144)               0\n",
            "54   block3a_se_squeeze (None, 28, 28, 144)      (None, 144)                       0\n",
            "55   block3a_se_reshape (None, 144)              (None, 1, 1, 144)                 0\n",
            "56   block3a_se_reduce (None, 1, 1, 144)        (None, 1, 1, 6)                 870\n",
            "57   block3a_se_expand (None, 1, 1, 6)          (None, 1, 1, 144)              1008\n",
            "58   block3a_se_excite [(None, 28, 28, 144), (None, 1, 1, 144)] (None, 28, 28, 144)               0\n",
            "59   block3a_project_conv (None, 28, 28, 144)      (None, 28, 28, 40)             5760\n",
            "60   block3a_project_bn (None, 28, 28, 40)       (None, 28, 28, 40)              160\n",
            "61   block3b_expand_conv (None, 28, 28, 40)       (None, 28, 28, 240)            9600\n",
            "62   block3b_expand_bn (None, 28, 28, 240)      (None, 28, 28, 240)             960\n",
            "63   block3b_expand_activation (None, 28, 28, 240)      (None, 28, 28, 240)               0\n",
            "64   block3b_dwconv   (None, 28, 28, 240)      (None, 28, 28, 240)            6000\n",
            "65   block3b_bn       (None, 28, 28, 240)      (None, 28, 28, 240)             960\n",
            "66   block3b_activation (None, 28, 28, 240)      (None, 28, 28, 240)               0\n",
            "67   block3b_se_squeeze (None, 28, 28, 240)      (None, 240)                       0\n",
            "68   block3b_se_reshape (None, 240)              (None, 1, 1, 240)                 0\n",
            "69   block3b_se_reduce (None, 1, 1, 240)        (None, 1, 1, 10)               2410\n",
            "70   block3b_se_expand (None, 1, 1, 10)         (None, 1, 1, 240)              2640\n",
            "71   block3b_se_excite [(None, 28, 28, 240), (None, 1, 1, 240)] (None, 28, 28, 240)               0\n",
            "72   block3b_project_conv (None, 28, 28, 240)      (None, 28, 28, 40)             9600\n",
            "73   block3b_project_bn (None, 28, 28, 40)       (None, 28, 28, 40)              160\n",
            "74   block3b_drop     (None, 28, 28, 40)       (None, 28, 28, 40)                0\n",
            "75   block3b_add      [(None, 28, 28, 40), (None, 28, 28, 40)] (None, 28, 28, 40)                0\n",
            "76   block4a_expand_conv (None, 28, 28, 40)       (None, 28, 28, 240)            9600\n",
            "77   block4a_expand_bn (None, 28, 28, 240)      (None, 28, 28, 240)             960\n",
            "78   block4a_expand_activation (None, 28, 28, 240)      (None, 28, 28, 240)               0\n",
            "79   block4a_dwconv_pad (None, 28, 28, 240)      (None, 29, 29, 240)               0\n",
            "80   block4a_dwconv   (None, 29, 29, 240)      (None, 14, 14, 240)            2160\n",
            "81   block4a_bn       (None, 14, 14, 240)      (None, 14, 14, 240)             960\n",
            "82   block4a_activation (None, 14, 14, 240)      (None, 14, 14, 240)               0\n",
            "83   block4a_se_squeeze (None, 14, 14, 240)      (None, 240)                       0\n",
            "84   block4a_se_reshape (None, 240)              (None, 1, 1, 240)                 0\n",
            "85   block4a_se_reduce (None, 1, 1, 240)        (None, 1, 1, 10)               2410\n",
            "86   block4a_se_expand (None, 1, 1, 10)         (None, 1, 1, 240)              2640\n",
            "87   block4a_se_excite [(None, 14, 14, 240), (None, 1, 1, 240)] (None, 14, 14, 240)               0\n",
            "88   block4a_project_conv (None, 14, 14, 240)      (None, 14, 14, 80)            19200\n",
            "89   block4a_project_bn (None, 14, 14, 80)       (None, 14, 14, 80)              320\n",
            "90   block4b_expand_conv (None, 14, 14, 80)       (None, 14, 14, 480)           38400\n",
            "91   block4b_expand_bn (None, 14, 14, 480)      (None, 14, 14, 480)            1920\n",
            "92   block4b_expand_activation (None, 14, 14, 480)      (None, 14, 14, 480)               0\n",
            "93   block4b_dwconv   (None, 14, 14, 480)      (None, 14, 14, 480)            4320\n",
            "94   block4b_bn       (None, 14, 14, 480)      (None, 14, 14, 480)            1920\n",
            "95   block4b_activation (None, 14, 14, 480)      (None, 14, 14, 480)               0\n",
            "96   block4b_se_squeeze (None, 14, 14, 480)      (None, 480)                       0\n",
            "97   block4b_se_reshape (None, 480)              (None, 1, 1, 480)                 0\n",
            "98   block4b_se_reduce (None, 1, 1, 480)        (None, 1, 1, 20)               9620\n",
            "99   block4b_se_expand (None, 1, 1, 20)         (None, 1, 1, 480)             10080\n",
            "100  block4b_se_excite [(None, 14, 14, 480), (None, 1, 1, 480)] (None, 14, 14, 480)               0\n",
            "101  block4b_project_conv (None, 14, 14, 480)      (None, 14, 14, 80)            38400\n",
            "102  block4b_project_bn (None, 14, 14, 80)       (None, 14, 14, 80)              320\n",
            "103  block4b_drop     (None, 14, 14, 80)       (None, 14, 14, 80)                0\n",
            "104  block4b_add      [(None, 14, 14, 80), (None, 14, 14, 80)] (None, 14, 14, 80)                0\n",
            "105  block4c_expand_conv (None, 14, 14, 80)       (None, 14, 14, 480)           38400\n",
            "106  block4c_expand_bn (None, 14, 14, 480)      (None, 14, 14, 480)            1920\n",
            "107  block4c_expand_activation (None, 14, 14, 480)      (None, 14, 14, 480)               0\n",
            "108  block4c_dwconv   (None, 14, 14, 480)      (None, 14, 14, 480)            4320\n",
            "109  block4c_bn       (None, 14, 14, 480)      (None, 14, 14, 480)            1920\n",
            "110  block4c_activation (None, 14, 14, 480)      (None, 14, 14, 480)               0\n",
            "111  block4c_se_squeeze (None, 14, 14, 480)      (None, 480)                       0\n",
            "112  block4c_se_reshape (None, 480)              (None, 1, 1, 480)                 0\n",
            "113  block4c_se_reduce (None, 1, 1, 480)        (None, 1, 1, 20)               9620\n",
            "114  block4c_se_expand (None, 1, 1, 20)         (None, 1, 1, 480)             10080\n",
            "115  block4c_se_excite [(None, 14, 14, 480), (None, 1, 1, 480)] (None, 14, 14, 480)               0\n",
            "116  block4c_project_conv (None, 14, 14, 480)      (None, 14, 14, 80)            38400\n",
            "117  block4c_project_bn (None, 14, 14, 80)       (None, 14, 14, 80)              320\n",
            "118  block4c_drop     (None, 14, 14, 80)       (None, 14, 14, 80)                0\n",
            "119  block4c_add      [(None, 14, 14, 80), (None, 14, 14, 80)] (None, 14, 14, 80)                0\n",
            "120  block5a_expand_conv (None, 14, 14, 80)       (None, 14, 14, 480)           38400\n",
            "121  block5a_expand_bn (None, 14, 14, 480)      (None, 14, 14, 480)            1920\n",
            "122  block5a_expand_activation (None, 14, 14, 480)      (None, 14, 14, 480)               0\n",
            "123  block5a_dwconv   (None, 14, 14, 480)      (None, 14, 14, 480)           12000\n",
            "124  block5a_bn       (None, 14, 14, 480)      (None, 14, 14, 480)            1920\n",
            "125  block5a_activation (None, 14, 14, 480)      (None, 14, 14, 480)               0\n",
            "126  block5a_se_squeeze (None, 14, 14, 480)      (None, 480)                       0\n",
            "127  block5a_se_reshape (None, 480)              (None, 1, 1, 480)                 0\n",
            "128  block5a_se_reduce (None, 1, 1, 480)        (None, 1, 1, 20)               9620\n",
            "129  block5a_se_expand (None, 1, 1, 20)         (None, 1, 1, 480)             10080\n",
            "130  block5a_se_excite [(None, 14, 14, 480), (None, 1, 1, 480)] (None, 14, 14, 480)               0\n",
            "131  block5a_project_conv (None, 14, 14, 480)      (None, 14, 14, 112)           53760\n",
            "132  block5a_project_bn (None, 14, 14, 112)      (None, 14, 14, 112)             448\n",
            "133  block5b_expand_conv (None, 14, 14, 112)      (None, 14, 14, 672)           75264\n",
            "134  block5b_expand_bn (None, 14, 14, 672)      (None, 14, 14, 672)            2688\n",
            "135  block5b_expand_activation (None, 14, 14, 672)      (None, 14, 14, 672)               0\n",
            "136  block5b_dwconv   (None, 14, 14, 672)      (None, 14, 14, 672)           16800\n",
            "137  block5b_bn       (None, 14, 14, 672)      (None, 14, 14, 672)            2688\n",
            "138  block5b_activation (None, 14, 14, 672)      (None, 14, 14, 672)               0\n",
            "139  block5b_se_squeeze (None, 14, 14, 672)      (None, 672)                       0\n",
            "140  block5b_se_reshape (None, 672)              (None, 1, 1, 672)                 0\n",
            "141  block5b_se_reduce (None, 1, 1, 672)        (None, 1, 1, 28)              18844\n",
            "142  block5b_se_expand (None, 1, 1, 28)         (None, 1, 1, 672)             19488\n",
            "143  block5b_se_excite [(None, 14, 14, 672), (None, 1, 1, 672)] (None, 14, 14, 672)               0\n",
            "144  block5b_project_conv (None, 14, 14, 672)      (None, 14, 14, 112)           75264\n",
            "145  block5b_project_bn (None, 14, 14, 112)      (None, 14, 14, 112)             448\n",
            "146  block5b_drop     (None, 14, 14, 112)      (None, 14, 14, 112)               0\n",
            "147  block5b_add      [(None, 14, 14, 112), (None, 14, 14, 112)] (None, 14, 14, 112)               0\n",
            "148  block5c_expand_conv (None, 14, 14, 112)      (None, 14, 14, 672)           75264\n",
            "149  block5c_expand_bn (None, 14, 14, 672)      (None, 14, 14, 672)            2688\n",
            "150  block5c_expand_activation (None, 14, 14, 672)      (None, 14, 14, 672)               0\n",
            "151  block5c_dwconv   (None, 14, 14, 672)      (None, 14, 14, 672)           16800\n",
            "152  block5c_bn       (None, 14, 14, 672)      (None, 14, 14, 672)            2688\n",
            "153  block5c_activation (None, 14, 14, 672)      (None, 14, 14, 672)               0\n",
            "154  block5c_se_squeeze (None, 14, 14, 672)      (None, 672)                       0\n",
            "155  block5c_se_reshape (None, 672)              (None, 1, 1, 672)                 0\n",
            "156  block5c_se_reduce (None, 1, 1, 672)        (None, 1, 1, 28)              18844\n",
            "157  block5c_se_expand (None, 1, 1, 28)         (None, 1, 1, 672)             19488\n",
            "158  block5c_se_excite [(None, 14, 14, 672), (None, 1, 1, 672)] (None, 14, 14, 672)               0\n",
            "159  block5c_project_conv (None, 14, 14, 672)      (None, 14, 14, 112)           75264\n",
            "160  block5c_project_bn (None, 14, 14, 112)      (None, 14, 14, 112)             448\n",
            "161  block5c_drop     (None, 14, 14, 112)      (None, 14, 14, 112)               0\n",
            "162  block5c_add      [(None, 14, 14, 112), (None, 14, 14, 112)] (None, 14, 14, 112)               0\n",
            "163  block6a_expand_conv (None, 14, 14, 112)      (None, 14, 14, 672)           75264\n",
            "164  block6a_expand_bn (None, 14, 14, 672)      (None, 14, 14, 672)            2688\n",
            "165  block6a_expand_activation (None, 14, 14, 672)      (None, 14, 14, 672)               0\n",
            "166  block6a_dwconv_pad (None, 14, 14, 672)      (None, 17, 17, 672)               0\n",
            "167  block6a_dwconv   (None, 17, 17, 672)      (None, 7, 7, 672)             16800\n",
            "168  block6a_bn       (None, 7, 7, 672)        (None, 7, 7, 672)              2688\n",
            "169  block6a_activation (None, 7, 7, 672)        (None, 7, 7, 672)                 0\n",
            "170  block6a_se_squeeze (None, 7, 7, 672)        (None, 672)                       0\n",
            "171  block6a_se_reshape (None, 672)              (None, 1, 1, 672)                 0\n",
            "172  block6a_se_reduce (None, 1, 1, 672)        (None, 1, 1, 28)              18844\n",
            "173  block6a_se_expand (None, 1, 1, 28)         (None, 1, 1, 672)             19488\n",
            "174  block6a_se_excite [(None, 7, 7, 672), (None, 1, 1, 672)] (None, 7, 7, 672)                 0\n",
            "175  block6a_project_conv (None, 7, 7, 672)        (None, 7, 7, 192)            129024\n",
            "176  block6a_project_bn (None, 7, 7, 192)        (None, 7, 7, 192)               768\n",
            "177  block6b_expand_conv (None, 7, 7, 192)        (None, 7, 7, 1152)           221184\n",
            "178  block6b_expand_bn (None, 7, 7, 1152)       (None, 7, 7, 1152)             4608\n",
            "179  block6b_expand_activation (None, 7, 7, 1152)       (None, 7, 7, 1152)                0\n",
            "180  block6b_dwconv   (None, 7, 7, 1152)       (None, 7, 7, 1152)            28800\n",
            "181  block6b_bn       (None, 7, 7, 1152)       (None, 7, 7, 1152)             4608\n",
            "182  block6b_activation (None, 7, 7, 1152)       (None, 7, 7, 1152)                0\n",
            "183  block6b_se_squeeze (None, 7, 7, 1152)       (None, 1152)                      0\n",
            "184  block6b_se_reshape (None, 1152)             (None, 1, 1, 1152)                0\n",
            "185  block6b_se_reduce (None, 1, 1, 1152)       (None, 1, 1, 48)              55344\n",
            "186  block6b_se_expand (None, 1, 1, 48)         (None, 1, 1, 1152)            56448\n",
            "187  block6b_se_excite [(None, 7, 7, 1152), (None, 1, 1, 1152)] (None, 7, 7, 1152)                0\n",
            "188  block6b_project_conv (None, 7, 7, 1152)       (None, 7, 7, 192)            221184\n",
            "189  block6b_project_bn (None, 7, 7, 192)        (None, 7, 7, 192)               768\n",
            "190  block6b_drop     (None, 7, 7, 192)        (None, 7, 7, 192)                 0\n",
            "191  block6b_add      [(None, 7, 7, 192), (None, 7, 7, 192)] (None, 7, 7, 192)                 0\n",
            "192  block6c_expand_conv (None, 7, 7, 192)        (None, 7, 7, 1152)           221184\n",
            "193  block6c_expand_bn (None, 7, 7, 1152)       (None, 7, 7, 1152)             4608\n",
            "194  block6c_expand_activation (None, 7, 7, 1152)       (None, 7, 7, 1152)                0\n",
            "195  block6c_dwconv   (None, 7, 7, 1152)       (None, 7, 7, 1152)            28800\n",
            "196  block6c_bn       (None, 7, 7, 1152)       (None, 7, 7, 1152)             4608\n",
            "197  block6c_activation (None, 7, 7, 1152)       (None, 7, 7, 1152)                0\n",
            "198  block6c_se_squeeze (None, 7, 7, 1152)       (None, 1152)                      0\n",
            "199  block6c_se_reshape (None, 1152)             (None, 1, 1, 1152)                0\n",
            "200  block6c_se_reduce (None, 1, 1, 1152)       (None, 1, 1, 48)              55344\n",
            "201  block6c_se_expand (None, 1, 1, 48)         (None, 1, 1, 1152)            56448\n",
            "202  block6c_se_excite [(None, 7, 7, 1152), (None, 1, 1, 1152)] (None, 7, 7, 1152)                0\n",
            "203  block6c_project_conv (None, 7, 7, 1152)       (None, 7, 7, 192)            221184\n",
            "204  block6c_project_bn (None, 7, 7, 192)        (None, 7, 7, 192)               768\n",
            "205  block6c_drop     (None, 7, 7, 192)        (None, 7, 7, 192)                 0\n",
            "206  block6c_add      [(None, 7, 7, 192), (None, 7, 7, 192)] (None, 7, 7, 192)                 0\n",
            "207  block6d_expand_conv (None, 7, 7, 192)        (None, 7, 7, 1152)           221184\n",
            "208  block6d_expand_bn (None, 7, 7, 1152)       (None, 7, 7, 1152)             4608\n",
            "209  block6d_expand_activation (None, 7, 7, 1152)       (None, 7, 7, 1152)                0\n",
            "210  block6d_dwconv   (None, 7, 7, 1152)       (None, 7, 7, 1152)            28800\n",
            "211  block6d_bn       (None, 7, 7, 1152)       (None, 7, 7, 1152)             4608\n",
            "212  block6d_activation (None, 7, 7, 1152)       (None, 7, 7, 1152)                0\n",
            "213  block6d_se_squeeze (None, 7, 7, 1152)       (None, 1152)                      0\n",
            "214  block6d_se_reshape (None, 1152)             (None, 1, 1, 1152)                0\n",
            "215  block6d_se_reduce (None, 1, 1, 1152)       (None, 1, 1, 48)              55344\n",
            "216  block6d_se_expand (None, 1, 1, 48)         (None, 1, 1, 1152)            56448\n",
            "217  block6d_se_excite [(None, 7, 7, 1152), (None, 1, 1, 1152)] (None, 7, 7, 1152)                0\n",
            "218  block6d_project_conv (None, 7, 7, 1152)       (None, 7, 7, 192)            221184\n",
            "219  block6d_project_bn (None, 7, 7, 192)        (None, 7, 7, 192)               768\n",
            "220  block6d_drop     (None, 7, 7, 192)        (None, 7, 7, 192)                 0\n",
            "221  block6d_add      [(None, 7, 7, 192), (None, 7, 7, 192)] (None, 7, 7, 192)                 0\n",
            "222  block7a_expand_conv (None, 7, 7, 192)        (None, 7, 7, 1152)           221184\n",
            "223  block7a_expand_bn (None, 7, 7, 1152)       (None, 7, 7, 1152)             4608\n",
            "224  block7a_expand_activation (None, 7, 7, 1152)       (None, 7, 7, 1152)                0\n",
            "225  block7a_dwconv   (None, 7, 7, 1152)       (None, 7, 7, 1152)            10368\n",
            "226  block7a_bn       (None, 7, 7, 1152)       (None, 7, 7, 1152)             4608\n",
            "227  block7a_activation (None, 7, 7, 1152)       (None, 7, 7, 1152)                0\n",
            "228  block7a_se_squeeze (None, 7, 7, 1152)       (None, 1152)                      0\n",
            "229  block7a_se_reshape (None, 1152)             (None, 1, 1, 1152)                0\n",
            "230  block7a_se_reduce (None, 1, 1, 1152)       (None, 1, 1, 48)              55344\n",
            "231  block7a_se_expand (None, 1, 1, 48)         (None, 1, 1, 1152)            56448\n",
            "232  block7a_se_excite [(None, 7, 7, 1152), (None, 1, 1, 1152)] (None, 7, 7, 1152)                0\n",
            "233  block7a_project_conv (None, 7, 7, 1152)       (None, 7, 7, 320)            368640\n",
            "234  block7a_project_bn (None, 7, 7, 320)        (None, 7, 7, 320)              1280\n",
            "235  top_conv         (None, 7, 7, 320)        (None, 7, 7, 1280)           409600\n",
            "236  top_bn           (None, 7, 7, 1280)       (None, 7, 7, 1280)             5120\n",
            "237  top_activation   (None, 7, 7, 1280)       (None, 7, 7, 1280)                0\n",
            "238  avg_pool         (None, 7, 7, 1280)       (None, 1280)                      0\n",
            "239  top_dropout      (None, 1280)             (None, 1280)                      0\n",
            "240  predictions      (None, 1280)             (None, 1000)                1281000\n",
            "__________________________________________________________________________________\n",
            "Total Parameters :  5330571\n",
            "Total Trainable Parameters :  5330571\n",
            "Total No-Trainable Parameters :  0\n"
          ]
        }
      ]
    },
    {
      "cell_type": "code",
      "source": [
        "from keras.applications import VGG16\n",
        "\n",
        "vgg16 = VGG16(weights='imagenet',\n",
        "                  include_top=True,\n",
        "                  input_shape=(224, 224, 3))\n",
        "\n",
        "resumen(vgg16)"
      ],
      "metadata": {
        "colab": {
          "base_uri": "https://localhost:8080/"
        },
        "id": "Pu7jrwXPUI4w",
        "outputId": "042897ae-5f38-4790-fcc4-c28e56e5d282"
      },
      "execution_count": null,
      "outputs": [
        {
          "output_type": "stream",
          "name": "stdout",
          "text": [
            "Downloading data from https://storage.googleapis.com/tensorflow/keras-applications/vgg16/vgg16_weights_tf_dim_ordering_tf_kernels.h5\n",
            "553467096/553467096 [==============================] - 6s 0us/step\n",
            "==================================================================================\n",
            "#    Layer Name       Layer Input Shape        Layer Output Shape       Parameters\n",
            "==================================================================================\n",
            "0    input_4          [(None, 224, 224, 3)]    [(None, 224, 224, 3)]             0\n",
            "1    block1_conv1     (None, 224, 224, 3)      (None, 224, 224, 64)           1792\n",
            "2    block1_conv2     (None, 224, 224, 64)     (None, 224, 224, 64)          36928\n",
            "3    block1_pool      (None, 224, 224, 64)     (None, 112, 112, 64)              0\n",
            "4    block2_conv1     (None, 112, 112, 64)     (None, 112, 112, 128)         73856\n",
            "5    block2_conv2     (None, 112, 112, 128)    (None, 112, 112, 128)        147584\n",
            "6    block2_pool      (None, 112, 112, 128)    (None, 56, 56, 128)               0\n",
            "7    block3_conv1     (None, 56, 56, 128)      (None, 56, 56, 256)          295168\n",
            "8    block3_conv2     (None, 56, 56, 256)      (None, 56, 56, 256)          590080\n",
            "9    block3_conv3     (None, 56, 56, 256)      (None, 56, 56, 256)          590080\n",
            "10   block3_pool      (None, 56, 56, 256)      (None, 28, 28, 256)               0\n",
            "11   block4_conv1     (None, 28, 28, 256)      (None, 28, 28, 512)         1180160\n",
            "12   block4_conv2     (None, 28, 28, 512)      (None, 28, 28, 512)         2359808\n",
            "13   block4_conv3     (None, 28, 28, 512)      (None, 28, 28, 512)         2359808\n",
            "14   block4_pool      (None, 28, 28, 512)      (None, 14, 14, 512)               0\n",
            "15   block5_conv1     (None, 14, 14, 512)      (None, 14, 14, 512)         2359808\n",
            "16   block5_conv2     (None, 14, 14, 512)      (None, 14, 14, 512)         2359808\n",
            "17   block5_conv3     (None, 14, 14, 512)      (None, 14, 14, 512)         2359808\n",
            "18   block5_pool      (None, 14, 14, 512)      (None, 7, 7, 512)                 0\n",
            "19   flatten          (None, 7, 7, 512)        (None, 25088)                     0\n",
            "20   fc1              (None, 25088)            (None, 4096)              102764544\n",
            "21   fc2              (None, 4096)             (None, 4096)               16781312\n",
            "22   predictions      (None, 4096)             (None, 1000)                4097000\n",
            "__________________________________________________________________________________\n",
            "Total Parameters :  138357544\n",
            "Total Trainable Parameters :  138357544\n",
            "Total No-Trainable Parameters :  0\n"
          ]
        }
      ]
    },
    {
      "cell_type": "code",
      "source": [],
      "metadata": {
        "id": "YMZYjn2PUXYa"
      },
      "execution_count": null,
      "outputs": []
    },
    {
      "cell_type": "code",
      "source": [
        "from keras.applications import MobileNet\n",
        "\n",
        "mn = MobileNet(weights='imagenet',\n",
        "                  include_top=True,\n",
        "                  input_shape=(224, 224, 3))\n",
        "\n",
        "resumen(mn)"
      ],
      "metadata": {
        "colab": {
          "base_uri": "https://localhost:8080/"
        },
        "outputId": "93ebd46c-7346-4dca-a158-bf5e69ce6137",
        "id": "Xc80QFGDUYu5"
      },
      "execution_count": null,
      "outputs": [
        {
          "output_type": "stream",
          "name": "stdout",
          "text": [
            "==================================================================================\n",
            "#    Layer Name       Layer Input Shape        Layer Output Shape       Parameters\n",
            "==================================================================================\n",
            "0    input_8          [(None, 224, 224, 3)]    [(None, 224, 224, 3)]             0\n",
            "1    conv1            (None, 224, 224, 3)      (None, 112, 112, 32)            864\n",
            "2    conv1_bn         (None, 112, 112, 32)     (None, 112, 112, 32)            128\n",
            "3    conv1_relu       (None, 112, 112, 32)     (None, 112, 112, 32)              0\n",
            "4    conv_dw_1        (None, 112, 112, 32)     (None, 112, 112, 32)            288\n",
            "5    conv_dw_1_bn     (None, 112, 112, 32)     (None, 112, 112, 32)            128\n",
            "6    conv_dw_1_relu   (None, 112, 112, 32)     (None, 112, 112, 32)              0\n",
            "7    conv_pw_1        (None, 112, 112, 32)     (None, 112, 112, 64)           2048\n",
            "8    conv_pw_1_bn     (None, 112, 112, 64)     (None, 112, 112, 64)            256\n",
            "9    conv_pw_1_relu   (None, 112, 112, 64)     (None, 112, 112, 64)              0\n",
            "10   conv_pad_2       (None, 112, 112, 64)     (None, 113, 113, 64)              0\n",
            "11   conv_dw_2        (None, 113, 113, 64)     (None, 56, 56, 64)              576\n",
            "12   conv_dw_2_bn     (None, 56, 56, 64)       (None, 56, 56, 64)              256\n",
            "13   conv_dw_2_relu   (None, 56, 56, 64)       (None, 56, 56, 64)                0\n",
            "14   conv_pw_2        (None, 56, 56, 64)       (None, 56, 56, 128)            8192\n",
            "15   conv_pw_2_bn     (None, 56, 56, 128)      (None, 56, 56, 128)             512\n",
            "16   conv_pw_2_relu   (None, 56, 56, 128)      (None, 56, 56, 128)               0\n",
            "17   conv_dw_3        (None, 56, 56, 128)      (None, 56, 56, 128)            1152\n",
            "18   conv_dw_3_bn     (None, 56, 56, 128)      (None, 56, 56, 128)             512\n",
            "19   conv_dw_3_relu   (None, 56, 56, 128)      (None, 56, 56, 128)               0\n",
            "20   conv_pw_3        (None, 56, 56, 128)      (None, 56, 56, 128)           16384\n",
            "21   conv_pw_3_bn     (None, 56, 56, 128)      (None, 56, 56, 128)             512\n",
            "22   conv_pw_3_relu   (None, 56, 56, 128)      (None, 56, 56, 128)               0\n",
            "23   conv_pad_4       (None, 56, 56, 128)      (None, 57, 57, 128)               0\n",
            "24   conv_dw_4        (None, 57, 57, 128)      (None, 28, 28, 128)            1152\n",
            "25   conv_dw_4_bn     (None, 28, 28, 128)      (None, 28, 28, 128)             512\n",
            "26   conv_dw_4_relu   (None, 28, 28, 128)      (None, 28, 28, 128)               0\n",
            "27   conv_pw_4        (None, 28, 28, 128)      (None, 28, 28, 256)           32768\n",
            "28   conv_pw_4_bn     (None, 28, 28, 256)      (None, 28, 28, 256)            1024\n",
            "29   conv_pw_4_relu   (None, 28, 28, 256)      (None, 28, 28, 256)               0\n",
            "30   conv_dw_5        (None, 28, 28, 256)      (None, 28, 28, 256)            2304\n",
            "31   conv_dw_5_bn     (None, 28, 28, 256)      (None, 28, 28, 256)            1024\n",
            "32   conv_dw_5_relu   (None, 28, 28, 256)      (None, 28, 28, 256)               0\n",
            "33   conv_pw_5        (None, 28, 28, 256)      (None, 28, 28, 256)           65536\n",
            "34   conv_pw_5_bn     (None, 28, 28, 256)      (None, 28, 28, 256)            1024\n",
            "35   conv_pw_5_relu   (None, 28, 28, 256)      (None, 28, 28, 256)               0\n",
            "36   conv_pad_6       (None, 28, 28, 256)      (None, 29, 29, 256)               0\n",
            "37   conv_dw_6        (None, 29, 29, 256)      (None, 14, 14, 256)            2304\n",
            "38   conv_dw_6_bn     (None, 14, 14, 256)      (None, 14, 14, 256)            1024\n",
            "39   conv_dw_6_relu   (None, 14, 14, 256)      (None, 14, 14, 256)               0\n",
            "40   conv_pw_6        (None, 14, 14, 256)      (None, 14, 14, 512)          131072\n",
            "41   conv_pw_6_bn     (None, 14, 14, 512)      (None, 14, 14, 512)            2048\n",
            "42   conv_pw_6_relu   (None, 14, 14, 512)      (None, 14, 14, 512)               0\n",
            "43   conv_dw_7        (None, 14, 14, 512)      (None, 14, 14, 512)            4608\n",
            "44   conv_dw_7_bn     (None, 14, 14, 512)      (None, 14, 14, 512)            2048\n",
            "45   conv_dw_7_relu   (None, 14, 14, 512)      (None, 14, 14, 512)               0\n",
            "46   conv_pw_7        (None, 14, 14, 512)      (None, 14, 14, 512)          262144\n",
            "47   conv_pw_7_bn     (None, 14, 14, 512)      (None, 14, 14, 512)            2048\n",
            "48   conv_pw_7_relu   (None, 14, 14, 512)      (None, 14, 14, 512)               0\n",
            "49   conv_dw_8        (None, 14, 14, 512)      (None, 14, 14, 512)            4608\n",
            "50   conv_dw_8_bn     (None, 14, 14, 512)      (None, 14, 14, 512)            2048\n",
            "51   conv_dw_8_relu   (None, 14, 14, 512)      (None, 14, 14, 512)               0\n",
            "52   conv_pw_8        (None, 14, 14, 512)      (None, 14, 14, 512)          262144\n",
            "53   conv_pw_8_bn     (None, 14, 14, 512)      (None, 14, 14, 512)            2048\n",
            "54   conv_pw_8_relu   (None, 14, 14, 512)      (None, 14, 14, 512)               0\n",
            "55   conv_dw_9        (None, 14, 14, 512)      (None, 14, 14, 512)            4608\n",
            "56   conv_dw_9_bn     (None, 14, 14, 512)      (None, 14, 14, 512)            2048\n",
            "57   conv_dw_9_relu   (None, 14, 14, 512)      (None, 14, 14, 512)               0\n",
            "58   conv_pw_9        (None, 14, 14, 512)      (None, 14, 14, 512)          262144\n",
            "59   conv_pw_9_bn     (None, 14, 14, 512)      (None, 14, 14, 512)            2048\n",
            "60   conv_pw_9_relu   (None, 14, 14, 512)      (None, 14, 14, 512)               0\n",
            "61   conv_dw_10       (None, 14, 14, 512)      (None, 14, 14, 512)            4608\n",
            "62   conv_dw_10_bn    (None, 14, 14, 512)      (None, 14, 14, 512)            2048\n",
            "63   conv_dw_10_relu  (None, 14, 14, 512)      (None, 14, 14, 512)               0\n",
            "64   conv_pw_10       (None, 14, 14, 512)      (None, 14, 14, 512)          262144\n",
            "65   conv_pw_10_bn    (None, 14, 14, 512)      (None, 14, 14, 512)            2048\n",
            "66   conv_pw_10_relu  (None, 14, 14, 512)      (None, 14, 14, 512)               0\n",
            "67   conv_dw_11       (None, 14, 14, 512)      (None, 14, 14, 512)            4608\n",
            "68   conv_dw_11_bn    (None, 14, 14, 512)      (None, 14, 14, 512)            2048\n",
            "69   conv_dw_11_relu  (None, 14, 14, 512)      (None, 14, 14, 512)               0\n",
            "70   conv_pw_11       (None, 14, 14, 512)      (None, 14, 14, 512)          262144\n",
            "71   conv_pw_11_bn    (None, 14, 14, 512)      (None, 14, 14, 512)            2048\n",
            "72   conv_pw_11_relu  (None, 14, 14, 512)      (None, 14, 14, 512)               0\n",
            "73   conv_pad_12      (None, 14, 14, 512)      (None, 15, 15, 512)               0\n",
            "74   conv_dw_12       (None, 15, 15, 512)      (None, 7, 7, 512)              4608\n",
            "75   conv_dw_12_bn    (None, 7, 7, 512)        (None, 7, 7, 512)              2048\n",
            "76   conv_dw_12_relu  (None, 7, 7, 512)        (None, 7, 7, 512)                 0\n",
            "77   conv_pw_12       (None, 7, 7, 512)        (None, 7, 7, 1024)           524288\n",
            "78   conv_pw_12_bn    (None, 7, 7, 1024)       (None, 7, 7, 1024)             4096\n",
            "79   conv_pw_12_relu  (None, 7, 7, 1024)       (None, 7, 7, 1024)                0\n",
            "80   conv_dw_13       (None, 7, 7, 1024)       (None, 7, 7, 1024)             9216\n",
            "81   conv_dw_13_bn    (None, 7, 7, 1024)       (None, 7, 7, 1024)             4096\n",
            "82   conv_dw_13_relu  (None, 7, 7, 1024)       (None, 7, 7, 1024)                0\n",
            "83   conv_pw_13       (None, 7, 7, 1024)       (None, 7, 7, 1024)          1048576\n",
            "84   conv_pw_13_bn    (None, 7, 7, 1024)       (None, 7, 7, 1024)             4096\n",
            "85   conv_pw_13_relu  (None, 7, 7, 1024)       (None, 7, 7, 1024)                0\n",
            "86   global_average_pooling2d_3 (None, 7, 7, 1024)       (None, 1, 1, 1024)                0\n",
            "87   dropout          (None, 1, 1, 1024)       (None, 1, 1, 1024)                0\n",
            "88   conv_preds       (None, 1, 1, 1024)       (None, 1, 1, 1000)          1025000\n",
            "89   reshape_2        (None, 1, 1, 1000)       (None, 1000)                      0\n",
            "90   predictions      (None, 1000)             (None, 1000)                      0\n",
            "__________________________________________________________________________________\n",
            "Total Parameters :  4253864\n",
            "Total Trainable Parameters :  4253864\n",
            "Total No-Trainable Parameters :  0\n"
          ]
        }
      ]
    },
    {
      "cell_type": "code",
      "source": [
        "if mn != None:\n",
        "    del mn\n",
        "    \n",
        "from keras.applications import MobileNet\n",
        "\n",
        "conv_base = MobileNet(weights='imagenet',\n",
        "                  include_top=False,\n",
        "                  input_shape=(150, 150, 3))\n",
        "    \n",
        "resumen(conv_base)  "
      ],
      "metadata": {
        "colab": {
          "base_uri": "https://localhost:8080/"
        },
        "id": "uOgRayt9WnUJ",
        "outputId": "5f65d94b-436d-4e7a-c6b9-c5d082b825ad"
      },
      "execution_count": null,
      "outputs": [
        {
          "output_type": "stream",
          "name": "stderr",
          "text": [
            "WARNING:tensorflow:`input_shape` is undefined or non-square, or `rows` is not in [128, 160, 192, 224]. Weights for input shape (224, 224) will be loaded as the default.\n"
          ]
        },
        {
          "output_type": "stream",
          "name": "stdout",
          "text": [
            "Downloading data from https://storage.googleapis.com/tensorflow/keras-applications/mobilenet/mobilenet_1_0_224_tf_no_top.h5\n",
            "17225924/17225924 [==============================] - 0s 0us/step\n",
            "==================================================================================\n",
            "#    Layer Name       Layer Input Shape        Layer Output Shape       Parameters\n",
            "==================================================================================\n",
            "0    input_9          [(None, 150, 150, 3)]    [(None, 150, 150, 3)]             0\n",
            "1    conv1            (None, 150, 150, 3)      (None, 75, 75, 32)              864\n",
            "2    conv1_bn         (None, 75, 75, 32)       (None, 75, 75, 32)              128\n",
            "3    conv1_relu       (None, 75, 75, 32)       (None, 75, 75, 32)                0\n",
            "4    conv_dw_1        (None, 75, 75, 32)       (None, 75, 75, 32)              288\n",
            "5    conv_dw_1_bn     (None, 75, 75, 32)       (None, 75, 75, 32)              128\n",
            "6    conv_dw_1_relu   (None, 75, 75, 32)       (None, 75, 75, 32)                0\n",
            "7    conv_pw_1        (None, 75, 75, 32)       (None, 75, 75, 64)             2048\n",
            "8    conv_pw_1_bn     (None, 75, 75, 64)       (None, 75, 75, 64)              256\n",
            "9    conv_pw_1_relu   (None, 75, 75, 64)       (None, 75, 75, 64)                0\n",
            "10   conv_pad_2       (None, 75, 75, 64)       (None, 76, 76, 64)                0\n",
            "11   conv_dw_2        (None, 76, 76, 64)       (None, 37, 37, 64)              576\n",
            "12   conv_dw_2_bn     (None, 37, 37, 64)       (None, 37, 37, 64)              256\n",
            "13   conv_dw_2_relu   (None, 37, 37, 64)       (None, 37, 37, 64)                0\n",
            "14   conv_pw_2        (None, 37, 37, 64)       (None, 37, 37, 128)            8192\n",
            "15   conv_pw_2_bn     (None, 37, 37, 128)      (None, 37, 37, 128)             512\n",
            "16   conv_pw_2_relu   (None, 37, 37, 128)      (None, 37, 37, 128)               0\n",
            "17   conv_dw_3        (None, 37, 37, 128)      (None, 37, 37, 128)            1152\n",
            "18   conv_dw_3_bn     (None, 37, 37, 128)      (None, 37, 37, 128)             512\n",
            "19   conv_dw_3_relu   (None, 37, 37, 128)      (None, 37, 37, 128)               0\n",
            "20   conv_pw_3        (None, 37, 37, 128)      (None, 37, 37, 128)           16384\n",
            "21   conv_pw_3_bn     (None, 37, 37, 128)      (None, 37, 37, 128)             512\n",
            "22   conv_pw_3_relu   (None, 37, 37, 128)      (None, 37, 37, 128)               0\n",
            "23   conv_pad_4       (None, 37, 37, 128)      (None, 38, 38, 128)               0\n",
            "24   conv_dw_4        (None, 38, 38, 128)      (None, 18, 18, 128)            1152\n",
            "25   conv_dw_4_bn     (None, 18, 18, 128)      (None, 18, 18, 128)             512\n",
            "26   conv_dw_4_relu   (None, 18, 18, 128)      (None, 18, 18, 128)               0\n",
            "27   conv_pw_4        (None, 18, 18, 128)      (None, 18, 18, 256)           32768\n",
            "28   conv_pw_4_bn     (None, 18, 18, 256)      (None, 18, 18, 256)            1024\n",
            "29   conv_pw_4_relu   (None, 18, 18, 256)      (None, 18, 18, 256)               0\n",
            "30   conv_dw_5        (None, 18, 18, 256)      (None, 18, 18, 256)            2304\n",
            "31   conv_dw_5_bn     (None, 18, 18, 256)      (None, 18, 18, 256)            1024\n",
            "32   conv_dw_5_relu   (None, 18, 18, 256)      (None, 18, 18, 256)               0\n",
            "33   conv_pw_5        (None, 18, 18, 256)      (None, 18, 18, 256)           65536\n",
            "34   conv_pw_5_bn     (None, 18, 18, 256)      (None, 18, 18, 256)            1024\n",
            "35   conv_pw_5_relu   (None, 18, 18, 256)      (None, 18, 18, 256)               0\n",
            "36   conv_pad_6       (None, 18, 18, 256)      (None, 19, 19, 256)               0\n",
            "37   conv_dw_6        (None, 19, 19, 256)      (None, 9, 9, 256)              2304\n",
            "38   conv_dw_6_bn     (None, 9, 9, 256)        (None, 9, 9, 256)              1024\n",
            "39   conv_dw_6_relu   (None, 9, 9, 256)        (None, 9, 9, 256)                 0\n",
            "40   conv_pw_6        (None, 9, 9, 256)        (None, 9, 9, 512)            131072\n",
            "41   conv_pw_6_bn     (None, 9, 9, 512)        (None, 9, 9, 512)              2048\n",
            "42   conv_pw_6_relu   (None, 9, 9, 512)        (None, 9, 9, 512)                 0\n",
            "43   conv_dw_7        (None, 9, 9, 512)        (None, 9, 9, 512)              4608\n",
            "44   conv_dw_7_bn     (None, 9, 9, 512)        (None, 9, 9, 512)              2048\n",
            "45   conv_dw_7_relu   (None, 9, 9, 512)        (None, 9, 9, 512)                 0\n",
            "46   conv_pw_7        (None, 9, 9, 512)        (None, 9, 9, 512)            262144\n",
            "47   conv_pw_7_bn     (None, 9, 9, 512)        (None, 9, 9, 512)              2048\n",
            "48   conv_pw_7_relu   (None, 9, 9, 512)        (None, 9, 9, 512)                 0\n",
            "49   conv_dw_8        (None, 9, 9, 512)        (None, 9, 9, 512)              4608\n",
            "50   conv_dw_8_bn     (None, 9, 9, 512)        (None, 9, 9, 512)              2048\n",
            "51   conv_dw_8_relu   (None, 9, 9, 512)        (None, 9, 9, 512)                 0\n",
            "52   conv_pw_8        (None, 9, 9, 512)        (None, 9, 9, 512)            262144\n",
            "53   conv_pw_8_bn     (None, 9, 9, 512)        (None, 9, 9, 512)              2048\n",
            "54   conv_pw_8_relu   (None, 9, 9, 512)        (None, 9, 9, 512)                 0\n",
            "55   conv_dw_9        (None, 9, 9, 512)        (None, 9, 9, 512)              4608\n",
            "56   conv_dw_9_bn     (None, 9, 9, 512)        (None, 9, 9, 512)              2048\n",
            "57   conv_dw_9_relu   (None, 9, 9, 512)        (None, 9, 9, 512)                 0\n",
            "58   conv_pw_9        (None, 9, 9, 512)        (None, 9, 9, 512)            262144\n",
            "59   conv_pw_9_bn     (None, 9, 9, 512)        (None, 9, 9, 512)              2048\n",
            "60   conv_pw_9_relu   (None, 9, 9, 512)        (None, 9, 9, 512)                 0\n",
            "61   conv_dw_10       (None, 9, 9, 512)        (None, 9, 9, 512)              4608\n",
            "62   conv_dw_10_bn    (None, 9, 9, 512)        (None, 9, 9, 512)              2048\n",
            "63   conv_dw_10_relu  (None, 9, 9, 512)        (None, 9, 9, 512)                 0\n",
            "64   conv_pw_10       (None, 9, 9, 512)        (None, 9, 9, 512)            262144\n",
            "65   conv_pw_10_bn    (None, 9, 9, 512)        (None, 9, 9, 512)              2048\n",
            "66   conv_pw_10_relu  (None, 9, 9, 512)        (None, 9, 9, 512)                 0\n",
            "67   conv_dw_11       (None, 9, 9, 512)        (None, 9, 9, 512)              4608\n",
            "68   conv_dw_11_bn    (None, 9, 9, 512)        (None, 9, 9, 512)              2048\n",
            "69   conv_dw_11_relu  (None, 9, 9, 512)        (None, 9, 9, 512)                 0\n",
            "70   conv_pw_11       (None, 9, 9, 512)        (None, 9, 9, 512)            262144\n",
            "71   conv_pw_11_bn    (None, 9, 9, 512)        (None, 9, 9, 512)              2048\n",
            "72   conv_pw_11_relu  (None, 9, 9, 512)        (None, 9, 9, 512)                 0\n",
            "73   conv_pad_12      (None, 9, 9, 512)        (None, 10, 10, 512)               0\n",
            "74   conv_dw_12       (None, 10, 10, 512)      (None, 4, 4, 512)              4608\n",
            "75   conv_dw_12_bn    (None, 4, 4, 512)        (None, 4, 4, 512)              2048\n",
            "76   conv_dw_12_relu  (None, 4, 4, 512)        (None, 4, 4, 512)                 0\n",
            "77   conv_pw_12       (None, 4, 4, 512)        (None, 4, 4, 1024)           524288\n",
            "78   conv_pw_12_bn    (None, 4, 4, 1024)       (None, 4, 4, 1024)             4096\n",
            "79   conv_pw_12_relu  (None, 4, 4, 1024)       (None, 4, 4, 1024)                0\n",
            "80   conv_dw_13       (None, 4, 4, 1024)       (None, 4, 4, 1024)             9216\n",
            "81   conv_dw_13_bn    (None, 4, 4, 1024)       (None, 4, 4, 1024)             4096\n",
            "82   conv_dw_13_relu  (None, 4, 4, 1024)       (None, 4, 4, 1024)                0\n",
            "83   conv_pw_13       (None, 4, 4, 1024)       (None, 4, 4, 1024)          1048576\n",
            "84   conv_pw_13_bn    (None, 4, 4, 1024)       (None, 4, 4, 1024)             4096\n",
            "85   conv_pw_13_relu  (None, 4, 4, 1024)       (None, 4, 4, 1024)                0\n",
            "__________________________________________________________________________________\n",
            "Total Parameters :  3228864\n",
            "Total Trainable Parameters :  3228864\n",
            "Total No-Trainable Parameters :  0\n"
          ]
        }
      ]
    },
    {
      "cell_type": "code",
      "source": [
        "import numpy as np\n",
        "import pandas as pd\n",
        "import tensorflow as tf"
      ],
      "metadata": {
        "id": "sRMsDCOglKo6"
      },
      "execution_count": 10,
      "outputs": []
    },
    {
      "cell_type": "code",
      "source": [
        "filenames = tf.io.gfile.glob(str(\"/content/drive/MyDrive/test\"))"
      ],
      "metadata": {
        "id": "so0dQYvfg9gw"
      },
      "execution_count": 18,
      "outputs": []
    },
    {
      "cell_type": "code",
      "source": [
        "from os import listdir\n",
        "from PIL import Image as PImage\n",
        "\n",
        "def loadImages(path):\n",
        "    # return array of images\n",
        "\n",
        "    imagesList = listdir(path)\n",
        "    loadedImages = []\n",
        "    for image in imagesList:\n",
        "        img = PImage.open(path + image)\n",
        "        loadedImages.append(img)\n",
        "\n",
        "    return loadedImages\n",
        "\n",
        "path = \"/content/drive/MyDrive/test/NORMAL/\"\n",
        "\n",
        "# your images in an array\n",
        "test_normales = loadImages(\"/content/drive/MyDrive/test/NORMAL/\")\n",
        "test_neumonia= loadImages(\"/content/drive/MyDrive/test/PNEUMONIA/\")\n",
        "\n"
      ],
      "metadata": {
        "id": "_VBOcJtiliVz"
      },
      "execution_count": 11,
      "outputs": []
    },
    {
      "cell_type": "code",
      "source": [
        "full=[]"
      ],
      "metadata": {
        "id": "GDDhwqzW8x3t"
      },
      "execution_count": 19,
      "outputs": []
    },
    {
      "cell_type": "code",
      "source": [
        "np.array(test_normales[0])"
      ],
      "metadata": {
        "colab": {
          "base_uri": "https://localhost:8080/"
        },
        "id": "mXirkPbk-LLj",
        "outputId": "a88dc38c-f652-41e5-a2be-5f8f1e395301"
      },
      "execution_count": 14,
      "outputs": [
        {
          "output_type": "execute_result",
          "data": {
            "text/plain": [
              "array([[ 0, 34, 36, ..., 36, 35,  2],\n",
              "       [ 1, 35, 36, ..., 35, 35,  2],\n",
              "       [ 2, 35, 36, ..., 34, 35,  2],\n",
              "       ...,\n",
              "       [ 2, 24, 31, ..., 41, 42,  0],\n",
              "       [ 2, 24, 31, ..., 40, 42,  0],\n",
              "       [ 2, 24, 31, ..., 36, 41,  0]], dtype=uint8)"
            ]
          },
          "metadata": {},
          "execution_count": 14
        }
      ]
    },
    {
      "cell_type": "code",
      "source": [
        "for i in range(len(test_normales)):\n",
        "    full.append(np.array(test_normales[i],dtype='float32'))\n",
        "for i in range(len(test_neumonia)):\n",
        "    full.append(np.array(test_neumonia[i],dtype='float32'))"
      ],
      "metadata": {
        "id": "DEb6g6M19ry9"
      },
      "execution_count": 20,
      "outputs": []
    },
    {
      "cell_type": "markdown",
      "source": [
        "Las imagenes tienen distintos tamaños :c"
      ],
      "metadata": {
        "id": "4cV7QLc0Hpiw"
      }
    },
    {
      "cell_type": "code",
      "source": [
        "full[0].shape"
      ],
      "metadata": {
        "colab": {
          "base_uri": "https://localhost:8080/"
        },
        "id": "B_qsbKCgHZse",
        "outputId": "24780d08-7d70-4774-b519-830550683887"
      },
      "execution_count": 38,
      "outputs": [
        {
          "output_type": "execute_result",
          "data": {
            "text/plain": [
              "(1534, 1658)"
            ]
          },
          "metadata": {},
          "execution_count": 38
        }
      ]
    },
    {
      "cell_type": "code",
      "source": [
        "u=np.resize(full[0].T,(1024, 1024))\n",
        "import matplotlib.pyplot as plt\n",
        "plt.imshow(u,cmap=plt.cm.gray)"
      ],
      "metadata": {
        "colab": {
          "base_uri": "https://localhost:8080/",
          "height": 286
        },
        "id": "lJ7obQ-H-vT4",
        "outputId": "3e85cb65-b47c-42fe-c1ba-7299e2fc27d3"
      },
      "execution_count": 41,
      "outputs": [
        {
          "output_type": "execute_result",
          "data": {
            "text/plain": [
              "<matplotlib.image.AxesImage at 0x7fda95249490>"
            ]
          },
          "metadata": {},
          "execution_count": 41
        },
        {
          "output_type": "display_data",
          "data": {
            "text/plain": [
              "<Figure size 432x288 with 1 Axes>"
            ],
            "image/png": "[encoded data removed]"
          },
          "metadata": {
            "needs_background": "light"
          }
        }
      ]
    },
    {
      "cell_type": "markdown",
      "source": [
        "#"
      ],
      "metadata": {
        "id": "AH6Wn86w7GRd"
      }
    },
    {
      "cell_type": "code",
      "source": [
        "from keras import layers\n",
        "from keras import models\n",
        "convNN = models.Sequential()"
      ],
      "metadata": {
        "id": "0PEr28D54bzX"
      },
      "execution_count": 1,
      "outputs": []
    },
    {
      "cell_type": "code",
      "source": [],
      "metadata": {
        "id": "Z2svO3MiA3Sy"
      },
      "execution_count": null,
      "outputs": []
    },
    {
      "cell_type": "code",
      "source": [
        "convNN.add(layers.Conv2D(filters     =256, \n",
        "                         kernel_size =3, \n",
        "                         activation  ='relu', \n",
        "                         input_shape =(1534, 1658, 1)))#28-2\n",
        "convNN.add(layers.Conv2D(filters=256, kernel_size=3, activation='relu'))#26-2\n",
        "convNN.add(layers.MaxPooling2D(pool_size=(2, 2)))#24/2\n",
        "convNN.add(layers.Conv2D(filters=128, kernel_size=2, activation='relu'))#12-2\n",
        "convNN.add(layers.MaxPooling2D(pool_size=(2, 2)))#4/2\n",
        "convNN.add(layers.Conv2D(filters=128, kernel_size=3, activation='relu'))#2-1\n",
        "convNN.add(layers.MaxPooling2D(pool_size=(2, 2)))#4/2\n",
        "convNN.add(layers.MaxPooling2D(pool_size=(2, 2)))#4/2\n",
        "convNN.add(layers.MaxPooling2D(pool_size=(2, 2)))#4/2\n",
        "convNN.add(layers.Flatten())\n",
        "\n"
      ],
      "metadata": {
        "id": "bNcBHku64fwL"
      },
      "execution_count": 2,
      "outputs": []
    },
    {
      "cell_type": "code",
      "source": [
        "convNN.summary()"
      ],
      "metadata": {
        "colab": {
          "base_uri": "https://localhost:8080/"
        },
        "id": "lRd0JEqU5wnx",
        "outputId": "b9898243-ead6-478b-9838-034ead527b68"
      },
      "execution_count": 3,
      "outputs": [
        {
          "output_type": "stream",
          "name": "stdout",
          "text": [
            "Model: \"sequential\"\n",
            "_________________________________________________________________\n",
            " Layer (type)                Output Shape              Param #   \n",
            "=================================================================\n",
            " conv2d (Conv2D)             (None, 1532, 1656, 256)   2560      \n",
            "                                                                 \n",
            " conv2d_1 (Conv2D)           (None, 1530, 1654, 256)   590080    \n",
            "                                                                 \n",
            " max_pooling2d (MaxPooling2D  (None, 765, 827, 256)    0         \n",
            " )                                                               \n",
            "                                                                 \n",
            " conv2d_2 (Conv2D)           (None, 764, 826, 128)     131200    \n",
            "                                                                 \n",
            " max_pooling2d_1 (MaxPooling  (None, 382, 413, 128)    0         \n",
            " 2D)                                                             \n",
            "                                                                 \n",
            " conv2d_3 (Conv2D)           (None, 380, 411, 128)     147584    \n",
            "                                                                 \n",
            " max_pooling2d_2 (MaxPooling  (None, 190, 205, 128)    0         \n",
            " 2D)                                                             \n",
            "                                                                 \n",
            " max_pooling2d_3 (MaxPooling  (None, 95, 102, 128)     0         \n",
            " 2D)                                                             \n",
            "                                                                 \n",
            " max_pooling2d_4 (MaxPooling  (None, 47, 51, 128)      0         \n",
            " 2D)                                                             \n",
            "                                                                 \n",
            " flatten (Flatten)           (None, 306816)            0         \n",
            "                                                                 \n",
            "=================================================================\n",
            "Total params: 871,424\n",
            "Trainable params: 871,424\n",
            "Non-trainable params: 0\n",
            "_________________________________________________________________\n"
          ]
        }
      ]
    },
    {
      "cell_type": "code",
      "source": [
        "convNN.add(layers.Dense(units=128, activation='relu'))\n",
        "convNN.add(layers.Dense(units=2, activation='softmax'))"
      ],
      "metadata": {
        "id": "ww80ZGvoBUEx"
      },
      "execution_count": 4,
      "outputs": []
    },
    {
      "cell_type": "code",
      "source": [
        "convNN.summary()"
      ],
      "metadata": {
        "colab": {
          "base_uri": "https://localhost:8080/"
        },
        "id": "HLjdhVAwDiVB",
        "outputId": "ceda685c-48e8-4814-d162-8d794f0d1fe9"
      },
      "execution_count": 5,
      "outputs": [
        {
          "output_type": "stream",
          "name": "stdout",
          "text": [
            "Model: \"sequential\"\n",
            "_________________________________________________________________\n",
            " Layer (type)                Output Shape              Param #   \n",
            "=================================================================\n",
            " conv2d (Conv2D)             (None, 1532, 1656, 256)   2560      \n",
            "                                                                 \n",
            " conv2d_1 (Conv2D)           (None, 1530, 1654, 256)   590080    \n",
            "                                                                 \n",
            " max_pooling2d (MaxPooling2D  (None, 765, 827, 256)    0         \n",
            " )                                                               \n",
            "                                                                 \n",
            " conv2d_2 (Conv2D)           (None, 764, 826, 128)     131200    \n",
            "                                                                 \n",
            " max_pooling2d_1 (MaxPooling  (None, 382, 413, 128)    0         \n",
            " 2D)                                                             \n",
            "                                                                 \n",
            " conv2d_3 (Conv2D)           (None, 380, 411, 128)     147584    \n",
            "                                                                 \n",
            " max_pooling2d_2 (MaxPooling  (None, 190, 205, 128)    0         \n",
            " 2D)                                                             \n",
            "                                                                 \n",
            " max_pooling2d_3 (MaxPooling  (None, 95, 102, 128)     0         \n",
            " 2D)                                                             \n",
            "                                                                 \n",
            " max_pooling2d_4 (MaxPooling  (None, 47, 51, 128)      0         \n",
            " 2D)                                                             \n",
            "                                                                 \n",
            " flatten (Flatten)           (None, 306816)            0         \n",
            "                                                                 \n",
            " dense (Dense)               (None, 128)               39272576  \n",
            "                                                                 \n",
            " dense_1 (Dense)             (None, 2)                 258       \n",
            "                                                                 \n",
            "=================================================================\n",
            "Total params: 40,144,258\n",
            "Trainable params: 40,144,258\n",
            "Non-trainable params: 0\n",
            "_________________________________________________________________\n"
          ]
        }
      ]
    },
    {
      "cell_type": "code",
      "source": [
        "convNN.compile(optimizer='rmsprop',\n",
        "              loss='categorical_crossentropy',\n",
        "              metrics=['accuracy'])"
      ],
      "metadata": {
        "id": "OhpmHj3rDmBq"
      },
      "execution_count": 6,
      "outputs": []
    },
    {
      "cell_type": "code",
      "source": [
        "from keras.utils import to_categorical\n",
        "train_labels = to_categorical(np.repeat((0,1),(len(test_normales),len(test_neumonia))))\n"
      ],
      "metadata": {
        "id": "LAY6lfGXDyQR"
      },
      "execution_count": 17,
      "outputs": []
    },
    {
      "cell_type": "code",
      "source": [
        "import numpy as np\n",
        "np.repeat((1,2),(3,5))"
      ],
      "metadata": {
        "colab": {
          "base_uri": "https://localhost:8080/"
        },
        "id": "wHDrDWe6D8Qm",
        "outputId": "1cce429a-9658-4220-ca4c-286184ca5e15"
      },
      "execution_count": 8,
      "outputs": [
        {
          "output_type": "execute_result",
          "data": {
            "text/plain": [
              "array([1, 1, 1, 2, 2, 2, 2, 2])"
            ]
          },
          "metadata": {},
          "execution_count": 8
        }
      ]
    },
    {
      "cell_type": "code",
      "source": [
        "import time\n",
        "tic = time.time()\n",
        "\n",
        "convNN.fit(x = full, \n",
        "           y = train_labels, \n",
        "           epochs    =2, \n",
        "           batch_size=64,\n",
        "          verbose=2)\n",
        "\n",
        "print('seconds=', time.time()-tic)"
      ],
      "metadata": {
        "colab": {
          "base_uri": "https://localhost:8080/",
          "height": 606
        },
        "id": "K4FdkHp9DoG3",
        "outputId": "f296ef5f-dcbe-46c2-eff4-a29e228daa07"
      },
      "execution_count": 21,
      "outputs": [
        {
          "output_type": "error",
          "ename": "ValueError",
          "evalue": "ignored",
          "traceback": [
            "\u001b[0;31m---------------------------------------------------------------------------\u001b[0m",
            "\u001b[0;31mValueError\u001b[0m                                Traceback (most recent call last)",
            "\u001b[0;32m<ipython-input-21-0e7e0173245f>\u001b[0m in \u001b[0;36m<module>\u001b[0;34m\u001b[0m\n\u001b[1;32m      6\u001b[0m            \u001b[0mepochs\u001b[0m    \u001b[0;34m=\u001b[0m\u001b[0;36m2\u001b[0m\u001b[0;34m,\u001b[0m\u001b[0;34m\u001b[0m\u001b[0;34m\u001b[0m\u001b[0m\n\u001b[1;32m      7\u001b[0m            \u001b[0mbatch_size\u001b[0m\u001b[0;34m=\u001b[0m\u001b[0;36m64\u001b[0m\u001b[0;34m,\u001b[0m\u001b[0;34m\u001b[0m\u001b[0;34m\u001b[0m\u001b[0m\n\u001b[0;32m----> 8\u001b[0;31m           verbose=2)\n\u001b[0m\u001b[1;32m      9\u001b[0m \u001b[0;34m\u001b[0m\u001b[0m\n\u001b[1;32m     10\u001b[0m \u001b[0mprint\u001b[0m\u001b[0;34m(\u001b[0m\u001b[0;34m'seconds='\u001b[0m\u001b[0;34m,\u001b[0m \u001b[0mtime\u001b[0m\u001b[0;34m.\u001b[0m\u001b[0mtime\u001b[0m\u001b[0;34m(\u001b[0m\u001b[0;34m)\u001b[0m\u001b[0;34m-\u001b[0m\u001b[0mtic\u001b[0m\u001b[0;34m)\u001b[0m\u001b[0;34m\u001b[0m\u001b[0;34m\u001b[0m\u001b[0m\n",
            "\u001b[0;32m/usr/local/lib/python3.7/dist-packages/keras/utils/traceback_utils.py\u001b[0m in \u001b[0;36merror_handler\u001b[0;34m(*args, **kwargs)\u001b[0m\n\u001b[1;32m     65\u001b[0m     \u001b[0;32mexcept\u001b[0m \u001b[0mException\u001b[0m \u001b[0;32mas\u001b[0m \u001b[0me\u001b[0m\u001b[0;34m:\u001b[0m  \u001b[0;31m# pylint: disable=broad-except\u001b[0m\u001b[0;34m\u001b[0m\u001b[0;34m\u001b[0m\u001b[0m\n\u001b[1;32m     66\u001b[0m       \u001b[0mfiltered_tb\u001b[0m \u001b[0;34m=\u001b[0m \u001b[0m_process_traceback_frames\u001b[0m\u001b[0;34m(\u001b[0m\u001b[0me\u001b[0m\u001b[0;34m.\u001b[0m\u001b[0m__traceback__\u001b[0m\u001b[0;34m)\u001b[0m\u001b[0;34m\u001b[0m\u001b[0;34m\u001b[0m\u001b[0m\n\u001b[0;32m---> 67\u001b[0;31m       \u001b[0;32mraise\u001b[0m \u001b[0me\u001b[0m\u001b[0;34m.\u001b[0m\u001b[0mwith_traceback\u001b[0m\u001b[0;34m(\u001b[0m\u001b[0mfiltered_tb\u001b[0m\u001b[0;34m)\u001b[0m \u001b[0;32mfrom\u001b[0m \u001b[0;32mNone\u001b[0m\u001b[0;34m\u001b[0m\u001b[0;34m\u001b[0m\u001b[0m\n\u001b[0m\u001b[1;32m     68\u001b[0m     \u001b[0;32mfinally\u001b[0m\u001b[0;34m:\u001b[0m\u001b[0;34m\u001b[0m\u001b[0;34m\u001b[0m\u001b[0m\n\u001b[1;32m     69\u001b[0m       \u001b[0;32mdel\u001b[0m \u001b[0mfiltered_tb\u001b[0m\u001b[0;34m\u001b[0m\u001b[0;34m\u001b[0m\u001b[0m\n",
            "\u001b[0;32m/usr/local/lib/python3.7/dist-packages/keras/engine/data_adapter.py\u001b[0m in \u001b[0;36m_check_data_cardinality\u001b[0;34m(data)\u001b[0m\n\u001b[1;32m   1653\u001b[0m                            for i in tf.nest.flatten(single_data)))\n\u001b[1;32m   1654\u001b[0m     \u001b[0mmsg\u001b[0m \u001b[0;34m+=\u001b[0m \u001b[0;34m\"Make sure all arrays contain the same number of samples.\"\u001b[0m\u001b[0;34m\u001b[0m\u001b[0;34m\u001b[0m\u001b[0m\n\u001b[0;32m-> 1655\u001b[0;31m     \u001b[0;32mraise\u001b[0m \u001b[0mValueError\u001b[0m\u001b[0;34m(\u001b[0m\u001b[0mmsg\u001b[0m\u001b[0;34m)\u001b[0m\u001b[0;34m\u001b[0m\u001b[0;34m\u001b[0m\u001b[0m\n\u001b[0m\u001b[1;32m   1656\u001b[0m \u001b[0;34m\u001b[0m\u001b[0m\n\u001b[1;32m   1657\u001b[0m \u001b[0;34m\u001b[0m\u001b[0m\n",
            "\u001b[0;31mValueError\u001b[0m: Data cardinality is ambiguous:\n  x sizes: 1534, 2139, 1632, 1836, 1953, 1314, 1504, 1709, 2329, 2124, 2458, 1432, 2057, 1893, 1559, 1827, 1238, 1384, 617, 1945, 1478, 1785, 1916, 1509, 1326, 1443, 1818, 1837, 2155, 1317, 1793, 1110, 1125, 871, 1303, 1907, 1299, 863, 2085, 906, 1326, 1311, 2076, 1282, 1461, 1357, 925, 1036, 1014, 925, 1187, 1230, 1392, 1068, 767, 650, 1246, 1558, 1226, 1125, 1021, 1318, 1882, 1041, 1761, 2071, 1060, 2032, 1725, 2382, 1389, 1663, 1641, 1792, 1217, 1764, 1526, 1843, 1526, 1828, 1576, 2224, 1979, 1979, 2166, 2310, 1706, 2152, 1044, 1361, 2094, 2224, 1742, 2296, 1893, 2030, 1620, 1044, 1936, 1332, 1756, 2713, 1965, 2195, 1224, 1418, 2087, 1440, 1296, 1749, 1303, 1010, 917, 1016, 496, 1136, 1168, 832, 832, 904, 880, 824, 824, 1064, 1168, 912, 1168, 1008, 936, 680, 984, 1056, 1600, 1040, 1079, 1064, 1688, 1456, 1168, 1224, 1454, 1375, 952, 1375, 1505, 952, 1568, 1016, 1519, 1713, 1110, 1442, 1087, 1346, 1504, 986, 1179, 948, 1538, 1435, 2074, 897, 994, 1597, 1214, 1334, 812, 1260, 1585, 1157, 839, 1071, 1040, 882, 1619, 2280, 1334, 1377, 1113, 1214, 1079, 1337, 921, 898, 1554, 1434, 1323, 1072, 1149, 1033, 1164, 1168, 751, 1202, 917, 1319, 1403, 963, 662, 1249, 890, 1731, 1226, 1064, 1953, 747, 821, 1349, 941, 967, 824, 1164, 813, 1195, 1372, 1412, 925, 1183, 1187, 770, 1489, 1048, 1705, 716, 982, 979, 1600, 1122, 747, 1392, 906, 1484, 1485, 921, 592, 936, 680, 656, 744, 871, 784, 840, 720, 752, 696, 552, 762, 680, 624, 536, 624, 960, 784, 859, 878, 736, 648, 608, 600, 680, 73...\n  y sizes: 624\nMake sure all arrays contain the same number of samples."
          ]
        }
      ]
    }
  ]
}