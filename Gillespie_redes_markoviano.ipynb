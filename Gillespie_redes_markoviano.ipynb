{
  "nbformat": 4,
  "nbformat_minor": 0,
  "metadata": {
    "colab": {
      "provenance": [],
      "authorship_tag": "ABX9TyNkEpvB44i9Q7R/fI99R6jj",
      "include_colab_link": true
    },
    "kernelspec": {
      "name": "python3",
      "display_name": "Python 3"
    },
    "language_info": {
      "name": "python"
    }
  },
  "cells": [
    {
      "cell_type": "markdown",
      "metadata": {
        "id": "view-in-github",
        "colab_type": "text"
      },
      "source": [
        "<a href=\"https://colab.research.google.com/github/JairEsc/Mat_Apl_2/blob/main/Gillespie_redes_markoviano.ipynb\" target=\"_parent\"><img src=\"https://colab.research.google.com/assets/colab-badge.svg\" alt=\"Open In Colab\"/></a>"
      ]
    },
    {
      "cell_type": "markdown",
      "source": [
        "# Algoritmo Gillespie en redes."
      ],
      "metadata": {
        "id": "EX8m-q3gaJbq"
      }
    },
    {
      "cell_type": "code",
      "execution_count": 1,
      "metadata": {
        "id": "dvGyxw3saITN"
      },
      "outputs": [],
      "source": [
        "import numpy as np\n",
        "import pandas as pd\n",
        "import matplotlib.pyplot as plt\n",
        "import networkx as nx"
      ]
    },
    {
      "cell_type": "code",
      "source": [
        "def Monte_Carlo_Step_exp(Lambdas,dict_num_contacts,X_I_indexes):\n",
        "    Lambda=np.sum(Lambdas)\n",
        "    tau=np.random.exponential(scale=1/Lambda)\n",
        "    u_2=np.random.uniform(0,1)\n",
        "    if(u_2<(Lambda-Lambdas[-1])/Lambda):#Infeccion\n",
        "        u_3=np.random.uniform(0,1)\n",
        "        D=0\n",
        "        k=0\n",
        "        while(u_3>D):\n",
        "            D+=Lambdas[k]/(Lambda-Lambdas[-1])\n",
        "            k+=1\n",
        "        new_reaction_index=np.random.choice(range(len(dict_num_contacts[str(k-1)])))\n",
        "        new_reaction=dict_num_contacts[str(k-1)][new_reaction_index]\n",
        "    else:#Recuperación\n",
        "        k=0\n",
        "        new_reaction_index=np.random.choice(range(len(X_I_indexes)))\n",
        "        new_reaction=X_I_indexes[new_reaction_index]\n",
        "    return tau,new_reaction,k-1,new_reaction_index\n",
        "def Gillespie_Direct_Method_Network(beta,gamma,N,X_I_indexes,G_network_initial=nx.Graph(),T=np.inf):\n",
        "    flag=True\n",
        "    #Paso 1.\n",
        "    t=0 #Inicializar $t=0$.\n",
        "    #Calcular $k_i$ el número de contactos infecciosos del individuo $i$.--------------------\n",
        "    X_I=len(X_I_indexes)\n",
        "    X_S=N-X_I\n",
        "    Historia=[[0,X_S,X_I]]\n",
        "    dict_num_contacts = {}\n",
        "    for n in range(X_I+1):\n",
        "        dict_num_contacts[str(n)]=[]\n",
        "    num_cont_inf_por_indice=np.zeros(N)\n",
        "    for i in range(N):\n",
        "        if(i not in X_I_indexes): #No es infeccioso.\n",
        "            count_for_i=0\n",
        "            for j in X_I_indexes:\n",
        "                if (G_network_initial.has_edge(i,j)):#Es un contacto Susceptible-infeccioso.\n",
        "                    num_cont_inf_por_indice[i]+=1#Ya que voy a hacer los ciclos, mejor la guardo igual.\n",
        "                    count_for_i+=1\n",
        "            dict_num_contacts[str(count_for_i)].append(i)\n",
        "    #-------------------------------------------\n",
        "    while(flag):\n",
        "        #Generar las Lambdas------------------\n",
        "        Lambda=0\n",
        "        Lambdas=[]\n",
        "        for k in range(len(list(dict_num_contacts.keys()))):\n",
        "            Lambdas.append(beta*len(dict_num_contacts[str(k)])*k)\n",
        "            Lambda+=Lambdas[-1]\n",
        "        Lambdas.append(gamma*X_I)\n",
        "        Lambda+=Lambdas[-1]\n",
        "        #-------------------------------------------\n",
        "        #Paso Monte-Carlo---------------------------\n",
        "        tau,new_reaction,k_choice,new_reaction_index=Monte_Carlo_Step_exp(Lambdas,dict_num_contacts,X_I_indexes)\n",
        "        #-------------------------------------------\n",
        "        #Actualización del sistema.\n",
        "        if(G_network_initial.nodes[new_reaction]['Estado:']=='Susceptible'):#Se trata de una infección\n",
        "            num_cont_inf_por_indice[new_reaction]=0\n",
        "            G_network_initial.nodes[new_reaction]['Estado:']='Infeccioso'#Actualizar su estado\n",
        "            X_I_indexes.append(new_reaction)\n",
        "            i=new_reaction\n",
        "            dict_num_contacts[str(k_choice)].pop(new_reaction_index)#Saca al nuevo infeccioso del conjunto con exactamente k_choice contactos infecciosos.\n",
        "            #Para cada nodo $j$ conectado a $i$, actualizamos su número de contactos infecciosos como $k_j=k_j+1.$--------------------\n",
        "            num_max_cont=int(list(dict_num_contacts.keys())[-1])\n",
        "            for vecino in G_network_initial.neighbors(i):#Para cada vecino del nuevo infectado, le aumentamos el numero de contactos en 1. (lo agregamos a la siguiente categoria y lo sacamos de la anterior)\n",
        "                if (G_network_initial.nodes[vecino]['Estado:']=='Susceptible'):\n",
        "                    \n",
        "                    num_cont_del_vecino=num_cont_inf_por_indice[vecino]\n",
        "                    if(num_cont_del_vecino+1>num_max_cont):#Si mas de uno crea una categoria, hay error.\n",
        "                        num_max_cont+=1\n",
        "                        dict_num_contacts[str(int(num_cont_del_vecino+1))]=[vecino]\n",
        "                    else:\n",
        "                        dict_num_contacts[str(int(num_cont_del_vecino+1))].append(vecino)\n",
        "                    dict_num_contacts[str(int(num_cont_del_vecino))].remove(vecino)\n",
        "                    num_cont_inf_por_indice[vecino]+=1#Actualizamos ambas fuentes de informacion\n",
        "            #-------------------------------------------\n",
        "        else:\n",
        "            G_network_initial.nodes[new_reaction]['Estado:']='Recuperado'\n",
        "            num_cont_inf_por_indice[new_reaction]=0#Ya no es relevante\n",
        "            X_I_indexes.pop(new_reaction_index)\n",
        "            i=new_reaction\n",
        "            #Para cada nodo $j$ conectado a $i^* $, actualizamos su número de contactos infecciosos como $k_j=k_j-1.$\n",
        "            for vecino in G_network_initial.neighbors(i):#Podria ser que ya no tuviera ningun contacto\n",
        "                num_cont_del_vecino=num_cont_inf_por_indice[vecino]\n",
        "                if(num_cont_del_vecino!=0):# Es recuperado.\n",
        "                    dict_num_contacts[str(int(num_cont_del_vecino-1))].append(vecino)\n",
        "                    dict_num_contacts[str(int(num_cont_del_vecino))].remove(vecino)\n",
        "                    num_cont_inf_por_indice[vecino]-=1#Actualizamos ambas fuentes de informacion\n",
        "            #-------------------------------------------\n",
        "        t+=tau #Actualiza el tiempo $t=t+\\tau$.\n",
        "        X_I=len(X_I_indexes)\n",
        "        X_S=N-X_I\n",
        "        Historia.append([t,X_S,X_I])#Focus\n",
        "        if(X_I==0):\n",
        "            flag=False\n",
        "    return Historia"
      ],
      "metadata": {
        "id": "9OoVf2LDaZOU"
      },
      "execution_count": 2,
      "outputs": []
    },
    {
      "cell_type": "markdown",
      "source": [
        "Mismo algoritmo pero removiendo vértices:"
      ],
      "metadata": {
        "id": "_sPVSCwnamzO"
      }
    },
    {
      "cell_type": "code",
      "source": [
        "def Gillespie_Direct_Method_Network_2(beta,gamma,N,X_I_indexes,G_network_initial=nx.Graph(),T=np.inf):\n",
        "    flag=True\n",
        "    #Paso 1.\n",
        "    t=0 #Inicializar $t=0$.\n",
        "    #Calcular $k_i$ el número de contactos infecciosos del individuo $i$.--------------------\n",
        "    X_I=len(X_I_indexes)\n",
        "    X_S=N-X_I\n",
        "    Historia=[[0,X_S,X_I]]\n",
        "    dict_num_contacts = {}\n",
        "    for n in range(X_I+1):\n",
        "        dict_num_contacts[str(n)]=[]\n",
        "    num_cont_inf_por_indice=np.zeros(N)\n",
        "    for i in range(N):\n",
        "        if(i not in X_I_indexes): #No es infeccioso.\n",
        "            count_for_i=0\n",
        "            for j in X_I_indexes:\n",
        "                if (G_network_initial.has_edge(i,j)):#Es un contacto Susceptible-infeccioso.\n",
        "                    num_cont_inf_por_indice[i]+=1#Ya que voy a hacer los ciclos, mejor la guardo igual.\n",
        "                    count_for_i+=1\n",
        "            dict_num_contacts[str(count_for_i)].append(i)\n",
        "    #-------------------------------------------\n",
        "    while(flag):\n",
        "        #Generar las Lambdas------------------\n",
        "        Lambda=0\n",
        "        Lambdas=[]\n",
        "        for k in range(len(list(dict_num_contacts.keys()))):\n",
        "            Lambdas.append(beta*len(dict_num_contacts[str(k)])*k)\n",
        "            Lambda+=Lambdas[-1]\n",
        "        Lambdas.append(gamma*X_I)\n",
        "        Lambda+=Lambdas[-1]\n",
        "        #-------------------------------------------\n",
        "        #Paso Monte-Carlo---------------------------\n",
        "        tau,new_reaction,k_choice,new_reaction_index=Monte_Carlo_Step_exp(Lambdas,dict_num_contacts,X_I_indexes)\n",
        "        #-------------------------------------------\n",
        "        #Actualización del sistema.\n",
        "        if(G_network_initial.nodes[new_reaction]['Estado:']=='Susceptible'):#Se trata de una infección\n",
        "            num_cont_inf_por_indice[new_reaction]=0\n",
        "            G_network_initial.nodes[new_reaction]['Estado:']='Infeccioso'#Actualizar su estado\n",
        "            X_I_indexes.append(new_reaction)\n",
        "            i=new_reaction\n",
        "            dict_num_contacts[str(k_choice)].pop(new_reaction_index)#Saca al nuevo infeccioso del conjunto con exactamente k_choice contactos infecciosos.\n",
        "            #Para cada nodo $j$ conectado a $i$, actualizamos su número de contactos infecciosos como $k_j=k_j+1.$--------------------\n",
        "            num_max_cont=int(list(dict_num_contacts.keys())[-1])\n",
        "            for vecino in G_network_initial.neighbors(i):#Para cada vecino del nuevo infectado, le aumentamos el numero de contactos en 1. (lo agregamos a la siguiente categoria y lo sacamos de la anterior)\n",
        "                if (G_network_initial.nodes[vecino]['Estado:']=='Susceptible'):\n",
        "                    \n",
        "                    num_cont_del_vecino=num_cont_inf_por_indice[vecino]\n",
        "                    if(num_cont_del_vecino+1>num_max_cont):#Si mas de uno crea una categoria, hay error.\n",
        "                        num_max_cont+=1\n",
        "                        dict_num_contacts[str(int(num_cont_del_vecino+1))]=[vecino]\n",
        "                    else:\n",
        "                        dict_num_contacts[str(int(num_cont_del_vecino+1))].append(vecino)\n",
        "                    dict_num_contacts[str(int(num_cont_del_vecino))].remove(vecino)\n",
        "                    num_cont_inf_por_indice[vecino]+=1#Actualizamos ambas fuentes de informacion\n",
        "            #-------------------------------------------\n",
        "        else:\n",
        "            G_network_initial.nodes[new_reaction]['Estado:']='Recuperado'\n",
        "            num_cont_inf_por_indice[new_reaction]=0#Ya no es relevante\n",
        "            X_I_indexes.pop(new_reaction_index)\n",
        "            i=new_reaction\n",
        "            #Para cada nodo $j$ conectado a $i^* $, actualizamos su número de contactos infecciosos como $k_j=k_j-1.$\n",
        "            for vecino in G_network_initial.neighbors(i):#Podria ser que ya no tuviera ningun contacto\n",
        "                num_cont_del_vecino=num_cont_inf_por_indice[vecino]\n",
        "                if(num_cont_del_vecino!=0):# Es recuperado.\n",
        "                    dict_num_contacts[str(int(num_cont_del_vecino-1))].append(vecino)\n",
        "                    dict_num_contacts[str(int(num_cont_del_vecino))].remove(vecino)\n",
        "                    num_cont_inf_por_indice[vecino]-=1#Actualizamos ambas fuentes de informacion\n",
        "            #-------------------------------------------\n",
        "            G_network_initial.remove_node(i)\n",
        "        t+=tau #Actualiza el tiempo $t=t+\\tau$.\n",
        "        X_I=len(X_I_indexes)\n",
        "        X_S=N-X_I\n",
        "        Historia.append([t,X_S,X_I])#Focus\n",
        "        if(X_I==0):\n",
        "            flag=False\n",
        "    return Historia"
      ],
      "metadata": {
        "id": "XkWnb_YXal9M"
      },
      "execution_count": 3,
      "outputs": []
    },
    {
      "cell_type": "markdown",
      "source": [
        "Sin remover vértices:"
      ],
      "metadata": {
        "id": "VPFwIW4kauMW"
      }
    },
    {
      "cell_type": "code",
      "source": [
        "import time\n",
        "start_time = time.time()\n",
        "N=5*10**3\n",
        "X_I_0=1\n",
        "G=nx.fast_gnp_random_graph(N,p=0.8)#-------------------------------------------------\n",
        "print(\"--- %s Segundos para crear la gráfica ---\" % (time.time() - start_time))\n",
        "graph_time = time.time()\n",
        "np.random.seed(0)\n",
        "X_I_indexes=np.random.choice(N,size=X_I_0,replace=False).tolist()\n",
        "for k in range(N):\n",
        "    if k in X_I_indexes:\n",
        "        G.nodes[k]['Estado:']='Infeccioso'\n",
        "    else:\n",
        "        G.nodes[k]['Estado:']='Susceptible'\n",
        "print(\"Empieza\")\n",
        "S_0=N-X_I_0\n",
        "I_0=N-S_0\n",
        "beta=1.25\n",
        "gamma=1\n",
        "for k in range(5):\n",
        "    H=[]\n",
        "    G_copy=G.copy()\n",
        "    X_I_indexes_copy=X_I_indexes.copy()\n",
        "    iter_time = time.time()\n",
        "    while(len(H)<20):\n",
        "        H=Gillespie_Direct_Method_Network(beta=beta,gamma=gamma,N=N,X_I_indexes=X_I_indexes_copy,G_network_initial=G_copy,T=np.inf)\n",
        "    print(\"--- %s Segundos para ejecutar 1 iteracion ---\" % (time.time() - iter_time))\n",
        "    H=pd.DataFrame(H,columns=['time','S(t)','I(t)'])\n",
        "    plt.plot(H['time'],H['I(t)'], 'gray',linewidth=0.5)\n",
        "plt.title('Simulaciones exactas')\n",
        "plt.show()\n",
        "print(\"--- %s Segundos para ejecutar ---\" % (time.time() - graph_time))\n",
        "print(\"--- %s Segundos en total ---\" % (time.time() - start_time))"
      ],
      "metadata": {
        "colab": {
          "base_uri": "https://localhost:8080/",
          "height": 608
        },
        "id": "nkWrbhM_at6f",
        "outputId": "1bf0a386-56fe-4240-8dd0-146120b45a2f"
      },
      "execution_count": 4,
      "outputs": [
        {
          "output_type": "stream",
          "name": "stdout",
          "text": [
            "--- 30.204232692718506 Segundos para crear la gráfica ---\n",
            "Empieza\n",
            "--- 86.88645076751709 Segundos para ejecutar 1 iteracion ---\n",
            "--- 87.49097156524658 Segundos para ejecutar 1 iteracion ---\n",
            "--- 91.25999045372009 Segundos para ejecutar 1 iteracion ---\n",
            "--- 87.58380937576294 Segundos para ejecutar 1 iteracion ---\n",
            "--- 92.00634145736694 Segundos para ejecutar 1 iteracion ---\n"
          ]
        },
        {
          "output_type": "display_data",
          "data": {
            "text/plain": [
              "<Figure size 640x480 with 1 Axes>"
            ],
            "image/png": "[encoded data removed]"
          },
          "metadata": {}
        },
        {
          "output_type": "stream",
          "name": "stdout",
          "text": [
            "--- 694.3743245601654 Segundos para ejecutar ---\n",
            "--- 724.5797803401947 Segundos en total ---\n"
          ]
        }
      ]
    },
    {
      "cell_type": "code",
      "source": [
        "import time\n",
        "start_time = time.time()\n",
        "S_0=N-X_I_0\n",
        "I_0=N-S_0\n",
        "beta=1.25\n",
        "gamma=1\n",
        "for k in range(2):\n",
        "    H=[]\n",
        "    G_copy=G.copy()\n",
        "    X_I_indexes_copy=X_I_indexes.copy()\n",
        "    iter_time = time.time()\n",
        "    while(len(H)<20):\n",
        "        H=Gillespie_Direct_Method_Network_2(beta=beta,gamma=gamma,N=N,X_I_indexes=X_I_indexes_copy,G_network_initial=G_copy,T=np.inf)\n",
        "    print(\"--- %s Segundos para ejecutar 1 iteracion ---\" % (time.time() - start_time))    \n",
        "    H=pd.DataFrame(H,columns=['time','S(t)','I(t)'])\n",
        "    plt.plot(H['time'],H['I(t)'], 'gray',linewidth=0.5)\n",
        "plt.title('Simulaciones exactas')\n",
        "plt.show()"
      ],
      "metadata": {
        "colab": {
          "base_uri": "https://localhost:8080/",
          "height": 487
        },
        "id": "B9FOKuEPa4h4",
        "outputId": "01f6916a-e6de-4ad7-e764-3faf38df004b"
      },
      "execution_count": 6,
      "outputs": [
        {
          "output_type": "stream",
          "name": "stdout",
          "text": [
            "--- 154.9819016456604 Segundos para ejecutar 1 iteracion ---\n",
            "--- 302.5187668800354 Segundos para ejecutar 1 iteracion ---\n"
          ]
        },
        {
          "output_type": "display_data",
          "data": {
            "text/plain": [
              "<Figure size 640x480 with 1 Axes>"
            ],
            "image/png": "[encoded data removed]"
          },
          "metadata": {}
        }
      ]
    }
  ]
}