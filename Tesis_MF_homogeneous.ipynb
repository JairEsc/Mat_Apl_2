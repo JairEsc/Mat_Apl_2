{
  "nbformat": 4,
  "nbformat_minor": 0,
  "metadata": {
    "colab": {
      "provenance": [],
      "authorship_tag": "ABX9TyNRltSnJ873Boe5sPLLcC6A",
      "include_colab_link": true
    },
    "kernelspec": {
      "name": "python3",
      "display_name": "Python 3"
    },
    "language_info": {
      "name": "python"
    }
  },
  "cells": [
    {
      "cell_type": "markdown",
      "metadata": {
        "id": "view-in-github",
        "colab_type": "text"
      },
      "source": [
        "<a href=\"https://colab.research.google.com/github/JairEsc/Mat_Apl_2/blob/main/Tesis_MF_homogeneous.ipynb\" target=\"_parent\"><img src=\"https://colab.research.google.com/assets/colab-badge.svg\" alt=\"Open In Colab\"/></a>"
      ]
    },
    {
      "cell_type": "code",
      "execution_count": 1,
      "metadata": {
        "id": "29bGIU0kBgbz"
      },
      "outputs": [],
      "source": [
        "import pandas as pd\n",
        "import numpy as np\n",
        "import matplotlib.pyplot as plt\n"
      ]
    },
    {
      "cell_type": "code",
      "source": [
        "A=pd.read_csv(\"50_2.csv\")"
      ],
      "metadata": {
        "id": "y4i-U85qBlgS"
      },
      "execution_count": 41,
      "outputs": []
    },
    {
      "cell_type": "code",
      "source": [
        "A.head()"
      ],
      "metadata": {
        "colab": {
          "base_uri": "https://localhost:8080/",
          "height": 235
        },
        "id": "ajcKGmLdCq3b",
        "outputId": "03da6d7c-2b1c-4f61-d851-f3122e53c732"
      },
      "execution_count": 52,
      "outputs": [
        {
          "output_type": "execute_result",
          "data": {
            "text/plain": [
              "  Unnamed: 0      time    S  I  R    time.1  S.1  I.1  R.1    time.2  ...  \\\n",
              "0   pop_hist  0.000000  199  1  0  0.000000  199    1    0  0.000000  ...   \n",
              "1        pop  0.250432  198  2  0  0.009002  198    2    0  0.113293  ...   \n",
              "2        pop  0.295471  198  1  1  0.016022  197    3    0  0.125929  ...   \n",
              "3        pop  0.315522  197  2  1  0.017986  196    4    0  0.156698  ...   \n",
              "4        pop  0.317487  196  3  1  0.018111  195    5    0  0.159428  ...   \n",
              "\n",
              "   I.48  R.48   time.49  S.49  I.49  R.49   time.50  S.50  I.50  R.50  \n",
              "0     1     0  0.000000   199     1     0  0.000000   199     1     0  \n",
              "1     2     0  0.006801   198     2     0  0.283796   198     2     0  \n",
              "2     3     0  0.007422   197     3     0  0.316249   197     3     0  \n",
              "3     4     0  0.009508   196     4     0  0.317807   196     4     0  \n",
              "4     5     0  0.009611   195     5     0  0.320204   195     5     0  \n",
              "\n",
              "[5 rows x 205 columns]"
            ],
            "text/html": [
              "\n",
              "  <div id=\"df-61cd639c-11fb-4e9c-829a-0f4066f2350c\">\n",
              "    <div class=\"colab-df-container\">\n",
              "      <div>\n",
              "<style scoped>\n",
              "    .dataframe tbody tr th:only-of-type {\n",
              "        vertical-align: middle;\n",
              "    }\n",
              "\n",
              "    .dataframe tbody tr th {\n",
              "        vertical-align: top;\n",
              "    }\n",
              "\n",
              "    .dataframe thead th {\n",
              "        text-align: right;\n",
              "    }\n",
              "</style>\n",
              "<table border=\"1\" class=\"dataframe\">\n",
              "  <thead>\n",
              "    <tr style=\"text-align: right;\">\n",
              "      <th></th>\n",
              "      <th>Unnamed: 0</th>\n",
              "      <th>time</th>\n",
              "      <th>S</th>\n",
              "      <th>I</th>\n",
              "      <th>R</th>\n",
              "      <th>time.1</th>\n",
              "      <th>S.1</th>\n",
              "      <th>I.1</th>\n",
              "      <th>R.1</th>\n",
              "      <th>time.2</th>\n",
              "      <th>...</th>\n",
              "      <th>I.48</th>\n",
              "      <th>R.48</th>\n",
              "      <th>time.49</th>\n",
              "      <th>S.49</th>\n",
              "      <th>I.49</th>\n",
              "      <th>R.49</th>\n",
              "      <th>time.50</th>\n",
              "      <th>S.50</th>\n",
              "      <th>I.50</th>\n",
              "      <th>R.50</th>\n",
              "    </tr>\n",
              "  </thead>\n",
              "  <tbody>\n",
              "    <tr>\n",
              "      <th>0</th>\n",
              "      <td>pop_hist</td>\n",
              "      <td>0.000000</td>\n",
              "      <td>199</td>\n",
              "      <td>1</td>\n",
              "      <td>0</td>\n",
              "      <td>0.000000</td>\n",
              "      <td>199</td>\n",
              "      <td>1</td>\n",
              "      <td>0</td>\n",
              "      <td>0.000000</td>\n",
              "      <td>...</td>\n",
              "      <td>1</td>\n",
              "      <td>0</td>\n",
              "      <td>0.000000</td>\n",
              "      <td>199</td>\n",
              "      <td>1</td>\n",
              "      <td>0</td>\n",
              "      <td>0.000000</td>\n",
              "      <td>199</td>\n",
              "      <td>1</td>\n",
              "      <td>0</td>\n",
              "    </tr>\n",
              "    <tr>\n",
              "      <th>1</th>\n",
              "      <td>pop</td>\n",
              "      <td>0.250432</td>\n",
              "      <td>198</td>\n",
              "      <td>2</td>\n",
              "      <td>0</td>\n",
              "      <td>0.009002</td>\n",
              "      <td>198</td>\n",
              "      <td>2</td>\n",
              "      <td>0</td>\n",
              "      <td>0.113293</td>\n",
              "      <td>...</td>\n",
              "      <td>2</td>\n",
              "      <td>0</td>\n",
              "      <td>0.006801</td>\n",
              "      <td>198</td>\n",
              "      <td>2</td>\n",
              "      <td>0</td>\n",
              "      <td>0.283796</td>\n",
              "      <td>198</td>\n",
              "      <td>2</td>\n",
              "      <td>0</td>\n",
              "    </tr>\n",
              "    <tr>\n",
              "      <th>2</th>\n",
              "      <td>pop</td>\n",
              "      <td>0.295471</td>\n",
              "      <td>198</td>\n",
              "      <td>1</td>\n",
              "      <td>1</td>\n",
              "      <td>0.016022</td>\n",
              "      <td>197</td>\n",
              "      <td>3</td>\n",
              "      <td>0</td>\n",
              "      <td>0.125929</td>\n",
              "      <td>...</td>\n",
              "      <td>3</td>\n",
              "      <td>0</td>\n",
              "      <td>0.007422</td>\n",
              "      <td>197</td>\n",
              "      <td>3</td>\n",
              "      <td>0</td>\n",
              "      <td>0.316249</td>\n",
              "      <td>197</td>\n",
              "      <td>3</td>\n",
              "      <td>0</td>\n",
              "    </tr>\n",
              "    <tr>\n",
              "      <th>3</th>\n",
              "      <td>pop</td>\n",
              "      <td>0.315522</td>\n",
              "      <td>197</td>\n",
              "      <td>2</td>\n",
              "      <td>1</td>\n",
              "      <td>0.017986</td>\n",
              "      <td>196</td>\n",
              "      <td>4</td>\n",
              "      <td>0</td>\n",
              "      <td>0.156698</td>\n",
              "      <td>...</td>\n",
              "      <td>4</td>\n",
              "      <td>0</td>\n",
              "      <td>0.009508</td>\n",
              "      <td>196</td>\n",
              "      <td>4</td>\n",
              "      <td>0</td>\n",
              "      <td>0.317807</td>\n",
              "      <td>196</td>\n",
              "      <td>4</td>\n",
              "      <td>0</td>\n",
              "    </tr>\n",
              "    <tr>\n",
              "      <th>4</th>\n",
              "      <td>pop</td>\n",
              "      <td>0.317487</td>\n",
              "      <td>196</td>\n",
              "      <td>3</td>\n",
              "      <td>1</td>\n",
              "      <td>0.018111</td>\n",
              "      <td>195</td>\n",
              "      <td>5</td>\n",
              "      <td>0</td>\n",
              "      <td>0.159428</td>\n",
              "      <td>...</td>\n",
              "      <td>5</td>\n",
              "      <td>0</td>\n",
              "      <td>0.009611</td>\n",
              "      <td>195</td>\n",
              "      <td>5</td>\n",
              "      <td>0</td>\n",
              "      <td>0.320204</td>\n",
              "      <td>195</td>\n",
              "      <td>5</td>\n",
              "      <td>0</td>\n",
              "    </tr>\n",
              "  </tbody>\n",
              "</table>\n",
              "<p>5 rows × 205 columns</p>\n",
              "</div>\n",
              "      <button class=\"colab-df-convert\" onclick=\"convertToInteractive('df-61cd639c-11fb-4e9c-829a-0f4066f2350c')\"\n",
              "              title=\"Convert this dataframe to an interactive table.\"\n",
              "              style=\"display:none;\">\n",
              "        \n",
              "  <svg xmlns=\"http://www.w3.org/2000/svg\" height=\"24px\"viewBox=\"0 0 24 24\"\n",
              "       width=\"24px\">\n",
              "    <path d=\"M0 0h24v24H0V0z\" fill=\"none\"/>\n",
              "    <path d=\"M18.56 5.44l.94 2.06.94-2.06 2.06-.94-2.06-.94-.94-2.06-.94 2.06-2.06.94zm-11 1L8.5 8.5l.94-2.06 2.06-.94-2.06-.94L8.5 2.5l-.94 2.06-2.06.94zm10 10l.94 2.06.94-2.06 2.06-.94-2.06-.94-.94-2.06-.94 2.06-2.06.94z\"/><path d=\"M17.41 7.96l-1.37-1.37c-.4-.4-.92-.59-1.43-.59-.52 0-1.04.2-1.43.59L10.3 9.45l-7.72 7.72c-.78.78-.78 2.05 0 2.83L4 21.41c.39.39.9.59 1.41.59.51 0 1.02-.2 1.41-.59l7.78-7.78 2.81-2.81c.8-.78.8-2.07 0-2.86zM5.41 20L4 18.59l7.72-7.72 1.47 1.35L5.41 20z\"/>\n",
              "  </svg>\n",
              "      </button>\n",
              "      \n",
              "  <style>\n",
              "    .colab-df-container {\n",
              "      display:flex;\n",
              "      flex-wrap:wrap;\n",
              "      gap: 12px;\n",
              "    }\n",
              "\n",
              "    .colab-df-convert {\n",
              "      background-color: #E8F0FE;\n",
              "      border: none;\n",
              "      border-radius: 50%;\n",
              "      cursor: pointer;\n",
              "      display: none;\n",
              "      fill: #1967D2;\n",
              "      height: 32px;\n",
              "      padding: 0 0 0 0;\n",
              "      width: 32px;\n",
              "    }\n",
              "\n",
              "    .colab-df-convert:hover {\n",
              "      background-color: #E2EBFA;\n",
              "      box-shadow: 0px 1px 2px rgba(60, 64, 67, 0.3), 0px 1px 3px 1px rgba(60, 64, 67, 0.15);\n",
              "      fill: #174EA6;\n",
              "    }\n",
              "\n",
              "    [theme=dark] .colab-df-convert {\n",
              "      background-color: #3B4455;\n",
              "      fill: #D2E3FC;\n",
              "    }\n",
              "\n",
              "    [theme=dark] .colab-df-convert:hover {\n",
              "      background-color: #434B5C;\n",
              "      box-shadow: 0px 1px 3px 1px rgba(0, 0, 0, 0.15);\n",
              "      filter: drop-shadow(0px 1px 2px rgba(0, 0, 0, 0.3));\n",
              "      fill: #FFFFFF;\n",
              "    }\n",
              "  </style>\n",
              "\n",
              "      <script>\n",
              "        const buttonEl =\n",
              "          document.querySelector('#df-61cd639c-11fb-4e9c-829a-0f4066f2350c button.colab-df-convert');\n",
              "        buttonEl.style.display =\n",
              "          google.colab.kernel.accessAllowed ? 'block' : 'none';\n",
              "\n",
              "        async function convertToInteractive(key) {\n",
              "          const element = document.querySelector('#df-61cd639c-11fb-4e9c-829a-0f4066f2350c');\n",
              "          const dataTable =\n",
              "            await google.colab.kernel.invokeFunction('convertToInteractive',\n",
              "                                                     [key], {});\n",
              "          if (!dataTable) return;\n",
              "\n",
              "          const docLinkHtml = 'Like what you see? Visit the ' +\n",
              "            '<a target=\"_blank\" href=https://colab.research.google.com/notebooks/data_table.ipynb>data table notebook</a>'\n",
              "            + ' to learn more about interactive tables.';\n",
              "          element.innerHTML = '';\n",
              "          dataTable['output_type'] = 'display_data';\n",
              "          await google.colab.output.renderOutput(dataTable, element);\n",
              "          const docLink = document.createElement('div');\n",
              "          docLink.innerHTML = docLinkHtml;\n",
              "          element.appendChild(docLink);\n",
              "        }\n",
              "      </script>\n",
              "    </div>\n",
              "  </div>\n",
              "  "
            ]
          },
          "metadata": {},
          "execution_count": 52
        }
      ]
    },
    {
      "cell_type": "code",
      "source": [],
      "metadata": {
        "colab": {
          "base_uri": "https://localhost:8080/"
        },
        "id": "DN3JwuaViMbC",
        "outputId": "d334b6a0-28fc-42e5-8647-9a43df5da1d2"
      },
      "execution_count": 59,
      "outputs": [
        {
          "output_type": "execute_result",
          "data": {
            "text/plain": [
              "Unnamed: 0          NaN\n",
              "time          20.104499\n",
              "S                     0\n",
              "I                    21\n",
              "R                   179\n",
              "                ...    \n",
              "R.49                177\n",
              "time.50       20.417274\n",
              "S.50                  0\n",
              "I.50                 25\n",
              "R.50                175\n",
              "Name: 385, Length: 205, dtype: object"
            ]
          },
          "metadata": {},
          "execution_count": 59
        }
      ]
    },
    {
      "cell_type": "code",
      "source": [
        "from scipy.integrate import odeint\n",
        "import scipy.integrate as spi\n",
        "N=200\n",
        "k=N-1\n",
        "def ode_SIR(INP,t,ps): #Codigo hurtado del dropbox.\n",
        "    try:\n",
        "        beta = ps['beta'].value\n",
        "        gamma = ps['gamma'].value\n",
        "        N = ps['N'].value\n",
        "    except:\n",
        "        beta,gamma,N = ps   \n",
        "    Y = np.zeros((3))\n",
        "    V = INP    \n",
        "    Y[0] = - beta * V[0] * V[1] /N\n",
        "    Y[1] = beta * V[0] * V[1]/N - gamma * V[1] \n",
        "    Y[2] = gamma * V[1] \n",
        "    return Y\n",
        "def g(t,INP,ps):\n",
        "    SOL = spi.odeint(ode_SIR,INPUT,t_range,args=(ps,))\n",
        "    return SOL[:,1]\n",
        "\n",
        "N = 200\n",
        "S0 = N-1\n",
        "I0 = 1\n",
        "INPUT = (S0, I0, 0.0)\n",
        "t_start = 0.0; t_end = 20; t_inc = .01\n",
        "t_range = np.arange(t_start, t_end+t_inc, t_inc)\n",
        "\n",
        "plt.figure()\n",
        "plt.title('Comparación')\n",
        "plt.plot(t_range,g(t_range,INPUT,[0.05*(k/N)*N,0.1,N]), '-r')\n",
        "plt.legend(loc=0)\n",
        "plt.xlabel('Tiempo')\n",
        "plt.ylabel('Infectious')\n",
        "plt.show()"
      ],
      "metadata": {
        "colab": {
          "base_uri": "https://localhost:8080/",
          "height": 312
        },
        "id": "XUdhcx-mkRSC",
        "outputId": "157ed0a8-e839-4665-fe74-087600c0c4bd"
      },
      "execution_count": 65,
      "outputs": [
        {
          "output_type": "stream",
          "name": "stderr",
          "text": [
            "WARNING:matplotlib.legend:No handles with labels found to put in legend.\n"
          ]
        },
        {
          "output_type": "display_data",
          "data": {
            "text/plain": [
              "<Figure size 432x288 with 1 Axes>"
            ],
            "image/png": "[encoded data removed]"
          },
          "metadata": {
            "needs_background": "light"
          }
        }
      ]
    },
    {
      "cell_type": "code",
      "source": [],
      "metadata": {
        "id": "XZLWNwmDkYkM"
      },
      "execution_count": null,
      "outputs": []
    },
    {
      "cell_type": "code",
      "source": [
        "Susc=A['S']/51\n",
        "Infe=A['I']/51\n",
        "REc=A['R']/51\n",
        "for i in range(1,51):\n",
        "    Susc+=A['S.'+str(i)]/51\n",
        "    Infe+=A['I.'+str(i)]/51\n",
        "    REc+=A['R.'+str(i)]/51\n",
        "plt.plot(A['time'],Susc)\n",
        "plt.plot(A['time'],Infe)\n",
        "plt.plot(A['time'],REc)\n",
        "sir_m=g(t_range,INPUT,[0.05*N,0.1,100])\n",
        "plt.plot(np.linspace(0,A['time'][385],len(sir_m)),sir_m, '-r')\n"
      ],
      "metadata": {
        "colab": {
          "base_uri": "https://localhost:8080/",
          "height": 282
        },
        "id": "D4gnDufKCyrc",
        "outputId": "bb153a62-9569-4587-e8cd-b4d3a82052a8"
      },
      "execution_count": 66,
      "outputs": [
        {
          "output_type": "execute_result",
          "data": {
            "text/plain": [
              "[<matplotlib.lines.Line2D at 0x7fec429a57f0>]"
            ]
          },
          "metadata": {},
          "execution_count": 66
        },
        {
          "output_type": "display_data",
          "data": {
            "text/plain": [
              "<Figure size 432x288 with 1 Axes>"
            ],
            "image/png": "[encoded data removed]"
          },
          "metadata": {
            "needs_background": "light"
          }
        }
      ]
    },
    {
      "cell_type": "code",
      "source": [
        "plt.plot(A['time'],A['I'],'gray')\n",
        "for i in range(1,51):\n",
        "    Time_i=A['time.'+str(i)]\n",
        "    Infe_i=A['I.'+str(i)]\n",
        "    plt.plot(Time_i,Infe_i,'gray')\n",
        "plt.plot(t_range,sir_m, '-r')\n"
      ],
      "metadata": {
        "colab": {
          "base_uri": "https://localhost:8080/",
          "height": 282
        },
        "id": "OhM-A-CPvI-s",
        "outputId": "af003519-2b37-42c6-8fda-3ad843be15e3"
      },
      "execution_count": 67,
      "outputs": [
        {
          "output_type": "execute_result",
          "data": {
            "text/plain": [
              "[<matplotlib.lines.Line2D at 0x7fec43019700>]"
            ]
          },
          "metadata": {},
          "execution_count": 67
        },
        {
          "output_type": "display_data",
          "data": {
            "text/plain": [
              "<Figure size 432x288 with 1 Axes>"
            ],
            "image/png": "[encoded data removed]"
          },
          "metadata": {
            "needs_background": "light"
          }
        }
      ]
    }
  ]
}