{
  "nbformat": 4,
  "nbformat_minor": 0,
  "metadata": {
    "colab": {
      "provenance": [],
      "authorship_tag": "ABX9TyPzmASHyECY2xcGIHPVtnNM",
      "include_colab_link": true
    },
    "kernelspec": {
      "name": "python3",
      "display_name": "Python 3"
    },
    "language_info": {
      "name": "python"
    }
  },
  "cells": [
    {
      "cell_type": "markdown",
      "metadata": {
        "id": "view-in-github",
        "colab_type": "text"
      },
      "source": [
        "<a href=\"https://colab.research.google.com/github/JairEsc/Mat_Apl_2/blob/main/NN_small_base.ipynb\" target=\"_parent\"><img src=\"https://colab.research.google.com/assets/colab-badge.svg\" alt=\"Open In Colab\"/></a>"
      ]
    },
    {
      "cell_type": "code",
      "execution_count": 1,
      "metadata": {
        "id": "IklufuqUwcpX"
      },
      "outputs": [],
      "source": [
        "import matplotlib.pyplot as plt\n",
        "import tqdm\n",
        "from time import time"
      ]
    },
    {
      "cell_type": "markdown",
      "source": [
        "# Estructura de los datos."
      ],
      "metadata": {
        "id": "MpFOG--QxVDX"
      }
    },
    {
      "cell_type": "markdown",
      "source": [
        "Consideramos un caso general, una base con datos de frecuencias de especies, cada observación de dimensión $k$, y supongamos que tenemos $n$ observaciones.\n",
        "\n",
        "El output busca ser la clasificación en una de $d$ categorías, definidas ya sea por ciudad o localización-clima (pero de un sólo tipo).\n"
      ],
      "metadata": {
        "id": "GznOeGsWxYfc"
      }
    },
    {
      "cell_type": "markdown",
      "source": [
        "# Datos de ejemplo"
      ],
      "metadata": {
        "id": "NrrajEuRytBP"
      }
    },
    {
      "cell_type": "code",
      "source": [
        "import pandas as pd\n",
        "import matplotlib.pyplot as plt\n",
        "\n",
        "df = pd.read_csv(\"Dataset_w_tags.csv\")\n",
        "df.head()\n",
        "from sklearn.utils import shuffle\n",
        "df = shuffle(df)###El ajuste depende de este shuffle*****"
      ],
      "metadata": {
        "id": "30vL3CcXxUUE"
      },
      "execution_count": 2,
      "outputs": []
    },
    {
      "cell_type": "code",
      "source": [
        "print(df.shape)"
      ],
      "metadata": {
        "colab": {
          "base_uri": "https://localhost:8080/"
        },
        "id": "2zSWbW5vz3PI",
        "outputId": "f8d7293b-d414-4c15-8c9a-701e5459a8ed"
      },
      "execution_count": 3,
      "outputs": [
        {
          "output_type": "stream",
          "name": "stdout",
          "text": [
            "(237, 513)\n"
          ]
        }
      ]
    },
    {
      "cell_type": "markdown",
      "source": [
        "Se tienen 237 observaciones, cada una es una muestra en una \"localización\".\n",
        "Por renglón, se tienen frecuencias de \"bichos\" de 510 \"dominant taxa\".\n",
        "\n",
        "En este caso, $k=510$, $n=237$."
      ],
      "metadata": {
        "id": "20gcA30JzhrO"
      }
    },
    {
      "cell_type": "code",
      "source": [
        "ytags=df['Tag']\n",
        "print(ytags)"
      ],
      "metadata": {
        "colab": {
          "base_uri": "https://localhost:8080/"
        },
        "id": "I84se6Sw-Mdt",
        "outputId": "340cf291-37b5-4aba-8c80-43f99a942b0e"
      },
      "execution_count": 4,
      "outputs": [
        {
          "output_type": "stream",
          "name": "stdout",
          "text": [
            "63        Cold forests_6\n",
            "143     Dry grasslands_0\n",
            "70         Dry forests_0\n",
            "138        Dry forests_0\n",
            "148             Boreal_5\n",
            "             ...        \n",
            "164     Dry grasslands_1\n",
            "65     Cold grasslands_1\n",
            "213        Dry forests_0\n",
            "36     Cold grasslands_1\n",
            "117        Dry forests_0\n",
            "Name: Tag, Length: 237, dtype: object\n"
          ]
        }
      ]
    },
    {
      "cell_type": "code",
      "source": [
        "ytags"
      ],
      "metadata": {
        "colab": {
          "base_uri": "https://localhost:8080/"
        },
        "id": "_n1a5c4A1-5_",
        "outputId": "0d825467-3ac0-44db-f807-9a782548dbb5"
      },
      "execution_count": 5,
      "outputs": [
        {
          "output_type": "execute_result",
          "data": {
            "text/plain": [
              "63        Cold forests_6\n",
              "143     Dry grasslands_0\n",
              "70         Dry forests_0\n",
              "138        Dry forests_0\n",
              "148             Boreal_5\n",
              "             ...        \n",
              "164     Dry grasslands_1\n",
              "65     Cold grasslands_1\n",
              "213        Dry forests_0\n",
              "36     Cold grasslands_1\n",
              "117        Dry forests_0\n",
              "Name: Tag, Length: 237, dtype: object"
            ]
          },
          "metadata": {},
          "execution_count": 5
        }
      ]
    },
    {
      "cell_type": "code",
      "source": [
        "import numpy as np\n",
        "_,idx = np.unique(ytags,return_inverse=True)"
      ],
      "metadata": {
        "id": "E6fYhQo7BNGu"
      },
      "execution_count": 6,
      "outputs": []
    },
    {
      "cell_type": "markdown",
      "source": [
        "Dados los datos con su respectiva clasificación. (En el ejemplo $d=12$)\n",
        "\n",
        "\n",
        "Lamentablemente los datos tienen clases sub-representadas"
      ],
      "metadata": {
        "id": "6mk01dMO3f12"
      }
    },
    {
      "cell_type": "code",
      "source": [
        "plt.hist(idx,bins=37)\n",
        "plt.show()#Mala representatividad de clases."
      ],
      "metadata": {
        "colab": {
          "base_uri": "https://localhost:8080/",
          "height": 265
        },
        "id": "QVlF0yPp2YOY",
        "outputId": "76d2a16e-be42-4d42-cc42-b4c28d07c1b6"
      },
      "execution_count": null,
      "outputs": [
        {
          "output_type": "display_data",
          "data": {
            "text/plain": [
              "<Figure size 432x288 with 1 Axes>"
            ],
            "image/png": "[encoded data removed]"
          },
          "metadata": {
            "needs_background": "light"
          }
        }
      ]
    },
    {
      "cell_type": "markdown",
      "source": [
        "# Definición del modelo."
      ],
      "metadata": {
        "id": "fOP0O0MV3pmP"
      }
    },
    {
      "cell_type": "markdown",
      "source": [
        "# Partición de datos"
      ],
      "metadata": {
        "id": "JydTuMKmF2t7"
      }
    },
    {
      "cell_type": "code",
      "source": [
        "from keras.utils import to_categorical\n",
        "X_total=df.drop(columns=['Tag','Dominant_taxa_ID/ID_Environmental'])\n",
        "Y_total=to_categorical(idx)"
      ],
      "metadata": {
        "id": "rrhUqdDM4cVL"
      },
      "execution_count": 7,
      "outputs": []
    },
    {
      "cell_type": "code",
      "source": [
        "X_train=X_total[0:200]#200?\n",
        "Y_train=Y_total[0:200]"
      ],
      "metadata": {
        "id": "O2iYyd0mGEIW"
      },
      "execution_count": 8,
      "outputs": []
    },
    {
      "cell_type": "code",
      "source": [
        "df.head()\n",
        "k,n=X_train.shape\n",
        "n=n#-indice, -tag\n",
        "print(k,n)"
      ],
      "metadata": {
        "colab": {
          "base_uri": "https://localhost:8080/"
        },
        "id": "ueLx_pz_GAe4",
        "outputId": "87af130f-8966-429b-cd78-9ba0bccaa3f4"
      },
      "execution_count": 9,
      "outputs": [
        {
          "output_type": "stream",
          "name": "stdout",
          "text": [
            "200 511\n"
          ]
        }
      ]
    },
    {
      "cell_type": "code",
      "source": [
        "input_shape = (n,)#=n\n",
        "output_shape=len(np.unique(ytags))"
      ],
      "metadata": {
        "id": "RrB-qCBDB1LX"
      },
      "execution_count": 10,
      "outputs": []
    },
    {
      "cell_type": "code",
      "source": [
        "import tensorflow as tf\n",
        "import keras\n",
        "import pandas as pd\n",
        "from keras import layers\n",
        "from keras import models\n"
      ],
      "metadata": {
        "id": "XVlSzWd23fCO"
      },
      "execution_count": 12,
      "outputs": []
    },
    {
      "cell_type": "markdown",
      "source": [
        "# Capas, neuronas, funciones de activación, loss."
      ],
      "metadata": {
        "id": "rlhbU_ZwNh_Y"
      }
    },
    {
      "cell_type": "code",
      "source": [
        "model = models.Sequential()\n",
        "\n",
        "model.add(layers.InputLayer(input_shape=(n,), name='Input_Layer'))#Obligatoria\n",
        "model.add(layers.Dense(512, activation='relu'))# Numero de capas ocultas: Opcional\n",
        "model.add(layers.Dense(64, activation='relu'))# Numero de neuronas en cada capa: Opcional\n",
        "model.add(layers.Dense(37, activation='Softmax', name='Output_Layer'))#Obligatoria\n",
        "model.summary()\n",
        "model.compile(optimizer='adam',\n",
        "              loss='categorical_crossentropy',\n",
        "              metrics=['accuracy'])\n",
        "import time\n",
        "tic = time.time()\n",
        "\n",
        "model.fit(x = X_train, \n",
        "           y = Y_train, \n",
        "          validation_data=[X_total[200:], Y_total[200:]],##Cuando haya otra base, se modifica ese 200\n",
        "          batch_size=10,\n",
        "           epochs=20,\n",
        "           verbose=2,shuffle=True)\n",
        "\n",
        "print('seconds=', time.time()-tic)"
      ],
      "metadata": {
        "colab": {
          "base_uri": "https://localhost:8080/"
        },
        "id": "6Ntg-BtqwqpQ",
        "outputId": "c18ca070-f8ec-47fc-a8e1-ae2e9496da3e"
      },
      "execution_count": 13,
      "outputs": [
        {
          "output_type": "stream",
          "name": "stdout",
          "text": [
            "Model: \"sequential\"\n",
            "_________________________________________________________________\n",
            " Layer (type)                Output Shape              Param #   \n",
            "=================================================================\n",
            " dense (Dense)               (None, 512)               262144    \n",
            "                                                                 \n",
            " dense_1 (Dense)             (None, 64)                32832     \n",
            "                                                                 \n",
            " Output_Layer (Dense)        (None, 37)                2405      \n",
            "                                                                 \n",
            "=================================================================\n",
            "Total params: 297,381\n",
            "Trainable params: 297,381\n",
            "Non-trainable params: 0\n",
            "_________________________________________________________________\n",
            "Epoch 1/20\n",
            "20/20 - 2s - loss: 11.0242 - accuracy: 0.2500 - val_loss: 3.1122 - val_accuracy: 0.3514 - 2s/epoch - 86ms/step\n",
            "Epoch 2/20\n",
            "20/20 - 0s - loss: 2.5334 - accuracy: 0.3550 - val_loss: 2.0555 - val_accuracy: 0.4054 - 354ms/epoch - 18ms/step\n",
            "Epoch 3/20\n",
            "20/20 - 0s - loss: 1.8716 - accuracy: 0.5150 - val_loss: 2.3295 - val_accuracy: 0.4324 - 386ms/epoch - 19ms/step\n",
            "Epoch 4/20\n",
            "20/20 - 0s - loss: 1.3795 - accuracy: 0.6450 - val_loss: 2.2913 - val_accuracy: 0.5135 - 212ms/epoch - 11ms/step\n",
            "Epoch 5/20\n",
            "20/20 - 0s - loss: 1.1455 - accuracy: 0.7000 - val_loss: 2.4621 - val_accuracy: 0.4595 - 165ms/epoch - 8ms/step\n",
            "Epoch 6/20\n",
            "20/20 - 0s - loss: 0.9198 - accuracy: 0.7350 - val_loss: 2.5035 - val_accuracy: 0.5946 - 158ms/epoch - 8ms/step\n",
            "Epoch 7/20\n",
            "20/20 - 0s - loss: 0.8168 - accuracy: 0.7650 - val_loss: 2.2463 - val_accuracy: 0.5676 - 130ms/epoch - 7ms/step\n",
            "Epoch 8/20\n",
            "20/20 - 0s - loss: 0.6502 - accuracy: 0.8350 - val_loss: 2.1423 - val_accuracy: 0.5946 - 176ms/epoch - 9ms/step\n",
            "Epoch 9/20\n",
            "20/20 - 0s - loss: 0.5703 - accuracy: 0.8350 - val_loss: 2.3769 - val_accuracy: 0.5676 - 239ms/epoch - 12ms/step\n",
            "Epoch 10/20\n",
            "20/20 - 0s - loss: 0.5024 - accuracy: 0.8500 - val_loss: 2.5478 - val_accuracy: 0.6216 - 175ms/epoch - 9ms/step\n",
            "Epoch 11/20\n",
            "20/20 - 0s - loss: 0.3580 - accuracy: 0.9050 - val_loss: 2.5594 - val_accuracy: 0.6216 - 157ms/epoch - 8ms/step\n",
            "Epoch 12/20\n",
            "20/20 - 0s - loss: 0.3450 - accuracy: 0.9050 - val_loss: 2.1414 - val_accuracy: 0.5946 - 248ms/epoch - 12ms/step\n",
            "Epoch 13/20\n",
            "20/20 - 0s - loss: 0.2839 - accuracy: 0.9100 - val_loss: 2.3207 - val_accuracy: 0.5405 - 187ms/epoch - 9ms/step\n",
            "Epoch 14/20\n",
            "20/20 - 0s - loss: 0.2052 - accuracy: 0.9200 - val_loss: 2.6148 - val_accuracy: 0.5676 - 171ms/epoch - 9ms/step\n",
            "Epoch 15/20\n",
            "20/20 - 0s - loss: 0.1541 - accuracy: 0.9550 - val_loss: 3.2272 - val_accuracy: 0.5676 - 171ms/epoch - 9ms/step\n",
            "Epoch 16/20\n",
            "20/20 - 0s - loss: 0.1461 - accuracy: 0.9450 - val_loss: 3.4792 - val_accuracy: 0.5135 - 219ms/epoch - 11ms/step\n",
            "Epoch 17/20\n",
            "20/20 - 0s - loss: 0.3091 - accuracy: 0.9000 - val_loss: 2.5073 - val_accuracy: 0.5405 - 171ms/epoch - 9ms/step\n",
            "Epoch 18/20\n",
            "20/20 - 0s - loss: 0.3588 - accuracy: 0.8850 - val_loss: 3.0828 - val_accuracy: 0.4595 - 156ms/epoch - 8ms/step\n",
            "Epoch 19/20\n",
            "20/20 - 0s - loss: 0.2046 - accuracy: 0.9500 - val_loss: 3.1118 - val_accuracy: 0.5676 - 173ms/epoch - 9ms/step\n",
            "Epoch 20/20\n",
            "20/20 - 0s - loss: 0.1967 - accuracy: 0.9300 - val_loss: 3.3135 - val_accuracy: 0.5946 - 147ms/epoch - 7ms/step\n",
            "seconds= 6.350378513336182\n"
          ]
        }
      ]
    },
    {
      "cell_type": "code",
      "source": [
        "model.save('primer_intento.h5')"
      ],
      "metadata": {
        "id": "qNN7Vb00PLUL"
      },
      "execution_count": null,
      "outputs": []
    },
    {
      "cell_type": "code",
      "source": [
        "import numpy as np\n",
        "\n",
        "test_predicted_labels_raw = model.predict(X_total[200:])\n",
        "test_true_labels      = np.argmax(Y_total[200:],axis=1)\n",
        "test_predicted_labels = np.argmax(test_predicted_labels_raw,axis=1)"
      ],
      "metadata": {
        "colab": {
          "base_uri": "https://localhost:8080/"
        },
        "id": "Iek95NWhuTME",
        "outputId": "c69af2b0-71e8-46bf-aefd-dfa0ecef5b2a"
      },
      "execution_count": 15,
      "outputs": [
        {
          "output_type": "stream",
          "name": "stdout",
          "text": [
            "2/2 [==============================] - 0s 12ms/step\n"
          ]
        }
      ]
    },
    {
      "cell_type": "code",
      "source": [
        "import matplotlib.pyplot as plt\n",
        "\n",
        "from sklearn.metrics import accuracy_score,confusion_matrix, precision_score, recall_score,roc_auc_score\n",
        "\n",
        "from sklearn.metrics import f1_score, cohen_kappa_score\n",
        "import seaborn as sns \n",
        "\n",
        "accuracy = accuracy_score(test_true_labels,test_predicted_labels)\n",
        "print('Accuracy: %f' % accuracy)\n",
        "# precision tp / (tp + fp)\n",
        "precision = precision_score(test_true_labels,test_predicted_labels,average='weighted',zero_division=1)\n",
        "print('Precision: %f',precision)\n",
        "# recall: tp / (tp + fn)\n",
        "recall = recall_score(test_true_labels,test_predicted_labels,average='weighted',zero_division=1)\n",
        "print('Recall: %f' , recall)\n",
        "# f1: 2 tp / (2 tp + fp + fn)\n",
        "f1 = f1_score(test_true_labels,test_predicted_labels,average='weighted')\n",
        "print('F1 score: %f' % f1)"
      ],
      "metadata": {
        "colab": {
          "base_uri": "https://localhost:8080/"
        },
        "id": "zDQfX1GTyoMG",
        "outputId": "08411896-6afe-4dd4-fa93-5fce9454e913"
      },
      "execution_count": 16,
      "outputs": [
        {
          "output_type": "stream",
          "name": "stdout",
          "text": [
            "Accuracy: 0.594595\n",
            "Precision: %f 0.815958815958816\n",
            "Recall: %f 0.5945945945945946\n",
            "F1 score: 0.539254\n"
          ]
        }
      ]
    },
    {
      "cell_type": "markdown",
      "source": [
        "Bajo desempeño."
      ],
      "metadata": {
        "id": "NyEBCPIizO_w"
      }
    },
    {
      "cell_type": "markdown",
      "source": [
        "Faltaba el AUC-multiclase"
      ],
      "metadata": {
        "id": "HIe77khCCLrh"
      }
    },
    {
      "cell_type": "code",
      "source": [
        "test_predicted_labels_raw"
      ],
      "metadata": {
        "id": "EFGR5lhDCsWG",
        "outputId": "3f0e1519-271a-4861-ec70-48ac5cdbcc6d",
        "colab": {
          "base_uri": "https://localhost:8080/"
        }
      },
      "execution_count": 21,
      "outputs": [
        {
          "output_type": "execute_result",
          "data": {
            "text/plain": [
              "array([[1.3355802e-05, 1.9203057e-06, 3.3743044e-09, ..., 3.5941116e-07,\n",
              "        5.4132792e-09, 2.0958680e-06],\n",
              "       [6.2519364e-13, 4.7993161e-17, 8.6712620e-14, ..., 1.2816147e-21,\n",
              "        2.5330946e-12, 4.2118863e-19],\n",
              "       [7.0958427e-05, 8.8377167e-11, 8.5403275e-07, ..., 2.2290443e-07,\n",
              "        1.3115303e-20, 1.1820621e-03],\n",
              "       ...,\n",
              "       [1.0365657e-04, 5.2754845e-09, 1.3032038e-09, ..., 2.7586320e-11,\n",
              "        2.4661767e-14, 1.3636487e-06],\n",
              "       [1.6049524e-03, 2.7471708e-04, 4.5022974e-04, ..., 1.1849615e-05,\n",
              "        7.5702986e-04, 4.1870418e-04],\n",
              "       [2.8020774e-18, 3.1436906e-25, 8.0917263e-20, ..., 9.2530236e-30,\n",
              "        1.4471381e-16, 1.0086571e-28]], dtype=float32)"
            ]
          },
          "metadata": {},
          "execution_count": 21
        }
      ]
    },
    {
      "cell_type": "code",
      "source": [
        "test_true_labels"
      ],
      "metadata": {
        "id": "VtwZ1EySCxSW",
        "outputId": "589b6a8f-59b8-4791-b6b0-0670703359c5",
        "colab": {
          "base_uri": "https://localhost:8080/"
        }
      },
      "execution_count": 23,
      "outputs": [
        {
          "output_type": "execute_result",
          "data": {
            "text/plain": [
              "array([ 5, 10, 27, 10, 10, 32, 20, 22, 10, 20, 28, 13, 10, 20, 23, 18, 11,\n",
              "       36, 30,  4, 12, 32, 17, 10, 10, 16, 17, 10,  7,  3, 10, 27, 12,  5,\n",
              "       10,  5, 10])"
            ]
          },
          "metadata": {},
          "execution_count": 23
        }
      ]
    },
    {
      "cell_type": "code",
      "source": [
        "print(\"AUC-ROC: \",roc_auc_score(y_true=test_true_labels,y_score=np.array(test_predicted_labels_raw).tolist()labels=37,,multi_class ='ovr'))"
      ],
      "metadata": {
        "id": "Rz5PFzmmCPF6",
        "outputId": "b42cbf6f-2f6e-4cbf-ce94-ab6885d97ac7",
        "colab": {
          "base_uri": "https://localhost:8080/",
          "height": 130
        }
      },
      "execution_count": 24,
      "outputs": [
        {
          "output_type": "error",
          "ename": "SyntaxError",
          "evalue": "ignored",
          "traceback": [
            "\u001b[0;36m  File \u001b[0;32m\"<ipython-input-24-5176404b88fc>\"\u001b[0;36m, line \u001b[0;32m1\u001b[0m\n\u001b[0;31m    print(\"AUC-ROC: \",roc_auc_score(y_true=test_true_labels,y_score=np.array(test_predicted_labels_raw).tolist()labels=37,,multi_class ='ovr'))\u001b[0m\n\u001b[0m                                                                                                                     ^\u001b[0m\n\u001b[0;31mSyntaxError\u001b[0m\u001b[0;31m:\u001b[0m invalid syntax\n"
          ]
        }
      ]
    },
    {
      "cell_type": "markdown",
      "source": [
        "Mis datos de validación no tienen elementos de cada clase, por eso marca error."
      ],
      "metadata": {
        "id": "egik-nL1DBbu"
      }
    }
  ]
}