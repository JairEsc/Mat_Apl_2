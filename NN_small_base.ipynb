{
  "nbformat": 4,
  "nbformat_minor": 0,
  "metadata": {
    "colab": {
      "provenance": [],
      "authorship_tag": "ABX9TyNEDSIaq/+WLexklV3S56nC",
      "include_colab_link": true
    },
    "kernelspec": {
      "name": "python3",
      "display_name": "Python 3"
    },
    "language_info": {
      "name": "python"
    }
  },
  "cells": [
    {
      "cell_type": "markdown",
      "metadata": {
        "id": "view-in-github",
        "colab_type": "text"
      },
      "source": [
        "<a href=\"https://colab.research.google.com/github/JairEsc/Mat_Apl_2/blob/main/NN_small_base.ipynb\" target=\"_parent\"><img src=\"https://colab.research.google.com/assets/colab-badge.svg\" alt=\"Open In Colab\"/></a>"
      ]
    },
    {
      "cell_type": "code",
      "execution_count": 1,
      "metadata": {
        "id": "IklufuqUwcpX"
      },
      "outputs": [],
      "source": [
        "import matplotlib.pyplot as plt\n",
        "import tqdm\n",
        "from time import time"
      ]
    },
    {
      "cell_type": "markdown",
      "source": [
        "# Estructura de los datos."
      ],
      "metadata": {
        "id": "MpFOG--QxVDX"
      }
    },
    {
      "cell_type": "markdown",
      "source": [
        "Consideramos un caso general, una base con datos de frecuencias de especies, cada observación de dimensión $k$, y supongamos que tenemos $n$ observaciones.\n",
        "\n",
        "El output busca ser la clasificación en una de $d$ categorías, definidas ya sea por ciudad o localización-clima (pero de un sólo tipo).\n"
      ],
      "metadata": {
        "id": "GznOeGsWxYfc"
      }
    },
    {
      "cell_type": "markdown",
      "source": [
        "# Datos de ejemplo"
      ],
      "metadata": {
        "id": "NrrajEuRytBP"
      }
    },
    {
      "cell_type": "code",
      "source": [
        "import pandas as pd\n",
        "import matplotlib.pyplot as plt\n",
        "\n",
        "df = pd.read_csv(\"Dataset_w_tags.csv\")\n",
        "df.head()\n",
        "from sklearn.utils import shuffle\n",
        "df = shuffle(df)###El ajuste depende de este shuffle*****"
      ],
      "metadata": {
        "id": "30vL3CcXxUUE"
      },
      "execution_count": 2,
      "outputs": []
    },
    {
      "cell_type": "code",
      "source": [
        "print(df.shape)"
      ],
      "metadata": {
        "colab": {
          "base_uri": "https://localhost:8080/"
        },
        "id": "2zSWbW5vz3PI",
        "outputId": "f7873411-f243-438b-ac8a-ad298c8a0d30"
      },
      "execution_count": 3,
      "outputs": [
        {
          "output_type": "stream",
          "name": "stdout",
          "text": [
            "(237, 513)\n"
          ]
        }
      ]
    },
    {
      "cell_type": "markdown",
      "source": [
        "Se tienen 237 observaciones, cada una es una muestra en una \"localización\".\n",
        "Por renglón, se tienen frecuencias de \"bichos\" de 510 \"dominant taxa\".\n",
        "\n",
        "En este caso, $k=510$, $n=237$."
      ],
      "metadata": {
        "id": "20gcA30JzhrO"
      }
    },
    {
      "cell_type": "code",
      "source": [
        "ytags=df['Tag']\n",
        "print(ytags)"
      ],
      "metadata": {
        "colab": {
          "base_uri": "https://localhost:8080/"
        },
        "id": "I84se6Sw-Mdt",
        "outputId": "9e98681e-dc43-40c5-acf7-16e9312f0a82"
      },
      "execution_count": 4,
      "outputs": [
        {
          "output_type": "stream",
          "name": "stdout",
          "text": [
            "200           Shrublands_6\n",
            "1                 Boreal_9\n",
            "17            Grasslands_7\n",
            "99           Dry forests_0\n",
            "220    Temperate forests_0\n",
            "              ...         \n",
            "138          Dry forests_0\n",
            "213          Dry forests_0\n",
            "4             Grasslands_6\n",
            "2           Cold forests_1\n",
            "5             Grasslands_9\n",
            "Name: Tag, Length: 237, dtype: object\n"
          ]
        }
      ]
    },
    {
      "cell_type": "code",
      "source": [
        "ytags"
      ],
      "metadata": {
        "colab": {
          "base_uri": "https://localhost:8080/"
        },
        "id": "_n1a5c4A1-5_",
        "outputId": "8d0c6e4b-b64f-46dd-bf59-c08784909104"
      },
      "execution_count": 5,
      "outputs": [
        {
          "output_type": "execute_result",
          "data": {
            "text/plain": [
              "200           Shrublands_6\n",
              "1                 Boreal_9\n",
              "17            Grasslands_7\n",
              "99           Dry forests_0\n",
              "220    Temperate forests_0\n",
              "              ...         \n",
              "138          Dry forests_0\n",
              "213          Dry forests_0\n",
              "4             Grasslands_6\n",
              "2           Cold forests_1\n",
              "5             Grasslands_9\n",
              "Name: Tag, Length: 237, dtype: object"
            ]
          },
          "metadata": {},
          "execution_count": 5
        }
      ]
    },
    {
      "cell_type": "code",
      "source": [
        "import numpy as np\n",
        "_,idx = np.unique(ytags,return_inverse=True)"
      ],
      "metadata": {
        "id": "E6fYhQo7BNGu"
      },
      "execution_count": 6,
      "outputs": []
    },
    {
      "cell_type": "markdown",
      "source": [
        "Dados los datos con su respectiva clasificación. (En el ejemplo $d=12$)\n",
        "\n",
        "\n",
        "Lamentablemente los datos tienen clases sub-representadas"
      ],
      "metadata": {
        "id": "6mk01dMO3f12"
      }
    },
    {
      "cell_type": "code",
      "source": [
        "plt.hist(idx,bins=37)\n",
        "plt.show()#Mala representatividad de clases."
      ],
      "metadata": {
        "colab": {
          "base_uri": "https://localhost:8080/",
          "height": 265
        },
        "id": "QVlF0yPp2YOY",
        "outputId": "76d2a16e-be42-4d42-cc42-b4c28d07c1b6"
      },
      "execution_count": 7,
      "outputs": [
        {
          "output_type": "display_data",
          "data": {
            "text/plain": [
              "<Figure size 432x288 with 1 Axes>"
            ],
            "image/png": "[encoded data removed]"
          },
          "metadata": {
            "needs_background": "light"
          }
        }
      ]
    },
    {
      "cell_type": "markdown",
      "source": [
        "# Definición del modelo."
      ],
      "metadata": {
        "id": "fOP0O0MV3pmP"
      }
    },
    {
      "cell_type": "markdown",
      "source": [
        "# Partición de datos"
      ],
      "metadata": {
        "id": "JydTuMKmF2t7"
      }
    },
    {
      "cell_type": "code",
      "source": [
        "from keras.utils import to_categorical\n",
        "X_total=df.drop(columns=['Tag','Dominant_taxa_ID/ID_Environmental'])\n",
        "Y_total=to_categorical(idx)"
      ],
      "metadata": {
        "id": "rrhUqdDM4cVL"
      },
      "execution_count": 8,
      "outputs": []
    },
    {
      "cell_type": "code",
      "source": [
        "X_train=X_total[0:200]#200?\n",
        "Y_train=Y_total[0:200]"
      ],
      "metadata": {
        "id": "O2iYyd0mGEIW"
      },
      "execution_count": 9,
      "outputs": []
    },
    {
      "cell_type": "code",
      "source": [
        "df.head()\n",
        "k,n=X_train.shape\n",
        "n=n#-indice, -tag\n",
        "print(k,n)"
      ],
      "metadata": {
        "colab": {
          "base_uri": "https://localhost:8080/"
        },
        "id": "ueLx_pz_GAe4",
        "outputId": "d1fde815-c834-4ddb-82f5-88601034fe2a"
      },
      "execution_count": 10,
      "outputs": [
        {
          "output_type": "stream",
          "name": "stdout",
          "text": [
            "200 511\n"
          ]
        }
      ]
    },
    {
      "cell_type": "code",
      "source": [
        "input_shape = (n,)#=n\n",
        "output_shape=len(np.unique(ytags))"
      ],
      "metadata": {
        "id": "RrB-qCBDB1LX"
      },
      "execution_count": 11,
      "outputs": []
    },
    {
      "cell_type": "code",
      "source": [
        "import tensorflow as tf\n",
        "import keras\n",
        "import pandas as pd\n",
        "from keras import layers\n",
        "from keras import models\n"
      ],
      "metadata": {
        "id": "XVlSzWd23fCO"
      },
      "execution_count": 12,
      "outputs": []
    },
    {
      "cell_type": "markdown",
      "source": [
        "# Capas, neuronas, funciones de activación, loss."
      ],
      "metadata": {
        "id": "rlhbU_ZwNh_Y"
      }
    },
    {
      "cell_type": "code",
      "source": [
        "model = models.Sequential()\n",
        "\n",
        "model.add(layers.InputLayer(input_shape=(n,), name='Input_Layer'))#Obligatoria\n",
        "model.add(layers.Dense(512, activation='relu'))# Numero de capas ocultas: Opcional\n",
        "model.add(layers.Dense(64, activation='relu'))# Numero de neuronas en cada capa: Opcional\n",
        "model.add(layers.Dense(37, activation='Softmax', name='Output_Layer'))#Obligatoria\n",
        "model.summary()\n",
        "model.compile(optimizer='adam',\n",
        "              loss='categorical_crossentropy',\n",
        "              metrics=['accuracy'])\n",
        "import time\n",
        "tic = time.time()\n",
        "\n",
        "model.fit(x = X_train, \n",
        "           y = Y_train, \n",
        "          validation_data=[X_total[200:], Y_total[200:]],##Cuando haya otra base, se modifica ese 200\n",
        "          batch_size=10,\n",
        "           epochs=20,\n",
        "           verbose=2,shuffle=True)\n",
        "\n",
        "print('seconds=', time.time()-tic)"
      ],
      "metadata": {
        "colab": {
          "base_uri": "https://localhost:8080/"
        },
        "id": "6Ntg-BtqwqpQ",
        "outputId": "666b488b-fd3b-477d-a59c-e8b35bb21340"
      },
      "execution_count": 13,
      "outputs": [
        {
          "output_type": "stream",
          "name": "stdout",
          "text": [
            "Model: \"sequential\"\n",
            "_________________________________________________________________\n",
            " Layer (type)                Output Shape              Param #   \n",
            "=================================================================\n",
            " dense (Dense)               (None, 512)               262144    \n",
            "                                                                 \n",
            " dense_1 (Dense)             (None, 64)                32832     \n",
            "                                                                 \n",
            " Output_Layer (Dense)        (None, 37)                2405      \n",
            "                                                                 \n",
            "=================================================================\n",
            "Total params: 297,381\n",
            "Trainable params: 297,381\n",
            "Non-trainable params: 0\n",
            "_________________________________________________________________\n",
            "Epoch 1/20\n",
            "20/20 - 1s - loss: 12.8822 - accuracy: 0.3050 - val_loss: 7.0697 - val_accuracy: 0.2973 - 1s/epoch - 70ms/step\n",
            "Epoch 2/20\n",
            "20/20 - 0s - loss: 2.5174 - accuracy: 0.5750 - val_loss: 4.8916 - val_accuracy: 0.2703 - 117ms/epoch - 6ms/step\n",
            "Epoch 3/20\n",
            "20/20 - 0s - loss: 1.1204 - accuracy: 0.7250 - val_loss: 4.0034 - val_accuracy: 0.4324 - 104ms/epoch - 5ms/step\n",
            "Epoch 4/20\n",
            "20/20 - 0s - loss: 0.7233 - accuracy: 0.7850 - val_loss: 4.5813 - val_accuracy: 0.4054 - 104ms/epoch - 5ms/step\n",
            "Epoch 5/20\n",
            "20/20 - 0s - loss: 0.4169 - accuracy: 0.8850 - val_loss: 4.5346 - val_accuracy: 0.4324 - 114ms/epoch - 6ms/step\n",
            "Epoch 6/20\n",
            "20/20 - 0s - loss: 0.2334 - accuracy: 0.9300 - val_loss: 4.7450 - val_accuracy: 0.4595 - 120ms/epoch - 6ms/step\n",
            "Epoch 7/20\n",
            "20/20 - 0s - loss: 0.1653 - accuracy: 0.9550 - val_loss: 4.6019 - val_accuracy: 0.4324 - 110ms/epoch - 6ms/step\n",
            "Epoch 8/20\n",
            "20/20 - 0s - loss: 0.1241 - accuracy: 0.9650 - val_loss: 5.2434 - val_accuracy: 0.4595 - 110ms/epoch - 6ms/step\n",
            "Epoch 9/20\n",
            "20/20 - 0s - loss: 0.1060 - accuracy: 0.9750 - val_loss: 5.6616 - val_accuracy: 0.4595 - 106ms/epoch - 5ms/step\n",
            "Epoch 10/20\n",
            "20/20 - 0s - loss: 0.0822 - accuracy: 0.9800 - val_loss: 5.4718 - val_accuracy: 0.4595 - 103ms/epoch - 5ms/step\n",
            "Epoch 11/20\n",
            "20/20 - 0s - loss: 0.0678 - accuracy: 0.9800 - val_loss: 5.6783 - val_accuracy: 0.4324 - 124ms/epoch - 6ms/step\n",
            "Epoch 12/20\n",
            "20/20 - 0s - loss: 0.0661 - accuracy: 0.9850 - val_loss: 5.7270 - val_accuracy: 0.4324 - 122ms/epoch - 6ms/step\n",
            "Epoch 13/20\n",
            "20/20 - 0s - loss: 0.0590 - accuracy: 0.9850 - val_loss: 5.7822 - val_accuracy: 0.4324 - 111ms/epoch - 6ms/step\n",
            "Epoch 14/20\n",
            "20/20 - 0s - loss: 0.0495 - accuracy: 0.9900 - val_loss: 5.9438 - val_accuracy: 0.4324 - 106ms/epoch - 5ms/step\n",
            "Epoch 15/20\n",
            "20/20 - 0s - loss: 0.0342 - accuracy: 0.9950 - val_loss: 6.1707 - val_accuracy: 0.4324 - 120ms/epoch - 6ms/step\n",
            "Epoch 16/20\n",
            "20/20 - 0s - loss: 0.0252 - accuracy: 0.9950 - val_loss: 6.3421 - val_accuracy: 0.4595 - 127ms/epoch - 6ms/step\n",
            "Epoch 17/20\n",
            "20/20 - 0s - loss: 0.0243 - accuracy: 0.9950 - val_loss: 6.1216 - val_accuracy: 0.4324 - 136ms/epoch - 7ms/step\n",
            "Epoch 18/20\n",
            "20/20 - 0s - loss: 0.0144 - accuracy: 0.9950 - val_loss: 6.2122 - val_accuracy: 0.4324 - 111ms/epoch - 6ms/step\n",
            "Epoch 19/20\n",
            "20/20 - 0s - loss: 0.0145 - accuracy: 1.0000 - val_loss: 6.7113 - val_accuracy: 0.4865 - 111ms/epoch - 6ms/step\n",
            "Epoch 20/20\n",
            "20/20 - 0s - loss: 0.0130 - accuracy: 0.9950 - val_loss: 6.5664 - val_accuracy: 0.4865 - 120ms/epoch - 6ms/step\n",
            "seconds= 3.9473061561584473\n"
          ]
        }
      ]
    },
    {
      "cell_type": "code",
      "source": [
        "model.save('primer_intento.h5')"
      ],
      "metadata": {
        "id": "qNN7Vb00PLUL"
      },
      "execution_count": null,
      "outputs": []
    },
    {
      "cell_type": "code",
      "source": [
        "import numpy as np\n",
        "\n",
        "test_predicted_labels = model.predict(X_total[200:])\n",
        "test_true_labels      = np.argmax(Y_total[200:],axis=1)\n",
        "test_predicted_labels = np.argmax(test_predicted_labels,axis=1)"
      ],
      "metadata": {
        "colab": {
          "base_uri": "https://localhost:8080/"
        },
        "id": "Iek95NWhuTME",
        "outputId": "487a6216-10fa-403a-d0f3-273471af7194"
      },
      "execution_count": 17,
      "outputs": [
        {
          "output_type": "stream",
          "name": "stdout",
          "text": [
            "2/2 [==============================] - 0s 7ms/step\n"
          ]
        }
      ]
    },
    {
      "cell_type": "code",
      "source": [
        "Val_pred=model.predict(X_total[200:])\n",
        "Val_true=Y_total[200:]"
      ],
      "metadata": {
        "colab": {
          "base_uri": "https://localhost:8080/"
        },
        "id": "W6YT_CgOytD9",
        "outputId": "0c9257ef-e2ea-4360-ede9-e2c973f927e2"
      },
      "execution_count": 15,
      "outputs": [
        {
          "output_type": "stream",
          "name": "stdout",
          "text": [
            "2/2 [==============================] - 0s 8ms/step\n"
          ]
        }
      ]
    },
    {
      "cell_type": "code",
      "source": [
        "import matplotlib.pyplot as plt\n",
        "\n",
        "from sklearn.metrics import accuracy_score,confusion_matrix, precision_score, recall_score,roc_auc_score\n",
        "\n",
        "from sklearn.metrics import f1_score, cohen_kappa_score\n",
        "import seaborn as sns \n",
        "\n",
        "accuracy = accuracy_score(test_true_labels,test_predicted_labels)\n",
        "print('Accuracy: %f' % accuracy)\n",
        "# precision tp / (tp + fp)\n",
        "precision = precision_score(test_true_labels,test_predicted_labels,average='weighted',zero_division=1)\n",
        "print('Precision: %f',precision)\n",
        "# recall: tp / (tp + fn)\n",
        "recall = recall_score(test_true_labels,test_predicted_labels,average='weighted',zero_division=1)\n",
        "print('Recall: %f' , recall)\n",
        "# f1: 2 tp / (2 tp + fp + fn)\n",
        "f1 = f1_score(test_true_labels,test_predicted_labels,average='weighted')\n",
        "print('F1 score: %f' % f1)"
      ],
      "metadata": {
        "colab": {
          "base_uri": "https://localhost:8080/"
        },
        "id": "zDQfX1GTyoMG",
        "outputId": "f96efeb6-192c-46cd-a113-371e84f72119"
      },
      "execution_count": 18,
      "outputs": [
        {
          "output_type": "stream",
          "name": "stdout",
          "text": [
            "Accuracy: 0.486486\n",
            "Precision: %f 0.5910553410553411\n",
            "Recall: %f 0.4864864864864865\n",
            "F1 score: 0.415454\n"
          ]
        }
      ]
    },
    {
      "cell_type": "markdown",
      "source": [
        "Bajo desempeño."
      ],
      "metadata": {
        "id": "NyEBCPIizO_w"
      }
    }
  ]
}