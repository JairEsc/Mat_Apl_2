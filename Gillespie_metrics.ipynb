{
  "nbformat": 4,
  "nbformat_minor": 0,
  "metadata": {
    "colab": {
      "provenance": [],
      "authorship_tag": "ABX9TyNzB8e+C7ZY+3oQUT56rUcf",
      "include_colab_link": true
    },
    "kernelspec": {
      "name": "python3",
      "display_name": "Python 3"
    },
    "language_info": {
      "name": "python"
    },
    "gpuClass": "standard"
  },
  "cells": [
    {
      "cell_type": "markdown",
      "metadata": {
        "id": "view-in-github",
        "colab_type": "text"
      },
      "source": [
        "<a href=\"https://colab.research.google.com/github/JairEsc/Mat_Apl_2/blob/main/Gillespie_metrics.ipynb\" target=\"_parent\"><img src=\"https://colab.research.google.com/assets/colab-badge.svg\" alt=\"Open In Colab\"/></a>"
      ]
    },
    {
      "cell_type": "markdown",
      "source": [
        "# Métricas\n",
        "\n",
        "Consideraremos tiempos de ejecución para distintos tamaños y redes en el SIR markoviano.\n",
        "Además, comparamos gráficamente trayectorias markovianas con ambos algoritmos, es decir, utilizando el algoritmo para redes markovianas, y el algoritmo para redes no markovianas, usando distribuciones exponenciales y cercanas a una exponencial, de la familia Weibull."
      ],
      "metadata": {
        "id": "pDx5kI7Arvg2"
      }
    },
    {
      "cell_type": "code",
      "execution_count": 1,
      "metadata": {
        "id": "TExorL8msTjd"
      },
      "outputs": [],
      "source": [
        "import numpy as np\n",
        "import pandas as pd\n",
        "import matplotlib.pyplot as plt"
      ]
    },
    {
      "cell_type": "code",
      "source": [
        "import networkx as nx"
      ],
      "metadata": {
        "id": "Xvpw91TyDwis"
      },
      "execution_count": 2,
      "outputs": []
    },
    {
      "cell_type": "code",
      "source": [
        "def Monte_Carlo_Step_exp(Lambdas,dict_num_contacts,X_I_indexes):\n",
        "    Lambda=np.sum(Lambdas)\n",
        "    tau=np.random.exponential(scale=1/Lambda)\n",
        "    u_2=np.random.uniform(0,1)\n",
        "    if(u_2<(Lambda-Lambdas[-1])/Lambda):#Infeccion\n",
        "        u_3=np.random.uniform(0,1)\n",
        "        D=0\n",
        "        k=0\n",
        "        while(u_3>D):\n",
        "            D+=Lambdas[k]/(Lambda-Lambdas[-1])\n",
        "            k+=1\n",
        "        new_reaction_index=np.random.choice(range(len(dict_num_contacts[str(k-1)])))\n",
        "        new_reaction=dict_num_contacts[str(k-1)][new_reaction_index]\n",
        "    else:#Recuperación\n",
        "        k=0\n",
        "        new_reaction_index=np.random.choice(range(len(X_I_indexes)))\n",
        "        new_reaction=X_I_indexes[new_reaction_index]\n",
        "    return tau,new_reaction,k-1,new_reaction_index\n"
      ],
      "metadata": {
        "id": "ykDuyghmGQdO"
      },
      "execution_count": 4,
      "outputs": []
    },
    {
      "cell_type": "code",
      "source": [
        "def Gillespie_Direct_Method_Network(beta,gamma,N,X_I_indexes,G_network_initial=nx.Graph(),T=np.inf):\n",
        "    flag=True\n",
        "    #Paso 1.\n",
        "    t=0 #Inicializar $t=0$.\n",
        "    #Calcular $k_i$ el número de contactos infecciosos del individuo $i$.--------------------\n",
        "    X_I=len(X_I_indexes)\n",
        "    X_S=N-X_I\n",
        "    Historia=[[0,X_S,X_I]]\n",
        "    dict_num_contacts = {}\n",
        "    for n in range(X_I+1):\n",
        "        dict_num_contacts[str(n)]=[]\n",
        "    num_cont_inf_por_indice=np.zeros(N)\n",
        "    for i in range(N):\n",
        "        if(i not in X_I_indexes): #No es infeccioso.\n",
        "            count_for_i=0\n",
        "            for j in X_I_indexes:\n",
        "                if (G_network_initial.has_edge(i,j)):#Es un contacto Susceptible-infeccioso.\n",
        "                    num_cont_inf_por_indice[i]+=1#Ya que voy a hacer los ciclos, mejor la guardo igual.\n",
        "                    count_for_i+=1\n",
        "            dict_num_contacts[str(count_for_i)].append(i)\n",
        "    #-------------------------------------------\n",
        "    while(flag):\n",
        "        #Generar las Lambdas------------------\n",
        "        Lambda=0\n",
        "        Lambdas=[]\n",
        "        for k in range(len(list(dict_num_contacts.keys()))):\n",
        "            Lambdas.append(beta*len(dict_num_contacts[str(k)])*k)\n",
        "            Lambda+=Lambdas[-1]\n",
        "        Lambdas.append(gamma*X_I)\n",
        "        Lambda+=Lambdas[-1]\n",
        "        #-------------------------------------------\n",
        "        #Paso Monte-Carlo---------------------------\n",
        "        tau,new_reaction,k_choice,new_reaction_index=Monte_Carlo_Step_exp(Lambdas,dict_num_contacts,X_I_indexes)\n",
        "        #-------------------------------------------\n",
        "        #Actualización del sistema.\n",
        "        if(G_network_initial.nodes[new_reaction]['Estado:']=='Susceptible'):#Se trata de una infección\n",
        "            num_cont_inf_por_indice[new_reaction]=0\n",
        "            G_network_initial.nodes[new_reaction]['Estado:']='Infeccioso'#Actualizar su estado\n",
        "            X_I_indexes.append(new_reaction)\n",
        "            i=new_reaction\n",
        "            dict_num_contacts[str(k_choice)].pop(new_reaction_index)#Saca al nuevo infeccioso del conjunto con exactamente k_choice contactos infecciosos.\n",
        "            #Para cada nodo $j$ conectado a $i$, actualizamos su número de contactos infecciosos como $k_j=k_j+1.$--------------------\n",
        "            num_max_cont=int(list(dict_num_contacts.keys())[-1])\n",
        "            for vecino in G_network_initial.neighbors(i):#Para cada vecino del nuevo infectado, le aumentamos el numero de contactos en 1. (lo agregamos a la siguiente categoria y lo sacamos de la anterior)\n",
        "                if (G_network_initial.nodes[vecino]['Estado:']=='Susceptible'):\n",
        "                    \n",
        "                    num_cont_del_vecino=num_cont_inf_por_indice[vecino]\n",
        "                    if(num_cont_del_vecino+1>num_max_cont):#Si mas de uno crea una categoria, hay error.\n",
        "                        num_max_cont+=1\n",
        "                        dict_num_contacts[str(int(num_cont_del_vecino+1))]=[vecino]\n",
        "                    else:\n",
        "                        dict_num_contacts[str(int(num_cont_del_vecino+1))].append(vecino)\n",
        "                    dict_num_contacts[str(int(num_cont_del_vecino))].remove(vecino)\n",
        "                    num_cont_inf_por_indice[vecino]+=1#Actualizamos ambas fuentes de informacion\n",
        "            #-------------------------------------------\n",
        "        else:\n",
        "            G_network_initial.nodes[new_reaction]['Estado:']='Recuperado'\n",
        "            num_cont_inf_por_indice[new_reaction]=0#Ya no es relevante\n",
        "            X_I_indexes.pop(new_reaction_index)\n",
        "            i=new_reaction\n",
        "            #Para cada nodo $j$ conectado a $i^* $, actualizamos su número de contactos infecciosos como $k_j=k_j-1.$\n",
        "            for vecino in G_network_initial.neighbors(i):#Podria ser que ya no tuviera ningun contacto\n",
        "                num_cont_del_vecino=num_cont_inf_por_indice[vecino]\n",
        "                if(num_cont_del_vecino!=0):# Es recuperado.\n",
        "                    dict_num_contacts[str(int(num_cont_del_vecino-1))].append(vecino)\n",
        "                    dict_num_contacts[str(int(num_cont_del_vecino))].remove(vecino)\n",
        "                    num_cont_inf_por_indice[vecino]-=1#Actualizamos ambas fuentes de informacion\n",
        "            #-------------------------------------------\n",
        "        t+=tau #Actualiza el tiempo $t=t+\\tau$.\n",
        "        X_I=len(X_I_indexes)\n",
        "        X_S=N-X_I\n",
        "        Historia.append([t,X_S,X_I])#Focus\n",
        "        if(X_I==0):\n",
        "            flag=False\n",
        "    return Historia"
      ],
      "metadata": {
        "id": "yTu6ZhxtCGb_"
      },
      "execution_count": 5,
      "outputs": []
    },
    {
      "cell_type": "markdown",
      "source": [
        "#### Red Poisson $N=5\\cdot 10^3$, con media $n=N\\cdot 0.1$.\n",
        "#### $\\beta=1.25$, $\\gamma=1$\n",
        "#### Condición inicial $X(0)=(N-1,1,0)$"
      ],
      "metadata": {
        "id": "hshjyRxV7bYp"
      }
    },
    {
      "cell_type": "code",
      "source": [
        "import time\n",
        "start_time = time.time()\n",
        "N=10**3\n",
        "n=int(N*0.1)\n",
        "X_I_0=1\n",
        "ksum=1\n",
        "while(ksum%2!=0):#Que defina una grafica.\n",
        "        k_dist=np.random.poisson(n,size=N)\n",
        "        ksum=sum(k_dist)\n",
        "G=nx.random_degree_sequence_graph(k_dist)\n",
        "print(\"--- %s Segundos para crear la gráfica ---\" % (time.time() - start_time))\n",
        "graph_time = time.time()\n",
        "np.random.seed(0)\n",
        "X_I_indexes=np.random.choice(N,size=X_I_0,replace=False).tolist()\n",
        "for k in range(N):\n",
        "    if k in X_I_indexes:\n",
        "        G.nodes[k]['Estado:']='Infeccioso'\n",
        "    else:\n",
        "        G.nodes[k]['Estado:']='Susceptible'\n",
        "print(\"Empieza\")\n",
        "S_0=N-X_I_0\n",
        "I_0=N-S_0\n",
        "beta=1.25\n",
        "gamma=1\n",
        "for k in range(5):\n",
        "    H=[]\n",
        "    G_copy=G.copy()\n",
        "    X_I_indexes_copy=X_I_indexes.copy()\n",
        "    H=Gillespie_Direct_Method_Network(beta=beta,gamma=gamma,N=N,X_I_indexes=X_I_indexes_copy,G_network_initial=G_copy,T=np.inf)\n",
        "    H=pd.DataFrame(H,columns=['time','S(t)','I(t)'])\n",
        "    plt.plot(H['time'],H['I(t)'], 'gray',linewidth=0.5)\n",
        "plt.title('Simulaciones exactas')\n",
        "plt.show()\n",
        "print(\"--- %s Segundos para ejecutar ---\" % (time.time() - graph_time))\n",
        "print(\"--- %s Segundos en total ---\" % (time.time() - start_time))\n",
        "\n"
      ],
      "metadata": {
        "colab": {
          "base_uri": "https://localhost:8080/",
          "height": 521
        },
        "id": "YWRsMHBA19W6",
        "outputId": "1073d6cf-b24f-4d09-cbbc-8a70618ac6c9"
      },
      "execution_count": null,
      "outputs": [
        {
          "output_type": "stream",
          "name": "stdout",
          "text": [
            "--- 63.5496940612793 Segundos para crear la gráfica ---\n",
            "Empieza\n"
          ]
        },
        {
          "output_type": "display_data",
          "data": {
            "text/plain": [
              "<Figure size 640x480 with 1 Axes>"
            ],
            "image/png": "[encoded data removed]"
          },
          "metadata": {}
        },
        {
          "output_type": "stream",
          "name": "stdout",
          "text": [
            "--- 4.094378709793091 Segundos para ejecutar ---\n",
            "--- 67.64523077011108 Segundos en total ---\n"
          ]
        }
      ]
    },
    {
      "cell_type": "markdown",
      "source": [
        "#### Red Binomial $N=10^3$, con paámetro $p=0.1$.\n",
        "#### $\\beta=1.25$, $\\gamma=1$\n",
        "#### Condición inicial $X(0)=(N-1,1,0)$"
      ],
      "metadata": {
        "id": "kMCY8MWC70qf"
      }
    },
    {
      "cell_type": "code",
      "source": [
        "import time\n",
        "start_time = time.time()\n",
        "N=10**4\n",
        "n=int(N*0.1)\n",
        "X_I_0=1\n",
        "G=nx.fast_gnp_random_graph(N,p=0.1)\n",
        "print(\"--- %s Segundos para crear la gráfica ---\" % (time.time() - start_time))\n",
        "graph_time = time.time()\n",
        "np.random.seed(0)\n",
        "X_I_indexes=np.random.choice(N,size=X_I_0,replace=False).tolist()\n",
        "for k in range(N):\n",
        "    if k in X_I_indexes:\n",
        "        G.nodes[k]['Estado:']='Infeccioso'\n",
        "    else:\n",
        "        G.nodes[k]['Estado:']='Susceptible'\n",
        "print(\"Empieza\")\n",
        "S_0=N-X_I_0\n",
        "I_0=N-S_0\n",
        "beta=1.25\n",
        "gamma=1\n",
        "for k in range(5):\n",
        "    H=[]\n",
        "    G_copy=G.copy()\n",
        "    X_I_indexes_copy=X_I_indexes.copy()\n",
        "    iter_time = time.time()\n",
        "    while(len(H)<20):\n",
        "        H=Gillespie_Direct_Method_Network(beta=beta,gamma=gamma,N=N,X_I_indexes=X_I_indexes_copy,G_network_initial=G_copy,T=np.inf)\n",
        "    print(\"--- %s Segundos para ejecutar 1 iteracion ---\" % (time.time() - iter_time))\n",
        "    H=pd.DataFrame(H,columns=['time','S(t)','I(t)'])\n",
        "    plt.plot(H['time'],H['I(t)'], 'gray',linewidth=0.5)\n",
        "plt.title('Simulaciones exactas')\n",
        "plt.show()\n",
        "print(\"--- %s Segundos para ejecutar ---\" % (time.time() - graph_time))\n",
        "print(\"--- %s Segundos en total ---\" % (time.time() - start_time))"
      ],
      "metadata": {
        "colab": {
          "base_uri": "https://localhost:8080/",
          "height": 608
        },
        "id": "tYRAseDt79I0",
        "outputId": "7590261c-0189-4b3e-8ef2-64d81ca241a7"
      },
      "execution_count": null,
      "outputs": [
        {
          "output_type": "stream",
          "name": "stdout",
          "text": [
            "--- 20.16082262992859 Segundos para crear la gráfica ---\n",
            "Empieza\n",
            "--- 78.66382002830505 Segundos para ejecutar 1 iteracion ---\n",
            "--- 86.21764707565308 Segundos para ejecutar 1 iteracion ---\n",
            "--- 83.84100842475891 Segundos para ejecutar 1 iteracion ---\n",
            "--- 86.09617829322815 Segundos para ejecutar 1 iteracion ---\n",
            "--- 85.02950119972229 Segundos para ejecutar 1 iteracion ---\n"
          ]
        },
        {
          "output_type": "display_data",
          "data": {
            "text/plain": [
              "<Figure size 640x480 with 1 Axes>"
            ],
            "image/png": "[encoded data removed]"
          },
          "metadata": {}
        },
        {
          "output_type": "stream",
          "name": "stdout",
          "text": [
            "--- 607.3817899227142 Segundos para ejecutar ---\n",
            "--- 627.543778181076 Segundos en total ---\n"
          ]
        }
      ]
    },
    {
      "cell_type": "markdown",
      "source": [
        "Mismo algoritmo, pero removiendo vértices"
      ],
      "metadata": {
        "id": "6aJVbqjOGDVg"
      }
    },
    {
      "cell_type": "code",
      "source": [
        "def Gillespie_Direct_Method_Network_2(beta,gamma,N,X_I_indexes,G_network_initial=nx.Graph(),T=np.inf):\n",
        "    flag=True\n",
        "    #Paso 1.\n",
        "    t=0 #Inicializar $t=0$.\n",
        "    #Calcular $k_i$ el número de contactos infecciosos del individuo $i$.--------------------\n",
        "    X_I=len(X_I_indexes)\n",
        "    X_S=N-X_I\n",
        "    Historia=[[0,X_S,X_I]]\n",
        "    dict_num_contacts = {}\n",
        "    for n in range(X_I+1):\n",
        "        dict_num_contacts[str(n)]=[]\n",
        "    num_cont_inf_por_indice=np.zeros(N)\n",
        "    for i in range(N):\n",
        "        if(i not in X_I_indexes): #No es infeccioso.\n",
        "            count_for_i=0\n",
        "            for j in X_I_indexes:\n",
        "                if (G_network_initial.has_edge(i,j)):#Es un contacto Susceptible-infeccioso.\n",
        "                    num_cont_inf_por_indice[i]+=1#Ya que voy a hacer los ciclos, mejor la guardo igual.\n",
        "                    count_for_i+=1\n",
        "            dict_num_contacts[str(count_for_i)].append(i)\n",
        "    #-------------------------------------------\n",
        "    while(flag):\n",
        "        #Generar las Lambdas------------------\n",
        "        Lambda=0\n",
        "        Lambdas=[]\n",
        "        for k in range(len(list(dict_num_contacts.keys()))):\n",
        "            Lambdas.append(beta*len(dict_num_contacts[str(k)])*k)\n",
        "            Lambda+=Lambdas[-1]\n",
        "        Lambdas.append(gamma*X_I)\n",
        "        Lambda+=Lambdas[-1]\n",
        "        #-------------------------------------------\n",
        "        #Paso Monte-Carlo---------------------------\n",
        "        tau,new_reaction,k_choice,new_reaction_index=Monte_Carlo_Step_exp(Lambdas,dict_num_contacts,X_I_indexes)\n",
        "        #-------------------------------------------\n",
        "        #Actualización del sistema.\n",
        "        if(G_network_initial.nodes[new_reaction]['Estado:']=='Susceptible'):#Se trata de una infección\n",
        "            num_cont_inf_por_indice[new_reaction]=0\n",
        "            G_network_initial.nodes[new_reaction]['Estado:']='Infeccioso'#Actualizar su estado\n",
        "            X_I_indexes.append(new_reaction)\n",
        "            i=new_reaction\n",
        "            dict_num_contacts[str(k_choice)].pop(new_reaction_index)#Saca al nuevo infeccioso del conjunto con exactamente k_choice contactos infecciosos.\n",
        "            #Para cada nodo $j$ conectado a $i$, actualizamos su número de contactos infecciosos como $k_j=k_j+1.$--------------------\n",
        "            num_max_cont=int(list(dict_num_contacts.keys())[-1])\n",
        "            for vecino in G_network_initial.neighbors(i):#Para cada vecino del nuevo infectado, le aumentamos el numero de contactos en 1. (lo agregamos a la siguiente categoria y lo sacamos de la anterior)\n",
        "                if (G_network_initial.nodes[vecino]['Estado:']=='Susceptible'):\n",
        "                    \n",
        "                    num_cont_del_vecino=num_cont_inf_por_indice[vecino]\n",
        "                    if(num_cont_del_vecino+1>num_max_cont):#Si mas de uno crea una categoria, hay error.\n",
        "                        num_max_cont+=1\n",
        "                        dict_num_contacts[str(int(num_cont_del_vecino+1))]=[vecino]\n",
        "                    else:\n",
        "                        dict_num_contacts[str(int(num_cont_del_vecino+1))].append(vecino)\n",
        "                    dict_num_contacts[str(int(num_cont_del_vecino))].remove(vecino)\n",
        "                    num_cont_inf_por_indice[vecino]+=1#Actualizamos ambas fuentes de informacion\n",
        "            #-------------------------------------------\n",
        "        else:\n",
        "            G_network_initial.nodes[new_reaction]['Estado:']='Recuperado'\n",
        "            num_cont_inf_por_indice[new_reaction]=0#Ya no es relevante\n",
        "            X_I_indexes.pop(new_reaction_index)\n",
        "            i=new_reaction\n",
        "            #Para cada nodo $j$ conectado a $i^* $, actualizamos su número de contactos infecciosos como $k_j=k_j-1.$\n",
        "            for vecino in G_network_initial.neighbors(i):#Podria ser que ya no tuviera ningun contacto\n",
        "                num_cont_del_vecino=num_cont_inf_por_indice[vecino]\n",
        "                if(num_cont_del_vecino!=0):# Es recuperado.\n",
        "                    dict_num_contacts[str(int(num_cont_del_vecino-1))].append(vecino)\n",
        "                    dict_num_contacts[str(int(num_cont_del_vecino))].remove(vecino)\n",
        "                    num_cont_inf_por_indice[vecino]-=1#Actualizamos ambas fuentes de informacion\n",
        "            #-------------------------------------------\n",
        "            G_network_initial.remove_node(i)\n",
        "        t+=tau #Actualiza el tiempo $t=t+\\tau$.\n",
        "        X_I=len(X_I_indexes)\n",
        "        X_S=N-X_I\n",
        "        Historia.append([t,X_S,X_I])#Focus\n",
        "        if(X_I==0):\n",
        "            flag=False\n",
        "    return Historia\n",
        "import time\n",
        "start_time = time.time()\n",
        "N=10**4\n",
        "n=int(N*0.1)\n",
        "X_I_0=1\n",
        "G=nx.fast_gnp_random_graph(N,p=0.)\n",
        "print(\"--- %s Segundos para crear la gráfica ---\" % (time.time() - start_time))\n",
        "graph_time = time.time()\n",
        "np.random.seed(0)\n",
        "X_I_indexes=np.random.choice(N,size=X_I_0,replace=False).tolist()\n",
        "for k in range(N):\n",
        "    if k in X_I_indexes:\n",
        "        G.nodes[k]['Estado:']='Infeccioso'\n",
        "    else:\n",
        "        G.nodes[k]['Estado:']='Susceptible'\n",
        "print(\"Empieza\")\n",
        "S_0=N-X_I_0\n",
        "I_0=N-S_0\n",
        "beta=1.25\n",
        "gamma=1\n",
        "for k in range(5):\n",
        "    H=[]\n",
        "    G_copy=G.copy()\n",
        "    X_I_indexes_copy=X_I_indexes.copy()\n",
        "    iter_time = time.time()\n",
        "    while(len(H)<20):\n",
        "        H=Gillespie_Direct_Method_Network_2(beta=beta,gamma=gamma,N=N,X_I_indexes=X_I_indexes_copy,G_network_initial=G_copy,T=np.inf)\n",
        "    print(\"--- %s Segundos para ejecutar 1 iteracion ---\" % (time.time() - iter_time))    \n",
        "    H=pd.DataFrame(H,columns=['time','S(t)','I(t)'])\n",
        "    plt.plot(H['time'],H['I(t)'], 'gray',linewidth=0.5)\n",
        "plt.title('Simulaciones exactas')\n",
        "plt.show()\n",
        "print(\"--- %s Segundos para ejecutar ---\" % (time.time() - graph_time))\n",
        "print(\"--- %s Segundos en total ---\" % (time.time() - start_time))"
      ],
      "metadata": {
        "colab": {
          "base_uri": "https://localhost:8080/",
          "height": 608
        },
        "id": "MfQlDpcZF9Z0",
        "outputId": "3a876359-ddf4-40fe-cd75-b557b80e7ee1"
      },
      "execution_count": null,
      "outputs": [
        {
          "output_type": "stream",
          "name": "stdout",
          "text": [
            "--- 16.882884979248047 Segundos para crear la gráfica ---\n",
            "Empieza\n",
            "--- 84.36275863647461 Segundos para ejecutar 1 iteracion ---\n",
            "--- 83.68527507781982 Segundos para ejecutar 1 iteracion ---\n",
            "--- 82.46456623077393 Segundos para ejecutar 1 iteracion ---\n",
            "--- 85.05274486541748 Segundos para ejecutar 1 iteracion ---\n",
            "--- 84.21597003936768 Segundos para ejecutar 1 iteracion ---\n"
          ]
        },
        {
          "output_type": "display_data",
          "data": {
            "text/plain": [
              "<Figure size 640x480 with 1 Axes>"
            ],
            "image/png": "[encoded data removed]"
          },
          "metadata": {}
        },
        {
          "output_type": "stream",
          "name": "stdout",
          "text": [
            "--- 599.3120279312134 Segundos para ejecutar ---\n",
            "--- 616.1962261199951 Segundos en total ---\n"
          ]
        }
      ]
    },
    {
      "cell_type": "markdown",
      "source": [
        "### Conclusión: No se ve un cambio"
      ],
      "metadata": {
        "id": "NgHFcB4CltGl"
      }
    },
    {
      "cell_type": "markdown",
      "source": [
        "Aumentando el orden promedio de los vértices se espera una diferencia mayor entre los algoritmos"
      ],
      "metadata": {
        "id": "9IO_kpxhl0uy"
      }
    },
    {
      "cell_type": "code",
      "execution_count": 1,
      "metadata": {
        "id": "VI16ejosnOlb"
      },
      "outputs": [],
      "source": [
        "import numpy as np\n",
        "import pandas as pd\n",
        "import matplotlib.pyplot as plt"
      ]
    },
    {
      "cell_type": "code",
      "source": [
        "import networkx as nx"
      ],
      "metadata": {
        "id": "r39b8IzrnOle"
      },
      "execution_count": 2,
      "outputs": []
    },
    {
      "cell_type": "code",
      "source": [
        "import time\n",
        "start_time = time.time()\n",
        "N=10**4\n",
        "X_I_0=1\n",
        "#G=nx.fast_gnp_random_graph(N,p=0.2)#-------------------------------------------------\n",
        "print(\"--- %s Segundos para crear la gráfica ---\" % (time.time() - start_time))\n",
        "graph_time = time.time()\n",
        "np.random.seed(0)\n",
        "X_I_indexes=np.random.choice(N,size=X_I_0,replace=False).tolist()\n",
        "for k in range(N):\n",
        "    if k in X_I_indexes:\n",
        "        G.nodes[k]['Estado:']='Infeccioso'\n",
        "    else:\n",
        "        G.nodes[k]['Estado:']='Susceptible'\n",
        "print(\"Empieza\")\n",
        "S_0=N-X_I_0\n",
        "I_0=N-S_0\n",
        "beta=1.25\n",
        "gamma=1\n",
        "for k in range(5):\n",
        "    H=[]\n",
        "    G_copy=G.copy()\n",
        "    X_I_indexes_copy=X_I_indexes.copy()\n",
        "    iter_time = time.time()\n",
        "    while(len(H)<20):\n",
        "        H=Gillespie_Direct_Method_Network(beta=beta,gamma=gamma,N=N,X_I_indexes=X_I_indexes_copy,G_network_initial=G_copy,T=np.inf)\n",
        "    print(\"--- %s Segundos para ejecutar 1 iteracion ---\" % (time.time() - iter_time))\n",
        "    H=pd.DataFrame(H,columns=['time','S(t)','I(t)'])\n",
        "    plt.plot(H['time'],H['I(t)'], 'gray',linewidth=0.5)\n",
        "plt.title('Simulaciones exactas')\n",
        "plt.show()\n",
        "print(\"--- %s Segundos para ejecutar ---\" % (time.time() - graph_time))\n",
        "print(\"--- %s Segundos en total ---\" % (time.time() - start_time))"
      ],
      "metadata": {
        "id": "7W8_X4bTlw9r",
        "outputId": "565a979f-6add-445f-cc93-7c9b00634e66",
        "colab": {
          "base_uri": "https://localhost:8080/",
          "height": 608
        }
      },
      "execution_count": 6,
      "outputs": [
        {
          "output_type": "stream",
          "name": "stdout",
          "text": [
            "--- 0.0002155303955078125 Segundos para crear la gráfica ---\n",
            "Empieza\n",
            "--- 129.25775480270386 Segundos para ejecutar 1 iteracion ---\n",
            "--- 122.83200001716614 Segundos para ejecutar 1 iteracion ---\n",
            "--- 124.87604808807373 Segundos para ejecutar 1 iteracion ---\n",
            "--- 121.9573302268982 Segundos para ejecutar 1 iteracion ---\n",
            "--- 128.2326488494873 Segundos para ejecutar 1 iteracion ---\n"
          ]
        },
        {
          "output_type": "display_data",
          "data": {
            "text/plain": [
              "<Figure size 640x480 with 1 Axes>"
            ],
            "image/png": "[encoded data removed]"
          },
          "metadata": {}
        },
        {
          "output_type": "stream",
          "name": "stdout",
          "text": [
            "--- 956.4577744007111 Segundos para ejecutar ---\n",
            "--- 956.4597132205963 Segundos en total ---\n"
          ]
        }
      ]
    },
    {
      "cell_type": "code",
      "source": [
        "def Gillespie_Direct_Method_Network_2(beta,gamma,N,X_I_indexes,G_network_initial=nx.Graph(),T=np.inf):\n",
        "    flag=True\n",
        "    #Paso 1.\n",
        "    t=0 #Inicializar $t=0$.\n",
        "    #Calcular $k_i$ el número de contactos infecciosos del individuo $i$.--------------------\n",
        "    X_I=len(X_I_indexes)\n",
        "    X_S=N-X_I\n",
        "    Historia=[[0,X_S,X_I]]\n",
        "    dict_num_contacts = {}\n",
        "    for n in range(X_I+1):\n",
        "        dict_num_contacts[str(n)]=[]\n",
        "    num_cont_inf_por_indice=np.zeros(N)\n",
        "    for i in range(N):\n",
        "        if(i not in X_I_indexes): #No es infeccioso.\n",
        "            count_for_i=0\n",
        "            for j in X_I_indexes:\n",
        "                if (G_network_initial.has_edge(i,j)):#Es un contacto Susceptible-infeccioso.\n",
        "                    num_cont_inf_por_indice[i]+=1#Ya que voy a hacer los ciclos, mejor la guardo igual.\n",
        "                    count_for_i+=1\n",
        "            dict_num_contacts[str(count_for_i)].append(i)\n",
        "    #-------------------------------------------\n",
        "    while(flag):\n",
        "        #Generar las Lambdas------------------\n",
        "        Lambda=0\n",
        "        Lambdas=[]\n",
        "        for k in range(len(list(dict_num_contacts.keys()))):\n",
        "            Lambdas.append(beta*len(dict_num_contacts[str(k)])*k)\n",
        "            Lambda+=Lambdas[-1]\n",
        "        Lambdas.append(gamma*X_I)\n",
        "        Lambda+=Lambdas[-1]\n",
        "        #-------------------------------------------\n",
        "        #Paso Monte-Carlo---------------------------\n",
        "        tau,new_reaction,k_choice,new_reaction_index=Monte_Carlo_Step_exp(Lambdas,dict_num_contacts,X_I_indexes)\n",
        "        #-------------------------------------------\n",
        "        #Actualización del sistema.\n",
        "        if(G_network_initial.nodes[new_reaction]['Estado:']=='Susceptible'):#Se trata de una infección\n",
        "            num_cont_inf_por_indice[new_reaction]=0\n",
        "            G_network_initial.nodes[new_reaction]['Estado:']='Infeccioso'#Actualizar su estado\n",
        "            X_I_indexes.append(new_reaction)\n",
        "            i=new_reaction\n",
        "            dict_num_contacts[str(k_choice)].pop(new_reaction_index)#Saca al nuevo infeccioso del conjunto con exactamente k_choice contactos infecciosos.\n",
        "            #Para cada nodo $j$ conectado a $i$, actualizamos su número de contactos infecciosos como $k_j=k_j+1.$--------------------\n",
        "            num_max_cont=int(list(dict_num_contacts.keys())[-1])\n",
        "            for vecino in G_network_initial.neighbors(i):#Para cada vecino del nuevo infectado, le aumentamos el numero de contactos en 1. (lo agregamos a la siguiente categoria y lo sacamos de la anterior)\n",
        "                if (G_network_initial.nodes[vecino]['Estado:']=='Susceptible'):\n",
        "                    \n",
        "                    num_cont_del_vecino=num_cont_inf_por_indice[vecino]\n",
        "                    if(num_cont_del_vecino+1>num_max_cont):#Si mas de uno crea una categoria, hay error.\n",
        "                        num_max_cont+=1\n",
        "                        dict_num_contacts[str(int(num_cont_del_vecino+1))]=[vecino]\n",
        "                    else:\n",
        "                        dict_num_contacts[str(int(num_cont_del_vecino+1))].append(vecino)\n",
        "                    dict_num_contacts[str(int(num_cont_del_vecino))].remove(vecino)\n",
        "                    num_cont_inf_por_indice[vecino]+=1#Actualizamos ambas fuentes de informacion\n",
        "            #-------------------------------------------\n",
        "        else:\n",
        "            G_network_initial.nodes[new_reaction]['Estado:']='Recuperado'\n",
        "            num_cont_inf_por_indice[new_reaction]=0#Ya no es relevante\n",
        "            X_I_indexes.pop(new_reaction_index)\n",
        "            i=new_reaction\n",
        "            #Para cada nodo $j$ conectado a $i^* $, actualizamos su número de contactos infecciosos como $k_j=k_j-1.$\n",
        "            for vecino in G_network_initial.neighbors(i):#Podria ser que ya no tuviera ningun contacto\n",
        "                num_cont_del_vecino=num_cont_inf_por_indice[vecino]\n",
        "                if(num_cont_del_vecino!=0):# Es recuperado.\n",
        "                    dict_num_contacts[str(int(num_cont_del_vecino-1))].append(vecino)\n",
        "                    dict_num_contacts[str(int(num_cont_del_vecino))].remove(vecino)\n",
        "                    num_cont_inf_por_indice[vecino]-=1#Actualizamos ambas fuentes de informacion\n",
        "            #-------------------------------------------\n",
        "            G_network_initial.remove_node(i)\n",
        "        t+=tau #Actualiza el tiempo $t=t+\\tau$.\n",
        "        X_I=len(X_I_indexes)\n",
        "        X_S=N-X_I\n",
        "        Historia.append([t,X_S,X_I])#Focus\n",
        "        if(X_I==0):\n",
        "            flag=False\n",
        "    return Historia\n",
        "import time\n",
        "start_time = time.time()\n",
        "N=10**4\n",
        "X_I_0=1\n",
        "#G=nx.fast_gnp_random_graph(N,p=0.8)\n",
        "S_0=N-X_I_0\n",
        "I_0=N-S_0\n",
        "beta=1.25\n",
        "gamma=1\n",
        "for k in range(5):\n",
        "    H=[]\n",
        "    G_copy=G.copy()\n",
        "    X_I_indexes_copy=X_I_indexes.copy()\n",
        "    iter_time = time.time()\n",
        "    while(len(H)<20):\n",
        "        H=Gillespie_Direct_Method_Network_2(beta=beta,gamma=gamma,N=N,X_I_indexes=X_I_indexes_copy,G_network_initial=G_copy,T=np.inf)\n",
        "    print(\"--- %s Segundos para ejecutar 1 iteracion ---\" % (time.time() - iter_time))    \n",
        "    H=pd.DataFrame(H,columns=['time','S(t)','I(t)'])\n",
        "    plt.plot(H['time'],H['I(t)'], 'gray',linewidth=0.5)\n",
        "plt.title('Simulaciones exactas')\n",
        "plt.show()\n",
        "print(\"--- %s Segundos para ejecutar ---\" % (time.time() - graph_time))\n",
        "print(\"--- %s Segundos en total ---\" % (time.time() - start_time))"
      ],
      "metadata": {
        "id": "jVgRl-FGmC9W",
        "outputId": "e9b55c31-42ff-49b4-8297-9f4503004249",
        "colab": {
          "base_uri": "https://localhost:8080/",
          "height": 838
        }
      },
      "execution_count": 7,
      "outputs": [
        {
          "output_type": "stream",
          "name": "stdout",
          "text": [
            "--- 146.50858521461487 Segundos para ejecutar 1 iteracion ---\n",
            "--- 159.7005271911621 Segundos para ejecutar 1 iteracion ---\n",
            "--- 192.16579031944275 Segundos para ejecutar 1 iteracion ---\n",
            "--- 152.42947721481323 Segundos para ejecutar 1 iteracion ---\n"
          ]
        },
        {
          "output_type": "error",
          "ename": "KeyboardInterrupt",
          "evalue": "ignored",
          "traceback": [
            "\u001b[0;31m---------------------------------------------------------------------------\u001b[0m",
            "\u001b[0;31mKeyboardInterrupt\u001b[0m                         Traceback (most recent call last)",
            "\u001b[0;32m<ipython-input-7-820425ac4e27>\u001b[0m in \u001b[0;36m<cell line: 86>\u001b[0;34m()\u001b[0m\n\u001b[1;32m     90\u001b[0m     \u001b[0miter_time\u001b[0m \u001b[0;34m=\u001b[0m \u001b[0mtime\u001b[0m\u001b[0;34m.\u001b[0m\u001b[0mtime\u001b[0m\u001b[0;34m(\u001b[0m\u001b[0;34m)\u001b[0m\u001b[0;34m\u001b[0m\u001b[0;34m\u001b[0m\u001b[0m\n\u001b[1;32m     91\u001b[0m     \u001b[0;32mwhile\u001b[0m\u001b[0;34m(\u001b[0m\u001b[0mlen\u001b[0m\u001b[0;34m(\u001b[0m\u001b[0mH\u001b[0m\u001b[0;34m)\u001b[0m\u001b[0;34m<\u001b[0m\u001b[0;36m20\u001b[0m\u001b[0;34m)\u001b[0m\u001b[0;34m:\u001b[0m\u001b[0;34m\u001b[0m\u001b[0;34m\u001b[0m\u001b[0m\n\u001b[0;32m---> 92\u001b[0;31m         \u001b[0mH\u001b[0m\u001b[0;34m=\u001b[0m\u001b[0mGillespie_Direct_Method_Network_2\u001b[0m\u001b[0;34m(\u001b[0m\u001b[0mbeta\u001b[0m\u001b[0;34m=\u001b[0m\u001b[0mbeta\u001b[0m\u001b[0;34m,\u001b[0m\u001b[0mgamma\u001b[0m\u001b[0;34m=\u001b[0m\u001b[0mgamma\u001b[0m\u001b[0;34m,\u001b[0m\u001b[0mN\u001b[0m\u001b[0;34m=\u001b[0m\u001b[0mN\u001b[0m\u001b[0;34m,\u001b[0m\u001b[0mX_I_indexes\u001b[0m\u001b[0;34m=\u001b[0m\u001b[0mX_I_indexes_copy\u001b[0m\u001b[0;34m,\u001b[0m\u001b[0mG_network_initial\u001b[0m\u001b[0;34m=\u001b[0m\u001b[0mG_copy\u001b[0m\u001b[0;34m,\u001b[0m\u001b[0mT\u001b[0m\u001b[0;34m=\u001b[0m\u001b[0mnp\u001b[0m\u001b[0;34m.\u001b[0m\u001b[0minf\u001b[0m\u001b[0;34m)\u001b[0m\u001b[0;34m\u001b[0m\u001b[0;34m\u001b[0m\u001b[0m\n\u001b[0m\u001b[1;32m     93\u001b[0m     \u001b[0mprint\u001b[0m\u001b[0;34m(\u001b[0m\u001b[0;34m\"--- %s Segundos para ejecutar 1 iteracion ---\"\u001b[0m \u001b[0;34m%\u001b[0m \u001b[0;34m(\u001b[0m\u001b[0mtime\u001b[0m\u001b[0;34m.\u001b[0m\u001b[0mtime\u001b[0m\u001b[0;34m(\u001b[0m\u001b[0;34m)\u001b[0m \u001b[0;34m-\u001b[0m \u001b[0miter_time\u001b[0m\u001b[0;34m)\u001b[0m\u001b[0;34m)\u001b[0m\u001b[0;34m\u001b[0m\u001b[0;34m\u001b[0m\u001b[0m\n\u001b[1;32m     94\u001b[0m     \u001b[0mH\u001b[0m\u001b[0;34m=\u001b[0m\u001b[0mpd\u001b[0m\u001b[0;34m.\u001b[0m\u001b[0mDataFrame\u001b[0m\u001b[0;34m(\u001b[0m\u001b[0mH\u001b[0m\u001b[0;34m,\u001b[0m\u001b[0mcolumns\u001b[0m\u001b[0;34m=\u001b[0m\u001b[0;34m[\u001b[0m\u001b[0;34m'time'\u001b[0m\u001b[0;34m,\u001b[0m\u001b[0;34m'S(t)'\u001b[0m\u001b[0;34m,\u001b[0m\u001b[0;34m'I(t)'\u001b[0m\u001b[0;34m]\u001b[0m\u001b[0;34m)\u001b[0m\u001b[0;34m\u001b[0m\u001b[0;34m\u001b[0m\u001b[0m\n",
            "\u001b[0;32m<ipython-input-7-820425ac4e27>\u001b[0m in \u001b[0;36mGillespie_Direct_Method_Network_2\u001b[0;34m(beta, gamma, N, X_I_indexes, G_network_initial, T)\u001b[0m\n\u001b[1;32m     25\u001b[0m         \u001b[0mLambdas\u001b[0m\u001b[0;34m=\u001b[0m\u001b[0;34m[\u001b[0m\u001b[0;34m]\u001b[0m\u001b[0;34m\u001b[0m\u001b[0;34m\u001b[0m\u001b[0m\n\u001b[1;32m     26\u001b[0m         \u001b[0;32mfor\u001b[0m \u001b[0mk\u001b[0m \u001b[0;32min\u001b[0m \u001b[0mrange\u001b[0m\u001b[0;34m(\u001b[0m\u001b[0mlen\u001b[0m\u001b[0;34m(\u001b[0m\u001b[0mlist\u001b[0m\u001b[0;34m(\u001b[0m\u001b[0mdict_num_contacts\u001b[0m\u001b[0;34m.\u001b[0m\u001b[0mkeys\u001b[0m\u001b[0;34m(\u001b[0m\u001b[0;34m)\u001b[0m\u001b[0;34m)\u001b[0m\u001b[0;34m)\u001b[0m\u001b[0;34m)\u001b[0m\u001b[0;34m:\u001b[0m\u001b[0;34m\u001b[0m\u001b[0;34m\u001b[0m\u001b[0m\n\u001b[0;32m---> 27\u001b[0;31m             \u001b[0mLambdas\u001b[0m\u001b[0;34m.\u001b[0m\u001b[0mappend\u001b[0m\u001b[0;34m(\u001b[0m\u001b[0mbeta\u001b[0m\u001b[0;34m*\u001b[0m\u001b[0mlen\u001b[0m\u001b[0;34m(\u001b[0m\u001b[0mdict_num_contacts\u001b[0m\u001b[0;34m[\u001b[0m\u001b[0mstr\u001b[0m\u001b[0;34m(\u001b[0m\u001b[0mk\u001b[0m\u001b[0;34m)\u001b[0m\u001b[0;34m]\u001b[0m\u001b[0;34m)\u001b[0m\u001b[0;34m*\u001b[0m\u001b[0mk\u001b[0m\u001b[0;34m)\u001b[0m\u001b[0;34m\u001b[0m\u001b[0;34m\u001b[0m\u001b[0m\n\u001b[0m\u001b[1;32m     28\u001b[0m             \u001b[0mLambda\u001b[0m\u001b[0;34m+=\u001b[0m\u001b[0mLambdas\u001b[0m\u001b[0;34m[\u001b[0m\u001b[0;34m-\u001b[0m\u001b[0;36m1\u001b[0m\u001b[0;34m]\u001b[0m\u001b[0;34m\u001b[0m\u001b[0;34m\u001b[0m\u001b[0m\n\u001b[1;32m     29\u001b[0m         \u001b[0mLambdas\u001b[0m\u001b[0;34m.\u001b[0m\u001b[0mappend\u001b[0m\u001b[0;34m(\u001b[0m\u001b[0mgamma\u001b[0m\u001b[0;34m*\u001b[0m\u001b[0mX_I\u001b[0m\u001b[0;34m)\u001b[0m\u001b[0;34m\u001b[0m\u001b[0;34m\u001b[0m\u001b[0m\n",
            "\u001b[0;31mKeyboardInterrupt\u001b[0m: "
          ]
        },
        {
          "output_type": "display_data",
          "data": {
            "text/plain": [
              "<Figure size 640x480 with 1 Axes>"
            ],
            "image/png": "[encoded data removed]"
          },
          "metadata": {}
        }
      ]
    },
    {
      "cell_type": "code",
      "source": [
        "#Codigo para testear el fsolve().\n",
        "t_j=[np.random.exp(0.5) for j in range(10)]\n",
        "print(t_j)\n",
        "M_1=6\n",
        "M_2=10-M_1\n",
        "a_I=1.2\n",
        "a_R=1.2\n",
        "L_I=1.25\n",
        "L_R=1\n",
        "u=np.uniform()\n",
        "def f_to_solve(x):\n",
        "    S_1=np.sum([(x+t_j[i])**(a_I) for i in range(M_1)])\n",
        "    S_2=np.sum([(x+t_j[i])**(a_I) for i in range(M_1,M_2+M_1)])\n",
        "    S_3=np.sum([t[i]**a_I for i in range(M_1)])\n",
        "    S_4=np.sum([t[i]**a_R for i in range(M_1,M_1+M_2)])\n",
        "    return (S_1+S_2+np.log(u)-(L_I**a_I+L_R**a_R))"
      ],
      "metadata": {
        "id": "9Khh0rNJuuLL"
      },
      "execution_count": null,
      "outputs": []
    },
    {
      "cell_type": "code",
      "source": [
        "from scipy.optimize import fsolve\n",
        "import networkx as nx\n",
        "tipo=''\n",
        "if(tipo=='completa'):\n",
        "    N=8\n",
        "    G=nx.complete_graph(N)\n",
        "    pos=nx.spring_layout(G,seed=2)\n",
        "else:\n",
        "    N=100\n",
        "    n=int(N*0.1)\n",
        "    ksum=1\n",
        "    np.random.seed(2)\n",
        "    while(ksum%2!=0):#Que defina una grafica.\n",
        "            k_dist=np.random.poisson(n,size=N)\n",
        "            ksum=sum(k_dist)\n",
        "    G=nx.random_degree_sequence_graph(k_dist)\n",
        "    pos=nx.spring_layout(G,seed=2,k=3)\n",
        "X_I_indexes=[0]\n",
        "X_I=len(X_I_indexes)\n",
        "for k in range(N):\n",
        "    if k in X_I_indexes:\n",
        "        G.nodes[k]['Estado:']='Infeccioso'\n",
        "    else:\n",
        "        G.nodes[k]['Estado:']='Susceptible'\n",
        "#nx.draw(G, pos,with_labels=True,node_color=['r' if G.nodes[i]['Estado:']=='Infeccioso' else 'g' if G.nodes[i]['Estado:']=='Susceptible' else 'gray' for i in range(N)])\n",
        "lammbda_I=1.25\n",
        "a_I=1.2\n",
        "lammbda_R=1\n",
        "a_R=1.2\n",
        "def pdf_Weibull_I(x,lammbda=lammbda_I,a=a_I):\n",
        "    # a=1 es una exponencial.\n",
        "    return (lammbda*a)*(lammbda*x)**(a-1)*np.exp(-(lammbda*x)**(a))\n",
        "def survival_Weibull_I(x,lammbda=lammbda_I,a=a_I):\n",
        "    return np.exp(-(lammbda*x)**(a))\n",
        "def pdf_Weibull_R(x,lammbda=lammbda_R,a=a_R):\n",
        "    # a=1 es una exponencial.\n",
        "    return (lammbda*a)*(lammbda*x)**(a-1)*np.exp(-(lammbda*x)**(a))\n",
        "def survival_Weibull_R(x,lammbda=lammbda_R,a=a_R):\n",
        "    return np.exp(-(lammbda*x)**(a))\n",
        "### Algoritmo \n",
        "#Paso 1.\n",
        "t=0\n",
        "aristas_en_riesgo={'arista':[],'tiempo':[]}\n",
        "vertices_infecciosos={'vertice':[],'tiempo':[]}\n",
        "#Llenar estos arreglos.\n",
        "#N es el número de individuos.\n",
        "for j in X_I_indexes:\n",
        "    vertices_infecciosos['vertice'].append(j)\n",
        "    vertices_infecciosos['tiempo'].append(0)\n",
        "    for i in range(N):\n",
        "        if G.has_edge(i,j):\n",
        "            aristas_en_riesgo['arista'].append((min(i,j),max(i,j)))\n",
        "            aristas_en_riesgo['tiempo'].append(0) \n",
        "flag=True\n",
        "#---------------------------\n",
        "count=0\n",
        "Tuto=False\n",
        "hist=[]\n",
        "tau=0.5\n",
        "while(flag):\n",
        "    #print(aristas_en_riesgo['tiempo'])\n",
        "    #print(vertices_infecciosos['tiempo'])\n",
        "    count+=1\n",
        "    #Paso 2.\n",
        "    #Definir \\\\Phi(\\\\tau|\\\\{t_j\\\\}):\n",
        "\n",
        "    #---------------------------\n",
        "\n",
        "    #----------------------------\n",
        "    #Paso 3.\n",
        "    #Generar el tiempo de siguiente reaccion:\n",
        "    u=np.random.uniform()\n",
        "    def f_to_solve(x):\n",
        "        S_1=np.sum([(x+r)**(a_I) for r in aristas_en_riesgo['tiempo']])\n",
        "        S_2=np.sum([(x+r)**(a_I) for r in vertices_infecciosos['tiempo']])\n",
        "        S_3=np.sum([r**a_I for r in aristas_en_riesgo['tiempo']])\n",
        "        S_4=np.sum([r**a_R for r in vertices_infecciosos['tiempo']])\n",
        "        return (S_1+S_2+np.log(u)-(lammbda_I**a_I+lammbda_R**a_R)-S_3-S_4)\n",
        "    try:\n",
        "        tau=fsolve(func=f_to_solve,x0=tau/5)\n",
        "    except:\n",
        "        print(\"Error in fsolve\")\n",
        "        if tau[2] in (1,2,3): #,4,5):\n",
        "            print(\"Ocurre error 1 2 3\")\n",
        "            # 4,5 means \\\"not making good progress\\\" (see fsolve docstring)\n",
        "            xinf_val = float(tau[0])\n",
        "        else:\n",
        "            print(\"Nt making good progress\")\n",
        "    if(tau<0):\n",
        "        print(\"Epale\")\n",
        "    tau=tau[0]\n",
        "    t+=tau\n",
        "    #-------------------------\n",
        "    #Paso 4. \n",
        "    #Definir las cantidades $\\\\phi(\\\\tau,i|t_i) \n",
        "    #Paso 5.\n",
        "    #Calcular las probabilidades $\\\\Pi_j$\n",
        "    pi_s_teoricas=[]\n",
        "    for j in range(len(aristas_en_riesgo['tiempo'])):\n",
        "        pi_s_teoricas.append(lammbda_I*a_I*(lammbda_I*(tau+aristas_en_riesgo['tiempo'][j]))**(a_I-1))\n",
        "    for j in range(len(vertices_infecciosos['tiempo'])):\n",
        "        pi_s_teoricas.append(lammbda_R*a_R*(lammbda_R*(tau+vertices_infecciosos['tiempo'][j]))**(a_R-1))\n",
        "    pi_s=pi_s_teoricas/np.sum(pi_s_teoricas)\n",
        "    #Paso 6.\n",
        "    #Decidir el canal de reacción.\n",
        "    u_2=np.random.uniform()\n",
        "    D=pi_s[0]\n",
        "    k=0\n",
        "    while(u_2>D):\n",
        "        k+=1\n",
        "        D+=pi_s[k]\n",
        "    #print(k,\\\" es el canal de reaccion seleccionado.\\\")\n",
        "    #--------------------------------\n",
        "    #Paso 7 y 8.\n",
        "    #Actualizacion de tiempos DESDE la ultima reaccion (en todos los canales)\n",
        "    aristas_en_riesgo['tiempo']=[tau+x for x in aristas_en_riesgo['tiempo']]\n",
        "    vertices_infecciosos['tiempo']=[tau+x for x in vertices_infecciosos['tiempo']]\n",
        "    #------------\n",
        "    #Identificar la reaccion\n",
        "    if(k<len(aristas_en_riesgo['tiempo'])):#Infeccion\n",
        "        reaccion='infeccion'\n",
        "        X_I+=1\n",
        "        #arista\n",
        "        arista_elegida=aristas_en_riesgo['arista'][k]\n",
        "        involucrado_1,involucrado_2=arista_elegida[0],arista_elegida[1]\n",
        "        #Identificar al nuevo infectado-------------\n",
        "        if(G.nodes[involucrado_1]['Estado:']=='Susceptible'):\n",
        "            #involucrado_1 es el nuevo infeccioso\n",
        "            nuevo_infectado=involucrado_1\n",
        "        else:\n",
        "            nuevo_infectado=involucrado_2\n",
        "        G.nodes[nuevo_infectado]['Estado:']='Infeccioso'#Actualizacion en el grafo.\n",
        "        #--------------------------\n",
        "        #Agregarlo a la lista vertices_infecciosos con tiempo 0----\n",
        "        vertices_infecciosos['vertice'].append(nuevo_infectado)\n",
        "        vertices_infecciosos['tiempo'].append(0)\n",
        "        #-----------------------------\n",
        "        #Agrega a la lista aristas_en_riesgo a aquellas nuevas aristas que podrían provocar una infección, con tiempo 0.\\n\",\n",
        "        for nei in G.neighbors(nuevo_infectado):\n",
        "            if(G.nodes[nei]['Estado:']=='Susceptible'):\n",
        "                aristas_en_riesgo['arista'].append((min(nei,nuevo_infectado),max(nei,nuevo_infectado)))\n",
        "                aristas_en_riesgo['tiempo'].append(0)\n",
        "            else:\n",
        "                if(G.nodes[nei]['Estado:']=='Infeccioso'):\n",
        "                    index=aristas_en_riesgo['arista'].index((min(nuevo_infectado,nei),max(nuevo_infectado,nei)))\n",
        "                    aristas_en_riesgo['arista'].pop(index)\n",
        "                    aristas_en_riesgo['tiempo'].pop(index)\n",
        "        #-----------------------------\n",
        "        #Elimina de la lista aristas_en_riesgo a la arista que provocó la nueva infeccion\n",
        "\n",
        "        #-----------------------------\n",
        "        nuevo_involucrado=nuevo_infectado\n",
        "        #-----------------------------\n",
        "        #Elimina de la lista aristas_en_riesgo a las aristas que ya no son viables. I.e. involucra a dos infecciosos.\n",
        "        #-----------------------------\n",
        "    else:#Recuperacion.\n",
        "        X_I-=1\n",
        "        reaccion='recuperacion'\n",
        "        indice_respecto_vertices=k-len(aristas_en_riesgo['tiempo'])\n",
        "        nuevo_recuperado=vertices_infecciosos['vertice'][indice_respecto_vertices]\n",
        "        #Actualiza el estado a Recuperado.\n",
        "        G.nodes[nuevo_recuperado]['Estado:']='Recuperado'#Actualizacion en el grafo.\n",
        "        #-----------------------------\n",
        "        #Elimina de la lista vertices_infecciosos al nuevo recuperado.\n",
        "        vertices_infecciosos['vertice'].pop(indice_respecto_vertices)\n",
        "        vertices_infecciosos['tiempo'].pop(indice_respecto_vertices)\n",
        "        #-----------------------------\n",
        "        #Elimina de la lista aristas_en_riesgo a aquellas aristas que involucran al nuevo recuperado.\n",
        "        aristas_en_riesgo_copia=aristas_en_riesgo['arista'].copy()\n",
        "        count=-1\n",
        "        for l in range(len(aristas_en_riesgo_copia)):\n",
        "            edge=aristas_en_riesgo_copia[l]\n",
        "            if(edge[0]==nuevo_recuperado or edge[1]==nuevo_recuperado):\n",
        "                count+=1\n",
        "                aristas_en_riesgo['arista'].pop(l-count)\n",
        "                aristas_en_riesgo['tiempo'].pop(l-count)\n",
        "        #-----------------------------\n",
        "        nuevo_involucrado=nuevo_recuperado\n",
        "    if(Tuto):\n",
        "        print(\"-\"*30)\n",
        "        print(\"En la siguiente iteración ocurre: \\\\n \\\\t *Se genera el tiempo \"+str(tau)+\"\\\\n\\\\t *Se selecciona el canal \" +str(k)+ \", que significa \"+reaccion+\" del individuo \" +str(nuevo_involucrado))\n",
        "        print(\"-\"*30)\n",
        "        print(\"\\\\n La grafica se ve asi: \")\n",
        "        nx.draw(G, pos,with_labels=True,node_color=['r' if G.nodes[i]['Estado:']=='Infeccioso' else 'g' if G.nodes[i]['Estado:']=='Susceptible' else 'gray' for i in range(N)])\n",
        "        plt.show()\n",
        "    else:\n",
        "        hist.append([t,X_I])\n",
        "    if(X_I==0):\n",
        "        flag=False\n",
        "H=pd.DataFrame(hist,columns=['time','I(t)'])\n",
        "plt.plot(H['time'],H['I(t)'], 'gray',linewidth=0.5)\n",
        "plt.title('Simulaciones exactas')\n",
        "plt.show()"
      ],
      "metadata": {
        "id": "MJWaKsymzGxq",
        "outputId": "4492f236-a306-42e6-90a6-906c048d4ffc",
        "colab": {
          "base_uri": "https://localhost:8080/",
          "height": 452
        }
      },
      "execution_count": 51,
      "outputs": [
        {
          "output_type": "display_data",
          "data": {
            "text/plain": [
              "<Figure size 640x480 with 1 Axes>"
            ],
            "image/png": "[encoded data removed]"
          },
          "metadata": {}
        }
      ]
    },
    {
      "cell_type": "code",
      "source": [
        "aristas_prob=[0.4339845425471257, 0.4339845425471257, 0.4339845425471257, 0.279802224121271, 0.279802224121271, 0.279802224121271, 0.279802224121271, 0.279802224121271, 0.2514670680822316, 0.2514670680822316, 0.2514670680822316, 0.2514670680822316, 0.2514670680822316, 0.2514670680822316, 0.2514670680822316, 0.2514670680822316, 0.2416996247125333, 0.2416996247125333, 0.2416996247125333, 0.2416996247125333, 0.2416996247125333, 0.2416996247125333, 0.2416996247125333, 0.16222765558638433, 0.16222765558638433, 0.16222765558638433, 0.16222765558638433, 0.16222765558638433, 0.16222765558638433, 0.16222765558638433, 0.1560015979598805, 0.1560015979598805, 0.1560015979598805, 0.1560015979598805, 0.1560015979598805, 0.1560015979598805, 0.1560015979598805, 0.1560015979598805, 0.1560015979598805, 0.1560015979598805, 0.11527506175215745, 0.11527506175215745, 0.11527506175215745, 0.11527506175215745, 0.11043335077791584, 0.11043335077791584, 0.11043335077791584, 0.11043335077791584, 0.11043335077791584, 0.11043335077791584, 0.11043335077791584, 0.10383066468319276, 0.10383066468319276, 0.10383066468319276, 0.10383066468319276, 0.10383066468319276, 0.10383066468319276, 0.10383066468319276, 0.0668966236359155, 0.0668966236359155, 0.0668966236359155, 0.0668966236359155, 0.0668966236359155, 0.0668966236359155, 0.0668966236359155, 0.0668966236359155, 0.0668966236359155, 0.058110006133355985, 0.058110006133355985, 0.058110006133355985, 0.058110006133355985, 0.058110006133355985, 0.058110006133355985, 0.058110006133355985, 0.058110006133355985, 0.058110006133355985, 0.051519791886794744, 0.051519791886794744, 0.051519791886794744, 0.051519791886794744, 0.051519791886794744, 0.04310488714273736, 0.04310488714273736, 0.04310488714273736, 0.04277984914608718, 0.04277984914608718, 0.04277984914608718, 0.04277984914608718, 0.04277984914608718, 0.04277984914608718, 0.04277984914608718, 0.04277984914608718, 0.03243858669558216, 0.03243858669558216, 0.03243858669558216, 0.03243858669558216, 0.03243858669558216, 0.03243858669558216, 0.02749369498834852, 0.02749369498834852, 0.02102648731452601, 0.02102648731452601, 0.02102648731452601, 0.02102648731452601, 0.02102648731452601, 0.02102648731452601, 0.02102648731452601, 0.02102648731452601, 0.02102648731452601, 0.017198977575358466, 0.017198977575358466, 0.017198977575358466, 0.017198977575358466, 0.017198977575358466, 0.017198977575358466, 0.017198977575358466, 0.017198977575358466, 0.017198977575358466, 0.004965429171845669, 0.004965429171845669, 0.004965429171845669, 0.004965429171845669, 0.004965429171845669]\n",
        "vertices_prob=[0.4339845425471257, 0.279802224121271, 0.2514670680822316, 0.2416996247125333, 0.16222765558638433, 0.1560015979598805, 0.11527506175215745, 0.11043335077791584, 0.10383066468319276, 0.0668966236359155, 0.058110006133355985, 0.051519791886794744, 0.04310488714273736, 0.04277984914608718, 0.03243858669558216, 0.02749369498834852, 0.02102648731452601, 0.017198977575358466, 0.004965429171845669]\n"
      ],
      "metadata": {
        "id": "zrOjO70M4LcD"
      },
      "execution_count": 28,
      "outputs": []
    },
    {
      "cell_type": "code",
      "source": [
        "max(aristas_prob)"
      ],
      "metadata": {
        "id": "twmETw1L6XV8",
        "outputId": "748955bf-fc2a-443b-a2c9-f2cd19be8ad5",
        "colab": {
          "base_uri": "https://localhost:8080/"
        }
      },
      "execution_count": 44,
      "outputs": [
        {
          "output_type": "execute_result",
          "data": {
            "text/plain": [
              "0.4339845425471257"
            ]
          },
          "metadata": {},
          "execution_count": 44
        }
      ]
    },
    {
      "cell_type": "code",
      "source": [
        "a_I=1.2\n",
        "a_R=1.2\n",
        "lammbda_I=1.25\n",
        "lammbda_R=1.0\n",
        "def Phi(tau):######Creo que se puede optimizar.\n",
        "        Sum_1=np.sum([(tau+x)**a_I for x in aristas_prob])\n",
        "        Sum_2=np.sum([x**a_R-(tau+x)**a_R for x in vertices_prob])\n",
        "        return np.exp((lammbda_I**(a_I))*(Sum_1)+(lammbda_R**(a_R))*Sum_2)\n",
        "u=np.random.uniform()\n",
        "def f_to_solve(x):\n",
        "    S_1=np.sum([(x+r)**(a_I) for r in aristas_prob])\n",
        "    S_2=np.sum([(x+r)**(a_I) for r in vertices_prob])\n",
        "    S_3=np.sum([r**a_I for r in aristas_prob])\n",
        "    S_4=np.sum([r**a_R for r in vertices_prob])\n",
        "    return (S_1+S_2+np.log(u)-(lammbda_I**a_I+lammbda_R**a_R)-S_3-S_4)\n",
        "tau=fsolve(func=f_to_solve,x0=1/5)"
      ],
      "metadata": {
        "id": "F5bZgc7W4XUX"
      },
      "execution_count": 48,
      "outputs": []
    },
    {
      "cell_type": "code",
      "source": [
        "tau"
      ],
      "metadata": {
        "id": "aOb96zzn6r-N",
        "outputId": "bb37f970-7c45-40c3-e7fc-e7ee1b1f7bc4",
        "colab": {
          "base_uri": "https://localhost:8080/"
        }
      },
      "execution_count": 49,
      "outputs": [
        {
          "output_type": "execute_result",
          "data": {
            "text/plain": [
              "array([0.0260299])"
            ]
          },
          "metadata": {},
          "execution_count": 49
        }
      ]
    },
    {
      "cell_type": "code",
      "source": [
        "t_j=[np.random.exp(0.5) for j in range(10)]\n",
        "print(t_j)\n",
        "M_1=6\n",
        "M_2=10-M_1\n",
        "a_I=1.2\n",
        "a_R=1.2\n",
        "L_I=1.25\n",
        "L_R=1\n",
        "u=np.uniform()\n",
        "def f_to_solve(x):\n",
        "    S_1=np.sum([(x+t_j[i])**(a_I) for i in range(M_1)])\n",
        "    S_2=np.sum([(x+t_j[i])**(a_I) for i in range(M_1,M_2+M_1)])\n",
        "    S_3=np.sum([t[i]**a_I for i in range(M_1)])\n",
        "    S_4=np.sum([t[i]**a_R for i in range(M_1,M_1+M_2)])\n",
        "    return (S_1+S_2+np.log(u)-(L_I**a_I+L_R**a_R))"
      ],
      "metadata": {
        "id": "4myTaxXv5uAQ"
      },
      "execution_count": null,
      "outputs": []
    }
  ]
}